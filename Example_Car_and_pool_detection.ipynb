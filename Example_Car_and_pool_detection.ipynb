{
  "nbformat": 4,
  "nbformat_minor": 0,
  "metadata": {
    "colab": {
      "name": "Example-Car and pool detection.ipynb",
      "provenance": [],
      "toc_visible": true,
      "authorship_tag": "ABX9TyNLHyiEo15LCmNyBHZ5gYnh",
      "include_colab_link": true
    },
    "kernelspec": {
      "name": "python3",
      "display_name": "Python 3"
    },
    "accelerator": "GPU",
    "widgets": {
      "application/vnd.jupyter.widget-state+json": {
        "495fa303c35046559fe7a583b40811c3": {
          "model_module": "@jupyter-widgets/controls",
          "model_name": "HBoxModel",
          "state": {
            "_view_name": "HBoxView",
            "_dom_classes": [],
            "_model_name": "HBoxModel",
            "_view_module": "@jupyter-widgets/controls",
            "_model_module_version": "1.5.0",
            "_view_count": null,
            "_view_module_version": "1.5.0",
            "box_style": "",
            "layout": "IPY_MODEL_d20eb7f3dcf44790987ca099eefe9f2b",
            "_model_module": "@jupyter-widgets/controls",
            "children": [
              "IPY_MODEL_c089ee542db64db1bb224328ee6f172d",
              "IPY_MODEL_65716e1a3c9a4dad9c5abb7ada000e49"
            ]
          }
        },
        "d20eb7f3dcf44790987ca099eefe9f2b": {
          "model_module": "@jupyter-widgets/base",
          "model_name": "LayoutModel",
          "state": {
            "_view_name": "LayoutView",
            "grid_template_rows": null,
            "right": null,
            "justify_content": null,
            "_view_module": "@jupyter-widgets/base",
            "overflow": null,
            "_model_module_version": "1.2.0",
            "_view_count": null,
            "flex_flow": null,
            "width": null,
            "min_width": null,
            "border": null,
            "align_items": null,
            "bottom": null,
            "_model_module": "@jupyter-widgets/base",
            "top": null,
            "grid_column": null,
            "overflow_y": null,
            "overflow_x": null,
            "grid_auto_flow": null,
            "grid_area": null,
            "grid_template_columns": null,
            "flex": null,
            "_model_name": "LayoutModel",
            "justify_items": null,
            "grid_row": null,
            "max_height": null,
            "align_content": null,
            "visibility": null,
            "align_self": null,
            "height": null,
            "min_height": null,
            "padding": null,
            "grid_auto_rows": null,
            "grid_gap": null,
            "max_width": null,
            "order": null,
            "_view_module_version": "1.2.0",
            "grid_template_areas": null,
            "object_position": null,
            "object_fit": null,
            "grid_auto_columns": null,
            "margin": null,
            "display": null,
            "left": null
          }
        },
        "c089ee542db64db1bb224328ee6f172d": {
          "model_module": "@jupyter-widgets/controls",
          "model_name": "FloatProgressModel",
          "state": {
            "_view_name": "ProgressView",
            "style": "IPY_MODEL_f6e7b99d26c548fe97b9a1d2548c96bb",
            "_dom_classes": [],
            "description": "100%",
            "_model_name": "FloatProgressModel",
            "bar_style": "success",
            "max": 3748,
            "_view_module": "@jupyter-widgets/controls",
            "_model_module_version": "1.5.0",
            "value": 3748,
            "_view_count": null,
            "_view_module_version": "1.5.0",
            "orientation": "horizontal",
            "min": 0,
            "description_tooltip": null,
            "_model_module": "@jupyter-widgets/controls",
            "layout": "IPY_MODEL_3b5d977620f1402394f341852581ec6e"
          }
        },
        "65716e1a3c9a4dad9c5abb7ada000e49": {
          "model_module": "@jupyter-widgets/controls",
          "model_name": "HTMLModel",
          "state": {
            "_view_name": "HTMLView",
            "style": "IPY_MODEL_9f94e21051be44b7846c0d3335bc749d",
            "_dom_classes": [],
            "description": "",
            "_model_name": "HTMLModel",
            "placeholder": "​",
            "_view_module": "@jupyter-widgets/controls",
            "_model_module_version": "1.5.0",
            "value": " 3748/3748 [02:42&lt;00:00, 23.13it/s]",
            "_view_count": null,
            "_view_module_version": "1.5.0",
            "description_tooltip": null,
            "_model_module": "@jupyter-widgets/controls",
            "layout": "IPY_MODEL_828178c43d7d44d399385daef04e72fe"
          }
        },
        "f6e7b99d26c548fe97b9a1d2548c96bb": {
          "model_module": "@jupyter-widgets/controls",
          "model_name": "ProgressStyleModel",
          "state": {
            "_view_name": "StyleView",
            "_model_name": "ProgressStyleModel",
            "description_width": "initial",
            "_view_module": "@jupyter-widgets/base",
            "_model_module_version": "1.5.0",
            "_view_count": null,
            "_view_module_version": "1.2.0",
            "bar_color": null,
            "_model_module": "@jupyter-widgets/controls"
          }
        },
        "3b5d977620f1402394f341852581ec6e": {
          "model_module": "@jupyter-widgets/base",
          "model_name": "LayoutModel",
          "state": {
            "_view_name": "LayoutView",
            "grid_template_rows": null,
            "right": null,
            "justify_content": null,
            "_view_module": "@jupyter-widgets/base",
            "overflow": null,
            "_model_module_version": "1.2.0",
            "_view_count": null,
            "flex_flow": null,
            "width": null,
            "min_width": null,
            "border": null,
            "align_items": null,
            "bottom": null,
            "_model_module": "@jupyter-widgets/base",
            "top": null,
            "grid_column": null,
            "overflow_y": null,
            "overflow_x": null,
            "grid_auto_flow": null,
            "grid_area": null,
            "grid_template_columns": null,
            "flex": null,
            "_model_name": "LayoutModel",
            "justify_items": null,
            "grid_row": null,
            "max_height": null,
            "align_content": null,
            "visibility": null,
            "align_self": null,
            "height": null,
            "min_height": null,
            "padding": null,
            "grid_auto_rows": null,
            "grid_gap": null,
            "max_width": null,
            "order": null,
            "_view_module_version": "1.2.0",
            "grid_template_areas": null,
            "object_position": null,
            "object_fit": null,
            "grid_auto_columns": null,
            "margin": null,
            "display": null,
            "left": null
          }
        },
        "9f94e21051be44b7846c0d3335bc749d": {
          "model_module": "@jupyter-widgets/controls",
          "model_name": "DescriptionStyleModel",
          "state": {
            "_view_name": "StyleView",
            "_model_name": "DescriptionStyleModel",
            "description_width": "",
            "_view_module": "@jupyter-widgets/base",
            "_model_module_version": "1.5.0",
            "_view_count": null,
            "_view_module_version": "1.2.0",
            "_model_module": "@jupyter-widgets/controls"
          }
        },
        "828178c43d7d44d399385daef04e72fe": {
          "model_module": "@jupyter-widgets/base",
          "model_name": "LayoutModel",
          "state": {
            "_view_name": "LayoutView",
            "grid_template_rows": null,
            "right": null,
            "justify_content": null,
            "_view_module": "@jupyter-widgets/base",
            "overflow": null,
            "_model_module_version": "1.2.0",
            "_view_count": null,
            "flex_flow": null,
            "width": null,
            "min_width": null,
            "border": null,
            "align_items": null,
            "bottom": null,
            "_model_module": "@jupyter-widgets/base",
            "top": null,
            "grid_column": null,
            "overflow_y": null,
            "overflow_x": null,
            "grid_auto_flow": null,
            "grid_area": null,
            "grid_template_columns": null,
            "flex": null,
            "_model_name": "LayoutModel",
            "justify_items": null,
            "grid_row": null,
            "max_height": null,
            "align_content": null,
            "visibility": null,
            "align_self": null,
            "height": null,
            "min_height": null,
            "padding": null,
            "grid_auto_rows": null,
            "grid_gap": null,
            "max_width": null,
            "order": null,
            "_view_module_version": "1.2.0",
            "grid_template_areas": null,
            "object_position": null,
            "object_fit": null,
            "grid_auto_columns": null,
            "margin": null,
            "display": null,
            "left": null
          }
        }
      }
    }
  },
  "cells": [
    {
      "cell_type": "markdown",
      "metadata": {
        "id": "view-in-github",
        "colab_type": "text"
      },
      "source": [
        "<a href=\"https://colab.research.google.com/github/OMKARTT/Monk_Object_Detection/blob/master/Example_Car_and_pool_detection.ipynb\" target=\"_parent\"><img src=\"https://colab.research.google.com/assets/colab-badge.svg\" alt=\"Open In Colab\"/></a>"
      ]
    },
    {
      "cell_type": "code",
      "metadata": {
        "id": "Z3mA0q4Ljq9h",
        "colab_type": "code",
        "colab": {}
      },
      "source": [
        ""
      ],
      "execution_count": null,
      "outputs": []
    },
    {
      "cell_type": "code",
      "metadata": {
        "id": "iiZGs3nSjr25",
        "colab_type": "code",
        "colab": {}
      },
      "source": [
        ""
      ],
      "execution_count": null,
      "outputs": []
    },
    {
      "cell_type": "code",
      "metadata": {
        "id": "MNxkjuFPjr6A",
        "colab_type": "code",
        "colab": {}
      },
      "source": [
        ""
      ],
      "execution_count": null,
      "outputs": []
    },
    {
      "cell_type": "markdown",
      "metadata": {
        "id": "novoR8T_jsD5",
        "colab_type": "text"
      },
      "source": [
        "# **About the network**\n",
        "\n",
        "\n",
        "1.   Paper on CornerNet: https://arxiv.org/abs/1808.01244\n",
        "2.   Paper on CornerNet-Lite: https://arxiv.org/abs/1904.08900\n",
        "3. Blog 1 on CornerNet: https://joshua19881228.github.io/2019-01-20-CornerNet/\n",
        "4. Blog 2 on CornerNet: https://zhangtemplar.github.io/anchor-free-detection/\n",
        "5. Blog 3 on CornerNet: https://opencv.org/latest-trends-of-object-detection-from-cornernet-to-centernet-explained-part-i-cornernet/\n",
        "6. Blog 4 on CornerNet: https://towardsdatascience.com/centernet-keypoint-triplets-for-object-detection-review-a314a8e4d4b0\n",
        "7. Blog 5 on CornerNet: https://medium.com/@andersasac/the-end-of-anchors-improving-object-detection-models-and-annotations-73828c7b39f6\n",
        "\n",
        "\n",
        "\n"
      ]
    },
    {
      "cell_type": "code",
      "metadata": {
        "id": "ri4mwSpsmpC7",
        "colab_type": "code",
        "colab": {}
      },
      "source": [
        ""
      ],
      "execution_count": null,
      "outputs": []
    },
    {
      "cell_type": "markdown",
      "metadata": {
        "id": "_jtbePBsmpNc",
        "colab_type": "text"
      },
      "source": [
        "# Table of contents\n",
        "\n",
        "\n",
        "## 1. Installation Instructions\n",
        "\n",
        "\n",
        "\n",
        "## 2. Use trained model to detect car and pool in images\n",
        "\n",
        "\n",
        "\n",
        "## 3. How to train a car and pool detector on Kaggle dataset"
      ]
    },
    {
      "cell_type": "code",
      "metadata": {
        "id": "WdwsPRbde1RO",
        "colab_type": "code",
        "colab": {}
      },
      "source": [
        ""
      ],
      "execution_count": null,
      "outputs": []
    },
    {
      "cell_type": "markdown",
      "metadata": {
        "id": "uhfYaF9Ue1a5",
        "colab_type": "text"
      },
      "source": [
        "# Installation"
      ]
    },
    {
      "cell_type": "code",
      "metadata": {
        "id": "NFvh4hjbNXOl",
        "colab_type": "code",
        "colab": {
          "base_uri": "https://localhost:8080/",
          "height": 346
        },
        "outputId": "da5de416-9810-4cd7-bb59-02fb55bcae15"
      },
      "source": [
        "!pip install torch==1.4.0 torchvision==0.5.0"
      ],
      "execution_count": null,
      "outputs": [
        {
          "output_type": "stream",
          "text": [
            "Collecting torch==1.4.0\n",
            "\u001b[?25l  Downloading https://files.pythonhosted.org/packages/24/19/4804aea17cd136f1705a5e98a00618cb8f6ccc375ad8bfa437408e09d058/torch-1.4.0-cp36-cp36m-manylinux1_x86_64.whl (753.4MB)\n",
            "\u001b[K     |████████████████████████████████| 753.4MB 20kB/s \n",
            "\u001b[?25hCollecting torchvision==0.5.0\n",
            "\u001b[?25l  Downloading https://files.pythonhosted.org/packages/7e/90/6141bf41f5655c78e24f40f710fdd4f8a8aff6c8b7c6f0328240f649bdbe/torchvision-0.5.0-cp36-cp36m-manylinux1_x86_64.whl (4.0MB)\n",
            "\u001b[K     |████████████████████████████████| 4.0MB 54.2MB/s \n",
            "\u001b[?25hRequirement already satisfied: six in /usr/local/lib/python3.6/dist-packages (from torchvision==0.5.0) (1.15.0)\n",
            "Requirement already satisfied: pillow>=4.1.1 in /usr/local/lib/python3.6/dist-packages (from torchvision==0.5.0) (7.0.0)\n",
            "Requirement already satisfied: numpy in /usr/local/lib/python3.6/dist-packages (from torchvision==0.5.0) (1.18.5)\n",
            "Installing collected packages: torch, torchvision\n",
            "  Found existing installation: torch 1.6.0+cu101\n",
            "    Uninstalling torch-1.6.0+cu101:\n",
            "      Successfully uninstalled torch-1.6.0+cu101\n",
            "  Found existing installation: torchvision 0.7.0+cu101\n",
            "    Uninstalling torchvision-0.7.0+cu101:\n",
            "      Successfully uninstalled torchvision-0.7.0+cu101\n",
            "Successfully installed torch-1.4.0 torchvision-0.5.0\n"
          ],
          "name": "stdout"
        }
      ]
    },
    {
      "cell_type": "code",
      "metadata": {
        "id": "F0q_aZKuQgCM",
        "colab_type": "code",
        "colab": {
          "base_uri": "https://localhost:8080/",
          "height": 163
        },
        "outputId": "2da7dbd1-b7cd-4db7-defd-a83b48d17d45"
      },
      "source": [
        "! git clone https://github.com/Tessellate-Imaging/Monk_Object_Detection.git"
      ],
      "execution_count": null,
      "outputs": [
        {
          "output_type": "stream",
          "text": [
            "Cloning into 'Monk_Object_Detection'...\n",
            "remote: Enumerating objects: 270, done.\u001b[K\n",
            "remote: Counting objects: 100% (270/270), done.\u001b[K\n",
            "remote: Compressing objects: 100% (241/241), done.\u001b[K\n",
            "remote: Total 7355 (delta 56), reused 212 (delta 24), pack-reused 7085\u001b[K\n",
            "Receiving objects: 100% (7355/7355), 231.73 MiB | 31.73 MiB/s, done.\n",
            "Resolving deltas: 100% (2876/2876), done.\n",
            "Checking out files: 100% (6437/6437), done.\n"
          ],
          "name": "stdout"
        }
      ]
    },
    {
      "cell_type": "code",
      "metadata": {
        "id": "zq3bb0NKRZxg",
        "colab_type": "code",
        "colab": {
          "base_uri": "https://localhost:8080/",
          "height": 1000
        },
        "outputId": "3ec6715e-a799-40f5-8e18-61a363fcc162"
      },
      "source": [
        "# For colab use the command below\n",
        "! cd Monk_Object_Detection/6_cornernet_lite/installation && chmod +x install_colab.sh && ./install_colab.sh\n",
        "# Restart colab runtime for installations to get initiated\n",
        "\n",
        "# For Local systems and cloud select the right CUDA version\n",
        "#! cd Monk_Object_Detection/6_cornernet_lite/installation && chmod +x install.sh && ./install.sh"
      ],
      "execution_count": null,
      "outputs": [
        {
          "output_type": "stream",
          "text": [
            "Requirement already satisfied: scikit-learn in /usr/local/lib/python3.6/dist-packages (0.22.2.post1)\n",
            "Requirement already satisfied: numpy>=1.11.0 in /usr/local/lib/python3.6/dist-packages (from scikit-learn) (1.18.5)\n",
            "Requirement already satisfied: scipy>=0.17.0 in /usr/local/lib/python3.6/dist-packages (from scikit-learn) (1.4.1)\n",
            "Requirement already satisfied: joblib>=0.11 in /usr/local/lib/python3.6/dist-packages (from scikit-learn) (0.16.0)\n",
            "Requirement already satisfied: scikit-image in /usr/local/lib/python3.6/dist-packages (0.16.2)\n",
            "Requirement already satisfied: networkx>=2.0 in /usr/local/lib/python3.6/dist-packages (from scikit-image) (2.4)\n",
            "Requirement already satisfied: scipy>=0.19.0 in /usr/local/lib/python3.6/dist-packages (from scikit-image) (1.4.1)\n",
            "Requirement already satisfied: imageio>=2.3.0 in /usr/local/lib/python3.6/dist-packages (from scikit-image) (2.4.1)\n",
            "Requirement already satisfied: PyWavelets>=0.4.0 in /usr/local/lib/python3.6/dist-packages (from scikit-image) (1.1.1)\n",
            "Requirement already satisfied: matplotlib!=3.0.0,>=2.0.0 in /usr/local/lib/python3.6/dist-packages (from scikit-image) (3.2.2)\n",
            "Requirement already satisfied: pillow>=4.3.0 in /usr/local/lib/python3.6/dist-packages (from scikit-image) (7.0.0)\n",
            "Requirement already satisfied: decorator>=4.3.0 in /usr/local/lib/python3.6/dist-packages (from networkx>=2.0->scikit-image) (4.4.2)\n",
            "Requirement already satisfied: numpy>=1.13.3 in /usr/local/lib/python3.6/dist-packages (from scipy>=0.19.0->scikit-image) (1.18.5)\n",
            "Requirement already satisfied: cycler>=0.10 in /usr/local/lib/python3.6/dist-packages (from matplotlib!=3.0.0,>=2.0.0->scikit-image) (0.10.0)\n",
            "Requirement already satisfied: python-dateutil>=2.1 in /usr/local/lib/python3.6/dist-packages (from matplotlib!=3.0.0,>=2.0.0->scikit-image) (2.8.1)\n",
            "Requirement already satisfied: kiwisolver>=1.0.1 in /usr/local/lib/python3.6/dist-packages (from matplotlib!=3.0.0,>=2.0.0->scikit-image) (1.2.0)\n",
            "Requirement already satisfied: pyparsing!=2.0.4,!=2.1.2,!=2.1.6,>=2.0.1 in /usr/local/lib/python3.6/dist-packages (from matplotlib!=3.0.0,>=2.0.0->scikit-image) (2.4.7)\n",
            "Requirement already satisfied: six in /usr/local/lib/python3.6/dist-packages (from cycler>=0.10->matplotlib!=3.0.0,>=2.0.0->scikit-image) (1.15.0)\n",
            "Requirement already satisfied: pycocotools from git+https://github.com/abhi-kumar/cocoapi.git#egg=pycocotools&subdirectory=PythonAPI in /usr/local/lib/python3.6/dist-packages (2.0.1)\n",
            "Requirement already satisfied: cython>=0.27.3 in /usr/local/lib/python3.6/dist-packages (from pycocotools) (0.29.21)\n",
            "Requirement already satisfied: matplotlib>=2.1.0 in /usr/local/lib/python3.6/dist-packages (from pycocotools) (3.2.2)\n",
            "Requirement already satisfied: setuptools>=18.0 in /usr/local/lib/python3.6/dist-packages (from pycocotools) (49.2.0)\n",
            "Requirement already satisfied: kiwisolver>=1.0.1 in /usr/local/lib/python3.6/dist-packages (from matplotlib>=2.1.0->pycocotools) (1.2.0)\n",
            "Requirement already satisfied: cycler>=0.10 in /usr/local/lib/python3.6/dist-packages (from matplotlib>=2.1.0->pycocotools) (0.10.0)\n",
            "Requirement already satisfied: numpy>=1.11 in /usr/local/lib/python3.6/dist-packages (from matplotlib>=2.1.0->pycocotools) (1.18.5)\n",
            "Requirement already satisfied: pyparsing!=2.0.4,!=2.1.2,!=2.1.6,>=2.0.1 in /usr/local/lib/python3.6/dist-packages (from matplotlib>=2.1.0->pycocotools) (2.4.7)\n",
            "Requirement already satisfied: python-dateutil>=2.1 in /usr/local/lib/python3.6/dist-packages (from matplotlib>=2.1.0->pycocotools) (2.8.1)\n",
            "Requirement already satisfied: six in /usr/local/lib/python3.6/dist-packages (from cycler>=0.10->matplotlib>=2.1.0->pycocotools) (1.15.0)\n",
            "Collecting dicttoxml\n",
            "  Downloading https://files.pythonhosted.org/packages/74/36/534db111db9e7610a41641a1f6669a964aacaf51858f466de264cc8dcdd9/dicttoxml-1.7.4.tar.gz\n",
            "Building wheels for collected packages: dicttoxml\n",
            "  Building wheel for dicttoxml (setup.py) ... \u001b[?25l\u001b[?25hdone\n",
            "  Created wheel for dicttoxml: filename=dicttoxml-1.7.4-cp36-none-any.whl size=17452 sha256=4c9cb4feeec0a53d23a190292a2ec4c09fea06f0790471b75113b842fe592b19\n",
            "  Stored in directory: /root/.cache/pip/wheels/62/4f/a3/afd4a68f5add45a668c14efa53b64d5cffb2be6bacf993c151\n",
            "Successfully built dicttoxml\n",
            "Installing collected packages: dicttoxml\n",
            "Successfully installed dicttoxml-1.7.4\n",
            "Collecting xmltodict\n",
            "  Downloading https://files.pythonhosted.org/packages/28/fd/30d5c1d3ac29ce229f6bdc40bbc20b28f716e8b363140c26eff19122d8a5/xmltodict-0.12.0-py2.py3-none-any.whl\n",
            "Installing collected packages: xmltodict\n",
            "Successfully installed xmltodict-0.12.0\n",
            "running install\n",
            "running bdist_egg\n",
            "running egg_info\n",
            "creating cpools.egg-info\n",
            "writing cpools.egg-info/PKG-INFO\n",
            "writing dependency_links to cpools.egg-info/dependency_links.txt\n",
            "writing top-level names to cpools.egg-info/top_level.txt\n",
            "writing manifest file 'cpools.egg-info/SOURCES.txt'\n",
            "writing manifest file 'cpools.egg-info/SOURCES.txt'\n",
            "installing library code to build/bdist.linux-x86_64/egg\n",
            "running install_lib\n",
            "running build_ext\n",
            "building 'top_pool' extension\n",
            "creating build\n",
            "creating build/temp.linux-x86_64-3.6\n",
            "creating build/temp.linux-x86_64-3.6/src\n",
            "x86_64-linux-gnu-gcc -pthread -DNDEBUG -g -fwrapv -O2 -Wall -g -fstack-protector-strong -Wformat -Werror=format-security -Wdate-time -D_FORTIFY_SOURCE=2 -fPIC -I/usr/local/lib/python3.6/dist-packages/torch/include -I/usr/local/lib/python3.6/dist-packages/torch/include/torch/csrc/api/include -I/usr/local/lib/python3.6/dist-packages/torch/include/TH -I/usr/local/lib/python3.6/dist-packages/torch/include/THC -I/usr/include/python3.6m -c src/top_pool.cpp -o build/temp.linux-x86_64-3.6/src/top_pool.o -DTORCH_API_INCLUDE_EXTENSION_H -DTORCH_EXTENSION_NAME=top_pool -D_GLIBCXX_USE_CXX11_ABI=0 -std=c++11\n",
            "creating build/lib.linux-x86_64-3.6\n",
            "x86_64-linux-gnu-g++ -pthread -shared -Wl,-O1 -Wl,-Bsymbolic-functions -Wl,-Bsymbolic-functions -Wl,-z,relro -Wl,-Bsymbolic-functions -Wl,-z,relro -g -fstack-protector-strong -Wformat -Werror=format-security -Wdate-time -D_FORTIFY_SOURCE=2 build/temp.linux-x86_64-3.6/src/top_pool.o -o build/lib.linux-x86_64-3.6/top_pool.cpython-36m-x86_64-linux-gnu.so\n",
            "building 'bottom_pool' extension\n",
            "x86_64-linux-gnu-gcc -pthread -DNDEBUG -g -fwrapv -O2 -Wall -g -fstack-protector-strong -Wformat -Werror=format-security -Wdate-time -D_FORTIFY_SOURCE=2 -fPIC -I/usr/local/lib/python3.6/dist-packages/torch/include -I/usr/local/lib/python3.6/dist-packages/torch/include/torch/csrc/api/include -I/usr/local/lib/python3.6/dist-packages/torch/include/TH -I/usr/local/lib/python3.6/dist-packages/torch/include/THC -I/usr/include/python3.6m -c src/bottom_pool.cpp -o build/temp.linux-x86_64-3.6/src/bottom_pool.o -DTORCH_API_INCLUDE_EXTENSION_H -DTORCH_EXTENSION_NAME=bottom_pool -D_GLIBCXX_USE_CXX11_ABI=0 -std=c++11\n",
            "x86_64-linux-gnu-g++ -pthread -shared -Wl,-O1 -Wl,-Bsymbolic-functions -Wl,-Bsymbolic-functions -Wl,-z,relro -Wl,-Bsymbolic-functions -Wl,-z,relro -g -fstack-protector-strong -Wformat -Werror=format-security -Wdate-time -D_FORTIFY_SOURCE=2 build/temp.linux-x86_64-3.6/src/bottom_pool.o -o build/lib.linux-x86_64-3.6/bottom_pool.cpython-36m-x86_64-linux-gnu.so\n",
            "building 'left_pool' extension\n",
            "x86_64-linux-gnu-gcc -pthread -DNDEBUG -g -fwrapv -O2 -Wall -g -fstack-protector-strong -Wformat -Werror=format-security -Wdate-time -D_FORTIFY_SOURCE=2 -fPIC -I/usr/local/lib/python3.6/dist-packages/torch/include -I/usr/local/lib/python3.6/dist-packages/torch/include/torch/csrc/api/include -I/usr/local/lib/python3.6/dist-packages/torch/include/TH -I/usr/local/lib/python3.6/dist-packages/torch/include/THC -I/usr/include/python3.6m -c src/left_pool.cpp -o build/temp.linux-x86_64-3.6/src/left_pool.o -DTORCH_API_INCLUDE_EXTENSION_H -DTORCH_EXTENSION_NAME=left_pool -D_GLIBCXX_USE_CXX11_ABI=0 -std=c++11\n",
            "x86_64-linux-gnu-g++ -pthread -shared -Wl,-O1 -Wl,-Bsymbolic-functions -Wl,-Bsymbolic-functions -Wl,-z,relro -Wl,-Bsymbolic-functions -Wl,-z,relro -g -fstack-protector-strong -Wformat -Werror=format-security -Wdate-time -D_FORTIFY_SOURCE=2 build/temp.linux-x86_64-3.6/src/left_pool.o -o build/lib.linux-x86_64-3.6/left_pool.cpython-36m-x86_64-linux-gnu.so\n",
            "building 'right_pool' extension\n",
            "x86_64-linux-gnu-gcc -pthread -DNDEBUG -g -fwrapv -O2 -Wall -g -fstack-protector-strong -Wformat -Werror=format-security -Wdate-time -D_FORTIFY_SOURCE=2 -fPIC -I/usr/local/lib/python3.6/dist-packages/torch/include -I/usr/local/lib/python3.6/dist-packages/torch/include/torch/csrc/api/include -I/usr/local/lib/python3.6/dist-packages/torch/include/TH -I/usr/local/lib/python3.6/dist-packages/torch/include/THC -I/usr/include/python3.6m -c src/right_pool.cpp -o build/temp.linux-x86_64-3.6/src/right_pool.o -DTORCH_API_INCLUDE_EXTENSION_H -DTORCH_EXTENSION_NAME=right_pool -D_GLIBCXX_USE_CXX11_ABI=0 -std=c++11\n",
            "x86_64-linux-gnu-g++ -pthread -shared -Wl,-O1 -Wl,-Bsymbolic-functions -Wl,-Bsymbolic-functions -Wl,-z,relro -Wl,-Bsymbolic-functions -Wl,-z,relro -g -fstack-protector-strong -Wformat -Werror=format-security -Wdate-time -D_FORTIFY_SOURCE=2 build/temp.linux-x86_64-3.6/src/right_pool.o -o build/lib.linux-x86_64-3.6/right_pool.cpython-36m-x86_64-linux-gnu.so\n",
            "creating build/bdist.linux-x86_64\n",
            "creating build/bdist.linux-x86_64/egg\n",
            "copying build/lib.linux-x86_64-3.6/top_pool.cpython-36m-x86_64-linux-gnu.so -> build/bdist.linux-x86_64/egg\n",
            "copying build/lib.linux-x86_64-3.6/bottom_pool.cpython-36m-x86_64-linux-gnu.so -> build/bdist.linux-x86_64/egg\n",
            "copying build/lib.linux-x86_64-3.6/left_pool.cpython-36m-x86_64-linux-gnu.so -> build/bdist.linux-x86_64/egg\n",
            "copying build/lib.linux-x86_64-3.6/right_pool.cpython-36m-x86_64-linux-gnu.so -> build/bdist.linux-x86_64/egg\n",
            "creating stub loader for top_pool.cpython-36m-x86_64-linux-gnu.so\n",
            "creating stub loader for bottom_pool.cpython-36m-x86_64-linux-gnu.so\n",
            "creating stub loader for left_pool.cpython-36m-x86_64-linux-gnu.so\n",
            "creating stub loader for right_pool.cpython-36m-x86_64-linux-gnu.so\n",
            "byte-compiling build/bdist.linux-x86_64/egg/top_pool.py to top_pool.cpython-36.pyc\n",
            "byte-compiling build/bdist.linux-x86_64/egg/bottom_pool.py to bottom_pool.cpython-36.pyc\n",
            "byte-compiling build/bdist.linux-x86_64/egg/left_pool.py to left_pool.cpython-36.pyc\n",
            "byte-compiling build/bdist.linux-x86_64/egg/right_pool.py to right_pool.cpython-36.pyc\n",
            "creating build/bdist.linux-x86_64/egg/EGG-INFO\n",
            "copying cpools.egg-info/PKG-INFO -> build/bdist.linux-x86_64/egg/EGG-INFO\n",
            "copying cpools.egg-info/SOURCES.txt -> build/bdist.linux-x86_64/egg/EGG-INFO\n",
            "copying cpools.egg-info/dependency_links.txt -> build/bdist.linux-x86_64/egg/EGG-INFO\n",
            "copying cpools.egg-info/top_level.txt -> build/bdist.linux-x86_64/egg/EGG-INFO\n",
            "writing build/bdist.linux-x86_64/egg/EGG-INFO/native_libs.txt\n",
            "zip_safe flag not set; analyzing archive contents...\n",
            "__pycache__.bottom_pool.cpython-36: module references __file__\n",
            "__pycache__.left_pool.cpython-36: module references __file__\n",
            "__pycache__.right_pool.cpython-36: module references __file__\n",
            "__pycache__.top_pool.cpython-36: module references __file__\n",
            "creating dist\n",
            "creating 'dist/cpools-0.0.0-py3.6-linux-x86_64.egg' and adding 'build/bdist.linux-x86_64/egg' to it\n",
            "removing 'build/bdist.linux-x86_64/egg' (and everything under it)\n",
            "Processing cpools-0.0.0-py3.6-linux-x86_64.egg\n",
            "creating /root/.local/lib/python3.6/site-packages/cpools-0.0.0-py3.6-linux-x86_64.egg\n",
            "Extracting cpools-0.0.0-py3.6-linux-x86_64.egg to /root/.local/lib/python3.6/site-packages\n",
            "Adding cpools 0.0.0 to easy-install.pth file\n",
            "\n",
            "Installed /root/.local/lib/python3.6/site-packages/cpools-0.0.0-py3.6-linux-x86_64.egg\n",
            "Processing dependencies for cpools==0.0.0\n",
            "Finished processing dependencies for cpools==0.0.0\n",
            "python setup.py build_ext --inplace\n",
            "Compiling bbox.pyx because it changed.\n",
            "Compiling nms.pyx because it changed.\n",
            "[1/2] Cythonizing bbox.pyx\n",
            "/usr/local/lib/python3.6/dist-packages/Cython/Compiler/Main.py:369: FutureWarning: Cython directive 'language_level' not set, using 2 for now (Py2). This will change in a later release! File: /content/Monk_Object_Detection/6_cornernet_lite/lib/core/external/bbox.pyx\n",
            "  tree = Parsing.p_module(s, pxd, full_module_name)\n",
            "[2/2] Cythonizing nms.pyx\n",
            "/usr/local/lib/python3.6/dist-packages/Cython/Compiler/Main.py:369: FutureWarning: Cython directive 'language_level' not set, using 2 for now (Py2). This will change in a later release! File: /content/Monk_Object_Detection/6_cornernet_lite/lib/core/external/nms.pyx\n",
            "  tree = Parsing.p_module(s, pxd, full_module_name)\n",
            "running build_ext\n",
            "building 'bbox' extension\n",
            "creating build\n",
            "creating build/temp.linux-x86_64-3.6\n",
            "x86_64-linux-gnu-gcc -pthread -DNDEBUG -g -fwrapv -O2 -Wall -g -fstack-protector-strong -Wformat -Werror=format-security -Wdate-time -D_FORTIFY_SOURCE=2 -fPIC -I/usr/local/lib/python3.6/dist-packages/numpy/core/include -I/usr/include/python3.6m -c bbox.c -o build/temp.linux-x86_64-3.6/bbox.o -Wno-cpp -Wno-unused-function\n",
            "x86_64-linux-gnu-gcc -pthread -shared -Wl,-O1 -Wl,-Bsymbolic-functions -Wl,-Bsymbolic-functions -Wl,-z,relro -Wl,-Bsymbolic-functions -Wl,-z,relro -g -fstack-protector-strong -Wformat -Werror=format-security -Wdate-time -D_FORTIFY_SOURCE=2 build/temp.linux-x86_64-3.6/bbox.o -o /content/Monk_Object_Detection/6_cornernet_lite/lib/core/external/bbox.cpython-36m-x86_64-linux-gnu.so\n",
            "building 'nms' extension\n",
            "x86_64-linux-gnu-gcc -pthread -DNDEBUG -g -fwrapv -O2 -Wall -g -fstack-protector-strong -Wformat -Werror=format-security -Wdate-time -D_FORTIFY_SOURCE=2 -fPIC -I/usr/local/lib/python3.6/dist-packages/numpy/core/include -I/usr/include/python3.6m -c nms.c -o build/temp.linux-x86_64-3.6/nms.o -Wno-cpp -Wno-unused-function\n",
            "x86_64-linux-gnu-gcc -pthread -shared -Wl,-O1 -Wl,-Bsymbolic-functions -Wl,-Bsymbolic-functions -Wl,-z,relro -Wl,-Bsymbolic-functions -Wl,-z,relro -g -fstack-protector-strong -Wformat -Werror=format-security -Wdate-time -D_FORTIFY_SOURCE=2 build/temp.linux-x86_64-3.6/nms.o -o /content/Monk_Object_Detection/6_cornernet_lite/lib/core/external/nms.cpython-36m-x86_64-linux-gnu.so\n",
            "rm -rf build\n"
          ],
          "name": "stdout"
        }
      ]
    },
    {
      "cell_type": "code",
      "metadata": {
        "id": "__u6rWyvla8q",
        "colab_type": "code",
        "colab": {}
      },
      "source": [
        ""
      ],
      "execution_count": null,
      "outputs": []
    },
    {
      "cell_type": "code",
      "metadata": {
        "id": "ilcb-2cOla_f",
        "colab_type": "code",
        "colab": {}
      },
      "source": [
        ""
      ],
      "execution_count": null,
      "outputs": []
    },
    {
      "cell_type": "markdown",
      "metadata": {
        "id": "WHKyPniblbS6",
        "colab_type": "text"
      },
      "source": [
        "# Use already trained model for demo"
      ]
    },
    {
      "cell_type": "code",
      "metadata": {
        "id": "bvfh7ucZRjgQ",
        "colab_type": "code",
        "colab": {}
      },
      "source": [
        "import os\n",
        "import sys"
      ],
      "execution_count": null,
      "outputs": []
    },
    {
      "cell_type": "code",
      "metadata": {
        "id": "XT3xayMySbY9",
        "colab_type": "code",
        "colab": {}
      },
      "source": [
        "sys.path.append(\"Monk_Object_Detection/6_cornernet_lite/lib/\")"
      ],
      "execution_count": null,
      "outputs": []
    },
    {
      "cell_type": "code",
      "metadata": {
        "id": "i6WYbE8OSeYT",
        "colab_type": "code",
        "colab": {}
      },
      "source": [
        "from infer_detector import Infer"
      ],
      "execution_count": null,
      "outputs": []
    },
    {
      "cell_type": "code",
      "metadata": {
        "id": "0K7MjjufSgxp",
        "colab_type": "code",
        "colab": {}
      },
      "source": [
        "gtf = Infer();"
      ],
      "execution_count": null,
      "outputs": []
    },
    {
      "cell_type": "code",
      "metadata": {
        "id": "0Rx_rEgcSifP",
        "colab_type": "code",
        "colab": {}
      },
      "source": [
        "class_list =[\"Car\",\"Pool\"]"
      ],
      "execution_count": null,
      "outputs": []
    },
    {
      "cell_type": "code",
      "metadata": {
        "id": "YBvlfLvfcWwk",
        "colab_type": "code",
        "colab": {
          "base_uri": "https://localhost:8080/",
          "height": 674
        },
        "outputId": "4b3d5014-e692-4dcb-ea8c-ac24e6bf6fc9"
      },
      "source": [
        " ! wget --load-cookies /tmp/cookies.txt \"https://docs.google.com/uc?export=download&confirm=$(wget --save-cookies /tmp/cookies.txt --keep-session-cookies --no-check-certificate 'https://docs.google.com/uc?export=download&id=12e9ynkwIqRArAHnlsoCwmQ3-TNm9FA9F' -O- | sed -rn 's/.*confirm=([0-9A-Za-z_]+).*/\\1\\n/p')&id=12e9ynkwIqRArAHnlsoCwmQ3-TNm9FA9F\" -O obj_satellite_car_pool_trained.zip && rm -rf /tmp/cookies.txt"
      ],
      "execution_count": null,
      "outputs": [
        {
          "output_type": "stream",
          "text": [
            "--2020-08-22 16:24:46--  https://docs.google.com/uc?export=download&id=12e9ynkwIqRArAHnlsoCwmQ3-TNm9FA9F\n",
            "Resolving docs.google.com (docs.google.com)... 74.125.142.138, 74.125.142.102, 74.125.142.139, ...\n",
            "Connecting to docs.google.com (docs.google.com)|74.125.142.138|:443... connected.\n",
            "HTTP request sent, awaiting response... 200 OK\n",
            "Length: unspecified [text/html]\n",
            "Saving to: ‘STDOUT’\n",
            "\n",
            "\r-                       [<=>                 ]       0  --.-KB/s               \r-                       [ <=>                ]   3.19K  --.-KB/s    in 0s      \n",
            "\n",
            "2020-08-22 16:24:46 (63.4 MB/s) - written to stdout [3271]\n",
            "\n",
            "--2020-08-22 16:24:46--  https://docs.google.com/uc?export=download&confirm=etCK&id=12e9ynkwIqRArAHnlsoCwmQ3-TNm9FA9F\n",
            "Resolving docs.google.com (docs.google.com)... 74.125.142.100, 74.125.142.101, 74.125.142.139, ...\n",
            "Connecting to docs.google.com (docs.google.com)|74.125.142.100|:443... connected.\n",
            "HTTP request sent, awaiting response... 302 Moved Temporarily\n",
            "Location: https://doc-0c-7g-docs.googleusercontent.com/docs/securesc/729l2lhp9eink4qmps183duk8ipiknvt/lgksucehn6gdq2931b3tnbkr3gfg6tjv/1598113425000/10938243485722110558/07718604264385509954Z/12e9ynkwIqRArAHnlsoCwmQ3-TNm9FA9F?e=download [following]\n",
            "--2020-08-22 16:24:46--  https://doc-0c-7g-docs.googleusercontent.com/docs/securesc/729l2lhp9eink4qmps183duk8ipiknvt/lgksucehn6gdq2931b3tnbkr3gfg6tjv/1598113425000/10938243485722110558/07718604264385509954Z/12e9ynkwIqRArAHnlsoCwmQ3-TNm9FA9F?e=download\n",
            "Resolving doc-0c-7g-docs.googleusercontent.com (doc-0c-7g-docs.googleusercontent.com)... 74.125.195.132, 2607:f8b0:400e:c09::84\n",
            "Connecting to doc-0c-7g-docs.googleusercontent.com (doc-0c-7g-docs.googleusercontent.com)|74.125.195.132|:443... connected.\n",
            "HTTP request sent, awaiting response... 302 Found\n",
            "Location: https://docs.google.com/nonceSigner?nonce=9h28n0e7ib5ee&continue=https://doc-0c-7g-docs.googleusercontent.com/docs/securesc/729l2lhp9eink4qmps183duk8ipiknvt/lgksucehn6gdq2931b3tnbkr3gfg6tjv/1598113425000/10938243485722110558/07718604264385509954Z/12e9ynkwIqRArAHnlsoCwmQ3-TNm9FA9F?e%3Ddownload&hash=r8c2sb938rfehb8ucaqabql0t15n9cj5 [following]\n",
            "--2020-08-22 16:24:46--  https://docs.google.com/nonceSigner?nonce=9h28n0e7ib5ee&continue=https://doc-0c-7g-docs.googleusercontent.com/docs/securesc/729l2lhp9eink4qmps183duk8ipiknvt/lgksucehn6gdq2931b3tnbkr3gfg6tjv/1598113425000/10938243485722110558/07718604264385509954Z/12e9ynkwIqRArAHnlsoCwmQ3-TNm9FA9F?e%3Ddownload&hash=r8c2sb938rfehb8ucaqabql0t15n9cj5\n",
            "Connecting to docs.google.com (docs.google.com)|74.125.142.100|:443... connected.\n",
            "HTTP request sent, awaiting response... 302 Found\n",
            "Location: https://doc-0c-7g-docs.googleusercontent.com/docs/securesc/729l2lhp9eink4qmps183duk8ipiknvt/lgksucehn6gdq2931b3tnbkr3gfg6tjv/1598113425000/10938243485722110558/07718604264385509954Z/12e9ynkwIqRArAHnlsoCwmQ3-TNm9FA9F?e=download&nonce=9h28n0e7ib5ee&user=07718604264385509954Z&hash=cvgal1mcip33bms9oljlhk9ob85i707i [following]\n",
            "--2020-08-22 16:24:46--  https://doc-0c-7g-docs.googleusercontent.com/docs/securesc/729l2lhp9eink4qmps183duk8ipiknvt/lgksucehn6gdq2931b3tnbkr3gfg6tjv/1598113425000/10938243485722110558/07718604264385509954Z/12e9ynkwIqRArAHnlsoCwmQ3-TNm9FA9F?e=download&nonce=9h28n0e7ib5ee&user=07718604264385509954Z&hash=cvgal1mcip33bms9oljlhk9ob85i707i\n",
            "Connecting to doc-0c-7g-docs.googleusercontent.com (doc-0c-7g-docs.googleusercontent.com)|74.125.195.132|:443... connected.\n",
            "HTTP request sent, awaiting response... 200 OK\n",
            "Length: unspecified [application/zip]\n",
            "Saving to: ‘obj_satellite_car_pool_trained.zip’\n",
            "\n",
            "obj_satellite_car_p     [            <=>     ] 412.85M   144MB/s    in 2.9s    \n",
            "\n",
            "2020-08-22 16:24:49 (144 MB/s) - ‘obj_satellite_car_pool_trained.zip’ saved [432903826]\n",
            "\n"
          ],
          "name": "stdout"
        }
      ]
    },
    {
      "cell_type": "code",
      "metadata": {
        "id": "jsHBeLfqcodv",
        "colab_type": "code",
        "colab": {}
      },
      "source": [
        "! unzip -qq obj_satellite_car_pool_trained.zip"
      ],
      "execution_count": null,
      "outputs": []
    },
    {
      "cell_type": "code",
      "metadata": {
        "id": "Ttt6u_S7Srgs",
        "colab_type": "code",
        "colab": {
          "base_uri": "https://localhost:8080/",
          "height": 51
        },
        "outputId": "46dad24d-aebe-4c31-e24c-992ae4688e77"
      },
      "source": [
        "gtf.Model(class_list, \n",
        "          base=\"CornerNet_Saccade\", \n",
        "          model_path=\"/content/obj_satellite_car_pool_trained/CornerNet_Saccade_final-1000.pkl\")"
      ],
      "execution_count": null,
      "outputs": [
        {
          "output_type": "stream",
          "text": [
            "total parameters: 116849063\n",
            "loading from /content/obj_satellite_car_pool_trained/CornerNet_Saccade_final-1000.pkl\n"
          ],
          "name": "stdout"
        }
      ]
    },
    {
      "cell_type": "code",
      "metadata": {
        "id": "0d7PxP9DS1f2",
        "colab_type": "code",
        "colab": {
          "base_uri": "https://localhost:8080/",
          "height": 295
        },
        "outputId": "010eae98-329d-4317-fc58-e41dfb7aa35c"
      },
      "source": [
        "boxes = gtf.Predict(\"/content/obj_satellite_car_pool_trained/image1.jpg\", \n",
        "                    vis_thresh=0.4, output_img=\"output.jpg\")\n",
        "from IPython.display import Image\n",
        "Image(filename='output.jpg')"
      ],
      "execution_count": null,
      "outputs": [
        {
          "output_type": "stream",
          "text": [
            "/usr/local/lib/python3.6/dist-packages/torch/nn/functional.py:2506: UserWarning: Default upsampling behavior when mode=bilinear is changed to align_corners=False since 0.4.0. Please specify align_corners=True if the old behavior is desired. See the documentation of nn.Upsample for details.\n",
            "  \"See the documentation of nn.Upsample for details.\".format(mode))\n"
          ],
          "name": "stderr"
        },
        {
          "output_type": "execute_result",
          "data": {
            "image/jpeg": "[encoded data removed]",
            "text/plain": [
              "<IPython.core.display.Image object>"
            ]
          },
          "metadata": {
            "tags": []
          },
          "execution_count": 9
        }
      ]
    },
    {
      "cell_type": "code",
      "metadata": {
        "id": "IfEScdwpUYX-",
        "colab_type": "code",
        "colab": {
          "base_uri": "https://localhost:8080/",
          "height": 295
        },
        "outputId": "8cd8cbb0-8d88-4956-ce11-fcd760aa60a8"
      },
      "source": [
        "boxes = gtf.Predict(\"/content/obj_satellite_car_pool_trained/image2.jpg\", \n",
        "                    vis_thresh=0.4, output_img=\"output.jpg\")\n",
        "from IPython.display import Image\n",
        "Image(filename='output.jpg')"
      ],
      "execution_count": null,
      "outputs": [
        {
          "output_type": "stream",
          "text": [
            "/usr/local/lib/python3.6/dist-packages/torch/nn/functional.py:2506: UserWarning: Default upsampling behavior when mode=bilinear is changed to align_corners=False since 0.4.0. Please specify align_corners=True if the old behavior is desired. See the documentation of nn.Upsample for details.\n",
            "  \"See the documentation of nn.Upsample for details.\".format(mode))\n"
          ],
          "name": "stderr"
        },
        {
          "output_type": "execute_result",
          "data": {
            "image/jpeg": "[encoded data removed]",
            "text/plain": [
              "<IPython.core.display.Image object>"
            ]
          },
          "metadata": {
            "tags": []
          },
          "execution_count": 10
        }
      ]
    },
    {
      "cell_type": "code",
      "metadata": {
        "id": "-Ov1aSMyUm3u",
        "colab_type": "code",
        "colab": {
          "base_uri": "https://localhost:8080/",
          "height": 295
        },
        "outputId": "8e22fbc2-1985-4a4c-fc23-fd6e58763647"
      },
      "source": [
        "boxes = gtf.Predict(\"/content/obj_satellite_car_pool_trained/image3.jpg\", \n",
        "                    vis_thresh=0.4, output_img=\"output.jpg\")\n",
        "from IPython.display import Image\n",
        "Image(filename='output.jpg')"
      ],
      "execution_count": null,
      "outputs": [
        {
          "output_type": "stream",
          "text": [
            "/usr/local/lib/python3.6/dist-packages/torch/nn/functional.py:2506: UserWarning: Default upsampling behavior when mode=bilinear is changed to align_corners=False since 0.4.0. Please specify align_corners=True if the old behavior is desired. See the documentation of nn.Upsample for details.\n",
            "  \"See the documentation of nn.Upsample for details.\".format(mode))\n"
          ],
          "name": "stderr"
        },
        {
          "output_type": "execute_result",
          "data": {
            "image/jpeg": "[encoded data removed]",
            "text/plain": [
              "<IPython.core.display.Image object>"
            ]
          },
          "metadata": {
            "tags": []
          },
          "execution_count": 11
        }
      ]
    },
    {
      "cell_type": "markdown",
      "metadata": {
        "id": "h9nZl_BTUm_u",
        "colab_type": "text"
      },
      "source": [
        "# Train"
      ]
    },
    {
      "cell_type": "markdown",
      "metadata": {
        "id": "bqZxbZufdm4X",
        "colab_type": "text"
      },
      "source": [
        "**Data-set credit-**https://www.kaggle.com/kbhartiya83/swimming-pool-and-car-detection\n"
      ]
    },
    {
      "cell_type": "code",
      "metadata": {
        "id": "BdoqGOA5UpMX",
        "colab_type": "code",
        "colab": {}
      },
      "source": [
        "! pip install -q kaggle"
      ],
      "execution_count": null,
      "outputs": []
    },
    {
      "cell_type": "code",
      "metadata": {
        "id": "9NuWaei-UzQ-",
        "colab_type": "code",
        "colab": {}
      },
      "source": [
        "from google.colab import files\n",
        "files.upload()"
      ],
      "execution_count": null,
      "outputs": []
    },
    {
      "cell_type": "code",
      "metadata": {
        "id": "JzhecTe6U3IE",
        "colab_type": "code",
        "colab": {}
      },
      "source": [
        "!ls"
      ],
      "execution_count": null,
      "outputs": []
    },
    {
      "cell_type": "code",
      "metadata": {
        "id": "CNKRQiEvWA69",
        "colab_type": "code",
        "colab": {}
      },
      "source": [
        "! mkdir ~/.kaggle\n",
        "! cp kaggle.json ~/.kaggle/"
      ],
      "execution_count": null,
      "outputs": []
    },
    {
      "cell_type": "code",
      "metadata": {
        "id": "mBX6KLn0WK_8",
        "colab_type": "code",
        "colab": {}
      },
      "source": [
        "! chmod 600 ~/.kaggle/kaggle.json"
      ],
      "execution_count": null,
      "outputs": []
    },
    {
      "cell_type": "code",
      "metadata": {
        "id": "a7aa_KT8WOeM",
        "colab_type": "code",
        "colab": {
          "base_uri": "https://localhost:8080/",
          "height": 72
        },
        "outputId": "fbc59df5-f43a-4ac7-de35-043d66abe1b1"
      },
      "source": [
        "!kaggle datasets download -d kbhartiya83/swimming-pool-and-car-detection -p /content"
      ],
      "execution_count": null,
      "outputs": [
        {
          "output_type": "stream",
          "text": [
            "Downloading swimming-pool-and-car-detection.zip to /content\n",
            " 94% 104M/111M [00:01<00:00, 81.7MB/s] \n",
            "100% 111M/111M [00:01<00:00, 100MB/s] \n"
          ],
          "name": "stdout"
        }
      ]
    },
    {
      "cell_type": "code",
      "metadata": {
        "id": "Y6PIEuU6WRVK",
        "colab_type": "code",
        "colab": {}
      },
      "source": [
        "!unzip /content/swimming-pool-and-car-detection.zip"
      ],
      "execution_count": null,
      "outputs": []
    },
    {
      "cell_type": "markdown",
      "metadata": {
        "id": "SNHY78K8WrdS",
        "colab_type": "text"
      },
      "source": [
        "# VOC Format\n",
        "\n",
        "## Dataset Directory Structure (Non-Standard)\n",
        "\n",
        "      card_dataset     (root_dir)\n",
        "          |\n",
        "          |-----------Images+Annotations (img_dir + anno_dir)\n",
        "          |              |\n",
        "          |              |------------------img1.jpg\n",
        "          |              |------------------img1.xml\n",
        "          |              |------------------img2.jpg\n",
        "          |              |------------------img2.xml\n",
        "          |              |------------------.........(and so on)\n",
        "        "
      ]
    },
    {
      "cell_type": "code",
      "metadata": {
        "id": "F-NQwChhWyoY",
        "colab_type": "code",
        "colab": {}
      },
      "source": [
        ""
      ],
      "execution_count": null,
      "outputs": []
    },
    {
      "cell_type": "markdown",
      "metadata": {
        "id": "Ki4t3T9uWy2J",
        "colab_type": "text"
      },
      "source": [
        "# Desired annotation - COCO Format\n",
        "\n",
        "## Dataset Directory Structure\n",
        "\n",
        "    ./ (root_dir)\n",
        "          |\n",
        "          |------card_dataset (coco_dir) \n",
        "          |         |\n",
        "          |         |---Images (img_dir)\n",
        "          |         |----|\n",
        "          |              |-------------------img1.jpg\n",
        "          |              |-------------------img2.jpg\n",
        "          |              |-------------------.........(and so on)\n",
        "          |\n",
        "          |\n",
        "          |         |---annotations (anno_dir)\n",
        "          |         |----|\n",
        "          |              |--------------------instances_Images.json \n",
        "          |              |--------------------classes.txt\n",
        "          \n",
        "          \n",
        " - instances_Train.json -> In proper COCO format\n",
        " - classes.txt          -> A list of classes in alphabetical order"
      ]
    },
    {
      "cell_type": "code",
      "metadata": {
        "id": "WY2Pmjk_W-PJ",
        "colab_type": "code",
        "colab": {}
      },
      "source": [
        ""
      ],
      "execution_count": null,
      "outputs": []
    },
    {
      "cell_type": "markdown",
      "metadata": {
        "id": "plhPsJNIW-Zx",
        "colab_type": "text"
      },
      "source": [
        "# Annotation Conversion - Step 1 - VOC to Monk format"
      ]
    },
    {
      "cell_type": "code",
      "metadata": {
        "id": "-Y2xZUpNW_yp",
        "colab_type": "code",
        "colab": {}
      },
      "source": [
        "import os\n",
        "import sys\n",
        "import numpy as np\n",
        "import pandas as pd\n",
        "\n",
        "import xmltodict\n",
        "import json\n",
        "from tqdm.notebook import tqdm\n",
        "\n",
        "from pycocotools.coco import COCO"
      ],
      "execution_count": null,
      "outputs": []
    },
    {
      "cell_type": "code",
      "metadata": {
        "id": "EoANznI-XH6y",
        "colab_type": "code",
        "colab": {}
      },
      "source": [
        "root_dir = \"/content/training_data/training_data/\";\n",
        "img_dir = \"images/\";\n",
        "anno_dir = \"labels/\";"
      ],
      "execution_count": null,
      "outputs": []
    },
    {
      "cell_type": "code",
      "metadata": {
        "id": "Vlt7-XS0XJ9B",
        "colab_type": "code",
        "colab": {}
      },
      "source": [
        "files = os.listdir(root_dir + anno_dir);"
      ],
      "execution_count": null,
      "outputs": []
    },
    {
      "cell_type": "code",
      "metadata": {
        "id": "dbFlCqa0XMS9",
        "colab_type": "code",
        "colab": {
          "base_uri": "https://localhost:8080/",
          "height": 67,
          "referenced_widgets": [
            "495fa303c35046559fe7a583b40811c3",
            "d20eb7f3dcf44790987ca099eefe9f2b",
            "c089ee542db64db1bb224328ee6f172d",
            "65716e1a3c9a4dad9c5abb7ada000e49",
            "f6e7b99d26c548fe97b9a1d2548c96bb",
            "3b5d977620f1402394f341852581ec6e",
            "9f94e21051be44b7846c0d3335bc749d",
            "828178c43d7d44d399385daef04e72fe"
          ]
        },
        "outputId": "efa9cb4f-4a47-4860-ae50-23ceb30d7ac3"
      },
      "source": [
        "combined = [];\n",
        "for i in tqdm(range(len(files))):\n",
        "    annoFile = root_dir + \"/\" + anno_dir + \"/\" + files[i];\n",
        "    f = open(annoFile, 'r');\n",
        "    my_xml = f.read();\n",
        "    anno = dict(dict(xmltodict.parse(my_xml))[\"annotation\"])\n",
        "    fname = anno[\"filename\"];\n",
        "    label_str = \"\";\n",
        "    if(type(anno[\"object\"]) == list):\n",
        "        for j in range(len(anno[\"object\"])):\n",
        "            obj = dict(anno[\"object\"][j]);\n",
        "            label = anno[\"object\"][j][\"name\"];\n",
        "            bbox = dict(anno[\"object\"][j][\"bndbox\"])\n",
        "            x1 = bbox[\"xmin\"];\n",
        "            y1 = bbox[\"ymin\"];\n",
        "            x2 = bbox[\"xmax\"];\n",
        "            y2 = bbox[\"ymax\"];\n",
        "            if(j == len(anno[\"object\"])-1):\n",
        "                label_str += x1 + \" \" + y1 + \" \" + x2 + \" \" + y2 + \" \" + label;\n",
        "            else:        \n",
        "                label_str += x1 + \" \" + y1 + \" \" + x2 + \" \" + y2 + \" \" + label + \" \";\n",
        "    else:\n",
        "        obj = dict(anno[\"object\"]);\n",
        "        label = anno[\"object\"][\"name\"];\n",
        "        bbox = dict(anno[\"object\"][\"bndbox\"])\n",
        "        x1 = bbox[\"xmin\"];\n",
        "        y1 = bbox[\"ymin\"];\n",
        "        x2 = bbox[\"xmax\"];\n",
        "        y2 = bbox[\"ymax\"];\n",
        "        \n",
        "        label_str += x1 + \" \" + y1 + \" \" + x2 + \" \" + y2 + \" \" + label;\n",
        "    \n",
        "    \n",
        "    combined.append([fname, label_str])"
      ],
      "execution_count": null,
      "outputs": [
        {
          "output_type": "display_data",
          "data": {
            "application/vnd.jupyter.widget-view+json": {
              "model_id": "495fa303c35046559fe7a583b40811c3",
              "version_minor": 0,
              "version_major": 2
            },
            "text/plain": [
              "HBox(children=(FloatProgress(value=0.0, max=3748.0), HTML(value='')))"
            ]
          },
          "metadata": {
            "tags": []
          }
        },
        {
          "output_type": "stream",
          "text": [
            "\n"
          ],
          "name": "stdout"
        }
      ]
    },
    {
      "cell_type": "code",
      "metadata": {
        "id": "6eZC9tcLXb-F",
        "colab_type": "code",
        "colab": {}
      },
      "source": [
        "df = pd.DataFrame(combined, columns = ['ID', 'Label']);\n",
        "df.to_csv(root_dir + \"/train_labels.csv\", index=False);"
      ],
      "execution_count": null,
      "outputs": []
    },
    {
      "cell_type": "code",
      "metadata": {
        "id": "tGMBvIgfXhg-",
        "colab_type": "code",
        "colab": {}
      },
      "source": [
        ""
      ],
      "execution_count": null,
      "outputs": []
    },
    {
      "cell_type": "markdown",
      "metadata": {
        "id": "hfnimKQbXnKo",
        "colab_type": "text"
      },
      "source": [
        "# Annotation Conversion - Step 1 - Monk format to COCO"
      ]
    },
    {
      "cell_type": "code",
      "metadata": {
        "id": "fRnY4ZY7Xt7T",
        "colab_type": "code",
        "colab": {}
      },
      "source": [
        "import os\n",
        "import numpy as np \n",
        "import cv2\n",
        "import dicttoxml\n",
        "import xml.etree.ElementTree as ET\n",
        "from xml.dom.minidom import parseString\n",
        "from tqdm import tqdm\n",
        "import shutil\n",
        "import json\n",
        "import pandas as pd"
      ],
      "execution_count": null,
      "outputs": []
    },
    {
      "cell_type": "code",
      "metadata": {
        "id": "fvE7ze4LXwL6",
        "colab_type": "code",
        "colab": {}
      },
      "source": [
        "root = \"/content/training_data/training_data/\";\n",
        "img_dir = \"images/\";\n",
        "anno_file = \"train_labels.csv\";"
      ],
      "execution_count": null,
      "outputs": []
    },
    {
      "cell_type": "code",
      "metadata": {
        "id": "PQrNxtkCXyPU",
        "colab_type": "code",
        "colab": {}
      },
      "source": [
        "dataset_path = root;\n",
        "images_folder = root + \"/\" + img_dir;\n",
        "annotations_path = root + \"/annotations/\";"
      ],
      "execution_count": null,
      "outputs": []
    },
    {
      "cell_type": "code",
      "metadata": {
        "id": "hlR2XIAWX0AL",
        "colab_type": "code",
        "colab": {}
      },
      "source": [
        "if not os.path.isdir(annotations_path):\n",
        "    os.mkdir(annotations_path)\n",
        "    \n",
        "input_images_folder = images_folder;\n",
        "input_annotations_path = root + \"/\" + anno_file;"
      ],
      "execution_count": null,
      "outputs": []
    },
    {
      "cell_type": "code",
      "metadata": {
        "id": "XiYkCYl3X115",
        "colab_type": "code",
        "colab": {}
      },
      "source": [
        "output_dataset_path = root;\n",
        "output_image_folder = input_images_folder;\n",
        "output_annotation_folder = annotations_path;\n",
        "\n",
        "tmp = img_dir.replace(\"/\", \"\");\n",
        "output_annotation_file = output_annotation_folder + \"/instances_\" + tmp + \".json\";\n",
        "output_classes_file = output_annotation_folder + \"/classes.txt\";"
      ],
      "execution_count": null,
      "outputs": []
    },
    {
      "cell_type": "code",
      "metadata": {
        "id": "4NIi-DviX4Cz",
        "colab_type": "code",
        "colab": {}
      },
      "source": [
        "if not os.path.isdir(output_annotation_folder):\n",
        "    os.mkdir(output_annotation_folder);"
      ],
      "execution_count": null,
      "outputs": []
    },
    {
      "cell_type": "code",
      "metadata": {
        "id": "22ZzhVGRX63P",
        "colab_type": "code",
        "colab": {}
      },
      "source": [
        "df = pd.read_csv(input_annotations_path);\n",
        "columns = df.columns"
      ],
      "execution_count": null,
      "outputs": []
    },
    {
      "cell_type": "code",
      "metadata": {
        "id": "dUZlMGVxX8kX",
        "colab_type": "code",
        "colab": {}
      },
      "source": [
        "delimiter = \" \";"
      ],
      "execution_count": null,
      "outputs": []
    },
    {
      "cell_type": "code",
      "metadata": {
        "id": "EIijOyUOX-QO",
        "colab_type": "code",
        "colab": {
          "base_uri": "https://localhost:8080/",
          "height": 35
        },
        "outputId": "81b0cf7b-248f-46ea-87e4-20e0ebe2116f"
      },
      "source": [
        "list_dict = [];\n",
        "anno = [];\n",
        "for i in range(len(df)):\n",
        "    img_name = df[columns[0]][i];\n",
        "    labels = df[columns[1]][i];\n",
        "    tmp = labels.split(delimiter);\n",
        "    for j in range(len(tmp)//5):\n",
        "        label = tmp[j*5+4];\n",
        "        if(label not in anno):\n",
        "            anno.append(label);\n",
        "    anno = sorted(anno)\n",
        "    \n",
        "for i in tqdm(range(len(anno))):\n",
        "    tmp = {};\n",
        "    tmp[\"supercategory\"] = \"master\";\n",
        "    tmp[\"id\"] = i;\n",
        "    tmp[\"name\"] = anno[i];\n",
        "    list_dict.append(tmp);\n",
        "\n",
        "anno_f = open(output_classes_file, 'w');\n",
        "for i in range(len(anno)):\n",
        "    anno_f.write(anno[i] + \"\\n\");\n",
        "anno_f.close();"
      ],
      "execution_count": null,
      "outputs": [
        {
          "output_type": "stream",
          "text": [
            "100%|██████████| 2/2 [00:00<00:00, 3157.17it/s]\n"
          ],
          "name": "stderr"
        }
      ]
    },
    {
      "cell_type": "code",
      "metadata": {
        "id": "75nAKepzYA0B",
        "colab_type": "code",
        "colab": {}
      },
      "source": [
        "coco_data = {};\n",
        "coco_data[\"type\"] = \"instances\";\n",
        "coco_data[\"images\"] = [];\n",
        "coco_data[\"annotations\"] = [];\n",
        "coco_data[\"categories\"] = list_dict;\n",
        "image_id = 0;\n",
        "annotation_id = 0;\n",
        "\n",
        "\n",
        "for i in tqdm(range(len(df))):\n",
        "    img_name = df[columns[0]][i];\n",
        "    labels = df[columns[1]][i];\n",
        "    tmp = labels.split(delimiter);\n",
        "    image_in_path = input_images_folder + \"/\" + img_name;\n",
        "    print(image_in_path)\n",
        "    img = cv2.imread(image_in_path, 1);\n",
        "    h, w, c = img.shape;\n",
        "\n",
        "    images_tmp = {};\n",
        "    images_tmp[\"file_name\"] = img_name;\n",
        "    images_tmp[\"height\"] = h;\n",
        "    images_tmp[\"width\"] = w;\n",
        "    images_tmp[\"id\"] = image_id;\n",
        "    coco_data[\"images\"].append(images_tmp);\n",
        "    \n",
        "\n",
        "    for j in range(len(tmp)//5):\n",
        "        x1 = int(round(float(tmp[j*5+0])));\n",
        "        y1 = int(round(float(tmp[j*5+1])));\n",
        "        x2 = int(round(float(tmp[j*5+2])));\n",
        "        y2 = int(round(float(tmp[j*5+3])));\n",
        "        label = tmp[j*5+4];\n",
        "        annotations_tmp = {};\n",
        "        annotations_tmp[\"id\"] = annotation_id;\n",
        "        annotation_id += 1;\n",
        "        annotations_tmp[\"image_id\"] = image_id;\n",
        "        annotations_tmp[\"segmentation\"] = [];\n",
        "        annotations_tmp[\"ignore\"] = 0;\n",
        "        annotations_tmp[\"area\"] = (x2-x1)*(y2-y1);\n",
        "        annotations_tmp[\"iscrowd\"] = 0;\n",
        "        annotations_tmp[\"bbox\"] = [x1, y1, x2-x1, y2-y1];\n",
        "        annotations_tmp[\"category_id\"] = anno.index(label);\n",
        "\n",
        "        coco_data[\"annotations\"].append(annotations_tmp)\n",
        "    image_id += 1;\n",
        "\n",
        "outfile =  open(output_annotation_file, 'w');\n",
        "json_str = json.dumps(coco_data, indent=4);\n",
        "outfile.write(json_str);\n",
        "outfile.close();"
      ],
      "execution_count": null,
      "outputs": []
    },
    {
      "cell_type": "code",
      "metadata": {
        "id": "8B2qdybIYDDH",
        "colab_type": "code",
        "colab": {}
      },
      "source": [
        ""
      ],
      "execution_count": null,
      "outputs": []
    },
    {
      "cell_type": "markdown",
      "metadata": {
        "id": "iReVIbpAYMh7",
        "colab_type": "text"
      },
      "source": [
        "# Training"
      ]
    },
    {
      "cell_type": "code",
      "metadata": {
        "id": "ZoeYSfQFYTrW",
        "colab_type": "code",
        "colab": {}
      },
      "source": [
        "import os\n",
        "import sys"
      ],
      "execution_count": null,
      "outputs": []
    },
    {
      "cell_type": "code",
      "metadata": {
        "id": "A9I8xxSBYUYp",
        "colab_type": "code",
        "colab": {}
      },
      "source": [
        "sys.path.append(\"Monk_Object_Detection/6_cornernet_lite/lib/\")"
      ],
      "execution_count": null,
      "outputs": []
    },
    {
      "cell_type": "code",
      "metadata": {
        "id": "O_SyEULqYWFf",
        "colab_type": "code",
        "colab": {}
      },
      "source": [
        "from train_detector import Detector"
      ],
      "execution_count": null,
      "outputs": []
    },
    {
      "cell_type": "code",
      "metadata": {
        "id": "rtK4CeAfYXra",
        "colab_type": "code",
        "colab": {}
      },
      "source": [
        "gtf = Detector();"
      ],
      "execution_count": null,
      "outputs": []
    },
    {
      "cell_type": "code",
      "metadata": {
        "id": "_Uy2StEiYZ5i",
        "colab_type": "code",
        "colab": {}
      },
      "source": [
        "root_dir = \"/content/training_data\";\n",
        "coco_dir = \"training_data\"\n",
        "img_dir = \"/\"\n",
        "set_dir = \"images\""
      ],
      "execution_count": null,
      "outputs": []
    },
    {
      "cell_type": "code",
      "metadata": {
        "id": "fVwlCZb6YcEQ",
        "colab_type": "code",
        "colab": {}
      },
      "source": [
        "gtf.Train_Dataset(root_dir, coco_dir, img_dir, set_dir, batch_size=4, use_gpu=True, num_workers=4)"
      ],
      "execution_count": null,
      "outputs": []
    },
    {
      "cell_type": "code",
      "metadata": {
        "id": "vAqOHgFKYeGY",
        "colab_type": "code",
        "colab": {}
      },
      "source": [
        "gtf.Model(model_name=\"CornerNet_Saccade\")"
      ],
      "execution_count": null,
      "outputs": []
    },
    {
      "cell_type": "code",
      "metadata": {
        "id": "l76eXUJ-Yf0o",
        "colab_type": "code",
        "colab": {}
      },
      "source": [
        "gtf.Hyper_Params(lr=0.00025, total_iterations=10000) ###0.00025 1000"
      ],
      "execution_count": null,
      "outputs": []
    },
    {
      "cell_type": "code",
      "metadata": {
        "id": "PoXP5ElrYh5c",
        "colab_type": "code",
        "colab": {
          "base_uri": "https://localhost:8080/",
          "height": 345
        },
        "outputId": "5c341c0d-93fe-439b-d96c-e07cd26dd1da"
      },
      "source": [
        "gtf.Setup();"
      ],
      "execution_count": null,
      "outputs": [
        {
          "output_type": "stream",
          "text": [
            "loading annotations into memory...\n",
            "Done (t=0.05s)\n",
            "creating index...\n",
            "index created!\n",
            "loading annotations into memory...\n",
            "Done (t=0.11s)\n",
            "creating index...\n",
            "index created!\n",
            "loading annotations into memory...\n",
            "Done (t=0.11s)\n",
            "creating index...\n",
            "index created!\n",
            "loading annotations into memory...\n",
            "Done (t=0.05s)\n",
            "creating index...\n",
            "index created!\n",
            "Loading Model - core.models.CornerNet_Saccade\n",
            "Model Loaded\n"
          ],
          "name": "stdout"
        }
      ]
    },
    {
      "cell_type": "code",
      "metadata": {
        "id": "aMvv_sAhYjkI",
        "colab_type": "code",
        "colab": {}
      },
      "source": [
        "gtf.Train();"
      ],
      "execution_count": null,
      "outputs": []
    },
    {
      "cell_type": "code",
      "metadata": {
        "id": "hDjkW1-Pl87e",
        "colab_type": "code",
        "colab": {}
      },
      "source": [
        ""
      ],
      "execution_count": null,
      "outputs": []
    },
    {
      "cell_type": "code",
      "metadata": {
        "id": "B-vsUW80l8-t",
        "colab_type": "code",
        "colab": {}
      },
      "source": [
        ""
      ],
      "execution_count": null,
      "outputs": []
    },
    {
      "cell_type": "code",
      "metadata": {
        "id": "JxUekhPVl9Bg",
        "colab_type": "code",
        "colab": {}
      },
      "source": [
        ""
      ],
      "execution_count": null,
      "outputs": []
    },
    {
      "cell_type": "code",
      "metadata": {
        "id": "I2K1sAfIl9Ha",
        "colab_type": "code",
        "colab": {}
      },
      "source": [
        ""
      ],
      "execution_count": null,
      "outputs": []
    },
    {
      "cell_type": "markdown",
      "metadata": {
        "id": "Fk5q2xS3l9hh",
        "colab_type": "text"
      },
      "source": [
        "# Inference"
      ]
    },
    {
      "cell_type": "code",
      "metadata": {
        "id": "V7qA_MNyl-ua",
        "colab_type": "code",
        "colab": {}
      },
      "source": [
        "import os\n",
        "import sys\n",
        "sys.path.append(\"/content/Monk_Object_Detection/6_cornernet_lite/lib/\")\n",
        "#sys.path.append(\"../../6_cornernet_lite/lib/\")"
      ],
      "execution_count": null,
      "outputs": []
    },
    {
      "cell_type": "code",
      "metadata": {
        "id": "tf-0zEaumEgv",
        "colab_type": "code",
        "colab": {}
      },
      "source": [
        "from infer_detector import Infer"
      ],
      "execution_count": null,
      "outputs": []
    },
    {
      "cell_type": "code",
      "metadata": {
        "id": "tUg_ElLYmHdz",
        "colab_type": "code",
        "colab": {}
      },
      "source": [
        "gtf = Infer();"
      ],
      "execution_count": null,
      "outputs": []
    },
    {
      "cell_type": "code",
      "metadata": {
        "id": "nJ8Z8Rj8mImi",
        "colab_type": "code",
        "colab": {}
      },
      "source": [
        "class_list = [\"Car\",\"Pool\"]\n",
        "gtf.Model(class_list, \n",
        "          base=\"CornerNet_Saccade\", \n",
        "          model_path=\"/content/cache/nnet/CornerNet_Saccade/CornerNet_Saccade_intermediate.pkl\")"
      ],
      "execution_count": null,
      "outputs": []
    },
    {
      "cell_type": "code",
      "metadata": {
        "id": "6enFseW7mPxD",
        "colab_type": "code",
        "colab": {
          "base_uri": "https://localhost:8080/",
          "height": 297
        },
        "outputId": "e50b9969-f974-40a8-d7bd-ef4d633c2156"
      },
      "source": [
        "boxes = gtf.Predict(\"/content/training_data/training_data/images/000000045.jpg\", vis_thresh=0.3, output_img=\"output.jpg\")\n",
        "from IPython.display import Image\n",
        "Image(filename='output.jpg')"
      ],
      "execution_count": null,
      "outputs": [
        {
          "output_type": "stream",
          "text": [
            "/usr/local/lib/python3.6/dist-packages/torch/nn/functional.py:2506: UserWarning: Default upsampling behavior when mode=bilinear is changed to align_corners=False since 0.4.0. Please specify align_corners=True if the old behavior is desired. See the documentation of nn.Upsample for details.\n",
            "  \"See the documentation of nn.Upsample for details.\".format(mode))\n"
          ],
          "name": "stderr"
        },
        {
          "output_type": "execute_result",
          "data": {
            "image/jpeg": "[encoded data removed]",
            "text/plain": [
              "<IPython.core.display.Image object>"
            ]
          },
          "metadata": {
            "tags": []
          },
          "execution_count": 20
        }
      ]
    },
    {
      "cell_type": "code",
      "metadata": {
        "id": "5PbUeQucmP_x",
        "colab_type": "code",
        "colab": {
          "base_uri": "https://localhost:8080/",
          "height": 297
        },
        "outputId": "c4660ca2-f0b7-4001-e7d4-51f4fe5a00d6"
      },
      "source": [
        "boxes = gtf.Predict(\"/content/test_data_images/test_data_images/images/000000032.jpg\", vis_thresh=0.3, output_img=\"output.jpg\")\n",
        "from IPython.display import Image\n",
        "Image(filename='output.jpg')"
      ],
      "execution_count": null,
      "outputs": [
        {
          "output_type": "stream",
          "text": [
            "/usr/local/lib/python3.6/dist-packages/torch/nn/functional.py:2506: UserWarning: Default upsampling behavior when mode=bilinear is changed to align_corners=False since 0.4.0. Please specify align_corners=True if the old behavior is desired. See the documentation of nn.Upsample for details.\n",
            "  \"See the documentation of nn.Upsample for details.\".format(mode))\n"
          ],
          "name": "stderr"
        },
        {
          "output_type": "execute_result",
          "data": {
            "image/jpeg": "[encoded data removed]",
            "text/plain": [
              "<IPython.core.display.Image object>"
            ]
          },
          "metadata": {
            "tags": []
          },
          "execution_count": 21
        }
      ]
    },
    {
      "cell_type": "code",
      "metadata": {
        "id": "cwcZVj-hmV8b",
        "colab_type": "code",
        "colab": {
          "base_uri": "https://localhost:8080/",
          "height": 297
        },
        "outputId": "a7f99293-ebfa-47c9-ce38-9b08568c6871"
      },
      "source": [
        "boxes = gtf.Predict(\"/content/test_data_images/test_data_images/images/000000018.jpg\", vis_thresh=0.3, output_img=\"output.jpg\")\n",
        "from IPython.display import Image\n",
        "Image(filename='output.jpg')"
      ],
      "execution_count": null,
      "outputs": [
        {
          "output_type": "stream",
          "text": [
            "/usr/local/lib/python3.6/dist-packages/torch/nn/functional.py:2506: UserWarning: Default upsampling behavior when mode=bilinear is changed to align_corners=False since 0.4.0. Please specify align_corners=True if the old behavior is desired. See the documentation of nn.Upsample for details.\n",
            "  \"See the documentation of nn.Upsample for details.\".format(mode))\n"
          ],
          "name": "stderr"
        },
        {
          "output_type": "execute_result",
          "data": {
            "image/jpeg": "[encoded data removed]",
            "text/plain": [
              "<IPython.core.display.Image object>"
            ]
          },
          "metadata": {
            "tags": []
          },
          "execution_count": 22
        }
      ]
    },
    {
      "cell_type": "code",
      "metadata": {
        "id": "5m99PqqI_8tk",
        "colab_type": "code",
        "colab": {}
      },
      "source": [
        ""
      ],
      "execution_count": null,
      "outputs": []
    }
  ]
}