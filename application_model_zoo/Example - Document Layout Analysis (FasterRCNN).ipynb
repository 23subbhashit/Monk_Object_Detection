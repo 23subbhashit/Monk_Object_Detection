{
 "cells": [
  {
   "cell_type": "markdown",
   "metadata": {},
   "source": [
    "<a href=\"https://colab.research.google.com/github/Tessellate-Imaging/Monk_Object_Detection/blob/master/application_model_zoo/Example%20-%20Document%20Layout%20Analysis%20(FasterRCNN).ipynb\" target=\"_parent\"><img src=\"https://colab.research.google.com/assets/colab-badge.svg\" alt=\"Open In Colab\"/></a>"
   ]
  },
  {
   "cell_type": "code",
   "execution_count": null,
   "metadata": {},
   "outputs": [],
   "source": []
  },
  {
   "cell_type": "code",
   "execution_count": null,
   "metadata": {},
   "outputs": [],
   "source": []
  },
  {
   "cell_type": "markdown",
   "metadata": {},
   "source": [
    "# Document Layout Analysis Using Faster-RCNN"
   ]
  },
  {
   "cell_type": "markdown",
   "metadata": {},
   "source": [
    "## About the network:\n",
    "1. Paper on Faster-RCNN: https://arxiv.org/abs/1506.01497\n",
    "\n",
    "2. Blog-1 on Faster-RCNN: https://towardsdatascience.com/faster-r-cnn-for-object-detection-a-technical-summary-474c5b857b46\n",
    "\n",
    "3. Blog-2 on Faster-RCNN: https://towardsdatascience.com/faster-rcnn-object-detection-f865e5ed7fc4"
   ]
  },
  {
   "cell_type": "code",
   "execution_count": null,
   "metadata": {},
   "outputs": [],
   "source": []
  },
  {
   "cell_type": "code",
   "execution_count": null,
   "metadata": {},
   "outputs": [],
   "source": []
  },
  {
   "cell_type": "markdown",
   "metadata": {},
   "source": [
    "# Table of Contents\n",
    "\n",
    "### 1. Installation Instructions\n",
    "### 2. Use trained Model for Document Layout Analysis\n",
    "### 3. How to train using PRImA Layout Analysis Dataset"
   ]
  },
  {
   "cell_type": "code",
   "execution_count": null,
   "metadata": {},
   "outputs": [],
   "source": []
  },
  {
   "cell_type": "code",
   "execution_count": null,
   "metadata": {},
   "outputs": [],
   "source": []
  },
  {
   "cell_type": "code",
   "execution_count": null,
   "metadata": {},
   "outputs": [],
   "source": []
  },
  {
   "cell_type": "markdown",
   "metadata": {},
   "source": [
    "# Installation\n",
    "\n",
    "- Run these commands\n",
    "\n",
    "    - git clone https://github.com/Tessellate-Imaging/Monk_Object_Detection.git\n",
    "\n",
    "    - cd Monk_Object_Detection/3_mxrcnn/installation\n",
    "\n",
    "- Select the right requirements file and run\n",
    "\n",
    "    - cat requirements_cuda10.1.txt | xargs -n 1 -L 1 pip install"
   ]
  },
  {
   "cell_type": "code",
   "execution_count": null,
   "metadata": {},
   "outputs": [],
   "source": [
    "! git clone https://github.com/Tessellate-Imaging/Monk_Object_Detection.git"
   ]
  },
  {
   "cell_type": "code",
   "execution_count": null,
   "metadata": {},
   "outputs": [],
   "source": [
    "# For colab use the command below\n",
    "#! cd Monk_Object_Detection/3_mxrcnn/installation && cat requirements_colab.txt | xargs -n 1 -L 1 pip install\n",
    "\n",
    "\n",
    "# For Local systems and cloud select the right CUDA version\n",
    "! cd Monk_Object_Detection/3_mxrcnn/installation && cat requirements_cuda10.1.txt | xargs -n 1 -L 1 pip install"
   ]
  },
  {
   "cell_type": "code",
   "execution_count": null,
   "metadata": {},
   "outputs": [],
   "source": []
  },
  {
   "cell_type": "code",
   "execution_count": null,
   "metadata": {},
   "outputs": [],
   "source": []
  },
  {
   "cell_type": "markdown",
   "metadata": {},
   "source": [
    "# Use Already Trained Model for Demo"
   ]
  },
  {
   "cell_type": "code",
   "execution_count": null,
   "metadata": {},
   "outputs": [],
   "source": [
    "import os\n",
    "import sys\n",
    "sys.path.append(\"Monk_Object_Detection/3_mxrcnn/lib/\")\n",
    "sys.path.append(\"Monk_Object_Detection/3_mxrcnn/lib/mx-rcnn\")"
   ]
  },
  {
   "cell_type": "code",
   "execution_count": null,
   "metadata": {},
   "outputs": [],
   "source": [
    "from infer_base import *"
   ]
  },
  {
   "cell_type": "code",
   "execution_count": null,
   "metadata": {},
   "outputs": [],
   "source": []
  },
  {
   "cell_type": "code",
   "execution_count": null,
   "metadata": {},
   "outputs": [],
   "source": [
    "#Download trained model"
   ]
  },
  {
   "cell_type": "code",
   "execution_count": null,
   "metadata": {},
   "outputs": [],
   "source": [
    "! wget --load-cookies /tmp/cookies.txt \"https://docs.google.com/uc?export=download&confirm=$(wget --save-cookies /tmp/cookies.txt --keep-session-cookies --no-check-certificate 'https://docs.google.com/uc?export=download&id=1TZQSBiMDBrGhcT75AknTbofirSFXprt8' -O- | sed -rn 's/.*confirm=([0-9A-Za-z_]+).*/\\1\\n/p')&id=1TZQSBiMDBrGhcT75AknTbofirSFXprt8\" -O obj_dla_faster_rcnn_trained.zip && rm -rf /tmp/cookies.txt"
   ]
  },
  {
   "cell_type": "code",
   "execution_count": null,
   "metadata": {},
   "outputs": [],
   "source": [
    "! unzip -qq obj_dla_faster_rcnn_trained.zip"
   ]
  },
  {
   "cell_type": "code",
   "execution_count": null,
   "metadata": {},
   "outputs": [],
   "source": [
    "class_file = set_class_list(\"dla_fasterRCNN/classes.txt\");"
   ]
  },
  {
   "cell_type": "code",
   "execution_count": null,
   "metadata": {},
   "outputs": [],
   "source": [
    "set_model_params(model_name=\"vgg16\", model_path=\"dla_fasterRCNN/dla_fasterRCNN-vgg16.params\");"
   ]
  },
  {
   "cell_type": "code",
   "execution_count": null,
   "metadata": {},
   "outputs": [],
   "source": [
    "set_hyper_params(gpus=\"0\", batch_size=1);"
   ]
  },
  {
   "cell_type": "code",
   "execution_count": null,
   "metadata": {},
   "outputs": [],
   "source": [
    "set_img_preproc_params(img_short_side=300, img_long_side=500, mean=(196.45086004329943, 199.09071480252155, 197.07683846968297), std=(0.25779948968052024, 0.2550292865960972, 0.2553027154941914));"
   ]
  },
  {
   "cell_type": "code",
   "execution_count": null,
   "metadata": {},
   "outputs": [],
   "source": [
    "initialize_rpn_params();"
   ]
  },
  {
   "cell_type": "code",
   "execution_count": null,
   "metadata": {},
   "outputs": [],
   "source": [
    "initialize_rcnn_params();"
   ]
  },
  {
   "cell_type": "code",
   "execution_count": null,
   "metadata": {},
   "outputs": [],
   "source": [
    "sym = set_network();\n",
    "mod = load_model(sym);"
   ]
  },
  {
   "cell_type": "code",
   "execution_count": null,
   "metadata": {},
   "outputs": [],
   "source": [
    "set_output_params(vis_thresh=0.9, vis=True)\n",
    "Infer(\"Test_Images/test1.jpg\", mod);"
   ]
  },
  {
   "cell_type": "code",
   "execution_count": null,
   "metadata": {},
   "outputs": [],
   "source": [
    "set_output_params(vis_thresh=0.7, vis=True)\n",
    "Infer(\"Test_Images/test2.jpg\", mod);"
   ]
  },
  {
   "cell_type": "code",
   "execution_count": null,
   "metadata": {},
   "outputs": [],
   "source": [
    "set_output_params(vis_thresh=0.5, vis=True)\n",
    "Infer(\"Test_Images/test3.jpg\", mod);"
   ]
  },
  {
   "cell_type": "code",
   "execution_count": null,
   "metadata": {
    "scrolled": true
   },
   "outputs": [],
   "source": []
  },
  {
   "cell_type": "code",
   "execution_count": null,
   "metadata": {},
   "outputs": [],
   "source": []
  },
  {
   "cell_type": "markdown",
   "metadata": {},
   "source": [
    "# Train Your Own Model"
   ]
  },
  {
   "cell_type": "code",
   "execution_count": null,
   "metadata": {},
   "outputs": [],
   "source": []
  },
  {
   "cell_type": "markdown",
   "metadata": {},
   "source": [
    "## Dataset Credits\n",
    "- https://www.primaresearch.org/datasets/Layout_Analysis"
   ]
  },
  {
   "cell_type": "code",
   "execution_count": null,
   "metadata": {},
   "outputs": [],
   "source": [
    "#Download Dataset"
   ]
  },
  {
   "cell_type": "code",
   "execution_count": null,
   "metadata": {},
   "outputs": [],
   "source": [
    "! wget --load-cookies /tmp/cookies.txt \"https://docs.google.com/uc?export=download&confirm=$(wget --quiet --save-cookies /tmp/cookies.txt --keep-session-cookies --no-check-certificate 'https://docs.google.com/uc?export=download&id=1iBfafT1WHAtKAW0a1ifLzvW5f0ytm2i_' -O- | sed -rn 's/.*confirm=([0-9A-Za-z_]+).*/\\1\\n/p')&id=1iBfafT1WHAtKAW0a1ifLzvW5f0ytm2i_\" -O PRImA_Layout_Analysis_Dataset.zip && rm -rf /tmp/cookies.txt"
   ]
  },
  {
   "cell_type": "code",
   "execution_count": null,
   "metadata": {},
   "outputs": [],
   "source": [
    "! unzip -qq PRImA_Layout_Analysis_Dataset.zip"
   ]
  },
  {
   "cell_type": "code",
   "execution_count": null,
   "metadata": {},
   "outputs": [],
   "source": []
  },
  {
   "cell_type": "markdown",
   "metadata": {},
   "source": [
    "# Data Preprocessing"
   ]
  },
  {
   "cell_type": "markdown",
   "metadata": {},
   "source": [
    "### Library for Data Augmentation\n",
    "Refer to https://github.com/albumentations-team/albumentations for more details"
   ]
  },
  {
   "cell_type": "code",
   "execution_count": null,
   "metadata": {},
   "outputs": [],
   "source": [
    "! pip install albumentations"
   ]
  },
  {
   "cell_type": "code",
   "execution_count": null,
   "metadata": {},
   "outputs": [],
   "source": [
    "import os\n",
    "import sys\n",
    "import cv2\n",
    "import numpy as np\n",
    "import pandas as pd\n",
    "from PIL import Image\n",
    "import albumentations as A\n",
    "import glob\n",
    "import matplotlib.pyplot as plt\n",
    "import xmltodict\n",
    "import json\n",
    "from tqdm.notebook import tqdm\n",
    "from pycocotools.coco import COCO"
   ]
  },
  {
   "cell_type": "code",
   "execution_count": null,
   "metadata": {},
   "outputs": [],
   "source": [
    "root_dir = \"PRImA Layout Analysis Dataset/\";\n",
    "img_dir = \"Images/\";\n",
    "anno_dir = \"XML/\";\n",
    "final_root_dir=\"Document_Layout_Analysis/\" #Directory for jpeg and augmented images"
   ]
  },
  {
   "cell_type": "code",
   "execution_count": null,
   "metadata": {},
   "outputs": [],
   "source": [
    "if not os.path.exists(final_root_dir):\n",
    "    os.makedirs(final_root_dir)\n",
    "\n",
    "if not os.path.exists(final_root_dir+img_dir):\n",
    "    os.makedirs(final_root_dir+img_dir)"
   ]
  },
  {
   "cell_type": "markdown",
   "metadata": {},
   "source": [
    "## TIFF Image Format to JPEG Image Format"
   ]
  },
  {
   "cell_type": "code",
   "execution_count": null,
   "metadata": {},
   "outputs": [],
   "source": [
    "for name in glob.glob(root_dir+img_dir+'*.tif'):\n",
    "    im = Image.open(name)\n",
    "    name = str(name).rstrip(\".tif\")\n",
    "    name = str(name).lstrip(root_dir)\n",
    "    name = str(name).lstrip(img_dir)\n",
    "    im.save(final_root_dir+ img_dir+ name + '.jpg', 'JPEG')"
   ]
  },
  {
   "cell_type": "markdown",
   "metadata": {},
   "source": [
    "# Format Conversion and Data Augmentation"
   ]
  },
  {
   "cell_type": "code",
   "execution_count": null,
   "metadata": {},
   "outputs": [],
   "source": []
  },
  {
   "cell_type": "markdown",
   "metadata": {},
   "source": [
    "## Given Format- VOC Format\n",
    "\n",
    "### Dataset Directory Structure\n",
    "\n",
    "    ./PRImA Layout Analysis Dataset/ (root_dir)\n",
    "          |\n",
    "          |-----------Images (img_dir)\n",
    "          |              |\n",
    "          |              |------------------img1.jpg\n",
    "          |              |------------------img2.jpg\n",
    "          |              |------------------.........(and so on)\n",
    "          |\n",
    "          |\n",
    "          |-----------Annotations (anno_dir)\n",
    "          |              |\n",
    "          |              |------------------img1.xml\n",
    "          |              |------------------img2.xml\n",
    "          |              |------------------.........(and so on)\n",
    "          \n"
   ]
  },
  {
   "cell_type": "code",
   "execution_count": null,
   "metadata": {},
   "outputs": [],
   "source": []
  },
  {
   "cell_type": "markdown",
   "metadata": {},
   "source": [
    "## Intermediatory Format- Monk Format\n",
    "\n",
    "### Dataset Directory Structure\n",
    "\n",
    "    ./Document_Layout_Analysis/ (final_root_dir)\n",
    "          |\n",
    "          |-----------Images (img_dir)\n",
    "          |              |\n",
    "          |              |------------------img1.jpg\n",
    "          |              |------------------img2.jpg\n",
    "          |              |------------------.........(and so on)\n",
    "          |\n",
    "          |\n",
    "          |-----------train_labels.csv (anno_file)\n",
    "          \n",
    "          \n",
    "### Annotation file format\n",
    "\n",
    "           | Id         | Labels                                 |\n",
    "           | img1.jpg   | x1 y1 x2 y2 label1 x1 y1 x2 y2 label2  |\n",
    "           \n",
    "- Labels:  xmin ymin xmax ymax label\n",
    "- xmin, ymin - top left corner of bounding box\n",
    "- xmax, ymax - bottom right corner of bounding box"
   ]
  },
  {
   "cell_type": "code",
   "execution_count": null,
   "metadata": {},
   "outputs": [],
   "source": []
  },
  {
   "cell_type": "markdown",
   "metadata": {},
   "source": [
    "## Required Format- COCO Format\n",
    "\n",
    "### Dataset Directory Structure\n",
    "\n",
    "    ./ (root_dir)\n",
    "          |\n",
    "          |------Document_Layout_Analysis (coco_dir) \n",
    "          |         |\n",
    "          |         |---Images (img_dir)\n",
    "          |         |----|\n",
    "          |              |-------------------img1.jpg\n",
    "          |              |-------------------img2.jpg\n",
    "          |              |-------------------.........(and so on)\n",
    "          |\n",
    "          |\n",
    "          |         |---annotations (anno_dir)\n",
    "          |         |----|\n",
    "          |              |--------------------instances_Images.json \n",
    "          |              |--------------------classes.txt\n",
    "          \n",
    "          \n",
    " - instances_Train.json -> In proper COCO format\n",
    " - classes.txt          -> A list of classes in alphabetical order"
   ]
  },
  {
   "cell_type": "code",
   "execution_count": null,
   "metadata": {},
   "outputs": [],
   "source": []
  },
  {
   "cell_type": "code",
   "execution_count": null,
   "metadata": {},
   "outputs": [],
   "source": [
    "files = os.listdir(root_dir + anno_dir);"
   ]
  },
  {
   "cell_type": "code",
   "execution_count": null,
   "metadata": {},
   "outputs": [],
   "source": [
    "combined = [];"
   ]
  },
  {
   "cell_type": "markdown",
   "metadata": {},
   "source": [
    "### Data Augmentation Function"
   ]
  },
  {
   "cell_type": "code",
   "execution_count": null,
   "metadata": {},
   "outputs": [],
   "source": [
    "def augmentData(fname, boxes):\n",
    "    image = cv2.imread(final_root_dir+img_dir+fname)\n",
    "    image = cv2.cvtColor(image, cv2.COLOR_BGR2RGB)\n",
    " \n",
    "    transform = A.Compose([\n",
    "        A.IAAPerspective(p=0.7),   \n",
    "        A.ShiftScaleRotate(shift_limit=0.1, scale_limit=0.1, rotate_limit=5, p=0.5),\n",
    "        A.IAAAdditiveGaussianNoise(),\n",
    "        A.ChannelShuffle(),\n",
    "        A.RandomBrightnessContrast(),\n",
    "        A.RGBShift(p=0.8),\n",
    "        A.HueSaturationValue(p=0.8)\n",
    "        ], bbox_params=A.BboxParams(format='pascal_voc', min_visibility=0.2))\n",
    "    \n",
    "    for i in range(1, 9):\n",
    "        label=\"\"\n",
    "        transformed = transform(image=image, bboxes=boxes)\n",
    "        transformed_image = transformed['image']\n",
    "        transformed_bboxes = transformed['bboxes']\n",
    "        #print(transformed_bboxes)\n",
    "        flag=False\n",
    "        for box in transformed_bboxes:\n",
    "            x_min, y_min, x_max, y_max, class_name = box\n",
    "            if(xmax<=xmin or ymax<=ymin):\n",
    "                flag=True\n",
    "                break\n",
    "            label+= str(int(x_min))+' '+str(int(y_min))+' '+str(int(x_max))+' '+str(int(y_max))+' '+class_name+' '\n",
    "                        \n",
    "        if(flag):\n",
    "            continue\n",
    "        cv2.imwrite(final_root_dir+img_dir+str(i)+fname, transformed_image)\n",
    "        label=label[:-1]\n",
    "        combined.append([str(i) + fname, label])\n"
   ]
  },
  {
   "cell_type": "code",
   "execution_count": null,
   "metadata": {},
   "outputs": [],
   "source": []
  },
  {
   "cell_type": "markdown",
   "metadata": {},
   "source": [
    "## VOC to Monk Format Conversion\n",
    "Applying Data Augmentation only on those images which contain atleast 1 minority class so as to reduce bias in the dataset"
   ]
  },
  {
   "cell_type": "code",
   "execution_count": null,
   "metadata": {
    "scrolled": true
   },
   "outputs": [],
   "source": [
    "#label generation for csv\n",
    "for i in tqdm(range(len(files))):\n",
    "    box=[];\n",
    "    augment=False;\n",
    "    annoFile = root_dir + anno_dir + files[i];\n",
    "    f = open(annoFile, 'r');\n",
    "    my_xml = f.read();\n",
    "    anno= dict(dict(dict(xmltodict.parse(my_xml))['PcGts'])['Page'])\n",
    "    fname=\"\"\n",
    "    for j in range(len(files[i])):\n",
    "        if((files[i][j])>='0' and files[i][j]<='9'):\n",
    "            fname+=files[i][j];\n",
    "    fname+=\".jpg\"\n",
    "    image = cv2.imread(final_root_dir+img_dir+fname)\n",
    "    height, width = image.shape[:2]    \n",
    "    label_str = \"\"\n",
    "    for key in anno.keys():\n",
    "        if(key=='@imageFilename' or key=='@imageWidth' or key=='@imageHeight'):\n",
    "            continue\n",
    "        if(key==\"TextRegion\"):\n",
    "            if(type(anno[\"TextRegion\"]) == list):\n",
    "                for j in range(len(anno[\"TextRegion\"])):\n",
    "                    text=anno[\"TextRegion\"][j]\n",
    "                    xmin=width\n",
    "                    ymin=height\n",
    "                    xmax=0\n",
    "                    ymax=0\n",
    "                    if(text[\"Coords\"]):\n",
    "                        if(text[\"Coords\"][\"Point\"]):\n",
    "                            for k in range(len(text[\"Coords\"][\"Point\"])):\n",
    "                                coordinates=anno[\"TextRegion\"][j][\"Coords\"][\"Point\"][k]\n",
    "                                xmin= min(xmin, int(coordinates['@x']));\n",
    "                                ymin= min(ymin, int(coordinates['@y']));\n",
    "                                xmax= min(max(xmax, int(coordinates['@x'])), width);\n",
    "                                ymax= min(max(ymax, int(coordinates['@y'])), height);\n",
    "                            if('@type' in text.keys()):    \n",
    "                                label_str+= str(xmin)+' '+str(ymin)+' '+str(xmax)+' '+str(ymax)+' '+text['@type']+' '\n",
    "                                if(xmax<=xmin or ymax<=ymin):\n",
    "                                    continue\n",
    "                                tbox=[];\n",
    "                                tbox.append(xmin)\n",
    "                                tbox.append(ymin)\n",
    "                                tbox.append(xmax)\n",
    "                                tbox.append(ymax)\n",
    "                                tbox.append(text['@type'])\n",
    "                                box.append(tbox)\n",
    "            else:\n",
    "                text=anno[\"TextRegion\"]\n",
    "                xmin=width\n",
    "                ymin=height\n",
    "                xmax=0\n",
    "                ymax=0\n",
    "                if(text[\"Coords\"]):\n",
    "                    if(text[\"Coords\"][\"Point\"]):\n",
    "                        for k in range(len(text[\"Coords\"][\"Point\"])):\n",
    "                            coordinates=anno[\"TextRegion\"][\"Coords\"][\"Point\"][k]\n",
    "                            xmin= min(xmin, int(coordinates['@x']));\n",
    "                            ymin= min(ymin, int(coordinates['@y']));\n",
    "                            xmax= min(max(xmax, int(coordinates['@x'])), width);\n",
    "                            ymax= min(max(ymax, int(coordinates['@y'])), height);\n",
    "                        if('@type' in text.keys()):    \n",
    "                            label_str+= str(xmin)+' '+str(ymin)+' '+str(xmax)+' '+str(ymax)+' '+text['@type']+' '\n",
    "                            if(xmax<=xmin or ymax<=ymin):\n",
    "                                continue\n",
    "                            tbox=[];\n",
    "                            tbox.append(xmin)\n",
    "                            tbox.append(ymin)\n",
    "                            tbox.append(xmax)\n",
    "                            tbox.append(ymax)\n",
    "                            tbox.append(text['@type'])\n",
    "                            box.append(tbox)\n",
    "        \n",
    "        else:\n",
    "            val=\"\"\n",
    "            if(key=='GraphicRegion'):\n",
    "                val=\"graphics\"\n",
    "                augment=True\n",
    "            elif(key=='ImageRegion'):\n",
    "                val=\"image\"\n",
    "            elif(key=='NoiseRegion'):\n",
    "                val=\"noise\"\n",
    "                augment=True\n",
    "            elif(key=='ChartRegion'):\n",
    "                val=\"chart\"\n",
    "                augment=True\n",
    "            elif(key=='TableRegion'):\n",
    "                val=\"table\"\n",
    "                augment=True\n",
    "            elif(key=='SeparatorRegion'):\n",
    "                val=\"separator\"\n",
    "            elif(key=='MathsRegion'):\n",
    "                val=\"maths\"\n",
    "                augment=True\n",
    "            elif(key=='LineDrawingRegion'):\n",
    "                val=\"linedrawing\"\n",
    "                augment=True\n",
    "            else:\n",
    "                val=\"frame\"\n",
    "                augment=True\n",
    "\n",
    "            \n",
    "            if(type(anno[key]) == list):\n",
    "                for j in range(len(anno[key])):\n",
    "                    text=anno[key][j]\n",
    "                    xmin=width\n",
    "                    ymin=height\n",
    "                    xmax=0\n",
    "                    ymax=0\n",
    "                    if(text[\"Coords\"]):\n",
    "                        if(text[\"Coords\"][\"Point\"]):\n",
    "                            for k in range(len(text[\"Coords\"][\"Point\"])):\n",
    "                                coordinates=anno[key][j][\"Coords\"][\"Point\"][k]\n",
    "                                xmin= min(xmin, int(coordinates['@x']));\n",
    "                                ymin= min(ymin, int(coordinates['@y']));\n",
    "                                xmax= min(max(xmax, int(coordinates['@x'])), width);\n",
    "                                ymax= min(max(ymax, int(coordinates['@y'])), height);\n",
    "                        label_str+= str(xmin)+' '+str(ymin)+' '+str(xmax)+' '+str(ymax)+' '+ val +' '\n",
    "                        if(xmax<=xmin or ymax<=ymin):\n",
    "                            continue\n",
    "                        tbox=[];\n",
    "                        tbox.append(xmin)\n",
    "                        tbox.append(ymin)\n",
    "                        tbox.append(xmax)\n",
    "                        tbox.append(ymax)\n",
    "                        tbox.append(val)\n",
    "                        box.append(tbox)\n",
    "            else:\n",
    "                text=anno[key]\n",
    "                xmin=width\n",
    "                ymin=height\n",
    "                xmax=0\n",
    "                ymax=0\n",
    "                if(text[\"Coords\"]):\n",
    "                    if(text[\"Coords\"][\"Point\"]):\n",
    "                        for k in range(len(text[\"Coords\"][\"Point\"])):\n",
    "                            coordinates=anno[key][\"Coords\"][\"Point\"][k]\n",
    "                            xmin= min(xmin, int(coordinates['@x']));\n",
    "                            ymin= min(ymin, int(coordinates['@y']));\n",
    "                            xmax= min(max(xmax, int(coordinates['@x'])), width);\n",
    "                            ymax= min(max(ymax, int(coordinates['@y'])), height);  \n",
    "                        label_str+= str(xmin)+' '+str(ymin)+' '+str(xmax)+' '+str(ymax)+' '+val+' '\n",
    "                        if(xmax<=xmin or ymax<=ymin):\n",
    "                            continue\n",
    "                        tbox=[];\n",
    "                        tbox.append(xmin)\n",
    "                        tbox.append(ymin)\n",
    "                        tbox.append(xmax)\n",
    "                        tbox.append(ymax)\n",
    "                        tbox.append(val)\n",
    "                        box.append(tbox)\n",
    "\n",
    "    label_str=label_str[:-1]\n",
    "    combined.append([fname, label_str])\n",
    "\n",
    "    if(augment):\n",
    "        augmentData(fname, box)\n",
    "        "
   ]
  },
  {
   "cell_type": "code",
   "execution_count": null,
   "metadata": {},
   "outputs": [],
   "source": [
    "df = pd.DataFrame(combined, columns = ['ID', 'Label']);\n",
    "df.to_csv(final_root_dir + \"/train_labels.csv\", index=False);"
   ]
  },
  {
   "cell_type": "code",
   "execution_count": null,
   "metadata": {},
   "outputs": [],
   "source": []
  },
  {
   "cell_type": "markdown",
   "metadata": {},
   "source": [
    "## Monk to COCO Format"
   ]
  },
  {
   "cell_type": "code",
   "execution_count": null,
   "metadata": {},
   "outputs": [],
   "source": [
    "import os\n",
    "import numpy as np \n",
    "import cv2\n",
    "import dicttoxml\n",
    "import xml.etree.ElementTree as ET\n",
    "from xml.dom.minidom import parseString\n",
    "from tqdm import tqdm\n",
    "import shutil\n",
    "import json\n",
    "import pandas as pd"
   ]
  },
  {
   "cell_type": "code",
   "execution_count": null,
   "metadata": {},
   "outputs": [],
   "source": [
    "root = \"Document_Layout_Analysis\";\n",
    "img_dir = \"Images/\";\n",
    "anno_file = \"train_labels.csv\";"
   ]
  },
  {
   "cell_type": "code",
   "execution_count": null,
   "metadata": {},
   "outputs": [],
   "source": [
    "dataset_path = root;\n",
    "images_folder = root + \"/\" + img_dir;\n",
    "annotations_path = root + \"/annotations/\";"
   ]
  },
  {
   "cell_type": "code",
   "execution_count": null,
   "metadata": {},
   "outputs": [],
   "source": [
    "if not os.path.isdir(annotations_path):\n",
    "    os.mkdir(annotations_path)\n",
    "    \n",
    "input_images_folder = images_folder;\n",
    "input_annotations_path = root + \"/\" + anno_file;"
   ]
  },
  {
   "cell_type": "code",
   "execution_count": null,
   "metadata": {},
   "outputs": [],
   "source": [
    "output_dataset_path = root;\n",
    "output_image_folder = input_images_folder;\n",
    "output_annotation_folder = annotations_path;\n",
    "\n",
    "tmp = img_dir.replace(\"/\", \"\");\n",
    "output_annotation_file = output_annotation_folder + \"/instances_\" + tmp + \".json\";\n",
    "output_classes_file = output_annotation_folder + \"/classes.txt\";"
   ]
  },
  {
   "cell_type": "code",
   "execution_count": null,
   "metadata": {},
   "outputs": [],
   "source": [
    "if not os.path.isdir(output_annotation_folder):\n",
    "    os.mkdir(output_annotation_folder);"
   ]
  },
  {
   "cell_type": "code",
   "execution_count": null,
   "metadata": {},
   "outputs": [],
   "source": [
    "df = pd.read_csv(input_annotations_path);\n",
    "columns = df.columns\n",
    "delimiter = \" \";"
   ]
  },
  {
   "cell_type": "code",
   "execution_count": null,
   "metadata": {},
   "outputs": [],
   "source": [
    "list_dict = [];\n",
    "anno = [];\n",
    "for i in range(len(df)):\n",
    "    img_name = df[columns[0]][i];\n",
    "    labels = df[columns[1]][i];\n",
    "    tmp = labels.split(delimiter);\n",
    "    for j in range(len(tmp)//5):\n",
    "        label = tmp[j*5+4];\n",
    "        if(label not in anno):\n",
    "            anno.append(label);\n",
    "    anno = sorted(anno)\n",
    "    \n",
    "for i in tqdm(range(len(anno))):\n",
    "    tmp = {};\n",
    "    tmp[\"supercategory\"] = \"master\";\n",
    "    tmp[\"id\"] = i;\n",
    "    tmp[\"name\"] = anno[i];\n",
    "    list_dict.append(tmp);\n",
    "\n",
    "anno_f = open(output_classes_file, 'w');\n",
    "for i in range(len(anno)):\n",
    "    anno_f.write(anno[i] + \"\\n\");\n",
    "anno_f.close();"
   ]
  },
  {
   "cell_type": "code",
   "execution_count": null,
   "metadata": {},
   "outputs": [],
   "source": [
    "coco_data = {};\n",
    "coco_data[\"type\"] = \"instances\";\n",
    "coco_data[\"images\"] = [];\n",
    "coco_data[\"annotations\"] = [];\n",
    "coco_data[\"categories\"] = list_dict;\n",
    "image_id = 0;\n",
    "annotation_id = 0;\n",
    "\n",
    "\n",
    "for i in tqdm(range(len(df))):\n",
    "    img_name = df[columns[0]][i];\n",
    "    labels = df[columns[1]][i];\n",
    "    tmp = labels.split(delimiter);\n",
    "    image_in_path = input_images_folder + \"/\" + img_name;\n",
    "    img = cv2.imread(image_in_path, 1);\n",
    "    h, w, c = img.shape;\n",
    "\n",
    "    images_tmp = {};\n",
    "    images_tmp[\"file_name\"] = img_name;\n",
    "    images_tmp[\"height\"] = h;\n",
    "    images_tmp[\"width\"] = w;\n",
    "    images_tmp[\"id\"] = image_id;\n",
    "    coco_data[\"images\"].append(images_tmp);\n",
    "    \n",
    "\n",
    "    for j in range(len(tmp)//5):\n",
    "        x1 = int(tmp[j*5+0]);\n",
    "        y1 = int(tmp[j*5+1]);\n",
    "        x2 = int(tmp[j*5+2]);\n",
    "        y2 = int(tmp[j*5+3]);\n",
    "        label = tmp[j*5+4];\n",
    "        annotations_tmp = {};\n",
    "        annotations_tmp[\"id\"] = annotation_id;\n",
    "        annotation_id += 1;\n",
    "        annotations_tmp[\"image_id\"] = image_id;\n",
    "        annotations_tmp[\"segmentation\"] = [];\n",
    "        annotations_tmp[\"ignore\"] = 0;\n",
    "        annotations_tmp[\"area\"] = (x2-x1)*(y2-y1);\n",
    "        annotations_tmp[\"iscrowd\"] = 0;\n",
    "        annotations_tmp[\"bbox\"] = [x1, y1, x2-x1, y2-y1];\n",
    "        annotations_tmp[\"category_id\"] = anno.index(label);\n",
    "\n",
    "        coco_data[\"annotations\"].append(annotations_tmp)\n",
    "    image_id += 1;\n",
    "\n",
    "outfile =  open(output_annotation_file, 'w');\n",
    "json_str = json.dumps(coco_data, indent=4);\n",
    "outfile.write(json_str);\n",
    "outfile.close();"
   ]
  },
  {
   "cell_type": "code",
   "execution_count": null,
   "metadata": {},
   "outputs": [],
   "source": []
  },
  {
   "cell_type": "markdown",
   "metadata": {},
   "source": [
    "### Function to get mean and standard deviation of dataset"
   ]
  },
  {
   "cell_type": "code",
   "execution_count": null,
   "metadata": {},
   "outputs": [],
   "source": [
    "def normalize():\n",
    "    channel_sum = np.zeros(3)\n",
    "    channel_sum_squared = np.zeros(3)\n",
    "    num_pixels=0\n",
    "    count=0\n",
    "    for file in files:\n",
    "        file_path=final_root_dir+img_dir+file\n",
    "        img=cv2.imread(file_path)\n",
    "        img= img/255.\n",
    "        num_pixels += (img.size/3)\n",
    "        channel_sum += np.sum(img, axis=(0, 1))\n",
    "        channel_sum_squared += np.sum(np.square(img), axis=(0, 1))\n",
    "\n",
    "    mean = channel_sum / num_pixels\n",
    "    std = np.sqrt((channel_sum_squared/num_pixels) - mean**2)\n",
    "    \n",
    "    #bgr to rgb conversion\n",
    "    rgb_mean = list(mean)[::-1]\n",
    "    rgb_std = list(std)[::-1]\n",
    "    return rgb_mean, rgb_std"
   ]
  },
  {
   "cell_type": "code",
   "execution_count": null,
   "metadata": {},
   "outputs": [],
   "source": [
    "img_dir = \"Images/\";\n",
    "final_root_dir=\"Document_Layout_Analysis/\"\n",
    "files = os.listdir(final_root_dir + img_dir);\n",
    "mean, std = normalize()\n",
    "mean=[x*255 for x in mean]\n",
    "print(mean)\n",
    "print(std)"
   ]
  },
  {
   "cell_type": "code",
   "execution_count": null,
   "metadata": {},
   "outputs": [],
   "source": [
    "#[196.45086004329943, 199.09071480252155, 197.07683846968297]\n",
    "#[0.25779948968052024, 0.2550292865960972, 0.2553027154941914]"
   ]
  },
  {
   "cell_type": "code",
   "execution_count": null,
   "metadata": {},
   "outputs": [],
   "source": []
  },
  {
   "cell_type": "markdown",
   "metadata": {},
   "source": [
    "# Training"
   ]
  },
  {
   "cell_type": "code",
   "execution_count": null,
   "metadata": {},
   "outputs": [],
   "source": [
    "import os\n",
    "import sys\n",
    "sys.path.append(\"Monk_Object_Detection/3_mxrcnn/lib/\")\n",
    "sys.path.append(\"Monk_Object_Detection/3_mxrcnn/lib/mx-rcnn\")"
   ]
  },
  {
   "cell_type": "code",
   "execution_count": null,
   "metadata": {},
   "outputs": [],
   "source": [
    "from train_base import *"
   ]
  },
  {
   "cell_type": "code",
   "execution_count": null,
   "metadata": {},
   "outputs": [],
   "source": [
    "# Dataset params\n",
    "root_dir = \"./\";\n",
    "coco_dir = \"Document_Layout_Analysis\";\n",
    "img_dir = \"Images\";"
   ]
  },
  {
   "cell_type": "code",
   "execution_count": null,
   "metadata": {},
   "outputs": [],
   "source": [
    "set_dataset_params(root_dir=root_dir, coco_dir=coco_dir, imageset=img_dir);"
   ]
  },
  {
   "cell_type": "markdown",
   "metadata": {},
   "source": [
    "### Available models\n",
    "    vgg16\n",
    "    resnet50\n",
    "    resnet101"
   ]
  },
  {
   "cell_type": "code",
   "execution_count": null,
   "metadata": {},
   "outputs": [],
   "source": [
    "# Model Type\n",
    "set_model_params(model_name=\"vgg16\");"
   ]
  },
  {
   "cell_type": "code",
   "execution_count": null,
   "metadata": {},
   "outputs": [],
   "source": [
    "#Hyperparameters\n",
    "set_hyper_params(gpus=\"0\", lr=0.003, lr_decay_epoch='20', epochs=30, batch_size=8);"
   ]
  },
  {
   "cell_type": "code",
   "execution_count": null,
   "metadata": {},
   "outputs": [],
   "source": [
    "set_output_params(log_interval=500, save_prefix=\"model_vgg16\");"
   ]
  },
  {
   "cell_type": "code",
   "execution_count": null,
   "metadata": {},
   "outputs": [],
   "source": [
    "#Preprocessing image parameters(mean and std calculated in preprocessing notebook)\n",
    "set_img_preproc_params(img_short_side=300, img_long_side=500, mean=(196.45086004329943, 199.09071480252155, 197.07683846968297), std=(0.25779948968052024, 0.2550292865960972, 0.2553027154941914));"
   ]
  },
  {
   "cell_type": "code",
   "execution_count": null,
   "metadata": {},
   "outputs": [],
   "source": [
    "#Initializing Parameters\n",
    "initialize_rpn_params();\n",
    "initialize_rcnn_params();"
   ]
  },
  {
   "cell_type": "code",
   "execution_count": null,
   "metadata": {},
   "outputs": [],
   "source": [
    "#Removing cache if any"
   ]
  },
  {
   "cell_type": "code",
   "execution_count": null,
   "metadata": {},
   "outputs": [],
   "source": [
    "if os.path.isdir(\"./cache/\"):\n",
    "    os.system(\"rm -r ./cache/\")"
   ]
  },
  {
   "cell_type": "code",
   "execution_count": null,
   "metadata": {},
   "outputs": [],
   "source": [
    "#loading dataset\n",
    "roidb = set_dataset();"
   ]
  },
  {
   "cell_type": "code",
   "execution_count": null,
   "metadata": {},
   "outputs": [],
   "source": [
    "#loading model\n",
    "sym = set_network();"
   ]
  },
  {
   "cell_type": "code",
   "execution_count": null,
   "metadata": {},
   "outputs": [],
   "source": [
    "train(sym, roidb);"
   ]
  },
  {
   "cell_type": "code",
   "execution_count": null,
   "metadata": {},
   "outputs": [],
   "source": []
  },
  {
   "cell_type": "code",
   "execution_count": null,
   "metadata": {},
   "outputs": [],
   "source": []
  },
  {
   "cell_type": "markdown",
   "metadata": {},
   "source": [
    "# Inference"
   ]
  },
  {
   "cell_type": "code",
   "execution_count": null,
   "metadata": {},
   "outputs": [],
   "source": [
    "import os\n",
    "import sys\n",
    "sys.path.append(\"Monk_Object_Detection/3_mxrcnn/lib/\")\n",
    "sys.path.append(\"Monk_Object_Detection/3_mxrcnn/lib/mx-rcnn\")"
   ]
  },
  {
   "cell_type": "code",
   "execution_count": null,
   "metadata": {},
   "outputs": [],
   "source": [
    "from infer_base import *"
   ]
  },
  {
   "cell_type": "code",
   "execution_count": null,
   "metadata": {},
   "outputs": [],
   "source": [
    "class_file = set_class_list(\"./Document_Layout_Analysis/annotations/classes.txt\");"
   ]
  },
  {
   "cell_type": "code",
   "execution_count": null,
   "metadata": {},
   "outputs": [],
   "source": [
    "#Model - Select the model as per number of iterations it has been trained for\n",
    "set_model_params(model_name=\"vgg16\", model_path=\"trained_model/model_vgg16-0030.params\");"
   ]
  },
  {
   "cell_type": "code",
   "execution_count": null,
   "metadata": {},
   "outputs": [],
   "source": [
    "set_hyper_params(gpus=\"0\", batch_size=1);"
   ]
  },
  {
   "cell_type": "code",
   "execution_count": null,
   "metadata": {},
   "outputs": [],
   "source": [
    "set_img_preproc_params(img_short_side=300, img_long_side=500, mean=(196.45086004329943, 199.09071480252155, 197.07683846968297), std=(0.25779948968052024, 0.2550292865960972, 0.2553027154941914));"
   ]
  },
  {
   "cell_type": "code",
   "execution_count": null,
   "metadata": {},
   "outputs": [],
   "source": [
    "initialize_rpn_params();"
   ]
  },
  {
   "cell_type": "code",
   "execution_count": null,
   "metadata": {},
   "outputs": [],
   "source": [
    "initialize_rcnn_params();"
   ]
  },
  {
   "cell_type": "code",
   "execution_count": null,
   "metadata": {},
   "outputs": [],
   "source": [
    "sym = set_network();\n",
    "mod = load_model(sym);"
   ]
  },
  {
   "cell_type": "code",
   "execution_count": null,
   "metadata": {},
   "outputs": [],
   "source": [
    "set_output_params(vis_thresh=0.9, vis=True)\n",
    "Infer(\"PRImA_Layout_Analysis_Dataset/Test_Images/test1.jpg\", mod);"
   ]
  },
  {
   "cell_type": "code",
   "execution_count": null,
   "metadata": {},
   "outputs": [],
   "source": [
    "set_output_params(vis_thresh=0.7, vis=True)\n",
    "Infer(\"PRImA_Layout_Analysis_Dataset/Test_Images/test2.jpg\", mod);"
   ]
  },
  {
   "cell_type": "code",
   "execution_count": null,
   "metadata": {},
   "outputs": [],
   "source": [
    "set_output_params(vis_thresh=0.5, vis=True)\n",
    "Infer(\"PRImA_Layout_Analysis_Dataset/Test_Images/test3.jpg\", mod);"
   ]
  },
  {
   "cell_type": "code",
   "execution_count": null,
   "metadata": {},
   "outputs": [],
   "source": []
  },
  {
   "cell_type": "code",
   "execution_count": null,
   "metadata": {},
   "outputs": [],
   "source": []
  }
 ],
 "metadata": {
  "kernelspec": {
   "display_name": "Python 3",
   "language": "python",
   "name": "python3"
  },
  "language_info": {
   "codemirror_mode": {
    "name": "ipython",
    "version": 3
   },
   "file_extension": ".py",
   "mimetype": "text/x-python",
   "name": "python",
   "nbconvert_exporter": "python",
   "pygments_lexer": "ipython3",
   "version": "3.6.9"
  }
 },
 "nbformat": 4,
 "nbformat_minor": 4
}
