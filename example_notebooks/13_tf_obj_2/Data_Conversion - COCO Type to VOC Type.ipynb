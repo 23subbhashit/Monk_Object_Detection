{
 "cells": [
  {
   "cell_type": "markdown",
   "metadata": {},
   "source": [
    "<a href=\"https://colab.research.google.com/github/Tessellate-Imaging/Monk_Object_Detection/blob/master/example_notebooks/13_tf_obj_2/Data_Conversion%20-%20COCO%20Type%20to%20VOC%20Type.ipynb\" target=\"_parent\"><img src=\"https://colab.research.google.com/assets/colab-badge.svg\" alt=\"Open In Colab\"/></a>"
   ]
  },
  {
   "cell_type": "code",
   "execution_count": null,
   "metadata": {},
   "outputs": [],
   "source": []
  },
  {
   "cell_type": "markdown",
   "metadata": {},
   "source": [
    "# COCO Format\n",
    "\n",
    "## Dataset Directory Structure\n",
    "\n",
    "       parent_dir (root_dir)\n",
    "          |\n",
    "          |-------ship (coco_dir) \n",
    "          |         |\n",
    "          |         |---Images (img_dir)\n",
    "          |         |----|\n",
    "          |              |-------------------img1.jpg\n",
    "          |              |-------------------img2.jpg\n",
    "          |              |-------------------.........(and so on)\n",
    "          |\n",
    "          |\n",
    "          |         |---annotations (anno_dir)\n",
    "          |         |----|\n",
    "          |              |--------------------instances_Train.json \n",
    "          |              |--------------------classes.txt\n",
    "          \n",
    "          \n",
    " - instances_Train.json -> In proper COCO format\n",
    " - classes.txt          -> A list of classes in alphabetical order"
   ]
  },
  {
   "cell_type": "code",
   "execution_count": null,
   "metadata": {},
   "outputs": [],
   "source": []
  },
  {
   "cell_type": "markdown",
   "metadata": {},
   "source": [
    "# VOC Format\n",
    "\n",
    "## Dataset Directory Structure\n",
    "\n",
    "      parent_dir (root_dir)\n",
    "          |\n",
    "          |------kangaroo \n",
    "          |         |\n",
    "          |         |---Images (img_dir)\n",
    "          |         |----|\n",
    "          |              |-------------------img1.jpg\n",
    "          |              |-------------------img2.jpg\n",
    "          |              |-------------------.........(and so on)\n",
    "          |\n",
    "          |\n",
    "          |         |---voc_dir (anno_dir)\n",
    "          |         |----|\n",
    "          |              |--------------------img1.xml \n",
    "          |              |--------------------img2.xml\n",
    "          |              |-------------------.........(and so on)\n",
    "          \n"
   ]
  },
  {
   "cell_type": "code",
   "execution_count": null,
   "metadata": {},
   "outputs": [],
   "source": []
  },
  {
   "cell_type": "code",
   "execution_count": null,
   "metadata": {},
   "outputs": [],
   "source": [
    "! cp -r Monk_Object_Detection/example_notebooks/sample_dataset/ship ."
   ]
  },
  {
   "cell_type": "code",
   "execution_count": null,
   "metadata": {},
   "outputs": [],
   "source": [
    "! pip install pascal-voc-writer"
   ]
  },
  {
   "cell_type": "code",
   "execution_count": null,
   "metadata": {},
   "outputs": [],
   "source": []
  },
  {
   "cell_type": "code",
   "execution_count": 1,
   "metadata": {},
   "outputs": [],
   "source": [
    "root_dir = \"./\";\n",
    "coco_dir = \"ship\";\n",
    "img_dir = \"Images\";\n",
    "anno_dir = \"annotations\";"
   ]
  },
  {
   "cell_type": "code",
   "execution_count": 6,
   "metadata": {},
   "outputs": [],
   "source": [
    "output_dir = \"ship/voc\";"
   ]
  },
  {
   "cell_type": "code",
   "execution_count": 8,
   "metadata": {},
   "outputs": [],
   "source": [
    "import os\n",
    "if not os.path.isdir(output_dir):\n",
    "    os.mkdir(output_dir);"
   ]
  },
  {
   "cell_type": "code",
   "execution_count": 4,
   "metadata": {},
   "outputs": [],
   "source": [
    "anno_file_name = root_dir + \"/\" + coco_dir + \"/\" + anno_dir + \"/instances_\" + img_dir + \".json\";"
   ]
  },
  {
   "cell_type": "code",
   "execution_count": 5,
   "metadata": {},
   "outputs": [],
   "source": [
    "import json\n",
    "with open(anno_file_name) as json_file:\n",
    "    data = json.load(json_file)"
   ]
  },
  {
   "cell_type": "code",
   "execution_count": null,
   "metadata": {},
   "outputs": [],
   "source": [
    "from tqdm import tqdm\n",
    "\n",
    "fnames = [];\n",
    "hs = [];\n",
    "ws = [];\n",
    "labels = [];\n",
    "\n",
    "for i in tqdm(range(len(data[\"images\"]))):\n",
    "    fnames.append(data[\"images\"][i][\"file_name\"]);\n",
    "    hs.append(data[\"images\"][i][\"height\"]);\n",
    "    ws.append(data[\"images\"][i][\"width\"]);\n",
    "    labels.append([]);"
   ]
  },
  {
   "cell_type": "code",
   "execution_count": null,
   "metadata": {},
   "outputs": [],
   "source": [
    "classes = [];\n",
    "for i in tqdm(range(len(data[\"categories\"]))):\n",
    "    classes.append(\"\");\n",
    "\n",
    "for i in tqdm(range(len(data[\"categories\"]))):\n",
    "    classes[data[\"categories\"][i][\"id\"]] = data[\"categories\"][i][\"name\"]"
   ]
  },
  {
   "cell_type": "code",
   "execution_count": null,
   "metadata": {},
   "outputs": [],
   "source": [
    "for i in tqdm(range(len(data[\"annotations\"]))):\n",
    "    bbox = data[\"annotations\"][i][\"bbox\"];\n",
    "    category_id = data[\"annotations\"][i][\"category_id\"];\n",
    "    img_id = data[\"annotations\"][i][\"image_id\"];\n",
    "\n",
    "    x1 = bbox[0];\n",
    "    y1 = bbox[1];\n",
    "    x2 = x1 + bbox[2];\n",
    "    y2 = y1 + bbox[3];\n",
    "    label = classes[int(category_id)]\n",
    "    labels[int(img_id)].append([x1, y1, x2, y2, label])"
   ]
  },
  {
   "cell_type": "code",
   "execution_count": null,
   "metadata": {},
   "outputs": [],
   "source": [
    "from pascal_voc_writer import Writer"
   ]
  },
  {
   "cell_type": "code",
   "execution_count": null,
   "metadata": {},
   "outputs": [],
   "source": [
    "for i in tqdm(range(len(labels))):\n",
    "    img_name = fnames[i];\n",
    "    img = cv2.imread(\"ship/images/Train/\" + img_name)\n",
    "    height = hs[i];\n",
    "    width = ws[i];\n",
    "    writer = Writer(img_name, width, height)\n",
    "    for j in range(len(labels[i])):\n",
    "        x1 = labels[i][j][0]\n",
    "        y1 = labels[i][j][1]\n",
    "        x2 = labels[i][j][2]\n",
    "        y2 = labels[i][j][3]\n",
    "        label = labels[i][j][4]\n",
    "        writer.addObject(label, x1, y1, x2, y2);\n",
    "    \n",
    "    writer.save(output_dir + \"/\" + img_name.split(\".\")[0] + \".xml\")"
   ]
  },
  {
   "cell_type": "code",
   "execution_count": null,
   "metadata": {},
   "outputs": [],
   "source": []
  },
  {
   "cell_type": "code",
   "execution_count": null,
   "metadata": {},
   "outputs": [],
   "source": []
  }
 ],
 "metadata": {
  "kernelspec": {
   "display_name": "Python 3",
   "language": "python",
   "name": "python3"
  },
  "language_info": {
   "codemirror_mode": {
    "name": "ipython",
    "version": 3
   },
   "file_extension": ".py",
   "mimetype": "text/x-python",
   "name": "python",
   "nbconvert_exporter": "python",
   "pygments_lexer": "ipython3",
   "version": "3.6.9"
  }
 },
 "nbformat": 4,
 "nbformat_minor": 4
}
