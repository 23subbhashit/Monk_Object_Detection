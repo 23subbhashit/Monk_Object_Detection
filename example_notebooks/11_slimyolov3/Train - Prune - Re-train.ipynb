{
 "cells": [
  {
   "cell_type": "markdown",
   "metadata": {},
   "source": [
    "<a href=\"https://colab.research.google.com/github/Tessellate-Imaging/Monk_Object_Detection/blob/master/example_notebooks/11_slimyolov3/Train%20-%20Prune%20-%20Re-train.ipynb\" target=\"_parent\"><img src=\"https://colab.research.google.com/assets/colab-badge.svg\" alt=\"Open In Colab\"/></a>"
   ]
  },
  {
   "cell_type": "code",
   "execution_count": null,
   "metadata": {},
   "outputs": [],
   "source": []
  },
  {
   "cell_type": "code",
   "execution_count": null,
   "metadata": {},
   "outputs": [],
   "source": []
  },
  {
   "cell_type": "markdown",
   "metadata": {},
   "source": [
    "## Table of contents\n",
    "\n",
    "### 1. Installation\n",
    "\n",
    "### 2. Training a Base Network\n",
    "  - Training the base network\n",
    "  - Running validation on base network to get accuracy\n",
    "  - Running inference to get network speed on CPU\n",
    "\n",
    "### 3. Pruning the Network + Finetuning\n",
    "  - Pruning the trained base network\n",
    "  - Finetuning the pruned network\n",
    "  - Running validation on pruned network to get accuracy\n",
    "  - Running inference to get network speed on CPU"
   ]
  },
  {
   "cell_type": "code",
   "execution_count": null,
   "metadata": {},
   "outputs": [],
   "source": []
  },
  {
   "cell_type": "code",
   "execution_count": null,
   "metadata": {},
   "outputs": [],
   "source": []
  },
  {
   "cell_type": "code",
   "execution_count": null,
   "metadata": {},
   "outputs": [],
   "source": []
  },
  {
   "cell_type": "markdown",
   "metadata": {},
   "source": [
    "# Installation\n",
    "\n",
    " - Run these commands\n",
    "     \n",
    "     - git clone https://github.com/Tessellate-Imaging/Monk_Object_Detection.git\n",
    "     \n",
    "     - cd Monk_Object_Detection/11_slimyolov3/installation\n",
    "     \n",
    " - Select the right requirements file and run\n",
    " \n",
    "     - cat requirements.txt | xargs -n 1 -L 1 pip install"
   ]
  },
  {
   "cell_type": "code",
   "execution_count": null,
   "metadata": {},
   "outputs": [],
   "source": [
    "! git clone https://github.com/Tessellate-Imaging/Monk_Object_Detection.git"
   ]
  },
  {
   "cell_type": "code",
   "execution_count": null,
   "metadata": {},
   "outputs": [],
   "source": [
    "# For colab use the command below\n",
    "! cd Monk_Object_Detection/7_yolov3/installation && cat requirements_colab.txt | xargs -n 1 -L 1 pip install\n",
    "\n",
    "# For Local systems and cloud select the right CUDA version\n",
    "# ! cd Monk_Object_Detection/7_yolov3/installation && cat requirements.txt | xargs -n 1 -L 1 pip install"
   ]
  },
  {
   "cell_type": "code",
   "execution_count": null,
   "metadata": {},
   "outputs": [],
   "source": []
  },
  {
   "cell_type": "code",
   "execution_count": null,
   "metadata": {},
   "outputs": [],
   "source": []
  },
  {
   "cell_type": "markdown",
   "metadata": {},
   "source": [
    "# About the network\n",
    "\n",
    "1. Paper on Yolov3: https://arxiv.org/abs/1804.02767\n",
    "\n",
    "2. Paper on Yolov3-SPP: https://arxiv.org/abs/1903.08589\n",
    "\n",
    "3. Paper on Slim-YoloV3: https://arxiv.org/abs/1907.11093\n",
    "\n",
    "4. Darknet: https://pjreddie.com/darknet/\n",
    "\n",
    "5. Blog-1 on yolo: https://machinethink.net/blog/object-detection-with-yolo/\n",
    "\n",
    "6. Blog-2 on yolo: https://medium.com/@jonathan_hui/real-time-object-detection-with-yolo-yolov2-28b1b93e2088\n",
    "\n",
    "7. Blog-3 on yolo: https://blog.ekbana.com/training-yolov2-in-a-custom-dataset-6fcf58f65fa2\n",
    "\n",
    "8. Blog-4 on yolo: https://towardsdatascience.com/yolo-v3-object-detection-53fb7d3bfe6b\n",
    "\n",
    "9. Blog-5 on yolo: https://blog.insightdatascience.com/how-to-train-your-own-yolov3-detector-from-scratch-224d10e55de2"
   ]
  },
  {
   "cell_type": "code",
   "execution_count": null,
   "metadata": {},
   "outputs": [],
   "source": []
  },
  {
   "cell_type": "markdown",
   "metadata": {},
   "source": [
    "# Monk Format\n",
    "\n",
    "## Dataset Directory Structure\n",
    "\n",
    "    ../sample_dataset/ship (root)\n",
    "          |\n",
    "          |-----------images/Train (img_dir)\n",
    "          |              |\n",
    "          |              |------------------img1.jpg\n",
    "          |              |------------------img2.jpg\n",
    "          |              |------------------.........(and so on)\n",
    "          |\n",
    "          |\n",
    "          |-----------train_labels.csv (anno_file)\n",
    "          \n",
    "          \n",
    "## Annotation file format\n",
    "\n",
    "           | Id         | Labels                                 |\n",
    "           | img1.jpg   | x1 y1 x2 y2 label1 x1 y1 x2 y2 label2  |\n",
    "           \n",
    "- Labels:  xmin ymin xmax ymax label\n",
    "- xmin, ymin - top left corner of bounding box\n",
    "- xmax, ymax - bottom right corner of bounding box"
   ]
  },
  {
   "cell_type": "code",
   "execution_count": null,
   "metadata": {},
   "outputs": [],
   "source": []
  },
  {
   "cell_type": "markdown",
   "metadata": {},
   "source": [
    "# Required Format - Yolo\n",
    "\n",
    "## Dataset Directory Structure\n",
    "\n",
    "    ../sample_dataset/ship (root)\n",
    "          |\n",
    "          |-----------images/Train (img_dir)\n",
    "          |              |\n",
    "          |              |------------------img1.jpg\n",
    "          |              |------------------img2.jpg\n",
    "          |              |------------------.........(and so on)\n",
    "          |\n",
    "          |-----------labels (label_dir)\n",
    "          |              |\n",
    "          |              |------------------img1.txt\n",
    "          |              |------------------img2.txt\n",
    "          |              |------------------.........(and so on)\n",
    "          |\n",
    "          |------------classes.txt \n",
    "          \n",
    "\n",
    "## Classes file\n",
    " \n",
    "     List of classes in every new line.\n",
    "     The order corresponds to the IDs in annotation files\n",
    "     \n",
    "     Eg.\n",
    "          class1               (------------------------------> if will be 0)\n",
    "          class2               (------------------------------> if will be 1)\n",
    "          class3               (------------------------------> if will be 2)\n",
    "          class4               (------------------------------> if will be 3)\n",
    "          \n",
    "\n",
    "## Annotation file format\n",
    "\n",
    "    CLASS_ID BOX_X_CENTER BOX_Y_CENTER WIDTH BOX_WIDTH BOX_HEIGHT\n",
    "    \n",
    "    (All the coordinates should be normalized)\n",
    "    (X coordinates divided by width of image, Y coordinates divided by height of image)\n",
    "    \n",
    "    Ex. (One line per bounding box of object in image)\n",
    "        class_id x1 y1 w h\n",
    "        class_id x1 y1 w h\n",
    "        ..... (and so on)\n",
    "        "
   ]
  },
  {
   "cell_type": "code",
   "execution_count": null,
   "metadata": {},
   "outputs": [],
   "source": []
  },
  {
   "cell_type": "code",
   "execution_count": null,
   "metadata": {},
   "outputs": [],
   "source": []
  },
  {
   "cell_type": "markdown",
   "metadata": {},
   "source": [
    "# Data Conversion"
   ]
  },
  {
   "cell_type": "code",
   "execution_count": null,
   "metadata": {},
   "outputs": [],
   "source": [
    "import os\n",
    "import sys"
   ]
  },
  {
   "cell_type": "code",
   "execution_count": null,
   "metadata": {},
   "outputs": [],
   "source": [
    "root_dir = \"Monk_Object_Detection/example_notebooks/sample_dataset/ship/\";\n",
    "img_dir = \"images/Train\";\n",
    "anno_file = \"train_labels.csv\";"
   ]
  },
  {
   "cell_type": "code",
   "execution_count": null,
   "metadata": {},
   "outputs": [],
   "source": [
    "labels_dir = \"labels\";\n",
    "classes_file = \"classes.txt\";"
   ]
  },
  {
   "cell_type": "code",
   "execution_count": null,
   "metadata": {},
   "outputs": [],
   "source": [
    "labels_dir_relative = root_dir + \"/\" + labels_dir\n",
    "if(not os.path.isdir(labels_dir_relative)):\n",
    "    os.mkdir(labels_dir_relative);"
   ]
  },
  {
   "cell_type": "code",
   "execution_count": null,
   "metadata": {},
   "outputs": [],
   "source": [
    "import pandas as pd\n",
    "df = pd.read_csv(root_dir + \"/\" + anno_file);\n",
    "len(df)"
   ]
  },
  {
   "cell_type": "code",
   "execution_count": null,
   "metadata": {},
   "outputs": [],
   "source": [
    "columns = df.columns\n",
    "classes = [];\n",
    "for i in range(len(df)):\n",
    "    img_file = df[columns[0]][i];\n",
    "    labels = df[columns[1]][i];\n",
    "    tmp = labels.split(\" \");\n",
    "    for j in range(len(tmp)//5):\n",
    "        label = tmp[j*5 + 4];\n",
    "        if(label not in classes):\n",
    "            classes.append(label);\n",
    "classes = sorted(classes)\n",
    "classes"
   ]
  },
  {
   "cell_type": "code",
   "execution_count": null,
   "metadata": {},
   "outputs": [],
   "source": [
    "f = open(root_dir + \"/\" + classes_file, 'w');\n",
    "for i in range(len(classes)):\n",
    "    f.write(classes[i]);\n",
    "    f.write(\"\\n\");\n",
    "f.close();"
   ]
  },
  {
   "cell_type": "code",
   "execution_count": null,
   "metadata": {},
   "outputs": [],
   "source": [
    "from PIL import Image\n",
    "from tqdm.notebook import tqdm"
   ]
  },
  {
   "cell_type": "code",
   "execution_count": null,
   "metadata": {},
   "outputs": [],
   "source": [
    "for i in tqdm(range(len(df))):\n",
    "    img_file = df[columns[0]][i];\n",
    "    labels = df[columns[1]][i];\n",
    "    tmp = labels.split(\" \");\n",
    "    fname = labels_dir_relative + \"/\" + img_file.split(\".\")[0] + \".txt\";\n",
    "    img = Image.open(root_dir + \"/\" + img_dir + \"/\" + img_file);\n",
    "    width, height = img.size\n",
    "    \n",
    "    f = open(fname, 'w');\n",
    "    for j in range(len(tmp)//5):\n",
    "        x1 = float(tmp[j*5 + 0]);\n",
    "        y1 = float(tmp[j*5 + 1]);\n",
    "        x2 = float(tmp[j*5 + 2]);\n",
    "        y2 = float(tmp[j*5 + 3]);\n",
    "        label = tmp[j*5 + 4];\n",
    "        \n",
    "        x_c = str(((x1 + x2)/2)/width);\n",
    "        y_c = str(((y1 + y2)/2)/height);\n",
    "        w = str((x2 - x1)/width);\n",
    "        h = str((y2 - y1)/height);\n",
    "        index = str(classes.index(label));\n",
    "        \n",
    "        f.write(index + \" \" + x_c + \" \" + y_c + \" \" + w + \" \" + h);\n",
    "        f.write(\"\\n\");\n",
    "    f.close();"
   ]
  },
  {
   "cell_type": "code",
   "execution_count": null,
   "metadata": {},
   "outputs": [],
   "source": []
  },
  {
   "cell_type": "code",
   "execution_count": null,
   "metadata": {},
   "outputs": [],
   "source": []
  },
  {
   "cell_type": "code",
   "execution_count": null,
   "metadata": {},
   "outputs": [],
   "source": []
  },
  {
   "cell_type": "markdown",
   "metadata": {},
   "source": [
    "# Training the base network with sparsity"
   ]
  },
  {
   "cell_type": "code",
   "execution_count": null,
   "metadata": {},
   "outputs": [],
   "source": [
    "import os\n",
    "import sys\n",
    "sys.path.append(\"Monk_Object_Detection/11_slimyolov3/lib/\")"
   ]
  },
  {
   "cell_type": "code",
   "execution_count": null,
   "metadata": {},
   "outputs": [],
   "source": [
    "from train_detector import Detector"
   ]
  },
  {
   "cell_type": "code",
   "execution_count": null,
   "metadata": {},
   "outputs": [],
   "source": [
    "gtf = Detector()"
   ]
  },
  {
   "cell_type": "code",
   "execution_count": null,
   "metadata": {},
   "outputs": [],
   "source": [
    "img_dir = \"Monk_Object_Detection/example_notebooks/sample_dataset/ship/Images/\";\n",
    "label_dir = \"Monk_Object_Detection/example_notebooks/sample_dataset/ship/labels/\";\n",
    "class_list_file = \"Monk_Object_Detection/example_notebooks/sample_dataset/ship/annotations/classes.txt\";\n",
    "gtf.set_train_dataset(img_dir, label_dir, class_list_file, batch_size=2, img_size=608)\n",
    "gtf.set_val_dataset(img_dir, label_dir)"
   ]
  },
  {
   "cell_type": "code",
   "execution_count": null,
   "metadata": {},
   "outputs": [],
   "source": [
    "os.path.isfile(class_list_file)"
   ]
  },
  {
   "cell_type": "markdown",
   "metadata": {},
   "source": [
    "### Hyper-params for evolving params\n",
    "  - Set evolve as True\n",
    "  - Set num_generations (Total epochs = num_generations*epochs)\n",
    "\n",
    "### Optimizers\n",
    "  - \"sgd\"\n",
    "  - \"adam\""
   ]
  },
  {
   "cell_type": "code",
   "execution_count": null,
   "metadata": {},
   "outputs": [],
   "source": [
    "gtf.set_hyperparams(optimizer=\"sgd\", lr=0.0002, multi_scale=False, evolve=False, sparsity=0.0001);"
   ]
  },
  {
   "cell_type": "code",
   "execution_count": null,
   "metadata": {},
   "outputs": [],
   "source": [
    "gtf.Train(num_epochs=2);"
   ]
  },
  {
   "cell_type": "code",
   "execution_count": null,
   "metadata": {},
   "outputs": [],
   "source": []
  },
  {
   "cell_type": "markdown",
   "metadata": {},
   "source": [
    "# Running Validation for base network"
   ]
  },
  {
   "cell_type": "code",
   "execution_count": null,
   "metadata": {},
   "outputs": [],
   "source": [
    "import os\n",
    "import sys\n",
    "from IPython.display import Image\n",
    "sys.path.append(\"Monk_Object_Detection/11_slimyolov3/lib\");"
   ]
  },
  {
   "cell_type": "code",
   "execution_count": null,
   "metadata": {},
   "outputs": [],
   "source": [
    "from infer_detector import Infer"
   ]
  },
  {
   "cell_type": "code",
   "execution_count": null,
   "metadata": {},
   "outputs": [],
   "source": [
    "gtf = Infer();"
   ]
  },
  {
   "cell_type": "code",
   "execution_count": null,
   "metadata": {},
   "outputs": [],
   "source": [
    "f = open(\"Monk_Object_Detection/example_notebooks/sample_dataset/ship/annotations/classes.txt\");\n",
    "class_list = f.readlines();\n",
    "f.close();"
   ]
  },
  {
   "cell_type": "code",
   "execution_count": null,
   "metadata": {},
   "outputs": [],
   "source": [
    "cfg_path = \"yolov3-spp3.cfg\"\n",
    "weights = \"weights/last.pt\";\n",
    "gtf.Model(cfg_path, class_list, weights, use_gpu=True, input_size=416);"
   ]
  },
  {
   "cell_type": "code",
   "execution_count": null,
   "metadata": {},
   "outputs": [],
   "source": [
    "gtf.Validate(img_dir, label_dir, class_list)"
   ]
  },
  {
   "cell_type": "code",
   "execution_count": null,
   "metadata": {},
   "outputs": [],
   "source": []
  },
  {
   "cell_type": "markdown",
   "metadata": {},
   "source": [
    "# Running inference on CPU for base network"
   ]
  },
  {
   "cell_type": "code",
   "execution_count": null,
   "metadata": {},
   "outputs": [],
   "source": [
    "import os\n",
    "import sys\n",
    "from IPython.display import Image\n",
    "sys.path.append(\"Monk_Object_Detection/11_slimyolov3/lib\");"
   ]
  },
  {
   "cell_type": "code",
   "execution_count": null,
   "metadata": {},
   "outputs": [],
   "source": [
    "from infer_detector import Infer"
   ]
  },
  {
   "cell_type": "code",
   "execution_count": null,
   "metadata": {},
   "outputs": [],
   "source": [
    "gtf = Infer();"
   ]
  },
  {
   "cell_type": "code",
   "execution_count": null,
   "metadata": {},
   "outputs": [],
   "source": [
    "f = open(\"Monk_Object_Detection/example_notebooks/sample_dataset/ship/annotations/classes.txt\");\n",
    "class_list = f.readlines();\n",
    "f.close();"
   ]
  },
  {
   "cell_type": "code",
   "execution_count": null,
   "metadata": {},
   "outputs": [],
   "source": [
    "cfg_path = \"yolov3-spp3.cfg\"\n",
    "weights = \"weights/last.pt\";\n",
    "gtf.Model(cfg_path, class_list, weights, use_gpu=False, input_size=416);"
   ]
  },
  {
   "cell_type": "code",
   "execution_count": null,
   "metadata": {},
   "outputs": [],
   "source": [
    "img_path = \"Monk_Object_Detection/example_notebooks/sample_dataset/ship/test/img1.jpg\";\n",
    "gtf.Predict(img_path, conf_thres=0.01, iou_thres=0.5);\n",
    "Image(filename='output/img1.jpg')"
   ]
  },
  {
   "cell_type": "code",
   "execution_count": null,
   "metadata": {},
   "outputs": [],
   "source": []
  },
  {
   "cell_type": "code",
   "execution_count": null,
   "metadata": {},
   "outputs": [],
   "source": []
  },
  {
   "cell_type": "markdown",
   "metadata": {},
   "source": [
    "# Pruning the network and retraining"
   ]
  },
  {
   "cell_type": "code",
   "execution_count": null,
   "metadata": {},
   "outputs": [],
   "source": [
    "import os\n",
    "import sys\n",
    "from IPython.display import Image\n",
    "sys.path.append(\"Monk_Object_Detection/11_slimyolov3/lib\");"
   ]
  },
  {
   "cell_type": "code",
   "execution_count": null,
   "metadata": {},
   "outputs": [],
   "source": [
    "from train_detector import Detector"
   ]
  },
  {
   "cell_type": "code",
   "execution_count": null,
   "metadata": {},
   "outputs": [],
   "source": [
    "gtf = Detector();"
   ]
  },
  {
   "cell_type": "code",
   "execution_count": null,
   "metadata": {},
   "outputs": [],
   "source": [
    "gtf.prune_weights(\"yolov3-spp3.cfg\", \n",
    "                  \"weights/last.pt\",\n",
    "                  \"pruned1.cfg\", \n",
    "                  \"pruned1.pt\", \n",
    "                  img_size=608, \n",
    "                  overall_ratio=0.5, \n",
    "                  per_layer_ratio=0.1);"
   ]
  },
  {
   "cell_type": "code",
   "execution_count": null,
   "metadata": {},
   "outputs": [],
   "source": []
  },
  {
   "cell_type": "code",
   "execution_count": null,
   "metadata": {},
   "outputs": [],
   "source": [
    "img_dir = \"Monk_Object_Detection/example_notebooks/sample_dataset/ship/Images/\";\n",
    "label_dir = \"Monk_Object_Detection/example_notebooks/sample_dataset/ship/labels/\";\n",
    "class_list_file = \"sample_dataset/ship/annotations/classes.txt\";\n",
    "gtf.set_train_dataset(img_dir, label_dir, class_list_file, batch_size=2, img_size=608)\n",
    "gtf.set_val_dataset(img_dir, label_dir)"
   ]
  },
  {
   "cell_type": "code",
   "execution_count": null,
   "metadata": {},
   "outputs": [],
   "source": [
    "gtf.set_hyperparams(optimizer=\"sgd\", lr=0.0002, multi_scale=False, evolve=False); #keep sparsity=0"
   ]
  },
  {
   "cell_type": "code",
   "execution_count": null,
   "metadata": {},
   "outputs": [],
   "source": [
    "gtf.set_finetune_params(\"weights/pruned1.cfg\", \n",
    "                          \"weights/pruned1.pt\");"
   ]
  },
  {
   "cell_type": "code",
   "execution_count": null,
   "metadata": {},
   "outputs": [],
   "source": [
    "gtf.Train(num_epochs=2, finetune=True)"
   ]
  },
  {
   "cell_type": "code",
   "execution_count": null,
   "metadata": {},
   "outputs": [],
   "source": []
  },
  {
   "cell_type": "code",
   "execution_count": null,
   "metadata": {},
   "outputs": [],
   "source": []
  },
  {
   "cell_type": "markdown",
   "metadata": {},
   "source": [
    "# Running inference on pruned network"
   ]
  },
  {
   "cell_type": "code",
   "execution_count": null,
   "metadata": {},
   "outputs": [],
   "source": [
    "import os\n",
    "import sys\n",
    "from IPython.display import Image\n",
    "sys.path.append(\"Monk_Object_Detection/11_slimyolov3/lib\");"
   ]
  },
  {
   "cell_type": "code",
   "execution_count": null,
   "metadata": {},
   "outputs": [],
   "source": [
    "from infer_detector import Infer"
   ]
  },
  {
   "cell_type": "code",
   "execution_count": null,
   "metadata": {},
   "outputs": [],
   "source": [
    "gtf = Infer();"
   ]
  },
  {
   "cell_type": "code",
   "execution_count": null,
   "metadata": {},
   "outputs": [],
   "source": [
    "f = open(\"Monk_Object_Detection/example_notebooks/sample_dataset/ship/annotations/classes.txt\");\n",
    "class_list = f.readlines();\n",
    "f.close();"
   ]
  },
  {
   "cell_type": "code",
   "execution_count": null,
   "metadata": {},
   "outputs": [],
   "source": [
    "cfg_path = \"weights/pruned1.cfg\"\n",
    "weights = \"weights/last.pt\";\n",
    "gtf.Model(cfg_path, class_list, weights, use_gpu=False, input_size=416);"
   ]
  },
  {
   "cell_type": "code",
   "execution_count": null,
   "metadata": {},
   "outputs": [],
   "source": [
    "img_path = \"Monk_Object_Detection/example_notebooks/sample_dataset/ship/test/img1.jpg\";\n",
    "gtf.Predict(img_path, conf_thres=0.01, iou_thres=0.5);\n",
    "Image(filename='output/img1.jpg')"
   ]
  },
  {
   "cell_type": "code",
   "execution_count": null,
   "metadata": {},
   "outputs": [],
   "source": []
  },
  {
   "cell_type": "code",
   "execution_count": null,
   "metadata": {},
   "outputs": [],
   "source": []
  },
  {
   "cell_type": "markdown",
   "metadata": {},
   "source": [
    "# Running Validation for pruned network"
   ]
  },
  {
   "cell_type": "code",
   "execution_count": null,
   "metadata": {},
   "outputs": [],
   "source": [
    "import os\n",
    "import sys\n",
    "from IPython.display import Image\n",
    "sys.path.append(\"Monk_Object_Detection/11_slimyolov3/lib\");"
   ]
  },
  {
   "cell_type": "code",
   "execution_count": null,
   "metadata": {},
   "outputs": [],
   "source": [
    "from infer_detector import Infer"
   ]
  },
  {
   "cell_type": "code",
   "execution_count": null,
   "metadata": {},
   "outputs": [],
   "source": [
    "gtf = Infer();"
   ]
  },
  {
   "cell_type": "code",
   "execution_count": null,
   "metadata": {},
   "outputs": [],
   "source": [
    "f = open(\"Monk_Object_Detection/example_notebooks/sample_dataset/ship/annotations/classes.txt\");\n",
    "class_list = f.readlines();\n",
    "f.close();"
   ]
  },
  {
   "cell_type": "code",
   "execution_count": null,
   "metadata": {},
   "outputs": [],
   "source": [
    "cfg_path = \"weights/pruned1.cfg\"\n",
    "weights = \"weights/last.pt\";\n",
    "gtf.Model(cfg_path, class_list, weights, use_gpu=True, input_size=416);"
   ]
  },
  {
   "cell_type": "code",
   "execution_count": null,
   "metadata": {},
   "outputs": [],
   "source": [
    "cfg_path = \"yolov3-spp3.cfg\"\n",
    "weights = \"weights/last.pt\";\n",
    "gtf.Model(cfg_path, class_list, weights, use_gpu=True, input_size=416);"
   ]
  },
  {
   "cell_type": "code",
   "execution_count": null,
   "metadata": {},
   "outputs": [],
   "source": [
    "gtf.Validate(img_dir, label_dir, class_list)"
   ]
  },
  {
   "cell_type": "code",
   "execution_count": null,
   "metadata": {},
   "outputs": [],
   "source": []
  }
 ],
 "metadata": {
  "kernelspec": {
   "display_name": "Python 3",
   "language": "python",
   "name": "python3"
  },
  "language_info": {
   "codemirror_mode": {
    "name": "ipython",
    "version": 3
   },
   "file_extension": ".py",
   "mimetype": "text/x-python",
   "name": "python",
   "nbconvert_exporter": "python",
   "pygments_lexer": "ipython3",
   "version": "3.6.9"
  }
 },
 "nbformat": 4,
 "nbformat_minor": 4
}
