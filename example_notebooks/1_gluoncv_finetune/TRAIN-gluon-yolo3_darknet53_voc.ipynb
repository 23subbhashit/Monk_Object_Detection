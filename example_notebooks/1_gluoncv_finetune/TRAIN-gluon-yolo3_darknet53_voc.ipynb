{
 "cells": [
  {
   "cell_type": "code",
   "execution_count": null,
   "metadata": {},
   "outputs": [],
   "source": []
  },
  {
   "cell_type": "code",
   "execution_count": null,
   "metadata": {},
   "outputs": [],
   "source": []
  },
  {
   "cell_type": "markdown",
   "metadata": {},
   "source": [
    "# Installation\n",
    "\n",
    " - Run these commands\n",
    "     \n",
    "     - git clone https://github.com/Tessellate-Imaging/Monk_Object_Detection.git\n",
    "     \n",
    "     - cd Monk_Object_Detection/1_gluoncv_finetune/installation\n",
    "     \n",
    " - Select the right requirements file and run\n",
    " \n",
    "     - cat requirements_cuda9.0.txt | xargs -n 1 -L 1 pip install"
   ]
  },
  {
   "cell_type": "code",
   "execution_count": null,
   "metadata": {},
   "outputs": [],
   "source": []
  },
  {
   "cell_type": "code",
   "execution_count": null,
   "metadata": {},
   "outputs": [],
   "source": []
  },
  {
   "cell_type": "markdown",
   "metadata": {},
   "source": [
    "## Dataset Directory Structure\n",
    "\n",
    "    Parent_Directory (root)\n",
    "          |\n",
    "          |-----------Images (img_dir)\n",
    "          |              |\n",
    "          |              |------------------img1.jpg\n",
    "          |              |------------------img2.jpg\n",
    "          |              |------------------.........(and so on)\n",
    "          |\n",
    "          |\n",
    "          |-----------train_labels.csv (anno_file)\n",
    "          \n",
    "          \n",
    "## Annotation file format\n",
    "\n",
    "           | Id         | Labels                                 |\n",
    "           | img1.jpg   | x1 y1 x2 y2 label1 x1 y1 x2 y2 label2  |\n",
    "           \n",
    "- Labels:  xmin ymin xmax ymax label\n",
    "- xmin, ymin - top left corner of bounding box\n",
    "- xmax, ymax - bottom right corner of bounding box"
   ]
  },
  {
   "cell_type": "code",
   "execution_count": null,
   "metadata": {},
   "outputs": [],
   "source": []
  },
  {
   "cell_type": "code",
   "execution_count": null,
   "metadata": {},
   "outputs": [],
   "source": []
  },
  {
   "cell_type": "markdown",
   "metadata": {},
   "source": [
    "# About the Network\n",
    "\n",
    "1. Blog 1 on Yolo Network - https://towardsdatascience.com/yolo-you-only-look-once-real-time-object-detection-explained-492dc9230006\n",
    "\n",
    "2. Blog 2 on Yolo Network - https://hackernoon.com/understanding-yolo-f5a74bbc7967\n",
    "\n",
    "3. Blog 3 on Yolo Network - https://towardsdatascience.com/yolo-v3-object-detection-53fb7d3bfe6b\n",
    "\n",
    "4. Blog 4 on Yolo Network - https://towardsdatascience.com/review-yolov3-you-only-look-once-object-detection-eab75d7a1ba6\n",
    "\n",
    "5. Blog 5 on Yolo Network - https://medium.com/analytics-vidhya/yolo-v3-theory-explained-33100f6d193\n",
    "\n",
    "6. More on Darknet by it's author - https://pjreddie.com/darknet/\n",
    "\n",
    "7. Reference Tutorial - https://gluon.mxnet.io/chapter08_computer-vision/object-detection.html"
   ]
  },
  {
   "cell_type": "code",
   "execution_count": null,
   "metadata": {},
   "outputs": [],
   "source": []
  },
  {
   "cell_type": "code",
   "execution_count": 1,
   "metadata": {},
   "outputs": [],
   "source": [
    "import os\n",
    "import sys\n",
    "sys.path.append(\"../../1_gluoncv_finetune/lib/\");"
   ]
  },
  {
   "cell_type": "code",
   "execution_count": 2,
   "metadata": {},
   "outputs": [],
   "source": [
    "from detector_prototype import Detector"
   ]
  },
  {
   "cell_type": "code",
   "execution_count": 3,
   "metadata": {},
   "outputs": [],
   "source": [
    "gtf = Detector();"
   ]
  },
  {
   "cell_type": "code",
   "execution_count": null,
   "metadata": {},
   "outputs": [],
   "source": []
  },
  {
   "cell_type": "code",
   "execution_count": null,
   "metadata": {},
   "outputs": [],
   "source": []
  },
  {
   "cell_type": "code",
   "execution_count": null,
   "metadata": {},
   "outputs": [],
   "source": []
  },
  {
   "cell_type": "code",
   "execution_count": null,
   "metadata": {},
   "outputs": [],
   "source": []
  },
  {
   "cell_type": "markdown",
   "metadata": {},
   "source": [
    "# Sample Dataset Credits\n",
    "\n",
    "- credits: https://www.tejashwi.io/object-detection-with-fizyr-retinanet/"
   ]
  },
  {
   "cell_type": "code",
   "execution_count": 6,
   "metadata": {},
   "outputs": [],
   "source": [
    "root = \"../sample_dataset/ship/\";                         \n",
    "img_dir = \"Images/\";                                                     \n",
    "anno_file = \"train_labels.csv\";\n",
    "batch_size=2;"
   ]
  },
  {
   "cell_type": "code",
   "execution_count": 7,
   "metadata": {},
   "outputs": [
    {
     "data": {
      "application/vnd.jupyter.widget-view+json": {
       "model_id": "14a6ed133f554b708d1ddab7f020a943",
       "version_major": 2,
       "version_minor": 0
      },
      "text/plain": [
       "HBox(children=(FloatProgress(value=0.0, max=750.0), HTML(value='')))"
      ]
     },
     "metadata": {},
     "output_type": "display_data"
    },
    {
     "name": "stdout",
     "output_type": "stream",
     "text": [
      "\n"
     ]
    },
    {
     "data": {
      "application/vnd.jupyter.widget-view+json": {
       "model_id": "d524e6a09ca143e5bc6c4c4237d7a23c",
       "version_major": 2,
       "version_minor": 0
      },
      "text/plain": [
       "HBox(children=(FloatProgress(value=0.0, max=750.0), HTML(value='')))"
      ]
     },
     "metadata": {},
     "output_type": "display_data"
    },
    {
     "name": "stdout",
     "output_type": "stream",
     "text": [
      "\n"
     ]
    }
   ],
   "source": [
    "gtf.Dataset(root, img_dir, anno_file, batch_size=batch_size);"
   ]
  },
  {
   "cell_type": "code",
   "execution_count": null,
   "metadata": {},
   "outputs": [],
   "source": []
  },
  {
   "cell_type": "code",
   "execution_count": null,
   "metadata": {},
   "outputs": [],
   "source": []
  },
  {
   "cell_type": "code",
   "execution_count": null,
   "metadata": {},
   "outputs": [],
   "source": []
  },
  {
   "cell_type": "code",
   "execution_count": null,
   "metadata": {},
   "outputs": [],
   "source": []
  },
  {
   "cell_type": "code",
   "execution_count": 8,
   "metadata": {},
   "outputs": [],
   "source": [
    "pretrained = True;         \n",
    "gpu=True;\n",
    "model_name = \"yolo3_darknet53_voc\";  "
   ]
  },
  {
   "cell_type": "code",
   "execution_count": 9,
   "metadata": {},
   "outputs": [],
   "source": [
    "gtf.Model(model_name, use_pretrained=pretrained, use_gpu=gpu);"
   ]
  },
  {
   "cell_type": "code",
   "execution_count": null,
   "metadata": {},
   "outputs": [],
   "source": []
  },
  {
   "cell_type": "code",
   "execution_count": null,
   "metadata": {},
   "outputs": [],
   "source": []
  },
  {
   "cell_type": "code",
   "execution_count": 10,
   "metadata": {},
   "outputs": [],
   "source": [
    "gtf.Set_Learning_Rate(0.0001);"
   ]
  },
  {
   "cell_type": "code",
   "execution_count": 11,
   "metadata": {},
   "outputs": [],
   "source": [
    "epochs=10;\n",
    "params_file = \"saved_model.params\";"
   ]
  },
  {
   "cell_type": "code",
   "execution_count": 12,
   "metadata": {},
   "outputs": [
    {
     "name": "stdout",
     "output_type": "stream",
     "text": [
      "[Epoch 0][Batch 0], LR: 1.00E-04, Speed: 0.394 samples/sec, ObjLoss=7296.307, BoxCenterLoss=7.298, BoxScaleLoss=5.302, ClassLoss=8.875\n",
      "[Epoch 0][Batch 20], LR: 1.00E-04, Speed: 4.401 samples/sec, ObjLoss=422.951, BoxCenterLoss=8.226, BoxScaleLoss=4.163, ClassLoss=9.455\n",
      "[Epoch 0][Batch 40], LR: 1.00E-04, Speed: 2.626 samples/sec, ObjLoss=225.282, BoxCenterLoss=7.931, BoxScaleLoss=3.563, ClassLoss=8.644\n",
      "[Epoch 0][Batch 60], LR: 1.00E-04, Speed: 4.890 samples/sec, ObjLoss=156.072, BoxCenterLoss=7.993, BoxScaleLoss=3.318, ClassLoss=8.316\n",
      "[Epoch 0][Batch 80], LR: 1.00E-04, Speed: 3.332 samples/sec, ObjLoss=120.708, BoxCenterLoss=7.645, BoxScaleLoss=3.196, ClassLoss=7.581\n",
      "[Epoch 0][Batch 100], LR: 1.00E-04, Speed: 8.183 samples/sec, ObjLoss=99.478, BoxCenterLoss=7.630, BoxScaleLoss=3.082, ClassLoss=7.210\n",
      "[Epoch 0][Batch 120], LR: 1.00E-04, Speed: 8.346 samples/sec, ObjLoss=84.703, BoxCenterLoss=7.444, BoxScaleLoss=2.942, ClassLoss=6.728\n",
      "[Epoch 0][Batch 140], LR: 1.00E-04, Speed: 7.994 samples/sec, ObjLoss=74.209, BoxCenterLoss=7.381, BoxScaleLoss=2.929, ClassLoss=6.428\n",
      "[Epoch 0][Batch 160], LR: 1.00E-04, Speed: 7.408 samples/sec, ObjLoss=66.047, BoxCenterLoss=7.310, BoxScaleLoss=2.865, ClassLoss=6.030\n",
      "[Epoch 0][Batch 180], LR: 1.00E-04, Speed: 2.511 samples/sec, ObjLoss=59.907, BoxCenterLoss=7.302, BoxScaleLoss=2.843, ClassLoss=5.797\n",
      "[Epoch 0][Batch 200], LR: 1.00E-04, Speed: 7.502 samples/sec, ObjLoss=54.808, BoxCenterLoss=7.278, BoxScaleLoss=2.771, ClassLoss=5.551\n",
      "[Epoch 0][Batch 220], LR: 1.00E-04, Speed: 9.504 samples/sec, ObjLoss=50.603, BoxCenterLoss=7.213, BoxScaleLoss=2.734, ClassLoss=5.324\n",
      "[Epoch 0][Batch 240], LR: 1.00E-04, Speed: 9.260 samples/sec, ObjLoss=47.177, BoxCenterLoss=7.187, BoxScaleLoss=2.718, ClassLoss=5.158\n",
      "[Epoch 0][Batch 260], LR: 1.00E-04, Speed: 3.304 samples/sec, ObjLoss=44.360, BoxCenterLoss=7.172, BoxScaleLoss=2.708, ClassLoss=5.023\n",
      "[Epoch 0][Batch 280], LR: 1.00E-04, Speed: 9.121 samples/sec, ObjLoss=41.746, BoxCenterLoss=7.155, BoxScaleLoss=2.687, ClassLoss=4.831\n",
      "[Epoch 0][Batch 300], LR: 1.00E-04, Speed: 9.594 samples/sec, ObjLoss=39.512, BoxCenterLoss=7.125, BoxScaleLoss=2.689, ClassLoss=4.681\n",
      "[Epoch 0][Batch 320], LR: 1.00E-04, Speed: 5.167 samples/sec, ObjLoss=37.592, BoxCenterLoss=7.133, BoxScaleLoss=2.673, ClassLoss=4.556\n",
      "[Epoch 0][Batch 340], LR: 1.00E-04, Speed: 6.524 samples/sec, ObjLoss=35.979, BoxCenterLoss=7.130, BoxScaleLoss=2.666, ClassLoss=4.473\n",
      "[Epoch 0][Batch 360], LR: 1.00E-04, Speed: 6.709 samples/sec, ObjLoss=34.555, BoxCenterLoss=7.131, BoxScaleLoss=2.650, ClassLoss=4.413\n",
      "[Epoch 1][Batch 0], LR: 1.00E-04, Speed: 6.615 samples/sec, ObjLoss=7.228, BoxCenterLoss=5.289, BoxScaleLoss=1.776, ClassLoss=3.567\n",
      "[Epoch 1][Batch 20], LR: 1.00E-04, Speed: 2.841 samples/sec, ObjLoss=7.972, BoxCenterLoss=6.647, BoxScaleLoss=2.258, ClassLoss=2.698\n",
      "[Epoch 1][Batch 40], LR: 1.00E-04, Speed: 3.105 samples/sec, ObjLoss=8.044, BoxCenterLoss=6.807, BoxScaleLoss=2.186, ClassLoss=3.045\n",
      "[Epoch 1][Batch 60], LR: 1.00E-04, Speed: 2.087 samples/sec, ObjLoss=8.443, BoxCenterLoss=6.915, BoxScaleLoss=2.308, ClassLoss=2.963\n",
      "[Epoch 1][Batch 80], LR: 1.00E-04, Speed: 2.964 samples/sec, ObjLoss=8.538, BoxCenterLoss=7.140, BoxScaleLoss=2.464, ClassLoss=3.041\n",
      "[Epoch 1][Batch 100], LR: 1.00E-04, Speed: 8.128 samples/sec, ObjLoss=8.255, BoxCenterLoss=7.152, BoxScaleLoss=2.464, ClassLoss=2.945\n",
      "[Epoch 1][Batch 120], LR: 1.00E-04, Speed: 4.109 samples/sec, ObjLoss=8.325, BoxCenterLoss=7.157, BoxScaleLoss=2.452, ClassLoss=2.951\n",
      "[Epoch 1][Batch 140], LR: 1.00E-04, Speed: 2.518 samples/sec, ObjLoss=8.289, BoxCenterLoss=7.169, BoxScaleLoss=2.476, ClassLoss=2.954\n",
      "[Epoch 1][Batch 160], LR: 1.00E-04, Speed: 3.067 samples/sec, ObjLoss=8.122, BoxCenterLoss=7.151, BoxScaleLoss=2.460, ClassLoss=2.891\n",
      "[Epoch 1][Batch 180], LR: 1.00E-04, Speed: 9.646 samples/sec, ObjLoss=8.117, BoxCenterLoss=7.122, BoxScaleLoss=2.452, ClassLoss=2.852\n",
      "[Epoch 1][Batch 200], LR: 1.00E-04, Speed: 8.192 samples/sec, ObjLoss=8.100, BoxCenterLoss=7.128, BoxScaleLoss=2.460, ClassLoss=2.797\n",
      "[Epoch 1][Batch 220], LR: 1.00E-04, Speed: 3.895 samples/sec, ObjLoss=8.052, BoxCenterLoss=7.112, BoxScaleLoss=2.460, ClassLoss=2.750\n",
      "[Epoch 1][Batch 240], LR: 1.00E-04, Speed: 3.333 samples/sec, ObjLoss=7.979, BoxCenterLoss=7.124, BoxScaleLoss=2.477, ClassLoss=2.713\n",
      "[Epoch 1][Batch 260], LR: 1.00E-04, Speed: 9.315 samples/sec, ObjLoss=7.931, BoxCenterLoss=7.131, BoxScaleLoss=2.490, ClassLoss=2.664\n",
      "[Epoch 1][Batch 280], LR: 1.00E-04, Speed: 3.228 samples/sec, ObjLoss=7.917, BoxCenterLoss=7.141, BoxScaleLoss=2.473, ClassLoss=2.626\n",
      "[Epoch 1][Batch 300], LR: 1.00E-04, Speed: 4.788 samples/sec, ObjLoss=7.794, BoxCenterLoss=7.057, BoxScaleLoss=2.449, ClassLoss=2.586\n",
      "[Epoch 1][Batch 320], LR: 1.00E-04, Speed: 10.239 samples/sec, ObjLoss=7.790, BoxCenterLoss=7.036, BoxScaleLoss=2.455, ClassLoss=2.574\n",
      "[Epoch 1][Batch 340], LR: 1.00E-04, Speed: 6.483 samples/sec, ObjLoss=7.703, BoxCenterLoss=7.007, BoxScaleLoss=2.437, ClassLoss=2.522\n",
      "[Epoch 1][Batch 360], LR: 1.00E-04, Speed: 3.875 samples/sec, ObjLoss=7.621, BoxCenterLoss=6.985, BoxScaleLoss=2.417, ClassLoss=2.490\n",
      "[Epoch 2][Batch 0], LR: 1.00E-04, Speed: 8.266 samples/sec, ObjLoss=4.558, BoxCenterLoss=3.890, BoxScaleLoss=0.764, ClassLoss=0.877\n",
      "[Epoch 2][Batch 20], LR: 1.00E-04, Speed: 6.213 samples/sec, ObjLoss=6.657, BoxCenterLoss=6.220, BoxScaleLoss=1.844, ClassLoss=2.045\n",
      "[Epoch 2][Batch 40], LR: 1.00E-04, Speed: 3.864 samples/sec, ObjLoss=6.894, BoxCenterLoss=6.732, BoxScaleLoss=2.164, ClassLoss=2.003\n",
      "[Epoch 2][Batch 60], LR: 1.00E-04, Speed: 2.944 samples/sec, ObjLoss=7.139, BoxCenterLoss=6.623, BoxScaleLoss=2.120, ClassLoss=2.012\n",
      "[Epoch 2][Batch 80], LR: 1.00E-04, Speed: 3.918 samples/sec, ObjLoss=7.294, BoxCenterLoss=6.737, BoxScaleLoss=2.194, ClassLoss=2.194\n",
      "[Epoch 2][Batch 100], LR: 1.00E-04, Speed: 3.366 samples/sec, ObjLoss=7.257, BoxCenterLoss=6.806, BoxScaleLoss=2.235, ClassLoss=2.210\n",
      "[Epoch 2][Batch 120], LR: 1.00E-04, Speed: 3.374 samples/sec, ObjLoss=7.402, BoxCenterLoss=6.850, BoxScaleLoss=2.228, ClassLoss=2.249\n",
      "[Epoch 2][Batch 140], LR: 1.00E-04, Speed: 9.451 samples/sec, ObjLoss=7.319, BoxCenterLoss=6.866, BoxScaleLoss=2.225, ClassLoss=2.167\n",
      "[Epoch 2][Batch 160], LR: 1.00E-04, Speed: 3.667 samples/sec, ObjLoss=7.128, BoxCenterLoss=6.837, BoxScaleLoss=2.202, ClassLoss=2.076\n",
      "[Epoch 2][Batch 180], LR: 1.00E-04, Speed: 7.982 samples/sec, ObjLoss=6.982, BoxCenterLoss=6.743, BoxScaleLoss=2.196, ClassLoss=2.053\n",
      "[Epoch 2][Batch 200], LR: 1.00E-04, Speed: 3.201 samples/sec, ObjLoss=6.852, BoxCenterLoss=6.729, BoxScaleLoss=2.198, ClassLoss=2.018\n",
      "[Epoch 2][Batch 220], LR: 1.00E-04, Speed: 2.963 samples/sec, ObjLoss=6.838, BoxCenterLoss=6.683, BoxScaleLoss=2.179, ClassLoss=1.979\n",
      "[Epoch 2][Batch 240], LR: 1.00E-04, Speed: 3.059 samples/sec, ObjLoss=6.883, BoxCenterLoss=6.758, BoxScaleLoss=2.187, ClassLoss=2.029\n",
      "[Epoch 2][Batch 260], LR: 1.00E-04, Speed: 3.586 samples/sec, ObjLoss=6.842, BoxCenterLoss=6.756, BoxScaleLoss=2.172, ClassLoss=2.026\n",
      "[Epoch 2][Batch 280], LR: 1.00E-04, Speed: 7.175 samples/sec, ObjLoss=6.814, BoxCenterLoss=6.781, BoxScaleLoss=2.163, ClassLoss=1.997\n",
      "[Epoch 2][Batch 300], LR: 1.00E-04, Speed: 8.989 samples/sec, ObjLoss=6.803, BoxCenterLoss=6.777, BoxScaleLoss=2.173, ClassLoss=1.978\n",
      "[Epoch 2][Batch 320], LR: 1.00E-04, Speed: 5.952 samples/sec, ObjLoss=6.775, BoxCenterLoss=6.737, BoxScaleLoss=2.181, ClassLoss=1.990\n",
      "[Epoch 2][Batch 340], LR: 1.00E-04, Speed: 4.445 samples/sec, ObjLoss=6.768, BoxCenterLoss=6.736, BoxScaleLoss=2.174, ClassLoss=1.992\n",
      "[Epoch 2][Batch 360], LR: 1.00E-04, Speed: 6.001 samples/sec, ObjLoss=6.701, BoxCenterLoss=6.706, BoxScaleLoss=2.179, ClassLoss=1.969\n",
      "[Epoch 3][Batch 0], LR: 1.00E-04, Speed: 1.553 samples/sec, ObjLoss=5.576, BoxCenterLoss=6.631, BoxScaleLoss=2.507, ClassLoss=2.446\n",
      "[Epoch 3][Batch 20], LR: 1.00E-04, Speed: 2.829 samples/sec, ObjLoss=6.186, BoxCenterLoss=6.581, BoxScaleLoss=1.963, ClassLoss=2.281\n",
      "[Epoch 3][Batch 40], LR: 1.00E-04, Speed: 8.621 samples/sec, ObjLoss=6.179, BoxCenterLoss=7.007, BoxScaleLoss=2.193, ClassLoss=2.116\n",
      "[Epoch 3][Batch 60], LR: 1.00E-04, Speed: 3.992 samples/sec, ObjLoss=6.133, BoxCenterLoss=6.922, BoxScaleLoss=2.122, ClassLoss=2.040\n",
      "[Epoch 3][Batch 80], LR: 1.00E-04, Speed: 3.641 samples/sec, ObjLoss=6.011, BoxCenterLoss=6.550, BoxScaleLoss=2.032, ClassLoss=1.915\n"
     ]
    },
    {
     "name": "stdout",
     "output_type": "stream",
     "text": [
      "[Epoch 3][Batch 100], LR: 1.00E-04, Speed: 4.098 samples/sec, ObjLoss=6.062, BoxCenterLoss=6.610, BoxScaleLoss=2.093, ClassLoss=1.958\n",
      "[Epoch 3][Batch 120], LR: 1.00E-04, Speed: 4.014 samples/sec, ObjLoss=6.110, BoxCenterLoss=6.694, BoxScaleLoss=2.188, ClassLoss=1.903\n",
      "[Epoch 3][Batch 140], LR: 1.00E-04, Speed: 5.761 samples/sec, ObjLoss=6.174, BoxCenterLoss=6.774, BoxScaleLoss=2.208, ClassLoss=1.914\n",
      "[Epoch 3][Batch 160], LR: 1.00E-04, Speed: 2.597 samples/sec, ObjLoss=6.131, BoxCenterLoss=6.717, BoxScaleLoss=2.156, ClassLoss=1.875\n",
      "[Epoch 3][Batch 180], LR: 1.00E-04, Speed: 7.991 samples/sec, ObjLoss=6.020, BoxCenterLoss=6.681, BoxScaleLoss=2.131, ClassLoss=1.892\n",
      "[Epoch 3][Batch 200], LR: 1.00E-04, Speed: 4.499 samples/sec, ObjLoss=6.041, BoxCenterLoss=6.678, BoxScaleLoss=2.128, ClassLoss=1.896\n",
      "[Epoch 3][Batch 220], LR: 1.00E-04, Speed: 3.272 samples/sec, ObjLoss=6.015, BoxCenterLoss=6.660, BoxScaleLoss=2.138, ClassLoss=1.871\n",
      "[Epoch 3][Batch 240], LR: 1.00E-04, Speed: 9.337 samples/sec, ObjLoss=5.942, BoxCenterLoss=6.636, BoxScaleLoss=2.128, ClassLoss=1.841\n",
      "[Epoch 3][Batch 260], LR: 1.00E-04, Speed: 5.606 samples/sec, ObjLoss=5.900, BoxCenterLoss=6.576, BoxScaleLoss=2.111, ClassLoss=1.791\n",
      "[Epoch 3][Batch 280], LR: 1.00E-04, Speed: 6.581 samples/sec, ObjLoss=5.850, BoxCenterLoss=6.565, BoxScaleLoss=2.106, ClassLoss=1.769\n",
      "[Epoch 3][Batch 300], LR: 1.00E-04, Speed: 2.679 samples/sec, ObjLoss=5.867, BoxCenterLoss=6.581, BoxScaleLoss=2.112, ClassLoss=1.782\n",
      "[Epoch 3][Batch 320], LR: 1.00E-04, Speed: 8.643 samples/sec, ObjLoss=5.856, BoxCenterLoss=6.552, BoxScaleLoss=2.094, ClassLoss=1.765\n",
      "[Epoch 3][Batch 340], LR: 1.00E-04, Speed: 7.083 samples/sec, ObjLoss=5.881, BoxCenterLoss=6.589, BoxScaleLoss=2.102, ClassLoss=1.772\n",
      "[Epoch 3][Batch 360], LR: 1.00E-04, Speed: 2.454 samples/sec, ObjLoss=5.860, BoxCenterLoss=6.585, BoxScaleLoss=2.086, ClassLoss=1.784\n",
      "[Epoch 4][Batch 0], LR: 1.00E-04, Speed: 6.968 samples/sec, ObjLoss=4.593, BoxCenterLoss=7.462, BoxScaleLoss=3.004, ClassLoss=0.794\n",
      "[Epoch 4][Batch 20], LR: 1.00E-04, Speed: 5.253 samples/sec, ObjLoss=6.291, BoxCenterLoss=6.129, BoxScaleLoss=2.079, ClassLoss=2.021\n",
      "[Epoch 4][Batch 40], LR: 1.00E-04, Speed: 6.203 samples/sec, ObjLoss=6.384, BoxCenterLoss=6.741, BoxScaleLoss=2.354, ClassLoss=1.872\n",
      "[Epoch 4][Batch 60], LR: 1.00E-04, Speed: 8.105 samples/sec, ObjLoss=6.001, BoxCenterLoss=6.717, BoxScaleLoss=2.234, ClassLoss=1.784\n",
      "[Epoch 4][Batch 80], LR: 1.00E-04, Speed: 3.509 samples/sec, ObjLoss=5.729, BoxCenterLoss=6.608, BoxScaleLoss=2.157, ClassLoss=1.668\n",
      "[Epoch 4][Batch 100], LR: 1.00E-04, Speed: 3.060 samples/sec, ObjLoss=5.554, BoxCenterLoss=6.560, BoxScaleLoss=2.086, ClassLoss=1.664\n",
      "[Epoch 4][Batch 120], LR: 1.00E-04, Speed: 3.662 samples/sec, ObjLoss=5.309, BoxCenterLoss=6.455, BoxScaleLoss=2.031, ClassLoss=1.605\n",
      "[Epoch 4][Batch 140], LR: 1.00E-04, Speed: 2.756 samples/sec, ObjLoss=5.445, BoxCenterLoss=6.509, BoxScaleLoss=2.052, ClassLoss=1.654\n",
      "[Epoch 4][Batch 160], LR: 1.00E-04, Speed: 9.442 samples/sec, ObjLoss=5.602, BoxCenterLoss=6.553, BoxScaleLoss=2.064, ClassLoss=1.731\n",
      "[Epoch 4][Batch 180], LR: 1.00E-04, Speed: 5.719 samples/sec, ObjLoss=5.661, BoxCenterLoss=6.608, BoxScaleLoss=2.058, ClassLoss=1.764\n",
      "[Epoch 4][Batch 200], LR: 1.00E-04, Speed: 7.834 samples/sec, ObjLoss=5.663, BoxCenterLoss=6.580, BoxScaleLoss=2.075, ClassLoss=1.731\n",
      "[Epoch 4][Batch 220], LR: 1.00E-04, Speed: 3.198 samples/sec, ObjLoss=5.643, BoxCenterLoss=6.597, BoxScaleLoss=2.057, ClassLoss=1.757\n",
      "[Epoch 4][Batch 240], LR: 1.00E-04, Speed: 2.721 samples/sec, ObjLoss=5.578, BoxCenterLoss=6.560, BoxScaleLoss=2.042, ClassLoss=1.698\n",
      "[Epoch 4][Batch 260], LR: 1.00E-04, Speed: 5.415 samples/sec, ObjLoss=5.591, BoxCenterLoss=6.550, BoxScaleLoss=2.044, ClassLoss=1.728\n",
      "[Epoch 4][Batch 280], LR: 1.00E-04, Speed: 6.425 samples/sec, ObjLoss=5.577, BoxCenterLoss=6.538, BoxScaleLoss=2.044, ClassLoss=1.706\n",
      "[Epoch 4][Batch 300], LR: 1.00E-04, Speed: 3.285 samples/sec, ObjLoss=5.494, BoxCenterLoss=6.504, BoxScaleLoss=2.060, ClassLoss=1.671\n",
      "[Epoch 4][Batch 320], LR: 1.00E-04, Speed: 8.652 samples/sec, ObjLoss=5.539, BoxCenterLoss=6.536, BoxScaleLoss=2.073, ClassLoss=1.689\n",
      "[Epoch 4][Batch 340], LR: 1.00E-04, Speed: 4.042 samples/sec, ObjLoss=5.525, BoxCenterLoss=6.510, BoxScaleLoss=2.077, ClassLoss=1.670\n",
      "[Epoch 4][Batch 360], LR: 1.00E-04, Speed: 9.325 samples/sec, ObjLoss=5.503, BoxCenterLoss=6.501, BoxScaleLoss=2.074, ClassLoss=1.646\n",
      "[Epoch 5][Batch 0], LR: 1.00E-04, Speed: 6.090 samples/sec, ObjLoss=2.875, BoxCenterLoss=5.416, BoxScaleLoss=1.316, ClassLoss=0.301\n",
      "[Epoch 5][Batch 20], LR: 1.00E-04, Speed: 7.348 samples/sec, ObjLoss=6.812, BoxCenterLoss=7.167, BoxScaleLoss=2.011, ClassLoss=2.450\n",
      "[Epoch 5][Batch 40], LR: 1.00E-04, Speed: 2.709 samples/sec, ObjLoss=6.082, BoxCenterLoss=6.639, BoxScaleLoss=1.978, ClassLoss=2.176\n",
      "[Epoch 5][Batch 60], LR: 1.00E-04, Speed: 2.461 samples/sec, ObjLoss=5.469, BoxCenterLoss=6.621, BoxScaleLoss=1.895, ClassLoss=1.918\n",
      "[Epoch 5][Batch 80], LR: 1.00E-04, Speed: 8.024 samples/sec, ObjLoss=5.283, BoxCenterLoss=6.394, BoxScaleLoss=1.874, ClassLoss=1.744\n",
      "[Epoch 5][Batch 100], LR: 1.00E-04, Speed: 2.976 samples/sec, ObjLoss=5.357, BoxCenterLoss=6.418, BoxScaleLoss=1.877, ClassLoss=1.764\n",
      "[Epoch 5][Batch 120], LR: 1.00E-04, Speed: 8.023 samples/sec, ObjLoss=5.211, BoxCenterLoss=6.350, BoxScaleLoss=1.891, ClassLoss=1.670\n",
      "[Epoch 5][Batch 140], LR: 1.00E-04, Speed: 5.642 samples/sec, ObjLoss=5.158, BoxCenterLoss=6.292, BoxScaleLoss=1.901, ClassLoss=1.662\n",
      "[Epoch 5][Batch 160], LR: 1.00E-04, Speed: 3.369 samples/sec, ObjLoss=5.019, BoxCenterLoss=6.265, BoxScaleLoss=1.879, ClassLoss=1.579\n",
      "[Epoch 5][Batch 180], LR: 1.00E-04, Speed: 2.569 samples/sec, ObjLoss=4.978, BoxCenterLoss=6.323, BoxScaleLoss=1.882, ClassLoss=1.521\n",
      "[Epoch 5][Batch 200], LR: 1.00E-04, Speed: 6.130 samples/sec, ObjLoss=4.903, BoxCenterLoss=6.363, BoxScaleLoss=1.854, ClassLoss=1.490\n",
      "[Epoch 5][Batch 220], LR: 1.00E-04, Speed: 5.291 samples/sec, ObjLoss=4.936, BoxCenterLoss=6.402, BoxScaleLoss=1.883, ClassLoss=1.489\n",
      "[Epoch 5][Batch 240], LR: 1.00E-04, Speed: 4.714 samples/sec, ObjLoss=5.030, BoxCenterLoss=6.453, BoxScaleLoss=1.905, ClassLoss=1.498\n",
      "[Epoch 5][Batch 260], LR: 1.00E-04, Speed: 6.864 samples/sec, ObjLoss=5.111, BoxCenterLoss=6.430, BoxScaleLoss=1.899, ClassLoss=1.514\n",
      "[Epoch 5][Batch 280], LR: 1.00E-04, Speed: 2.486 samples/sec, ObjLoss=5.165, BoxCenterLoss=6.464, BoxScaleLoss=1.915, ClassLoss=1.532\n",
      "[Epoch 5][Batch 300], LR: 1.00E-04, Speed: 2.746 samples/sec, ObjLoss=5.149, BoxCenterLoss=6.427, BoxScaleLoss=1.916, ClassLoss=1.528\n",
      "[Epoch 5][Batch 320], LR: 1.00E-04, Speed: 1.770 samples/sec, ObjLoss=5.163, BoxCenterLoss=6.464, BoxScaleLoss=1.919, ClassLoss=1.527\n",
      "[Epoch 5][Batch 340], LR: 1.00E-04, Speed: 5.696 samples/sec, ObjLoss=5.160, BoxCenterLoss=6.471, BoxScaleLoss=1.924, ClassLoss=1.498\n",
      "[Epoch 5][Batch 360], LR: 1.00E-04, Speed: 7.082 samples/sec, ObjLoss=5.153, BoxCenterLoss=6.429, BoxScaleLoss=1.909, ClassLoss=1.486\n",
      "[Epoch 6][Batch 0], LR: 1.00E-04, Speed: 6.114 samples/sec, ObjLoss=3.627, BoxCenterLoss=7.628, BoxScaleLoss=1.719, ClassLoss=0.387\n",
      "[Epoch 6][Batch 20], LR: 1.00E-04, Speed: 7.074 samples/sec, ObjLoss=5.029, BoxCenterLoss=6.889, BoxScaleLoss=1.939, ClassLoss=1.203\n",
      "[Epoch 6][Batch 40], LR: 1.00E-04, Speed: 7.598 samples/sec, ObjLoss=4.576, BoxCenterLoss=6.483, BoxScaleLoss=2.022, ClassLoss=1.292\n",
      "[Epoch 6][Batch 60], LR: 1.00E-04, Speed: 4.044 samples/sec, ObjLoss=4.486, BoxCenterLoss=6.457, BoxScaleLoss=1.960, ClassLoss=1.376\n",
      "[Epoch 6][Batch 80], LR: 1.00E-04, Speed: 3.826 samples/sec, ObjLoss=4.921, BoxCenterLoss=6.598, BoxScaleLoss=2.012, ClassLoss=1.395\n",
      "[Epoch 6][Batch 100], LR: 1.00E-04, Speed: 4.159 samples/sec, ObjLoss=4.903, BoxCenterLoss=6.594, BoxScaleLoss=2.017, ClassLoss=1.441\n",
      "[Epoch 6][Batch 120], LR: 1.00E-04, Speed: 7.412 samples/sec, ObjLoss=4.894, BoxCenterLoss=6.543, BoxScaleLoss=1.999, ClassLoss=1.468\n",
      "[Epoch 6][Batch 140], LR: 1.00E-04, Speed: 3.204 samples/sec, ObjLoss=4.757, BoxCenterLoss=6.457, BoxScaleLoss=1.922, ClassLoss=1.435\n",
      "[Epoch 6][Batch 160], LR: 1.00E-04, Speed: 7.760 samples/sec, ObjLoss=4.916, BoxCenterLoss=6.474, BoxScaleLoss=1.897, ClassLoss=1.464\n",
      "[Epoch 6][Batch 180], LR: 1.00E-04, Speed: 4.882 samples/sec, ObjLoss=4.867, BoxCenterLoss=6.482, BoxScaleLoss=1.884, ClassLoss=1.478\n"
     ]
    },
    {
     "name": "stdout",
     "output_type": "stream",
     "text": [
      "[Epoch 6][Batch 200], LR: 1.00E-04, Speed: 3.692 samples/sec, ObjLoss=4.950, BoxCenterLoss=6.471, BoxScaleLoss=1.903, ClassLoss=1.479\n",
      "[Epoch 6][Batch 220], LR: 1.00E-04, Speed: 3.799 samples/sec, ObjLoss=5.059, BoxCenterLoss=6.536, BoxScaleLoss=1.911, ClassLoss=1.523\n",
      "[Epoch 6][Batch 240], LR: 1.00E-04, Speed: 3.722 samples/sec, ObjLoss=4.994, BoxCenterLoss=6.491, BoxScaleLoss=1.905, ClassLoss=1.506\n",
      "[Epoch 6][Batch 260], LR: 1.00E-04, Speed: 7.866 samples/sec, ObjLoss=5.021, BoxCenterLoss=6.465, BoxScaleLoss=1.897, ClassLoss=1.518\n",
      "[Epoch 6][Batch 280], LR: 1.00E-04, Speed: 7.620 samples/sec, ObjLoss=5.007, BoxCenterLoss=6.474, BoxScaleLoss=1.899, ClassLoss=1.503\n",
      "[Epoch 6][Batch 300], LR: 1.00E-04, Speed: 8.752 samples/sec, ObjLoss=5.011, BoxCenterLoss=6.472, BoxScaleLoss=1.904, ClassLoss=1.475\n",
      "[Epoch 6][Batch 320], LR: 1.00E-04, Speed: 7.635 samples/sec, ObjLoss=5.017, BoxCenterLoss=6.490, BoxScaleLoss=1.897, ClassLoss=1.486\n",
      "[Epoch 6][Batch 340], LR: 1.00E-04, Speed: 3.196 samples/sec, ObjLoss=4.966, BoxCenterLoss=6.462, BoxScaleLoss=1.890, ClassLoss=1.462\n",
      "[Epoch 6][Batch 360], LR: 1.00E-04, Speed: 5.449 samples/sec, ObjLoss=4.970, BoxCenterLoss=6.470, BoxScaleLoss=1.892, ClassLoss=1.483\n",
      "[Epoch 7][Batch 0], LR: 1.00E-04, Speed: 5.242 samples/sec, ObjLoss=1.993, BoxCenterLoss=4.537, BoxScaleLoss=2.093, ClassLoss=1.725\n",
      "[Epoch 7][Batch 20], LR: 1.00E-04, Speed: 2.917 samples/sec, ObjLoss=4.704, BoxCenterLoss=6.973, BoxScaleLoss=2.048, ClassLoss=1.473\n",
      "[Epoch 7][Batch 40], LR: 1.00E-04, Speed: 2.206 samples/sec, ObjLoss=4.774, BoxCenterLoss=6.634, BoxScaleLoss=1.857, ClassLoss=1.557\n",
      "[Epoch 7][Batch 60], LR: 1.00E-04, Speed: 8.418 samples/sec, ObjLoss=4.647, BoxCenterLoss=6.375, BoxScaleLoss=1.774, ClassLoss=1.421\n",
      "[Epoch 7][Batch 80], LR: 1.00E-04, Speed: 4.945 samples/sec, ObjLoss=4.817, BoxCenterLoss=6.434, BoxScaleLoss=1.751, ClassLoss=1.412\n",
      "[Epoch 7][Batch 100], LR: 1.00E-04, Speed: 2.464 samples/sec, ObjLoss=4.927, BoxCenterLoss=6.403, BoxScaleLoss=1.774, ClassLoss=1.430\n",
      "[Epoch 7][Batch 120], LR: 1.00E-04, Speed: 2.778 samples/sec, ObjLoss=4.918, BoxCenterLoss=6.435, BoxScaleLoss=1.798, ClassLoss=1.466\n",
      "[Epoch 7][Batch 140], LR: 1.00E-04, Speed: 4.945 samples/sec, ObjLoss=4.899, BoxCenterLoss=6.383, BoxScaleLoss=1.765, ClassLoss=1.436\n",
      "[Epoch 7][Batch 160], LR: 1.00E-04, Speed: 7.050 samples/sec, ObjLoss=4.790, BoxCenterLoss=6.372, BoxScaleLoss=1.750, ClassLoss=1.344\n",
      "[Epoch 7][Batch 180], LR: 1.00E-04, Speed: 2.098 samples/sec, ObjLoss=4.747, BoxCenterLoss=6.352, BoxScaleLoss=1.749, ClassLoss=1.319\n",
      "[Epoch 7][Batch 200], LR: 1.00E-04, Speed: 9.281 samples/sec, ObjLoss=4.695, BoxCenterLoss=6.384, BoxScaleLoss=1.769, ClassLoss=1.310\n",
      "[Epoch 7][Batch 220], LR: 1.00E-04, Speed: 6.168 samples/sec, ObjLoss=4.758, BoxCenterLoss=6.396, BoxScaleLoss=1.794, ClassLoss=1.325\n",
      "[Epoch 7][Batch 240], LR: 1.00E-04, Speed: 9.085 samples/sec, ObjLoss=4.655, BoxCenterLoss=6.350, BoxScaleLoss=1.789, ClassLoss=1.324\n",
      "[Epoch 7][Batch 260], LR: 1.00E-04, Speed: 3.915 samples/sec, ObjLoss=4.624, BoxCenterLoss=6.314, BoxScaleLoss=1.785, ClassLoss=1.308\n",
      "[Epoch 7][Batch 280], LR: 1.00E-04, Speed: 5.502 samples/sec, ObjLoss=4.567, BoxCenterLoss=6.293, BoxScaleLoss=1.773, ClassLoss=1.291\n",
      "[Epoch 7][Batch 300], LR: 1.00E-04, Speed: 8.204 samples/sec, ObjLoss=4.606, BoxCenterLoss=6.287, BoxScaleLoss=1.772, ClassLoss=1.285\n",
      "[Epoch 7][Batch 320], LR: 1.00E-04, Speed: 8.507 samples/sec, ObjLoss=4.668, BoxCenterLoss=6.323, BoxScaleLoss=1.790, ClassLoss=1.319\n",
      "[Epoch 7][Batch 340], LR: 1.00E-04, Speed: 5.544 samples/sec, ObjLoss=4.669, BoxCenterLoss=6.299, BoxScaleLoss=1.795, ClassLoss=1.314\n",
      "[Epoch 7][Batch 360], LR: 1.00E-04, Speed: 2.054 samples/sec, ObjLoss=4.717, BoxCenterLoss=6.313, BoxScaleLoss=1.820, ClassLoss=1.315\n",
      "[Epoch 8][Batch 0], LR: 1.00E-04, Speed: 5.445 samples/sec, ObjLoss=2.368, BoxCenterLoss=3.004, BoxScaleLoss=0.717, ClassLoss=0.994\n",
      "[Epoch 8][Batch 20], LR: 1.00E-04, Speed: 2.956 samples/sec, ObjLoss=4.605, BoxCenterLoss=6.313, BoxScaleLoss=1.730, ClassLoss=1.325\n",
      "[Epoch 8][Batch 40], LR: 1.00E-04, Speed: 7.813 samples/sec, ObjLoss=4.660, BoxCenterLoss=6.142, BoxScaleLoss=1.867, ClassLoss=1.093\n",
      "[Epoch 8][Batch 60], LR: 1.00E-04, Speed: 5.303 samples/sec, ObjLoss=4.685, BoxCenterLoss=6.403, BoxScaleLoss=1.846, ClassLoss=1.257\n",
      "[Epoch 8][Batch 80], LR: 1.00E-04, Speed: 9.112 samples/sec, ObjLoss=4.567, BoxCenterLoss=6.491, BoxScaleLoss=1.762, ClassLoss=1.279\n",
      "[Epoch 8][Batch 100], LR: 1.00E-04, Speed: 6.056 samples/sec, ObjLoss=4.521, BoxCenterLoss=6.357, BoxScaleLoss=1.719, ClassLoss=1.215\n",
      "[Epoch 8][Batch 120], LR: 1.00E-04, Speed: 7.519 samples/sec, ObjLoss=4.448, BoxCenterLoss=6.350, BoxScaleLoss=1.744, ClassLoss=1.272\n",
      "[Epoch 8][Batch 140], LR: 1.00E-04, Speed: 7.722 samples/sec, ObjLoss=4.480, BoxCenterLoss=6.368, BoxScaleLoss=1.748, ClassLoss=1.277\n",
      "[Epoch 8][Batch 160], LR: 1.00E-04, Speed: 8.091 samples/sec, ObjLoss=4.443, BoxCenterLoss=6.311, BoxScaleLoss=1.728, ClassLoss=1.239\n",
      "[Epoch 8][Batch 180], LR: 1.00E-04, Speed: 5.482 samples/sec, ObjLoss=4.448, BoxCenterLoss=6.293, BoxScaleLoss=1.728, ClassLoss=1.234\n",
      "[Epoch 8][Batch 200], LR: 1.00E-04, Speed: 5.962 samples/sec, ObjLoss=4.478, BoxCenterLoss=6.274, BoxScaleLoss=1.728, ClassLoss=1.204\n",
      "[Epoch 8][Batch 220], LR: 1.00E-04, Speed: 6.083 samples/sec, ObjLoss=4.446, BoxCenterLoss=6.211, BoxScaleLoss=1.704, ClassLoss=1.243\n",
      "[Epoch 8][Batch 240], LR: 1.00E-04, Speed: 7.626 samples/sec, ObjLoss=4.527, BoxCenterLoss=6.209, BoxScaleLoss=1.715, ClassLoss=1.219\n",
      "[Epoch 8][Batch 260], LR: 1.00E-04, Speed: 2.119 samples/sec, ObjLoss=4.518, BoxCenterLoss=6.200, BoxScaleLoss=1.719, ClassLoss=1.235\n",
      "[Epoch 8][Batch 280], LR: 1.00E-04, Speed: 2.507 samples/sec, ObjLoss=4.496, BoxCenterLoss=6.192, BoxScaleLoss=1.713, ClassLoss=1.239\n",
      "[Epoch 8][Batch 300], LR: 1.00E-04, Speed: 3.381 samples/sec, ObjLoss=4.479, BoxCenterLoss=6.144, BoxScaleLoss=1.697, ClassLoss=1.235\n",
      "[Epoch 8][Batch 320], LR: 1.00E-04, Speed: 4.082 samples/sec, ObjLoss=4.460, BoxCenterLoss=6.122, BoxScaleLoss=1.678, ClassLoss=1.235\n",
      "[Epoch 8][Batch 340], LR: 1.00E-04, Speed: 8.107 samples/sec, ObjLoss=4.466, BoxCenterLoss=6.172, BoxScaleLoss=1.688, ClassLoss=1.239\n",
      "[Epoch 8][Batch 360], LR: 1.00E-04, Speed: 3.616 samples/sec, ObjLoss=4.495, BoxCenterLoss=6.164, BoxScaleLoss=1.690, ClassLoss=1.235\n",
      "[Epoch 9][Batch 0], LR: 1.00E-04, Speed: 2.799 samples/sec, ObjLoss=3.955, BoxCenterLoss=5.390, BoxScaleLoss=1.336, ClassLoss=0.574\n",
      "[Epoch 9][Batch 20], LR: 1.00E-04, Speed: 8.431 samples/sec, ObjLoss=4.313, BoxCenterLoss=6.588, BoxScaleLoss=1.905, ClassLoss=1.667\n",
      "[Epoch 9][Batch 40], LR: 1.00E-04, Speed: 9.335 samples/sec, ObjLoss=4.768, BoxCenterLoss=6.336, BoxScaleLoss=1.902, ClassLoss=1.410\n",
      "[Epoch 9][Batch 60], LR: 1.00E-04, Speed: 2.803 samples/sec, ObjLoss=4.616, BoxCenterLoss=6.181, BoxScaleLoss=1.822, ClassLoss=1.285\n",
      "[Epoch 9][Batch 80], LR: 1.00E-04, Speed: 4.457 samples/sec, ObjLoss=4.288, BoxCenterLoss=6.211, BoxScaleLoss=1.713, ClassLoss=1.261\n",
      "[Epoch 9][Batch 100], LR: 1.00E-04, Speed: 3.507 samples/sec, ObjLoss=4.293, BoxCenterLoss=6.056, BoxScaleLoss=1.712, ClassLoss=1.223\n",
      "[Epoch 9][Batch 120], LR: 1.00E-04, Speed: 8.552 samples/sec, ObjLoss=4.322, BoxCenterLoss=6.080, BoxScaleLoss=1.710, ClassLoss=1.157\n",
      "[Epoch 9][Batch 140], LR: 1.00E-04, Speed: 4.868 samples/sec, ObjLoss=4.415, BoxCenterLoss=6.041, BoxScaleLoss=1.711, ClassLoss=1.191\n",
      "[Epoch 9][Batch 160], LR: 1.00E-04, Speed: 2.777 samples/sec, ObjLoss=4.425, BoxCenterLoss=5.992, BoxScaleLoss=1.710, ClassLoss=1.174\n",
      "[Epoch 9][Batch 180], LR: 1.00E-04, Speed: 10.120 samples/sec, ObjLoss=4.388, BoxCenterLoss=5.957, BoxScaleLoss=1.680, ClassLoss=1.142\n",
      "[Epoch 9][Batch 200], LR: 1.00E-04, Speed: 7.438 samples/sec, ObjLoss=4.374, BoxCenterLoss=5.957, BoxScaleLoss=1.659, ClassLoss=1.132\n",
      "[Epoch 9][Batch 220], LR: 1.00E-04, Speed: 2.750 samples/sec, ObjLoss=4.372, BoxCenterLoss=6.016, BoxScaleLoss=1.704, ClassLoss=1.191\n",
      "[Epoch 9][Batch 240], LR: 1.00E-04, Speed: 2.660 samples/sec, ObjLoss=4.490, BoxCenterLoss=6.081, BoxScaleLoss=1.723, ClassLoss=1.215\n",
      "[Epoch 9][Batch 260], LR: 1.00E-04, Speed: 9.321 samples/sec, ObjLoss=4.519, BoxCenterLoss=6.145, BoxScaleLoss=1.727, ClassLoss=1.259\n",
      "[Epoch 9][Batch 280], LR: 1.00E-04, Speed: 2.686 samples/sec, ObjLoss=4.453, BoxCenterLoss=6.096, BoxScaleLoss=1.711, ClassLoss=1.230\n"
     ]
    },
    {
     "name": "stdout",
     "output_type": "stream",
     "text": [
      "[Epoch 9][Batch 300], LR: 1.00E-04, Speed: 4.507 samples/sec, ObjLoss=4.521, BoxCenterLoss=6.121, BoxScaleLoss=1.720, ClassLoss=1.213\n",
      "[Epoch 9][Batch 320], LR: 1.00E-04, Speed: 7.175 samples/sec, ObjLoss=4.500, BoxCenterLoss=6.087, BoxScaleLoss=1.714, ClassLoss=1.205\n",
      "[Epoch 9][Batch 340], LR: 1.00E-04, Speed: 3.654 samples/sec, ObjLoss=4.500, BoxCenterLoss=6.108, BoxScaleLoss=1.729, ClassLoss=1.205\n",
      "[Epoch 9][Batch 360], LR: 1.00E-04, Speed: 3.491 samples/sec, ObjLoss=4.480, BoxCenterLoss=6.138, BoxScaleLoss=1.745, ClassLoss=1.198\n"
     ]
    }
   ],
   "source": [
    "gtf.Train(epochs, params_file);"
   ]
  },
  {
   "cell_type": "code",
   "execution_count": null,
   "metadata": {},
   "outputs": [],
   "source": []
  },
  {
   "cell_type": "code",
   "execution_count": null,
   "metadata": {},
   "outputs": [],
   "source": []
  },
  {
   "cell_type": "code",
   "execution_count": null,
   "metadata": {},
   "outputs": [],
   "source": []
  },
  {
   "cell_type": "code",
   "execution_count": null,
   "metadata": {},
   "outputs": [],
   "source": []
  },
  {
   "cell_type": "code",
   "execution_count": null,
   "metadata": {},
   "outputs": [],
   "source": []
  },
  {
   "cell_type": "markdown",
   "metadata": {},
   "source": [
    "# Running Inference"
   ]
  },
  {
   "cell_type": "code",
   "execution_count": 13,
   "metadata": {},
   "outputs": [],
   "source": [
    "import os\n",
    "import sys\n",
    "sys.path.append(\"../../1_gluoncv_finetune/lib/\");"
   ]
  },
  {
   "cell_type": "code",
   "execution_count": 14,
   "metadata": {},
   "outputs": [],
   "source": [
    "from inference_prototype import Infer"
   ]
  },
  {
   "cell_type": "code",
   "execution_count": 15,
   "metadata": {},
   "outputs": [],
   "source": [
    "model_name = \"yolo3_darknet53_voc\";\n",
    "params_file = \"saved_model.params\";\n",
    "class_list = [\"type-0\", \"type-1\", \"type-2\", \"type-3\", \"type-4\"];"
   ]
  },
  {
   "cell_type": "code",
   "execution_count": 16,
   "metadata": {},
   "outputs": [],
   "source": [
    "gtf = Infer(model_name, params_file, class_list, use_gpu=True);"
   ]
  },
  {
   "cell_type": "code",
   "execution_count": null,
   "metadata": {},
   "outputs": [],
   "source": []
  },
  {
   "cell_type": "code",
   "execution_count": 17,
   "metadata": {},
   "outputs": [],
   "source": [
    "img_name = \"../sample_dataset/ship/test/img4.jpg\"; \n",
    "visualize = True;\n",
    "thresh = 0.56;"
   ]
  },
  {
   "cell_type": "code",
   "execution_count": 18,
   "metadata": {},
   "outputs": [
    {
     "data": {
      "image/png": "[encoded data removed]",
      "text/plain": [
       "<Figure size 432x288 with 1 Axes>"
      ]
     },
     "metadata": {
      "needs_background": "light"
     },
     "output_type": "display_data"
    }
   ],
   "source": [
    "output = gtf.run(img_name, visualize=visualize, thresh=thresh);"
   ]
  },
  {
   "cell_type": "code",
   "execution_count": null,
   "metadata": {},
   "outputs": [],
   "source": []
  },
  {
   "cell_type": "code",
   "execution_count": null,
   "metadata": {},
   "outputs": [],
   "source": []
  },
  {
   "cell_type": "code",
   "execution_count": null,
   "metadata": {},
   "outputs": [],
   "source": []
  },
  {
   "cell_type": "code",
   "execution_count": null,
   "metadata": {},
   "outputs": [],
   "source": []
  },
  {
   "cell_type": "code",
   "execution_count": null,
   "metadata": {},
   "outputs": [],
   "source": []
  },
  {
   "cell_type": "code",
   "execution_count": null,
   "metadata": {},
   "outputs": [],
   "source": []
  },
  {
   "cell_type": "markdown",
   "metadata": {},
   "source": [
    "# Author - Tessellate Imaging - https://www.tessellateimaging.com/\n",
    "\n",
    "# Monk Library - https://github.com/Tessellate-Imaging/monk_v1\n",
    "\n",
    "    Monk is an opensource low-code tool for computer vision and deep learning\n",
    "\n",
    "\n",
    "## Monk features\n",
    "   - low-code\n",
    "   - unified wrapper over major deep learning framework - keras, pytorch, gluoncv\n",
    "   - syntax invariant wrapper\n",
    "\n",
    "## Enables\n",
    "\n",
    "    - to create, manage and version control deep learning experiments\n",
    "    - to compare experiments across training metrics\n",
    "    - to quickly find best hyper-parameters\n",
    "\n",
    "## At present it only supports transfer learning, but we are working each day to incorporate\n",
    "\n",
    "    - GUI based custom model creation\n",
    "    - various object detection and segmentation algorithms\n",
    "    - deployment pipelines to cloud and local platforms\n",
    "    - acceleration libraries such as TensorRT\n",
    "    - preprocessing and post processing libraries\n",
    "\n",
    "\n",
    "## To contribute to Monk AI or Monk Object Detection repository raise an issue in the git-repo or dm us on linkedin\n",
    "\n",
    "    - Abhishek - https://www.linkedin.com/in/abhishek-kumar-annamraju/\n",
    "    - Akash - https://www.linkedin.com/in/akashdeepsingh01/\n",
    "\n"
   ]
  },
  {
   "cell_type": "code",
   "execution_count": null,
   "metadata": {},
   "outputs": [],
   "source": []
  }
 ],
 "metadata": {
  "kernelspec": {
   "display_name": "Python 3",
   "language": "python",
   "name": "python3"
  },
  "language_info": {
   "codemirror_mode": {
    "name": "ipython",
    "version": 3
   },
   "file_extension": ".py",
   "mimetype": "text/x-python",
   "name": "python",
   "nbconvert_exporter": "python",
   "pygments_lexer": "ipython3",
   "version": "3.6.9"
  }
 },
 "nbformat": 4,
 "nbformat_minor": 2
}
