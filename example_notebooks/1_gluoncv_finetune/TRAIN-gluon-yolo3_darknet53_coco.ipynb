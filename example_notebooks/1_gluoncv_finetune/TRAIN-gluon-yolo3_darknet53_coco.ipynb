{
 "cells": [
  {
   "cell_type": "code",
   "execution_count": null,
   "metadata": {},
   "outputs": [],
   "source": []
  },
  {
   "cell_type": "code",
   "execution_count": null,
   "metadata": {},
   "outputs": [],
   "source": []
  },
  {
   "cell_type": "markdown",
   "metadata": {},
   "source": [
    "# Installation\n",
    "\n",
    " - Run these commands\n",
    "     \n",
    "     - git clone https://github.com/Tessellate-Imaging/Monk_Object_Detection.git\n",
    "     \n",
    "     - cd Monk_Object_Detection/1_gluoncv_finetune/installation\n",
    "     \n",
    " - Select the right requirements file and run\n",
    " \n",
    "     - cat requirements_cuda9.0.txt | xargs -n 1 -L 1 pip install"
   ]
  },
  {
   "cell_type": "code",
   "execution_count": null,
   "metadata": {},
   "outputs": [],
   "source": [
    "! git clone https://github.com/Tessellate-Imaging/Monk_Object_Detection.git"
   ]
  },
  {
   "cell_type": "code",
   "execution_count": null,
   "metadata": {},
   "outputs": [],
   "source": [
    "# For colab use the command below\n",
    "! cd Monk_Object_Detection/1_gluoncv_finetune/installation && cat requirements_colab.txt | xargs -n 1 -L 1 pip install\n",
    "\n",
    "\n",
    "# For Local systems and cloud select the right CUDA version\n",
    "# !cd Monk_Object_Detection/1_gluoncv_finetune/installation && cat requirements_cuda9.0.txt | xargs -n 1 -L 1 pip install"
   ]
  },
  {
   "cell_type": "code",
   "execution_count": null,
   "metadata": {},
   "outputs": [],
   "source": []
  },
  {
   "cell_type": "code",
   "execution_count": null,
   "metadata": {},
   "outputs": [],
   "source": []
  },
  {
   "cell_type": "code",
   "execution_count": null,
   "metadata": {},
   "outputs": [],
   "source": []
  },
  {
   "cell_type": "markdown",
   "metadata": {},
   "source": [
    "## Dataset Directory Structure\n",
    "\n",
    "    Parent_Directory (root)\n",
    "          |\n",
    "          |-----------Images (img_dir)\n",
    "          |              |\n",
    "          |              |------------------img1.jpg\n",
    "          |              |------------------img2.jpg\n",
    "          |              |------------------.........(and so on)\n",
    "          |\n",
    "          |\n",
    "          |-----------train_labels.csv (anno_file)\n",
    "          \n",
    "          \n",
    "## Annotation file format\n",
    "\n",
    "           | Id         | Labels                                 |\n",
    "           | img1.jpg   | x1 y1 x2 y2 label1 x1 y1 x2 y2 label2  |\n",
    "           \n",
    "- Labels:  xmin ymin xmax ymax label\n",
    "- xmin, ymin - top left corner of bounding box\n",
    "- xmax, ymax - bottom right corner of bounding box"
   ]
  },
  {
   "cell_type": "code",
   "execution_count": null,
   "metadata": {},
   "outputs": [],
   "source": []
  },
  {
   "cell_type": "code",
   "execution_count": null,
   "metadata": {},
   "outputs": [],
   "source": []
  },
  {
   "cell_type": "code",
   "execution_count": null,
   "metadata": {},
   "outputs": [],
   "source": []
  },
  {
   "cell_type": "markdown",
   "metadata": {},
   "source": [
    "# About the Network\n",
    "\n",
    "1. Blog 1 on Yolo Network - https://towardsdatascience.com/yolo-you-only-look-once-real-time-object-detection-explained-492dc9230006\n",
    "\n",
    "2. Blog 2 on Yolo Network - https://hackernoon.com/understanding-yolo-f5a74bbc7967\n",
    "\n",
    "3. Blog 3 on Yolo Network - https://towardsdatascience.com/yolo-v3-object-detection-53fb7d3bfe6b\n",
    "\n",
    "4. Blog 4 on Yolo Network - https://towardsdatascience.com/review-yolov3-you-only-look-once-object-detection-eab75d7a1ba6\n",
    "\n",
    "5. Blog 5 on Yolo Network - https://medium.com/analytics-vidhya/yolo-v3-theory-explained-33100f6d193\n",
    "\n",
    "6. More on Darknet by it's author - https://pjreddie.com/darknet/\n",
    "\n",
    "7. Reference Tutorial - https://gluon.mxnet.io/chapter08_computer-vision/object-detection.html"
   ]
  },
  {
   "cell_type": "code",
   "execution_count": null,
   "metadata": {},
   "outputs": [],
   "source": []
  },
  {
   "cell_type": "code",
   "execution_count": 1,
   "metadata": {},
   "outputs": [],
   "source": [
    "import os\n",
    "import sys\n",
    "sys.path.append(\"Monk_Object_Detection/1_gluoncv_finetune/lib/\");"
   ]
  },
  {
   "cell_type": "code",
   "execution_count": 2,
   "metadata": {},
   "outputs": [],
   "source": [
    "from detector_prototype import Detector"
   ]
  },
  {
   "cell_type": "code",
   "execution_count": 3,
   "metadata": {},
   "outputs": [],
   "source": [
    "gtf = Detector();"
   ]
  },
  {
   "cell_type": "code",
   "execution_count": null,
   "metadata": {},
   "outputs": [],
   "source": []
  },
  {
   "cell_type": "code",
   "execution_count": null,
   "metadata": {},
   "outputs": [],
   "source": []
  },
  {
   "cell_type": "code",
   "execution_count": null,
   "metadata": {},
   "outputs": [],
   "source": []
  },
  {
   "cell_type": "code",
   "execution_count": null,
   "metadata": {},
   "outputs": [],
   "source": []
  },
  {
   "cell_type": "markdown",
   "metadata": {},
   "source": [
    "# Sample Dataset Credits\n",
    "\n",
    "- credits: https://www.tejashwi.io/object-detection-with-fizyr-retinanet/"
   ]
  },
  {
   "cell_type": "code",
   "execution_count": 4,
   "metadata": {},
   "outputs": [],
   "source": [
    "root = \"Monk_Object_Detection/example_notebooks/sample_dataset/ship/\";                         \n",
    "img_dir = \"Images/\";                                                     \n",
    "anno_file = \"train_labels.csv\";\n",
    "batch_size=2;"
   ]
  },
  {
   "cell_type": "code",
   "execution_count": 5,
   "metadata": {},
   "outputs": [
    {
     "data": {
      "application/vnd.jupyter.widget-view+json": {
       "model_id": "3c79df013d234376a0bdbfd54bac6f65",
       "version_major": 2,
       "version_minor": 0
      },
      "text/plain": [
       "HBox(children=(FloatProgress(value=0.0, max=750.0), HTML(value='')))"
      ]
     },
     "metadata": {},
     "output_type": "display_data"
    },
    {
     "name": "stdout",
     "output_type": "stream",
     "text": [
      "\n"
     ]
    },
    {
     "data": {
      "application/vnd.jupyter.widget-view+json": {
       "model_id": "f11b465247b34b43a6232274f2f8609a",
       "version_major": 2,
       "version_minor": 0
      },
      "text/plain": [
       "HBox(children=(FloatProgress(value=0.0, max=750.0), HTML(value='')))"
      ]
     },
     "metadata": {},
     "output_type": "display_data"
    },
    {
     "name": "stdout",
     "output_type": "stream",
     "text": [
      "\n"
     ]
    }
   ],
   "source": [
    "gtf.Dataset(root, img_dir, anno_file, batch_size=batch_size);"
   ]
  },
  {
   "cell_type": "code",
   "execution_count": null,
   "metadata": {},
   "outputs": [],
   "source": []
  },
  {
   "cell_type": "code",
   "execution_count": null,
   "metadata": {},
   "outputs": [],
   "source": []
  },
  {
   "cell_type": "code",
   "execution_count": null,
   "metadata": {},
   "outputs": [],
   "source": []
  },
  {
   "cell_type": "code",
   "execution_count": null,
   "metadata": {},
   "outputs": [],
   "source": []
  },
  {
   "cell_type": "code",
   "execution_count": 6,
   "metadata": {},
   "outputs": [],
   "source": [
    "pretrained = True;         \n",
    "gpu=True;\n",
    "model_name = \"yolo3_darknet53_coco\";  "
   ]
  },
  {
   "cell_type": "code",
   "execution_count": 7,
   "metadata": {},
   "outputs": [],
   "source": [
    "gtf.Model(model_name, use_pretrained=pretrained, use_gpu=gpu);"
   ]
  },
  {
   "cell_type": "code",
   "execution_count": null,
   "metadata": {},
   "outputs": [],
   "source": []
  },
  {
   "cell_type": "code",
   "execution_count": null,
   "metadata": {},
   "outputs": [],
   "source": []
  },
  {
   "cell_type": "code",
   "execution_count": 8,
   "metadata": {},
   "outputs": [],
   "source": [
    "gtf.Set_Learning_Rate(0.0001);"
   ]
  },
  {
   "cell_type": "code",
   "execution_count": 9,
   "metadata": {},
   "outputs": [],
   "source": [
    "epochs=10;\n",
    "params_file = \"saved_model.params\";"
   ]
  },
  {
   "cell_type": "code",
   "execution_count": 10,
   "metadata": {},
   "outputs": [
    {
     "name": "stdout",
     "output_type": "stream",
     "text": [
      "[Epoch 0][Batch 0], LR: 1.00E-04, Speed: 0.361 samples/sec, ObjLoss=7555.331, BoxCenterLoss=11.985, BoxScaleLoss=7.321, ClassLoss=14.591\n",
      "[Epoch 0][Batch 20], LR: 1.00E-04, Speed: 3.323 samples/sec, ObjLoss=449.129, BoxCenterLoss=7.092, BoxScaleLoss=3.674, ClassLoss=8.448\n",
      "[Epoch 0][Batch 40], LR: 1.00E-04, Speed: 5.113 samples/sec, ObjLoss=239.596, BoxCenterLoss=7.043, BoxScaleLoss=3.425, ClassLoss=7.952\n",
      "[Epoch 0][Batch 60], LR: 1.00E-04, Speed: 8.705 samples/sec, ObjLoss=166.499, BoxCenterLoss=7.226, BoxScaleLoss=3.262, ClassLoss=7.799\n",
      "[Epoch 0][Batch 80], LR: 1.00E-04, Speed: 4.310 samples/sec, ObjLoss=128.417, BoxCenterLoss=7.030, BoxScaleLoss=2.986, ClassLoss=7.226\n",
      "[Epoch 0][Batch 100], LR: 1.00E-04, Speed: 7.811 samples/sec, ObjLoss=105.048, BoxCenterLoss=7.124, BoxScaleLoss=2.882, ClassLoss=6.811\n",
      "[Epoch 0][Batch 120], LR: 1.00E-04, Speed: 3.407 samples/sec, ObjLoss=89.621, BoxCenterLoss=7.286, BoxScaleLoss=2.839, ClassLoss=6.610\n",
      "[Epoch 0][Batch 140], LR: 1.00E-04, Speed: 8.378 samples/sec, ObjLoss=78.290, BoxCenterLoss=7.168, BoxScaleLoss=2.782, ClassLoss=6.252\n",
      "[Epoch 0][Batch 160], LR: 1.00E-04, Speed: 3.328 samples/sec, ObjLoss=69.810, BoxCenterLoss=7.154, BoxScaleLoss=2.733, ClassLoss=6.011\n",
      "[Epoch 0][Batch 180], LR: 1.00E-04, Speed: 2.816 samples/sec, ObjLoss=63.138, BoxCenterLoss=7.068, BoxScaleLoss=2.678, ClassLoss=5.752\n",
      "[Epoch 0][Batch 200], LR: 1.00E-04, Speed: 8.573 samples/sec, ObjLoss=57.754, BoxCenterLoss=7.043, BoxScaleLoss=2.627, ClassLoss=5.511\n",
      "[Epoch 0][Batch 220], LR: 1.00E-04, Speed: 7.969 samples/sec, ObjLoss=53.410, BoxCenterLoss=7.058, BoxScaleLoss=2.650, ClassLoss=5.347\n",
      "[Epoch 0][Batch 240], LR: 1.00E-04, Speed: 1.865 samples/sec, ObjLoss=49.784, BoxCenterLoss=7.066, BoxScaleLoss=2.622, ClassLoss=5.223\n",
      "[Epoch 0][Batch 260], LR: 1.00E-04, Speed: 3.251 samples/sec, ObjLoss=46.670, BoxCenterLoss=7.074, BoxScaleLoss=2.624, ClassLoss=5.066\n",
      "[Epoch 0][Batch 280], LR: 1.00E-04, Speed: 4.436 samples/sec, ObjLoss=44.031, BoxCenterLoss=7.100, BoxScaleLoss=2.624, ClassLoss=4.994\n",
      "[Epoch 0][Batch 300], LR: 1.00E-04, Speed: 3.516 samples/sec, ObjLoss=41.611, BoxCenterLoss=7.064, BoxScaleLoss=2.602, ClassLoss=4.835\n",
      "[Epoch 0][Batch 320], LR: 1.00E-04, Speed: 4.948 samples/sec, ObjLoss=39.591, BoxCenterLoss=7.074, BoxScaleLoss=2.595, ClassLoss=4.755\n",
      "[Epoch 0][Batch 340], LR: 1.00E-04, Speed: 6.755 samples/sec, ObjLoss=37.713, BoxCenterLoss=7.049, BoxScaleLoss=2.576, ClassLoss=4.626\n",
      "[Epoch 0][Batch 360], LR: 1.00E-04, Speed: 6.849 samples/sec, ObjLoss=36.102, BoxCenterLoss=7.034, BoxScaleLoss=2.558, ClassLoss=4.536\n",
      "[Epoch 1][Batch 0], LR: 1.00E-04, Speed: 3.576 samples/sec, ObjLoss=7.900, BoxCenterLoss=6.103, BoxScaleLoss=2.173, ClassLoss=1.758\n",
      "[Epoch 1][Batch 20], LR: 1.00E-04, Speed: 2.791 samples/sec, ObjLoss=7.636, BoxCenterLoss=6.929, BoxScaleLoss=2.334, ClassLoss=2.773\n",
      "[Epoch 1][Batch 40], LR: 1.00E-04, Speed: 5.846 samples/sec, ObjLoss=7.302, BoxCenterLoss=6.576, BoxScaleLoss=2.291, ClassLoss=2.686\n",
      "[Epoch 1][Batch 60], LR: 1.00E-04, Speed: 6.616 samples/sec, ObjLoss=7.416, BoxCenterLoss=6.763, BoxScaleLoss=2.345, ClassLoss=2.833\n",
      "[Epoch 1][Batch 80], LR: 1.00E-04, Speed: 3.357 samples/sec, ObjLoss=7.354, BoxCenterLoss=6.944, BoxScaleLoss=2.367, ClassLoss=2.772\n",
      "[Epoch 1][Batch 100], LR: 1.00E-04, Speed: 3.302 samples/sec, ObjLoss=7.445, BoxCenterLoss=7.092, BoxScaleLoss=2.408, ClassLoss=2.795\n",
      "[Epoch 1][Batch 120], LR: 1.00E-04, Speed: 7.248 samples/sec, ObjLoss=7.416, BoxCenterLoss=6.933, BoxScaleLoss=2.401, ClassLoss=2.657\n",
      "[Epoch 1][Batch 140], LR: 1.00E-04, Speed: 2.870 samples/sec, ObjLoss=7.389, BoxCenterLoss=7.003, BoxScaleLoss=2.388, ClassLoss=2.597\n",
      "[Epoch 1][Batch 160], LR: 1.00E-04, Speed: 3.300 samples/sec, ObjLoss=7.295, BoxCenterLoss=6.958, BoxScaleLoss=2.338, ClassLoss=2.526\n",
      "[Epoch 1][Batch 180], LR: 1.00E-04, Speed: 7.494 samples/sec, ObjLoss=7.297, BoxCenterLoss=6.916, BoxScaleLoss=2.355, ClassLoss=2.506\n",
      "[Epoch 1][Batch 200], LR: 1.00E-04, Speed: 7.619 samples/sec, ObjLoss=7.206, BoxCenterLoss=6.887, BoxScaleLoss=2.339, ClassLoss=2.490\n",
      "[Epoch 1][Batch 220], LR: 1.00E-04, Speed: 3.090 samples/sec, ObjLoss=7.122, BoxCenterLoss=6.814, BoxScaleLoss=2.300, ClassLoss=2.467\n",
      "[Epoch 1][Batch 240], LR: 1.00E-04, Speed: 4.092 samples/sec, ObjLoss=7.234, BoxCenterLoss=6.898, BoxScaleLoss=2.302, ClassLoss=2.508\n",
      "[Epoch 1][Batch 260], LR: 1.00E-04, Speed: 8.404 samples/sec, ObjLoss=7.202, BoxCenterLoss=6.898, BoxScaleLoss=2.309, ClassLoss=2.489\n",
      "[Epoch 1][Batch 280], LR: 1.00E-04, Speed: 2.810 samples/sec, ObjLoss=7.187, BoxCenterLoss=6.893, BoxScaleLoss=2.327, ClassLoss=2.465\n",
      "[Epoch 1][Batch 300], LR: 1.00E-04, Speed: 8.780 samples/sec, ObjLoss=7.117, BoxCenterLoss=6.910, BoxScaleLoss=2.340, ClassLoss=2.444\n",
      "[Epoch 1][Batch 320], LR: 1.00E-04, Speed: 4.874 samples/sec, ObjLoss=7.021, BoxCenterLoss=6.863, BoxScaleLoss=2.324, ClassLoss=2.394\n",
      "[Epoch 1][Batch 340], LR: 1.00E-04, Speed: 8.182 samples/sec, ObjLoss=7.040, BoxCenterLoss=6.910, BoxScaleLoss=2.347, ClassLoss=2.382\n",
      "[Epoch 1][Batch 360], LR: 1.00E-04, Speed: 1.788 samples/sec, ObjLoss=6.993, BoxCenterLoss=6.893, BoxScaleLoss=2.333, ClassLoss=2.343\n",
      "[Epoch 2][Batch 0], LR: 1.00E-04, Speed: 4.820 samples/sec, ObjLoss=6.263, BoxCenterLoss=5.456, BoxScaleLoss=2.783, ClassLoss=3.738\n",
      "[Epoch 2][Batch 20], LR: 1.00E-04, Speed: 4.251 samples/sec, ObjLoss=6.577, BoxCenterLoss=6.704, BoxScaleLoss=2.355, ClassLoss=2.014\n",
      "[Epoch 2][Batch 40], LR: 1.00E-04, Speed: 6.309 samples/sec, ObjLoss=6.634, BoxCenterLoss=6.490, BoxScaleLoss=2.349, ClassLoss=2.245\n",
      "[Epoch 2][Batch 60], LR: 1.00E-04, Speed: 5.307 samples/sec, ObjLoss=6.579, BoxCenterLoss=6.570, BoxScaleLoss=2.268, ClassLoss=2.237\n",
      "[Epoch 2][Batch 80], LR: 1.00E-04, Speed: 9.581 samples/sec, ObjLoss=6.460, BoxCenterLoss=6.615, BoxScaleLoss=2.227, ClassLoss=2.229\n",
      "[Epoch 2][Batch 100], LR: 1.00E-04, Speed: 6.976 samples/sec, ObjLoss=6.507, BoxCenterLoss=6.721, BoxScaleLoss=2.290, ClassLoss=2.219\n",
      "[Epoch 2][Batch 120], LR: 1.00E-04, Speed: 8.423 samples/sec, ObjLoss=6.439, BoxCenterLoss=6.710, BoxScaleLoss=2.234, ClassLoss=2.185\n",
      "[Epoch 2][Batch 140], LR: 1.00E-04, Speed: 6.009 samples/sec, ObjLoss=6.525, BoxCenterLoss=6.777, BoxScaleLoss=2.243, ClassLoss=2.201\n",
      "[Epoch 2][Batch 160], LR: 1.00E-04, Speed: 7.455 samples/sec, ObjLoss=6.505, BoxCenterLoss=6.812, BoxScaleLoss=2.267, ClassLoss=2.165\n",
      "[Epoch 2][Batch 180], LR: 1.00E-04, Speed: 7.722 samples/sec, ObjLoss=6.535, BoxCenterLoss=6.837, BoxScaleLoss=2.270, ClassLoss=2.210\n",
      "[Epoch 2][Batch 200], LR: 1.00E-04, Speed: 4.067 samples/sec, ObjLoss=6.468, BoxCenterLoss=6.789, BoxScaleLoss=2.242, ClassLoss=2.195\n",
      "[Epoch 2][Batch 220], LR: 1.00E-04, Speed: 8.075 samples/sec, ObjLoss=6.356, BoxCenterLoss=6.711, BoxScaleLoss=2.195, ClassLoss=2.123\n",
      "[Epoch 2][Batch 240], LR: 1.00E-04, Speed: 5.358 samples/sec, ObjLoss=6.276, BoxCenterLoss=6.663, BoxScaleLoss=2.156, ClassLoss=2.088\n",
      "[Epoch 2][Batch 260], LR: 1.00E-04, Speed: 7.508 samples/sec, ObjLoss=6.263, BoxCenterLoss=6.657, BoxScaleLoss=2.134, ClassLoss=2.054\n",
      "[Epoch 2][Batch 280], LR: 1.00E-04, Speed: 7.023 samples/sec, ObjLoss=6.259, BoxCenterLoss=6.711, BoxScaleLoss=2.148, ClassLoss=2.043\n",
      "[Epoch 2][Batch 300], LR: 1.00E-04, Speed: 6.450 samples/sec, ObjLoss=6.230, BoxCenterLoss=6.705, BoxScaleLoss=2.144, ClassLoss=2.043\n",
      "[Epoch 2][Batch 320], LR: 1.00E-04, Speed: 3.907 samples/sec, ObjLoss=6.121, BoxCenterLoss=6.629, BoxScaleLoss=2.125, ClassLoss=1.994\n",
      "[Epoch 2][Batch 340], LR: 1.00E-04, Speed: 1.802 samples/sec, ObjLoss=6.114, BoxCenterLoss=6.601, BoxScaleLoss=2.123, ClassLoss=1.974\n",
      "[Epoch 2][Batch 360], LR: 1.00E-04, Speed: 4.099 samples/sec, ObjLoss=6.079, BoxCenterLoss=6.594, BoxScaleLoss=2.112, ClassLoss=1.965\n",
      "[Epoch 3][Batch 0], LR: 1.00E-04, Speed: 2.588 samples/sec, ObjLoss=5.098, BoxCenterLoss=6.067, BoxScaleLoss=1.612, ClassLoss=1.193\n",
      "[Epoch 3][Batch 20], LR: 1.00E-04, Speed: 4.863 samples/sec, ObjLoss=5.341, BoxCenterLoss=5.971, BoxScaleLoss=2.016, ClassLoss=1.394\n",
      "[Epoch 3][Batch 40], LR: 1.00E-04, Speed: 4.753 samples/sec, ObjLoss=4.733, BoxCenterLoss=6.007, BoxScaleLoss=1.918, ClassLoss=1.286\n",
      "[Epoch 3][Batch 60], LR: 1.00E-04, Speed: 8.466 samples/sec, ObjLoss=5.379, BoxCenterLoss=6.327, BoxScaleLoss=1.948, ClassLoss=1.566\n",
      "[Epoch 3][Batch 80], LR: 1.00E-04, Speed: 7.954 samples/sec, ObjLoss=5.537, BoxCenterLoss=6.251, BoxScaleLoss=1.893, ClassLoss=1.662\n"
     ]
    },
    {
     "name": "stdout",
     "output_type": "stream",
     "text": [
      "[Epoch 3][Batch 100], LR: 1.00E-04, Speed: 7.062 samples/sec, ObjLoss=5.486, BoxCenterLoss=6.376, BoxScaleLoss=1.915, ClassLoss=1.640\n",
      "[Epoch 3][Batch 120], LR: 1.00E-04, Speed: 8.385 samples/sec, ObjLoss=5.429, BoxCenterLoss=6.406, BoxScaleLoss=1.928, ClassLoss=1.671\n",
      "[Epoch 3][Batch 140], LR: 1.00E-04, Speed: 2.526 samples/sec, ObjLoss=5.368, BoxCenterLoss=6.338, BoxScaleLoss=1.904, ClassLoss=1.645\n",
      "[Epoch 3][Batch 160], LR: 1.00E-04, Speed: 4.009 samples/sec, ObjLoss=5.326, BoxCenterLoss=6.357, BoxScaleLoss=1.884, ClassLoss=1.617\n",
      "[Epoch 3][Batch 180], LR: 1.00E-04, Speed: 8.266 samples/sec, ObjLoss=5.338, BoxCenterLoss=6.408, BoxScaleLoss=1.882, ClassLoss=1.682\n",
      "[Epoch 3][Batch 200], LR: 1.00E-04, Speed: 6.210 samples/sec, ObjLoss=5.419, BoxCenterLoss=6.426, BoxScaleLoss=1.906, ClassLoss=1.715\n",
      "[Epoch 3][Batch 220], LR: 1.00E-04, Speed: 8.639 samples/sec, ObjLoss=5.377, BoxCenterLoss=6.388, BoxScaleLoss=1.902, ClassLoss=1.744\n",
      "[Epoch 3][Batch 240], LR: 1.00E-04, Speed: 6.034 samples/sec, ObjLoss=5.437, BoxCenterLoss=6.439, BoxScaleLoss=1.922, ClassLoss=1.769\n",
      "[Epoch 3][Batch 260], LR: 1.00E-04, Speed: 2.813 samples/sec, ObjLoss=5.455, BoxCenterLoss=6.437, BoxScaleLoss=1.942, ClassLoss=1.802\n",
      "[Epoch 3][Batch 280], LR: 1.00E-04, Speed: 7.878 samples/sec, ObjLoss=5.462, BoxCenterLoss=6.462, BoxScaleLoss=1.956, ClassLoss=1.780\n",
      "[Epoch 3][Batch 300], LR: 1.00E-04, Speed: 3.735 samples/sec, ObjLoss=5.522, BoxCenterLoss=6.477, BoxScaleLoss=1.989, ClassLoss=1.803\n",
      "[Epoch 3][Batch 320], LR: 1.00E-04, Speed: 9.712 samples/sec, ObjLoss=5.525, BoxCenterLoss=6.485, BoxScaleLoss=2.000, ClassLoss=1.817\n",
      "[Epoch 3][Batch 340], LR: 1.00E-04, Speed: 4.408 samples/sec, ObjLoss=5.474, BoxCenterLoss=6.500, BoxScaleLoss=2.009, ClassLoss=1.797\n",
      "[Epoch 3][Batch 360], LR: 1.00E-04, Speed: 9.454 samples/sec, ObjLoss=5.531, BoxCenterLoss=6.554, BoxScaleLoss=2.029, ClassLoss=1.804\n",
      "[Epoch 4][Batch 0], LR: 1.00E-04, Speed: 3.009 samples/sec, ObjLoss=8.972, BoxCenterLoss=8.171, BoxScaleLoss=2.632, ClassLoss=1.965\n",
      "[Epoch 4][Batch 20], LR: 1.00E-04, Speed: 3.853 samples/sec, ObjLoss=4.847, BoxCenterLoss=6.635, BoxScaleLoss=1.759, ClassLoss=1.538\n",
      "[Epoch 4][Batch 40], LR: 1.00E-04, Speed: 7.089 samples/sec, ObjLoss=5.048, BoxCenterLoss=6.381, BoxScaleLoss=1.799, ClassLoss=1.439\n",
      "[Epoch 4][Batch 60], LR: 1.00E-04, Speed: 2.770 samples/sec, ObjLoss=5.228, BoxCenterLoss=6.375, BoxScaleLoss=1.915, ClassLoss=1.423\n",
      "[Epoch 4][Batch 80], LR: 1.00E-04, Speed: 6.295 samples/sec, ObjLoss=5.125, BoxCenterLoss=6.313, BoxScaleLoss=1.902, ClassLoss=1.539\n",
      "[Epoch 4][Batch 100], LR: 1.00E-04, Speed: 8.512 samples/sec, ObjLoss=4.997, BoxCenterLoss=6.417, BoxScaleLoss=1.926, ClassLoss=1.537\n",
      "[Epoch 4][Batch 120], LR: 1.00E-04, Speed: 4.035 samples/sec, ObjLoss=5.073, BoxCenterLoss=6.573, BoxScaleLoss=1.963, ClassLoss=1.577\n",
      "[Epoch 4][Batch 140], LR: 1.00E-04, Speed: 7.194 samples/sec, ObjLoss=5.080, BoxCenterLoss=6.525, BoxScaleLoss=1.963, ClassLoss=1.576\n",
      "[Epoch 4][Batch 160], LR: 1.00E-04, Speed: 3.482 samples/sec, ObjLoss=5.040, BoxCenterLoss=6.502, BoxScaleLoss=1.955, ClassLoss=1.564\n",
      "[Epoch 4][Batch 180], LR: 1.00E-04, Speed: 7.133 samples/sec, ObjLoss=5.127, BoxCenterLoss=6.566, BoxScaleLoss=2.027, ClassLoss=1.567\n",
      "[Epoch 4][Batch 200], LR: 1.00E-04, Speed: 6.472 samples/sec, ObjLoss=5.122, BoxCenterLoss=6.507, BoxScaleLoss=2.011, ClassLoss=1.589\n",
      "[Epoch 4][Batch 220], LR: 1.00E-04, Speed: 3.445 samples/sec, ObjLoss=5.115, BoxCenterLoss=6.496, BoxScaleLoss=2.040, ClassLoss=1.589\n",
      "[Epoch 4][Batch 240], LR: 1.00E-04, Speed: 7.094 samples/sec, ObjLoss=5.069, BoxCenterLoss=6.515, BoxScaleLoss=2.027, ClassLoss=1.565\n",
      "[Epoch 4][Batch 260], LR: 1.00E-04, Speed: 6.062 samples/sec, ObjLoss=5.049, BoxCenterLoss=6.529, BoxScaleLoss=2.016, ClassLoss=1.570\n",
      "[Epoch 4][Batch 280], LR: 1.00E-04, Speed: 3.935 samples/sec, ObjLoss=5.056, BoxCenterLoss=6.477, BoxScaleLoss=1.982, ClassLoss=1.553\n",
      "[Epoch 4][Batch 300], LR: 1.00E-04, Speed: 3.857 samples/sec, ObjLoss=5.052, BoxCenterLoss=6.495, BoxScaleLoss=1.987, ClassLoss=1.582\n",
      "[Epoch 4][Batch 320], LR: 1.00E-04, Speed: 4.699 samples/sec, ObjLoss=5.006, BoxCenterLoss=6.474, BoxScaleLoss=1.978, ClassLoss=1.561\n",
      "[Epoch 4][Batch 340], LR: 1.00E-04, Speed: 3.126 samples/sec, ObjLoss=4.974, BoxCenterLoss=6.474, BoxScaleLoss=1.977, ClassLoss=1.574\n",
      "[Epoch 4][Batch 360], LR: 1.00E-04, Speed: 7.957 samples/sec, ObjLoss=4.983, BoxCenterLoss=6.452, BoxScaleLoss=1.984, ClassLoss=1.590\n",
      "[Epoch 5][Batch 0], LR: 1.00E-04, Speed: 5.159 samples/sec, ObjLoss=0.479, BoxCenterLoss=3.615, BoxScaleLoss=0.518, ClassLoss=0.047\n",
      "[Epoch 5][Batch 20], LR: 1.00E-04, Speed: 6.830 samples/sec, ObjLoss=3.786, BoxCenterLoss=4.966, BoxScaleLoss=1.759, ClassLoss=1.059\n",
      "[Epoch 5][Batch 40], LR: 1.00E-04, Speed: 8.390 samples/sec, ObjLoss=4.069, BoxCenterLoss=5.497, BoxScaleLoss=1.734, ClassLoss=1.132\n",
      "[Epoch 5][Batch 60], LR: 1.00E-04, Speed: 5.373 samples/sec, ObjLoss=4.033, BoxCenterLoss=5.688, BoxScaleLoss=1.628, ClassLoss=1.170\n",
      "[Epoch 5][Batch 80], LR: 1.00E-04, Speed: 3.260 samples/sec, ObjLoss=4.411, BoxCenterLoss=5.711, BoxScaleLoss=1.655, ClassLoss=1.138\n",
      "[Epoch 5][Batch 100], LR: 1.00E-04, Speed: 2.188 samples/sec, ObjLoss=4.631, BoxCenterLoss=5.919, BoxScaleLoss=1.774, ClassLoss=1.370\n",
      "[Epoch 5][Batch 120], LR: 1.00E-04, Speed: 5.805 samples/sec, ObjLoss=4.675, BoxCenterLoss=5.934, BoxScaleLoss=1.785, ClassLoss=1.375\n",
      "[Epoch 5][Batch 140], LR: 1.00E-04, Speed: 8.193 samples/sec, ObjLoss=4.688, BoxCenterLoss=5.968, BoxScaleLoss=1.767, ClassLoss=1.357\n",
      "[Epoch 5][Batch 160], LR: 1.00E-04, Speed: 4.386 samples/sec, ObjLoss=4.654, BoxCenterLoss=5.986, BoxScaleLoss=1.761, ClassLoss=1.366\n",
      "[Epoch 5][Batch 180], LR: 1.00E-04, Speed: 3.589 samples/sec, ObjLoss=4.717, BoxCenterLoss=6.034, BoxScaleLoss=1.736, ClassLoss=1.368\n",
      "[Epoch 5][Batch 200], LR: 1.00E-04, Speed: 6.000 samples/sec, ObjLoss=4.774, BoxCenterLoss=6.124, BoxScaleLoss=1.753, ClassLoss=1.382\n",
      "[Epoch 5][Batch 220], LR: 1.00E-04, Speed: 7.632 samples/sec, ObjLoss=4.919, BoxCenterLoss=6.152, BoxScaleLoss=1.768, ClassLoss=1.420\n",
      "[Epoch 5][Batch 240], LR: 1.00E-04, Speed: 9.431 samples/sec, ObjLoss=4.937, BoxCenterLoss=6.178, BoxScaleLoss=1.781, ClassLoss=1.433\n",
      "[Epoch 5][Batch 260], LR: 1.00E-04, Speed: 7.957 samples/sec, ObjLoss=4.885, BoxCenterLoss=6.153, BoxScaleLoss=1.776, ClassLoss=1.393\n",
      "[Epoch 5][Batch 280], LR: 1.00E-04, Speed: 3.935 samples/sec, ObjLoss=4.931, BoxCenterLoss=6.188, BoxScaleLoss=1.773, ClassLoss=1.399\n",
      "[Epoch 5][Batch 300], LR: 1.00E-04, Speed: 2.868 samples/sec, ObjLoss=4.892, BoxCenterLoss=6.164, BoxScaleLoss=1.764, ClassLoss=1.403\n",
      "[Epoch 5][Batch 320], LR: 1.00E-04, Speed: 7.075 samples/sec, ObjLoss=4.910, BoxCenterLoss=6.165, BoxScaleLoss=1.765, ClassLoss=1.418\n",
      "[Epoch 5][Batch 340], LR: 1.00E-04, Speed: 8.414 samples/sec, ObjLoss=4.984, BoxCenterLoss=6.189, BoxScaleLoss=1.787, ClassLoss=1.434\n",
      "[Epoch 5][Batch 360], LR: 1.00E-04, Speed: 2.815 samples/sec, ObjLoss=4.951, BoxCenterLoss=6.221, BoxScaleLoss=1.806, ClassLoss=1.449\n",
      "[Epoch 6][Batch 0], LR: 1.00E-04, Speed: 3.648 samples/sec, ObjLoss=3.334, BoxCenterLoss=4.557, BoxScaleLoss=0.526, ClassLoss=0.220\n",
      "[Epoch 6][Batch 20], LR: 1.00E-04, Speed: 7.108 samples/sec, ObjLoss=4.950, BoxCenterLoss=5.995, BoxScaleLoss=1.647, ClassLoss=1.798\n",
      "[Epoch 6][Batch 40], LR: 1.00E-04, Speed: 2.586 samples/sec, ObjLoss=5.002, BoxCenterLoss=6.127, BoxScaleLoss=1.634, ClassLoss=1.546\n",
      "[Epoch 6][Batch 60], LR: 1.00E-04, Speed: 3.578 samples/sec, ObjLoss=4.765, BoxCenterLoss=6.167, BoxScaleLoss=1.644, ClassLoss=1.550\n",
      "[Epoch 6][Batch 80], LR: 1.00E-04, Speed: 5.991 samples/sec, ObjLoss=4.621, BoxCenterLoss=6.134, BoxScaleLoss=1.653, ClassLoss=1.420\n",
      "[Epoch 6][Batch 100], LR: 1.00E-04, Speed: 6.266 samples/sec, ObjLoss=4.483, BoxCenterLoss=6.170, BoxScaleLoss=1.621, ClassLoss=1.340\n",
      "[Epoch 6][Batch 120], LR: 1.00E-04, Speed: 5.898 samples/sec, ObjLoss=4.543, BoxCenterLoss=6.263, BoxScaleLoss=1.651, ClassLoss=1.337\n",
      "[Epoch 6][Batch 140], LR: 1.00E-04, Speed: 7.269 samples/sec, ObjLoss=4.548, BoxCenterLoss=6.326, BoxScaleLoss=1.665, ClassLoss=1.338\n",
      "[Epoch 6][Batch 160], LR: 1.00E-04, Speed: 7.052 samples/sec, ObjLoss=4.417, BoxCenterLoss=6.307, BoxScaleLoss=1.651, ClassLoss=1.294\n",
      "[Epoch 6][Batch 180], LR: 1.00E-04, Speed: 7.483 samples/sec, ObjLoss=4.433, BoxCenterLoss=6.316, BoxScaleLoss=1.673, ClassLoss=1.359\n"
     ]
    },
    {
     "name": "stdout",
     "output_type": "stream",
     "text": [
      "[Epoch 6][Batch 200], LR: 1.00E-04, Speed: 7.878 samples/sec, ObjLoss=4.513, BoxCenterLoss=6.300, BoxScaleLoss=1.688, ClassLoss=1.380\n",
      "[Epoch 6][Batch 220], LR: 1.00E-04, Speed: 9.721 samples/sec, ObjLoss=4.448, BoxCenterLoss=6.291, BoxScaleLoss=1.687, ClassLoss=1.357\n",
      "[Epoch 6][Batch 240], LR: 1.00E-04, Speed: 4.818 samples/sec, ObjLoss=4.438, BoxCenterLoss=6.277, BoxScaleLoss=1.692, ClassLoss=1.333\n",
      "[Epoch 6][Batch 260], LR: 1.00E-04, Speed: 2.786 samples/sec, ObjLoss=4.426, BoxCenterLoss=6.255, BoxScaleLoss=1.699, ClassLoss=1.324\n",
      "[Epoch 6][Batch 280], LR: 1.00E-04, Speed: 4.503 samples/sec, ObjLoss=4.451, BoxCenterLoss=6.282, BoxScaleLoss=1.711, ClassLoss=1.341\n",
      "[Epoch 6][Batch 300], LR: 1.00E-04, Speed: 6.623 samples/sec, ObjLoss=4.444, BoxCenterLoss=6.283, BoxScaleLoss=1.703, ClassLoss=1.353\n",
      "[Epoch 6][Batch 320], LR: 1.00E-04, Speed: 3.517 samples/sec, ObjLoss=4.394, BoxCenterLoss=6.279, BoxScaleLoss=1.690, ClassLoss=1.325\n",
      "[Epoch 6][Batch 340], LR: 1.00E-04, Speed: 2.222 samples/sec, ObjLoss=4.346, BoxCenterLoss=6.262, BoxScaleLoss=1.681, ClassLoss=1.308\n",
      "[Epoch 6][Batch 360], LR: 1.00E-04, Speed: 8.090 samples/sec, ObjLoss=4.343, BoxCenterLoss=6.287, BoxScaleLoss=1.701, ClassLoss=1.309\n",
      "[Epoch 7][Batch 0], LR: 1.00E-04, Speed: 3.573 samples/sec, ObjLoss=8.700, BoxCenterLoss=11.455, BoxScaleLoss=4.010, ClassLoss=2.737\n",
      "[Epoch 7][Batch 20], LR: 1.00E-04, Speed: 5.041 samples/sec, ObjLoss=5.070, BoxCenterLoss=6.211, BoxScaleLoss=2.019, ClassLoss=1.545\n",
      "[Epoch 7][Batch 40], LR: 1.00E-04, Speed: 6.811 samples/sec, ObjLoss=4.355, BoxCenterLoss=6.084, BoxScaleLoss=1.822, ClassLoss=1.211\n",
      "[Epoch 7][Batch 60], LR: 1.00E-04, Speed: 9.878 samples/sec, ObjLoss=4.883, BoxCenterLoss=6.202, BoxScaleLoss=1.831, ClassLoss=1.292\n",
      "[Epoch 7][Batch 80], LR: 1.00E-04, Speed: 5.287 samples/sec, ObjLoss=4.859, BoxCenterLoss=6.399, BoxScaleLoss=1.794, ClassLoss=1.424\n",
      "[Epoch 7][Batch 100], LR: 1.00E-04, Speed: 5.040 samples/sec, ObjLoss=4.796, BoxCenterLoss=6.416, BoxScaleLoss=1.796, ClassLoss=1.399\n",
      "[Epoch 7][Batch 120], LR: 1.00E-04, Speed: 2.637 samples/sec, ObjLoss=4.651, BoxCenterLoss=6.391, BoxScaleLoss=1.799, ClassLoss=1.324\n",
      "[Epoch 7][Batch 140], LR: 1.00E-04, Speed: 4.053 samples/sec, ObjLoss=4.709, BoxCenterLoss=6.337, BoxScaleLoss=1.764, ClassLoss=1.337\n",
      "[Epoch 7][Batch 160], LR: 1.00E-04, Speed: 3.740 samples/sec, ObjLoss=4.722, BoxCenterLoss=6.277, BoxScaleLoss=1.754, ClassLoss=1.360\n",
      "[Epoch 7][Batch 180], LR: 1.00E-04, Speed: 7.672 samples/sec, ObjLoss=4.693, BoxCenterLoss=6.337, BoxScaleLoss=1.786, ClassLoss=1.322\n",
      "[Epoch 7][Batch 200], LR: 1.00E-04, Speed: 2.844 samples/sec, ObjLoss=4.720, BoxCenterLoss=6.389, BoxScaleLoss=1.824, ClassLoss=1.322\n",
      "[Epoch 7][Batch 220], LR: 1.00E-04, Speed: 3.334 samples/sec, ObjLoss=4.760, BoxCenterLoss=6.358, BoxScaleLoss=1.831, ClassLoss=1.299\n",
      "[Epoch 7][Batch 240], LR: 1.00E-04, Speed: 2.761 samples/sec, ObjLoss=4.621, BoxCenterLoss=6.297, BoxScaleLoss=1.828, ClassLoss=1.251\n",
      "[Epoch 7][Batch 260], LR: 1.00E-04, Speed: 7.435 samples/sec, ObjLoss=4.522, BoxCenterLoss=6.304, BoxScaleLoss=1.814, ClassLoss=1.244\n",
      "[Epoch 7][Batch 280], LR: 1.00E-04, Speed: 8.467 samples/sec, ObjLoss=4.493, BoxCenterLoss=6.295, BoxScaleLoss=1.804, ClassLoss=1.261\n",
      "[Epoch 7][Batch 300], LR: 1.00E-04, Speed: 7.352 samples/sec, ObjLoss=4.488, BoxCenterLoss=6.322, BoxScaleLoss=1.816, ClassLoss=1.257\n",
      "[Epoch 7][Batch 320], LR: 1.00E-04, Speed: 7.555 samples/sec, ObjLoss=4.445, BoxCenterLoss=6.305, BoxScaleLoss=1.804, ClassLoss=1.246\n",
      "[Epoch 7][Batch 340], LR: 1.00E-04, Speed: 3.911 samples/sec, ObjLoss=4.421, BoxCenterLoss=6.299, BoxScaleLoss=1.807, ClassLoss=1.219\n",
      "[Epoch 7][Batch 360], LR: 1.00E-04, Speed: 2.610 samples/sec, ObjLoss=4.402, BoxCenterLoss=6.295, BoxScaleLoss=1.809, ClassLoss=1.230\n",
      "[Epoch 8][Batch 0], LR: 1.00E-04, Speed: 4.709 samples/sec, ObjLoss=4.815, BoxCenterLoss=2.979, BoxScaleLoss=0.400, ClassLoss=0.904\n",
      "[Epoch 8][Batch 20], LR: 1.00E-04, Speed: 4.232 samples/sec, ObjLoss=4.042, BoxCenterLoss=5.636, BoxScaleLoss=1.553, ClassLoss=0.921\n",
      "[Epoch 8][Batch 40], LR: 1.00E-04, Speed: 4.905 samples/sec, ObjLoss=4.484, BoxCenterLoss=6.286, BoxScaleLoss=1.741, ClassLoss=1.288\n",
      "[Epoch 8][Batch 60], LR: 1.00E-04, Speed: 7.065 samples/sec, ObjLoss=4.296, BoxCenterLoss=6.268, BoxScaleLoss=1.766, ClassLoss=1.220\n",
      "[Epoch 8][Batch 80], LR: 1.00E-04, Speed: 2.615 samples/sec, ObjLoss=4.538, BoxCenterLoss=6.524, BoxScaleLoss=1.825, ClassLoss=1.330\n",
      "[Epoch 8][Batch 100], LR: 1.00E-04, Speed: 2.608 samples/sec, ObjLoss=4.431, BoxCenterLoss=6.419, BoxScaleLoss=1.836, ClassLoss=1.269\n",
      "[Epoch 8][Batch 120], LR: 1.00E-04, Speed: 8.713 samples/sec, ObjLoss=4.414, BoxCenterLoss=6.413, BoxScaleLoss=1.846, ClassLoss=1.243\n",
      "[Epoch 8][Batch 140], LR: 1.00E-04, Speed: 3.215 samples/sec, ObjLoss=4.268, BoxCenterLoss=6.312, BoxScaleLoss=1.813, ClassLoss=1.222\n",
      "[Epoch 8][Batch 160], LR: 1.00E-04, Speed: 7.205 samples/sec, ObjLoss=4.221, BoxCenterLoss=6.233, BoxScaleLoss=1.789, ClassLoss=1.204\n",
      "[Epoch 8][Batch 180], LR: 1.00E-04, Speed: 2.991 samples/sec, ObjLoss=4.267, BoxCenterLoss=6.229, BoxScaleLoss=1.769, ClassLoss=1.221\n",
      "[Epoch 8][Batch 200], LR: 1.00E-04, Speed: 9.437 samples/sec, ObjLoss=4.224, BoxCenterLoss=6.231, BoxScaleLoss=1.760, ClassLoss=1.203\n",
      "[Epoch 8][Batch 220], LR: 1.00E-04, Speed: 2.525 samples/sec, ObjLoss=4.205, BoxCenterLoss=6.218, BoxScaleLoss=1.750, ClassLoss=1.172\n",
      "[Epoch 8][Batch 240], LR: 1.00E-04, Speed: 4.029 samples/sec, ObjLoss=4.171, BoxCenterLoss=6.213, BoxScaleLoss=1.762, ClassLoss=1.180\n",
      "[Epoch 8][Batch 260], LR: 1.00E-04, Speed: 3.358 samples/sec, ObjLoss=4.162, BoxCenterLoss=6.214, BoxScaleLoss=1.758, ClassLoss=1.152\n",
      "[Epoch 8][Batch 280], LR: 1.00E-04, Speed: 3.464 samples/sec, ObjLoss=4.174, BoxCenterLoss=6.190, BoxScaleLoss=1.744, ClassLoss=1.165\n",
      "[Epoch 8][Batch 300], LR: 1.00E-04, Speed: 7.982 samples/sec, ObjLoss=4.158, BoxCenterLoss=6.201, BoxScaleLoss=1.749, ClassLoss=1.150\n",
      "[Epoch 8][Batch 320], LR: 1.00E-04, Speed: 2.672 samples/sec, ObjLoss=4.143, BoxCenterLoss=6.223, BoxScaleLoss=1.742, ClassLoss=1.141\n",
      "[Epoch 8][Batch 340], LR: 1.00E-04, Speed: 3.489 samples/sec, ObjLoss=4.168, BoxCenterLoss=6.250, BoxScaleLoss=1.750, ClassLoss=1.149\n",
      "[Epoch 8][Batch 360], LR: 1.00E-04, Speed: 4.634 samples/sec, ObjLoss=4.166, BoxCenterLoss=6.257, BoxScaleLoss=1.740, ClassLoss=1.148\n",
      "[Epoch 9][Batch 0], LR: 1.00E-04, Speed: 5.950 samples/sec, ObjLoss=1.978, BoxCenterLoss=5.396, BoxScaleLoss=1.462, ClassLoss=0.102\n",
      "[Epoch 9][Batch 20], LR: 1.00E-04, Speed: 2.548 samples/sec, ObjLoss=3.969, BoxCenterLoss=6.284, BoxScaleLoss=1.804, ClassLoss=0.905\n",
      "[Epoch 9][Batch 40], LR: 1.00E-04, Speed: 2.757 samples/sec, ObjLoss=3.981, BoxCenterLoss=6.172, BoxScaleLoss=1.919, ClassLoss=1.153\n",
      "[Epoch 9][Batch 60], LR: 1.00E-04, Speed: 4.244 samples/sec, ObjLoss=3.891, BoxCenterLoss=6.037, BoxScaleLoss=1.855, ClassLoss=1.002\n",
      "[Epoch 9][Batch 80], LR: 1.00E-04, Speed: 9.581 samples/sec, ObjLoss=3.991, BoxCenterLoss=5.984, BoxScaleLoss=1.780, ClassLoss=0.989\n",
      "[Epoch 9][Batch 100], LR: 1.00E-04, Speed: 6.426 samples/sec, ObjLoss=4.052, BoxCenterLoss=5.990, BoxScaleLoss=1.735, ClassLoss=1.079\n",
      "[Epoch 9][Batch 120], LR: 1.00E-04, Speed: 5.962 samples/sec, ObjLoss=4.085, BoxCenterLoss=6.018, BoxScaleLoss=1.727, ClassLoss=1.061\n",
      "[Epoch 9][Batch 140], LR: 1.00E-04, Speed: 3.518 samples/sec, ObjLoss=4.114, BoxCenterLoss=6.077, BoxScaleLoss=1.719, ClassLoss=1.098\n",
      "[Epoch 9][Batch 160], LR: 1.00E-04, Speed: 3.435 samples/sec, ObjLoss=4.158, BoxCenterLoss=6.182, BoxScaleLoss=1.748, ClassLoss=1.081\n",
      "[Epoch 9][Batch 180], LR: 1.00E-04, Speed: 4.311 samples/sec, ObjLoss=4.133, BoxCenterLoss=6.160, BoxScaleLoss=1.748, ClassLoss=1.059\n",
      "[Epoch 9][Batch 200], LR: 1.00E-04, Speed: 7.153 samples/sec, ObjLoss=4.041, BoxCenterLoss=6.151, BoxScaleLoss=1.719, ClassLoss=1.069\n",
      "[Epoch 9][Batch 220], LR: 1.00E-04, Speed: 2.198 samples/sec, ObjLoss=4.076, BoxCenterLoss=6.115, BoxScaleLoss=1.714, ClassLoss=1.094\n",
      "[Epoch 9][Batch 240], LR: 1.00E-04, Speed: 3.048 samples/sec, ObjLoss=4.063, BoxCenterLoss=6.069, BoxScaleLoss=1.688, ClassLoss=1.092\n",
      "[Epoch 9][Batch 260], LR: 1.00E-04, Speed: 2.570 samples/sec, ObjLoss=4.085, BoxCenterLoss=6.102, BoxScaleLoss=1.708, ClassLoss=1.155\n",
      "[Epoch 9][Batch 280], LR: 1.00E-04, Speed: 5.554 samples/sec, ObjLoss=4.084, BoxCenterLoss=6.107, BoxScaleLoss=1.707, ClassLoss=1.152\n"
     ]
    },
    {
     "name": "stdout",
     "output_type": "stream",
     "text": [
      "[Epoch 9][Batch 300], LR: 1.00E-04, Speed: 3.862 samples/sec, ObjLoss=4.109, BoxCenterLoss=6.140, BoxScaleLoss=1.692, ClassLoss=1.166\n",
      "[Epoch 9][Batch 320], LR: 1.00E-04, Speed: 2.752 samples/sec, ObjLoss=4.141, BoxCenterLoss=6.178, BoxScaleLoss=1.700, ClassLoss=1.172\n",
      "[Epoch 9][Batch 340], LR: 1.00E-04, Speed: 6.870 samples/sec, ObjLoss=4.098, BoxCenterLoss=6.166, BoxScaleLoss=1.680, ClassLoss=1.156\n",
      "[Epoch 9][Batch 360], LR: 1.00E-04, Speed: 2.296 samples/sec, ObjLoss=4.126, BoxCenterLoss=6.161, BoxScaleLoss=1.674, ClassLoss=1.141\n"
     ]
    }
   ],
   "source": [
    "gtf.Train(epochs, params_file);"
   ]
  },
  {
   "cell_type": "code",
   "execution_count": null,
   "metadata": {},
   "outputs": [],
   "source": []
  },
  {
   "cell_type": "code",
   "execution_count": null,
   "metadata": {},
   "outputs": [],
   "source": []
  },
  {
   "cell_type": "code",
   "execution_count": null,
   "metadata": {},
   "outputs": [],
   "source": []
  },
  {
   "cell_type": "code",
   "execution_count": null,
   "metadata": {},
   "outputs": [],
   "source": []
  },
  {
   "cell_type": "code",
   "execution_count": null,
   "metadata": {},
   "outputs": [],
   "source": []
  },
  {
   "cell_type": "markdown",
   "metadata": {},
   "source": [
    "# Running Inference"
   ]
  },
  {
   "cell_type": "code",
   "execution_count": 11,
   "metadata": {},
   "outputs": [],
   "source": [
    "import os\n",
    "import sys\n",
    "sys.path.append(\"Monk_Object_Detection/1_gluoncv_finetune/lib/\");"
   ]
  },
  {
   "cell_type": "code",
   "execution_count": 12,
   "metadata": {},
   "outputs": [],
   "source": [
    "from inference_prototype import Infer"
   ]
  },
  {
   "cell_type": "code",
   "execution_count": 15,
   "metadata": {},
   "outputs": [],
   "source": [
    "model_name = \"yolo3_darknet53_coco\";\n",
    "params_file = \"saved_model.params\";\n",
    "class_list = [\"type-0\", \"type-1\", \"type-2\", \"type-3\", \"type-4\"];"
   ]
  },
  {
   "cell_type": "code",
   "execution_count": 16,
   "metadata": {},
   "outputs": [],
   "source": [
    "gtf = Infer(model_name, params_file, class_list, use_gpu=True);"
   ]
  },
  {
   "cell_type": "code",
   "execution_count": null,
   "metadata": {},
   "outputs": [],
   "source": []
  },
  {
   "cell_type": "code",
   "execution_count": 17,
   "metadata": {},
   "outputs": [],
   "source": [
    "img_name = \"Monk_Object_Detection/example_notebooks/sample_dataset/ship/test/img1.jpg\"; \n",
    "visualize = True;\n",
    "thresh = 0.56;"
   ]
  },
  {
   "cell_type": "code",
   "execution_count": 18,
   "metadata": {},
   "outputs": [
    {
     "data": {
      "image/png": "[encoded data removed]",
      "text/plain": [
       "<Figure size 432x288 with 1 Axes>"
      ]
     },
     "metadata": {
      "needs_background": "light"
     },
     "output_type": "display_data"
    }
   ],
   "source": [
    "output = gtf.run(img_name, visualize=visualize, thresh=thresh);"
   ]
  },
  {
   "cell_type": "code",
   "execution_count": null,
   "metadata": {},
   "outputs": [],
   "source": []
  },
  {
   "cell_type": "code",
   "execution_count": null,
   "metadata": {},
   "outputs": [],
   "source": []
  },
  {
   "cell_type": "code",
   "execution_count": null,
   "metadata": {},
   "outputs": [],
   "source": []
  },
  {
   "cell_type": "code",
   "execution_count": null,
   "metadata": {},
   "outputs": [],
   "source": []
  },
  {
   "cell_type": "code",
   "execution_count": null,
   "metadata": {},
   "outputs": [],
   "source": []
  },
  {
   "cell_type": "markdown",
   "metadata": {},
   "source": [
    "# Author - Tessellate Imaging - https://www.tessellateimaging.com/\n",
    "\n",
    "# Monk Library - https://github.com/Tessellate-Imaging/monk_v1\n",
    "\n",
    "    Monk is an opensource low-code tool for computer vision and deep learning\n",
    "\n",
    "\n",
    "## Monk features\n",
    "   - low-code\n",
    "   - unified wrapper over major deep learning framework - keras, pytorch, gluoncv\n",
    "   - syntax invariant wrapper\n",
    "\n",
    "## Enables\n",
    "\n",
    "    - to create, manage and version control deep learning experiments\n",
    "    - to compare experiments across training metrics\n",
    "    - to quickly find best hyper-parameters\n",
    "\n",
    "## At present it only supports transfer learning, but we are working each day to incorporate\n",
    "\n",
    "    - GUI based custom model creation\n",
    "    - various object detection and segmentation algorithms\n",
    "    - deployment pipelines to cloud and local platforms\n",
    "    - acceleration libraries such as TensorRT\n",
    "    - preprocessing and post processing libraries\n",
    "\n",
    "\n",
    "## To contribute to Monk AI or Monk Object Detection repository raise an issue in the git-repo or dm us on linkedin\n",
    "\n",
    "    - Abhishek - https://www.linkedin.com/in/abhishek-kumar-annamraju/\n",
    "    - Akash - https://www.linkedin.com/in/akashdeepsingh01/\n",
    "\n"
   ]
  },
  {
   "cell_type": "code",
   "execution_count": null,
   "metadata": {},
   "outputs": [],
   "source": []
  }
 ],
 "metadata": {
  "kernelspec": {
   "display_name": "Python 3",
   "language": "python",
   "name": "python3"
  },
  "language_info": {
   "codemirror_mode": {
    "name": "ipython",
    "version": 3
   },
   "file_extension": ".py",
   "mimetype": "text/x-python",
   "name": "python",
   "nbconvert_exporter": "python",
   "pygments_lexer": "ipython3",
   "version": "3.6.9"
  }
 },
 "nbformat": 4,
 "nbformat_minor": 2
}
