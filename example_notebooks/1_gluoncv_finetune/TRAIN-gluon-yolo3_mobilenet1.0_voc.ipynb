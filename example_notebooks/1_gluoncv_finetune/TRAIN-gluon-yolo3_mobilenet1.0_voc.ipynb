{
 "cells": [
  {
   "cell_type": "code",
   "execution_count": null,
   "metadata": {},
   "outputs": [],
   "source": []
  },
  {
   "cell_type": "code",
   "execution_count": null,
   "metadata": {},
   "outputs": [],
   "source": []
  },
  {
   "cell_type": "markdown",
   "metadata": {},
   "source": [
    "# Installation\n",
    "\n",
    " - Run these commands\n",
    "     \n",
    "     - git clone https://github.com/Tessellate-Imaging/Monk_Object_Detection.git\n",
    "     \n",
    "     - cd Monk_Object_Detection/1_gluoncv_finetune/installation\n",
    "     \n",
    " - Select the right requirements file and run\n",
    " \n",
    "     - cat requirements_cuda9.0.txt | xargs -n 1 -L 1 pip install"
   ]
  },
  {
   "cell_type": "code",
   "execution_count": null,
   "metadata": {},
   "outputs": [],
   "source": [
    "! git clone https://github.com/Tessellate-Imaging/Monk_Object_Detection.git"
   ]
  },
  {
   "cell_type": "code",
   "execution_count": null,
   "metadata": {},
   "outputs": [],
   "source": [
    "# For colab use the command below\n",
    "! cd Monk_Object_Detection/1_gluoncv_finetune/installation && cat requirements_colab.txt | xargs -n 1 -L 1 pip install\n",
    "\n",
    "\n",
    "# For Local systems and cloud select the right CUDA version\n",
    "# !cd Monk_Object_Detection/1_gluoncv_finetune/installation && cat requirements_cuda9.0.txt | xargs -n 1 -L 1 pip install"
   ]
  },
  {
   "cell_type": "code",
   "execution_count": null,
   "metadata": {},
   "outputs": [],
   "source": []
  },
  {
   "cell_type": "markdown",
   "metadata": {},
   "source": [
    "## Dataset Directory Structure\n",
    "\n",
    "    Parent_Directory (root)\n",
    "          |\n",
    "          |-----------Images (img_dir)\n",
    "          |              |\n",
    "          |              |------------------img1.jpg\n",
    "          |              |------------------img2.jpg\n",
    "          |              |------------------.........(and so on)\n",
    "          |\n",
    "          |\n",
    "          |-----------train_labels.csv (anno_file)\n",
    "          \n",
    "          \n",
    "## Annotation file format\n",
    "\n",
    "           | Id         | Labels                                 |\n",
    "           | img1.jpg   | x1 y1 x2 y2 label1 x1 y1 x2 y2 label2  |\n",
    "           \n",
    "- Labels:  xmin ymin xmax ymax label\n",
    "- xmin, ymin - top left corner of bounding box\n",
    "- xmax, ymax - bottom right corner of bounding box"
   ]
  },
  {
   "cell_type": "code",
   "execution_count": null,
   "metadata": {},
   "outputs": [],
   "source": []
  },
  {
   "cell_type": "code",
   "execution_count": null,
   "metadata": {},
   "outputs": [],
   "source": []
  },
  {
   "cell_type": "code",
   "execution_count": null,
   "metadata": {},
   "outputs": [],
   "source": []
  },
  {
   "cell_type": "code",
   "execution_count": null,
   "metadata": {},
   "outputs": [],
   "source": []
  },
  {
   "cell_type": "markdown",
   "metadata": {},
   "source": [
    "# About the Network\n",
    "\n",
    "1. Blog 1 on Yolo Network - https://towardsdatascience.com/yolo-you-only-look-once-real-time-object-detection-explained-492dc9230006\n",
    "\n",
    "2. Blog 2 on Yolo Network - https://hackernoon.com/understanding-yolo-f5a74bbc7967\n",
    "\n",
    "3. Blog 3 on Yolo Network - https://towardsdatascience.com/yolo-v3-object-detection-53fb7d3bfe6b\n",
    "\n",
    "4. Blog 4 on Yolo Network - https://towardsdatascience.com/review-yolov3-you-only-look-once-object-detection-eab75d7a1ba6\n",
    "\n",
    "5. Blog 5 on Yolo Network - https://medium.com/analytics-vidhya/yolo-v3-theory-explained-33100f6d193\n",
    "\n",
    "6. More on Darknet by it's author - https://pjreddie.com/darknet/\n",
    "\n",
    "7. Reference Tutorial - https://gluon.mxnet.io/chapter08_computer-vision/object-detection.html"
   ]
  },
  {
   "cell_type": "code",
   "execution_count": null,
   "metadata": {},
   "outputs": [],
   "source": []
  },
  {
   "cell_type": "code",
   "execution_count": 1,
   "metadata": {},
   "outputs": [],
   "source": [
    "import os\n",
    "import sys\n",
    "sys.path.append(\"Monk_Object_Detection/1_gluoncv_finetune/lib/\");"
   ]
  },
  {
   "cell_type": "code",
   "execution_count": 2,
   "metadata": {},
   "outputs": [],
   "source": [
    "from detector_prototype import Detector"
   ]
  },
  {
   "cell_type": "code",
   "execution_count": 3,
   "metadata": {},
   "outputs": [],
   "source": [
    "gtf = Detector();"
   ]
  },
  {
   "cell_type": "code",
   "execution_count": null,
   "metadata": {},
   "outputs": [],
   "source": []
  },
  {
   "cell_type": "code",
   "execution_count": null,
   "metadata": {},
   "outputs": [],
   "source": []
  },
  {
   "cell_type": "code",
   "execution_count": null,
   "metadata": {},
   "outputs": [],
   "source": []
  },
  {
   "cell_type": "code",
   "execution_count": null,
   "metadata": {},
   "outputs": [],
   "source": []
  },
  {
   "cell_type": "markdown",
   "metadata": {},
   "source": [
    "# Sample Dataset Credits\n",
    "\n",
    "- credits: https://www.tejashwi.io/object-detection-with-fizyr-retinanet/"
   ]
  },
  {
   "cell_type": "code",
   "execution_count": 4,
   "metadata": {},
   "outputs": [],
   "source": [
    "root = \"Monk_Object_Detection/example_notebooks/sample_dataset/ship/\";                         \n",
    "img_dir = \"Images/\";                                                     \n",
    "anno_file = \"train_labels.csv\";\n",
    "batch_size=4;"
   ]
  },
  {
   "cell_type": "code",
   "execution_count": 5,
   "metadata": {},
   "outputs": [
    {
     "data": {
      "application/vnd.jupyter.widget-view+json": {
       "model_id": "c171e109382d43d8b8e9514f15e94952",
       "version_major": 2,
       "version_minor": 0
      },
      "text/plain": [
       "HBox(children=(FloatProgress(value=0.0, max=750.0), HTML(value='')))"
      ]
     },
     "metadata": {},
     "output_type": "display_data"
    },
    {
     "name": "stdout",
     "output_type": "stream",
     "text": [
      "\n"
     ]
    },
    {
     "data": {
      "application/vnd.jupyter.widget-view+json": {
       "model_id": "39e71e27a0d8479581ff6a495827d5e6",
       "version_major": 2,
       "version_minor": 0
      },
      "text/plain": [
       "HBox(children=(FloatProgress(value=0.0, max=750.0), HTML(value='')))"
      ]
     },
     "metadata": {},
     "output_type": "display_data"
    },
    {
     "name": "stdout",
     "output_type": "stream",
     "text": [
      "\n"
     ]
    }
   ],
   "source": [
    "gtf.Dataset(root, img_dir, anno_file, batch_size=batch_size);"
   ]
  },
  {
   "cell_type": "code",
   "execution_count": null,
   "metadata": {},
   "outputs": [],
   "source": []
  },
  {
   "cell_type": "code",
   "execution_count": null,
   "metadata": {},
   "outputs": [],
   "source": []
  },
  {
   "cell_type": "code",
   "execution_count": null,
   "metadata": {},
   "outputs": [],
   "source": []
  },
  {
   "cell_type": "code",
   "execution_count": null,
   "metadata": {},
   "outputs": [],
   "source": []
  },
  {
   "cell_type": "code",
   "execution_count": 6,
   "metadata": {},
   "outputs": [],
   "source": [
    "pretrained = True;         \n",
    "gpu=True;\n",
    "model_name = \"yolo3_mobilenet1.0_voc\";  "
   ]
  },
  {
   "cell_type": "code",
   "execution_count": 7,
   "metadata": {},
   "outputs": [],
   "source": [
    "gtf.Model(model_name, use_pretrained=pretrained, use_gpu=gpu);"
   ]
  },
  {
   "cell_type": "code",
   "execution_count": null,
   "metadata": {},
   "outputs": [],
   "source": []
  },
  {
   "cell_type": "code",
   "execution_count": null,
   "metadata": {},
   "outputs": [],
   "source": []
  },
  {
   "cell_type": "code",
   "execution_count": 8,
   "metadata": {},
   "outputs": [],
   "source": [
    "gtf.Set_Learning_Rate(0.0001);"
   ]
  },
  {
   "cell_type": "code",
   "execution_count": 9,
   "metadata": {},
   "outputs": [],
   "source": [
    "epochs=10;\n",
    "params_file = \"saved_model.params\";"
   ]
  },
  {
   "cell_type": "code",
   "execution_count": 10,
   "metadata": {},
   "outputs": [
    {
     "name": "stdout",
     "output_type": "stream",
     "text": [
      "[Epoch 0][Batch 0], LR: 1.00E-04, Speed: 0.444 samples/sec, ObjLoss=7351.344, BoxCenterLoss=8.394, BoxScaleLoss=4.465, ClassLoss=9.809\n",
      "[Epoch 0][Batch 20], LR: 1.00E-04, Speed: 4.313 samples/sec, ObjLoss=418.863, BoxCenterLoss=7.804, BoxScaleLoss=4.011, ClassLoss=8.819\n",
      "[Epoch 0][Batch 40], LR: 1.00E-04, Speed: 2.581 samples/sec, ObjLoss=223.852, BoxCenterLoss=7.913, BoxScaleLoss=3.597, ClassLoss=8.530\n",
      "[Epoch 0][Batch 60], LR: 1.00E-04, Speed: 4.352 samples/sec, ObjLoss=154.679, BoxCenterLoss=7.798, BoxScaleLoss=3.281, ClassLoss=7.934\n",
      "[Epoch 0][Batch 80], LR: 1.00E-04, Speed: 7.042 samples/sec, ObjLoss=119.217, BoxCenterLoss=7.642, BoxScaleLoss=3.074, ClassLoss=7.482\n",
      "[Epoch 0][Batch 100], LR: 1.00E-04, Speed: 8.113 samples/sec, ObjLoss=97.455, BoxCenterLoss=7.525, BoxScaleLoss=2.870, ClassLoss=6.964\n",
      "[Epoch 0][Batch 120], LR: 1.00E-04, Speed: 2.953 samples/sec, ObjLoss=83.054, BoxCenterLoss=7.421, BoxScaleLoss=2.744, ClassLoss=6.550\n",
      "[Epoch 0][Batch 140], LR: 1.00E-04, Speed: 6.263 samples/sec, ObjLoss=72.640, BoxCenterLoss=7.323, BoxScaleLoss=2.624, ClassLoss=6.221\n",
      "[Epoch 0][Batch 160], LR: 1.00E-04, Speed: 4.021 samples/sec, ObjLoss=64.878, BoxCenterLoss=7.313, BoxScaleLoss=2.600, ClassLoss=5.971\n",
      "[Epoch 0][Batch 180], LR: 1.00E-04, Speed: 11.123 samples/sec, ObjLoss=58.726, BoxCenterLoss=7.296, BoxScaleLoss=2.558, ClassLoss=5.763\n",
      "[Epoch 1][Batch 0], LR: 1.00E-04, Speed: 8.661 samples/sec, ObjLoss=6.381, BoxCenterLoss=4.492, BoxScaleLoss=1.476, ClassLoss=1.969\n",
      "[Epoch 1][Batch 20], LR: 1.00E-04, Speed: 2.458 samples/sec, ObjLoss=9.780, BoxCenterLoss=7.317, BoxScaleLoss=2.411, ClassLoss=3.730\n",
      "[Epoch 1][Batch 40], LR: 1.00E-04, Speed: 4.377 samples/sec, ObjLoss=8.909, BoxCenterLoss=7.204, BoxScaleLoss=2.267, ClassLoss=3.449\n",
      "[Epoch 1][Batch 60], LR: 1.00E-04, Speed: 3.813 samples/sec, ObjLoss=8.446, BoxCenterLoss=7.049, BoxScaleLoss=2.188, ClassLoss=3.307\n",
      "[Epoch 1][Batch 80], LR: 1.00E-04, Speed: 10.830 samples/sec, ObjLoss=8.407, BoxCenterLoss=7.008, BoxScaleLoss=2.110, ClassLoss=3.264\n",
      "[Epoch 1][Batch 100], LR: 1.00E-04, Speed: 4.994 samples/sec, ObjLoss=8.489, BoxCenterLoss=7.080, BoxScaleLoss=2.141, ClassLoss=3.229\n",
      "[Epoch 1][Batch 120], LR: 1.00E-04, Speed: 4.279 samples/sec, ObjLoss=8.385, BoxCenterLoss=7.071, BoxScaleLoss=2.127, ClassLoss=3.104\n",
      "[Epoch 1][Batch 140], LR: 1.00E-04, Speed: 3.972 samples/sec, ObjLoss=8.352, BoxCenterLoss=7.076, BoxScaleLoss=2.107, ClassLoss=3.033\n",
      "[Epoch 1][Batch 160], LR: 1.00E-04, Speed: 5.274 samples/sec, ObjLoss=8.322, BoxCenterLoss=7.067, BoxScaleLoss=2.124, ClassLoss=3.021\n",
      "[Epoch 1][Batch 180], LR: 1.00E-04, Speed: 12.333 samples/sec, ObjLoss=8.170, BoxCenterLoss=7.059, BoxScaleLoss=2.107, ClassLoss=2.907\n",
      "[Epoch 2][Batch 0], LR: 1.00E-04, Speed: 10.573 samples/sec, ObjLoss=6.721, BoxCenterLoss=6.019, BoxScaleLoss=2.561, ClassLoss=1.677\n",
      "[Epoch 2][Batch 20], LR: 1.00E-04, Speed: 9.907 samples/sec, ObjLoss=7.290, BoxCenterLoss=6.862, BoxScaleLoss=2.113, ClassLoss=2.255\n",
      "[Epoch 2][Batch 40], LR: 1.00E-04, Speed: 4.125 samples/sec, ObjLoss=7.169, BoxCenterLoss=6.881, BoxScaleLoss=2.031, ClassLoss=2.180\n",
      "[Epoch 2][Batch 60], LR: 1.00E-04, Speed: 3.576 samples/sec, ObjLoss=7.465, BoxCenterLoss=6.880, BoxScaleLoss=2.038, ClassLoss=2.273\n",
      "[Epoch 2][Batch 80], LR: 1.00E-04, Speed: 4.968 samples/sec, ObjLoss=7.264, BoxCenterLoss=6.879, BoxScaleLoss=2.031, ClassLoss=2.236\n",
      "[Epoch 2][Batch 100], LR: 1.00E-04, Speed: 5.460 samples/sec, ObjLoss=7.182, BoxCenterLoss=6.856, BoxScaleLoss=2.023, ClassLoss=2.157\n",
      "[Epoch 2][Batch 120], LR: 1.00E-04, Speed: 5.137 samples/sec, ObjLoss=7.152, BoxCenterLoss=6.840, BoxScaleLoss=2.017, ClassLoss=2.160\n",
      "[Epoch 2][Batch 140], LR: 1.00E-04, Speed: 8.597 samples/sec, ObjLoss=7.214, BoxCenterLoss=6.796, BoxScaleLoss=2.023, ClassLoss=2.216\n",
      "[Epoch 2][Batch 160], LR: 1.00E-04, Speed: 3.804 samples/sec, ObjLoss=7.165, BoxCenterLoss=6.821, BoxScaleLoss=1.996, ClassLoss=2.203\n",
      "[Epoch 2][Batch 180], LR: 1.00E-04, Speed: 6.633 samples/sec, ObjLoss=7.218, BoxCenterLoss=6.824, BoxScaleLoss=1.990, ClassLoss=2.223\n",
      "[Epoch 3][Batch 0], LR: 1.00E-04, Speed: 7.723 samples/sec, ObjLoss=3.265, BoxCenterLoss=4.640, BoxScaleLoss=1.383, ClassLoss=1.817\n",
      "[Epoch 3][Batch 20], LR: 1.00E-04, Speed: 6.031 samples/sec, ObjLoss=6.521, BoxCenterLoss=6.533, BoxScaleLoss=2.052, ClassLoss=1.938\n",
      "[Epoch 3][Batch 40], LR: 1.00E-04, Speed: 12.307 samples/sec, ObjLoss=6.884, BoxCenterLoss=6.530, BoxScaleLoss=2.068, ClassLoss=2.023\n",
      "[Epoch 3][Batch 60], LR: 1.00E-04, Speed: 4.773 samples/sec, ObjLoss=6.857, BoxCenterLoss=6.684, BoxScaleLoss=2.075, ClassLoss=2.040\n",
      "[Epoch 3][Batch 80], LR: 1.00E-04, Speed: 4.542 samples/sec, ObjLoss=6.772, BoxCenterLoss=6.599, BoxScaleLoss=2.058, ClassLoss=2.055\n",
      "[Epoch 3][Batch 100], LR: 1.00E-04, Speed: 6.596 samples/sec, ObjLoss=6.882, BoxCenterLoss=6.741, BoxScaleLoss=2.095, ClassLoss=2.101\n",
      "[Epoch 3][Batch 120], LR: 1.00E-04, Speed: 9.557 samples/sec, ObjLoss=6.873, BoxCenterLoss=6.788, BoxScaleLoss=2.098, ClassLoss=2.152\n",
      "[Epoch 3][Batch 140], LR: 1.00E-04, Speed: 6.362 samples/sec, ObjLoss=6.691, BoxCenterLoss=6.775, BoxScaleLoss=2.046, ClassLoss=2.113\n",
      "[Epoch 3][Batch 160], LR: 1.00E-04, Speed: 8.522 samples/sec, ObjLoss=6.646, BoxCenterLoss=6.726, BoxScaleLoss=2.033, ClassLoss=2.069\n",
      "[Epoch 3][Batch 180], LR: 1.00E-04, Speed: 4.580 samples/sec, ObjLoss=6.669, BoxCenterLoss=6.722, BoxScaleLoss=2.021, ClassLoss=2.076\n",
      "[Epoch 4][Batch 0], LR: 1.00E-04, Speed: 7.174 samples/sec, ObjLoss=4.427, BoxCenterLoss=5.764, BoxScaleLoss=1.383, ClassLoss=2.059\n",
      "[Epoch 4][Batch 20], LR: 1.00E-04, Speed: 2.456 samples/sec, ObjLoss=6.819, BoxCenterLoss=6.830, BoxScaleLoss=2.161, ClassLoss=2.112\n",
      "[Epoch 4][Batch 40], LR: 1.00E-04, Speed: 3.428 samples/sec, ObjLoss=6.551, BoxCenterLoss=6.633, BoxScaleLoss=2.010, ClassLoss=1.933\n",
      "[Epoch 4][Batch 60], LR: 1.00E-04, Speed: 5.119 samples/sec, ObjLoss=6.517, BoxCenterLoss=6.481, BoxScaleLoss=1.952, ClassLoss=1.932\n",
      "[Epoch 4][Batch 80], LR: 1.00E-04, Speed: 12.589 samples/sec, ObjLoss=6.233, BoxCenterLoss=6.512, BoxScaleLoss=1.917, ClassLoss=1.847\n",
      "[Epoch 4][Batch 100], LR: 1.00E-04, Speed: 3.563 samples/sec, ObjLoss=6.194, BoxCenterLoss=6.522, BoxScaleLoss=1.912, ClassLoss=1.810\n",
      "[Epoch 4][Batch 120], LR: 1.00E-04, Speed: 3.480 samples/sec, ObjLoss=6.145, BoxCenterLoss=6.584, BoxScaleLoss=1.916, ClassLoss=1.812\n",
      "[Epoch 4][Batch 140], LR: 1.00E-04, Speed: 6.841 samples/sec, ObjLoss=6.183, BoxCenterLoss=6.606, BoxScaleLoss=1.914, ClassLoss=1.830\n",
      "[Epoch 4][Batch 160], LR: 1.00E-04, Speed: 2.572 samples/sec, ObjLoss=6.437, BoxCenterLoss=6.657, BoxScaleLoss=1.934, ClassLoss=1.901\n",
      "[Epoch 4][Batch 180], LR: 1.00E-04, Speed: 3.527 samples/sec, ObjLoss=6.485, BoxCenterLoss=6.684, BoxScaleLoss=1.959, ClassLoss=1.924\n",
      "[Epoch 5][Batch 0], LR: 1.00E-04, Speed: 3.539 samples/sec, ObjLoss=6.884, BoxCenterLoss=7.331, BoxScaleLoss=2.067, ClassLoss=1.167\n",
      "[Epoch 5][Batch 20], LR: 1.00E-04, Speed: 5.259 samples/sec, ObjLoss=7.066, BoxCenterLoss=6.929, BoxScaleLoss=1.999, ClassLoss=2.380\n",
      "[Epoch 5][Batch 40], LR: 1.00E-04, Speed: 10.326 samples/sec, ObjLoss=6.643, BoxCenterLoss=6.995, BoxScaleLoss=1.838, ClassLoss=1.971\n",
      "[Epoch 5][Batch 60], LR: 1.00E-04, Speed: 6.243 samples/sec, ObjLoss=6.364, BoxCenterLoss=6.923, BoxScaleLoss=1.803, ClassLoss=1.855\n",
      "[Epoch 5][Batch 80], LR: 1.00E-04, Speed: 3.240 samples/sec, ObjLoss=6.386, BoxCenterLoss=6.927, BoxScaleLoss=1.906, ClassLoss=1.825\n",
      "[Epoch 5][Batch 100], LR: 1.00E-04, Speed: 4.744 samples/sec, ObjLoss=6.184, BoxCenterLoss=6.857, BoxScaleLoss=1.932, ClassLoss=1.758\n",
      "[Epoch 5][Batch 120], LR: 1.00E-04, Speed: 3.525 samples/sec, ObjLoss=6.098, BoxCenterLoss=6.775, BoxScaleLoss=1.941, ClassLoss=1.700\n",
      "[Epoch 5][Batch 140], LR: 1.00E-04, Speed: 5.121 samples/sec, ObjLoss=6.102, BoxCenterLoss=6.692, BoxScaleLoss=1.920, ClassLoss=1.682\n",
      "[Epoch 5][Batch 160], LR: 1.00E-04, Speed: 4.820 samples/sec, ObjLoss=5.958, BoxCenterLoss=6.679, BoxScaleLoss=1.917, ClassLoss=1.650\n",
      "[Epoch 5][Batch 180], LR: 1.00E-04, Speed: 9.611 samples/sec, ObjLoss=5.954, BoxCenterLoss=6.717, BoxScaleLoss=1.924, ClassLoss=1.691\n",
      "[Epoch 6][Batch 0], LR: 1.00E-04, Speed: 3.314 samples/sec, ObjLoss=6.190, BoxCenterLoss=7.525, BoxScaleLoss=1.833, ClassLoss=2.741\n",
      "[Epoch 6][Batch 20], LR: 1.00E-04, Speed: 6.293 samples/sec, ObjLoss=5.383, BoxCenterLoss=6.625, BoxScaleLoss=1.751, ClassLoss=1.463\n"
     ]
    },
    {
     "name": "stdout",
     "output_type": "stream",
     "text": [
      "[Epoch 6][Batch 40], LR: 1.00E-04, Speed: 4.425 samples/sec, ObjLoss=5.805, BoxCenterLoss=6.826, BoxScaleLoss=1.899, ClassLoss=1.658\n",
      "[Epoch 6][Batch 60], LR: 1.00E-04, Speed: 8.103 samples/sec, ObjLoss=5.330, BoxCenterLoss=6.561, BoxScaleLoss=1.804, ClassLoss=1.540\n",
      "[Epoch 6][Batch 80], LR: 1.00E-04, Speed: 4.181 samples/sec, ObjLoss=5.503, BoxCenterLoss=6.559, BoxScaleLoss=1.821, ClassLoss=1.527\n",
      "[Epoch 6][Batch 100], LR: 1.00E-04, Speed: 8.922 samples/sec, ObjLoss=5.538, BoxCenterLoss=6.471, BoxScaleLoss=1.868, ClassLoss=1.501\n",
      "[Epoch 6][Batch 120], LR: 1.00E-04, Speed: 4.952 samples/sec, ObjLoss=5.614, BoxCenterLoss=6.557, BoxScaleLoss=1.860, ClassLoss=1.545\n",
      "[Epoch 6][Batch 140], LR: 1.00E-04, Speed: 5.703 samples/sec, ObjLoss=5.642, BoxCenterLoss=6.501, BoxScaleLoss=1.835, ClassLoss=1.550\n",
      "[Epoch 6][Batch 160], LR: 1.00E-04, Speed: 4.682 samples/sec, ObjLoss=5.669, BoxCenterLoss=6.481, BoxScaleLoss=1.815, ClassLoss=1.559\n",
      "[Epoch 6][Batch 180], LR: 1.00E-04, Speed: 4.141 samples/sec, ObjLoss=5.638, BoxCenterLoss=6.449, BoxScaleLoss=1.797, ClassLoss=1.562\n",
      "[Epoch 7][Batch 0], LR: 1.00E-04, Speed: 9.286 samples/sec, ObjLoss=4.521, BoxCenterLoss=2.913, BoxScaleLoss=0.838, ClassLoss=1.645\n",
      "[Epoch 7][Batch 20], LR: 1.00E-04, Speed: 4.469 samples/sec, ObjLoss=5.994, BoxCenterLoss=6.873, BoxScaleLoss=1.791, ClassLoss=1.712\n",
      "[Epoch 7][Batch 40], LR: 1.00E-04, Speed: 6.901 samples/sec, ObjLoss=5.712, BoxCenterLoss=6.609, BoxScaleLoss=1.710, ClassLoss=1.547\n",
      "[Epoch 7][Batch 60], LR: 1.00E-04, Speed: 5.041 samples/sec, ObjLoss=5.471, BoxCenterLoss=6.355, BoxScaleLoss=1.710, ClassLoss=1.464\n",
      "[Epoch 7][Batch 80], LR: 1.00E-04, Speed: 4.729 samples/sec, ObjLoss=5.462, BoxCenterLoss=6.338, BoxScaleLoss=1.691, ClassLoss=1.463\n",
      "[Epoch 7][Batch 100], LR: 1.00E-04, Speed: 7.186 samples/sec, ObjLoss=5.375, BoxCenterLoss=6.357, BoxScaleLoss=1.719, ClassLoss=1.460\n",
      "[Epoch 7][Batch 120], LR: 1.00E-04, Speed: 7.271 samples/sec, ObjLoss=5.363, BoxCenterLoss=6.361, BoxScaleLoss=1.700, ClassLoss=1.473\n",
      "[Epoch 7][Batch 140], LR: 1.00E-04, Speed: 6.985 samples/sec, ObjLoss=5.310, BoxCenterLoss=6.335, BoxScaleLoss=1.699, ClassLoss=1.463\n",
      "[Epoch 7][Batch 160], LR: 1.00E-04, Speed: 3.005 samples/sec, ObjLoss=5.269, BoxCenterLoss=6.358, BoxScaleLoss=1.704, ClassLoss=1.445\n",
      "[Epoch 7][Batch 180], LR: 1.00E-04, Speed: 4.211 samples/sec, ObjLoss=5.212, BoxCenterLoss=6.346, BoxScaleLoss=1.719, ClassLoss=1.465\n",
      "[Epoch 8][Batch 0], LR: 1.00E-04, Speed: 4.840 samples/sec, ObjLoss=4.450, BoxCenterLoss=8.052, BoxScaleLoss=2.169, ClassLoss=1.693\n",
      "[Epoch 8][Batch 20], LR: 1.00E-04, Speed: 5.010 samples/sec, ObjLoss=5.274, BoxCenterLoss=6.497, BoxScaleLoss=1.746, ClassLoss=1.481\n",
      "[Epoch 8][Batch 40], LR: 1.00E-04, Speed: 5.934 samples/sec, ObjLoss=5.318, BoxCenterLoss=6.402, BoxScaleLoss=1.711, ClassLoss=1.431\n",
      "[Epoch 8][Batch 60], LR: 1.00E-04, Speed: 3.902 samples/sec, ObjLoss=5.219, BoxCenterLoss=6.186, BoxScaleLoss=1.738, ClassLoss=1.382\n",
      "[Epoch 8][Batch 80], LR: 1.00E-04, Speed: 5.033 samples/sec, ObjLoss=5.263, BoxCenterLoss=6.297, BoxScaleLoss=1.762, ClassLoss=1.437\n",
      "[Epoch 8][Batch 100], LR: 1.00E-04, Speed: 3.135 samples/sec, ObjLoss=5.511, BoxCenterLoss=6.544, BoxScaleLoss=1.827, ClassLoss=1.517\n",
      "[Epoch 8][Batch 120], LR: 1.00E-04, Speed: 6.089 samples/sec, ObjLoss=5.440, BoxCenterLoss=6.484, BoxScaleLoss=1.824, ClassLoss=1.517\n",
      "[Epoch 8][Batch 140], LR: 1.00E-04, Speed: 10.602 samples/sec, ObjLoss=5.522, BoxCenterLoss=6.480, BoxScaleLoss=1.823, ClassLoss=1.480\n",
      "[Epoch 8][Batch 160], LR: 1.00E-04, Speed: 5.396 samples/sec, ObjLoss=5.514, BoxCenterLoss=6.460, BoxScaleLoss=1.807, ClassLoss=1.468\n",
      "[Epoch 8][Batch 180], LR: 1.00E-04, Speed: 10.363 samples/sec, ObjLoss=5.457, BoxCenterLoss=6.442, BoxScaleLoss=1.794, ClassLoss=1.436\n",
      "[Epoch 9][Batch 0], LR: 1.00E-04, Speed: 6.828 samples/sec, ObjLoss=3.333, BoxCenterLoss=5.259, BoxScaleLoss=1.036, ClassLoss=0.757\n",
      "[Epoch 9][Batch 20], LR: 1.00E-04, Speed: 6.708 samples/sec, ObjLoss=4.612, BoxCenterLoss=6.613, BoxScaleLoss=1.697, ClassLoss=1.438\n",
      "[Epoch 9][Batch 40], LR: 1.00E-04, Speed: 4.052 samples/sec, ObjLoss=4.914, BoxCenterLoss=6.474, BoxScaleLoss=1.733, ClassLoss=1.505\n",
      "[Epoch 9][Batch 60], LR: 1.00E-04, Speed: 4.976 samples/sec, ObjLoss=5.054, BoxCenterLoss=6.646, BoxScaleLoss=1.741, ClassLoss=1.391\n",
      "[Epoch 9][Batch 80], LR: 1.00E-04, Speed: 11.218 samples/sec, ObjLoss=5.215, BoxCenterLoss=6.701, BoxScaleLoss=1.774, ClassLoss=1.544\n",
      "[Epoch 9][Batch 100], LR: 1.00E-04, Speed: 6.203 samples/sec, ObjLoss=5.103, BoxCenterLoss=6.587, BoxScaleLoss=1.722, ClassLoss=1.442\n",
      "[Epoch 9][Batch 120], LR: 1.00E-04, Speed: 5.827 samples/sec, ObjLoss=5.057, BoxCenterLoss=6.463, BoxScaleLoss=1.706, ClassLoss=1.477\n",
      "[Epoch 9][Batch 140], LR: 1.00E-04, Speed: 5.426 samples/sec, ObjLoss=5.007, BoxCenterLoss=6.507, BoxScaleLoss=1.703, ClassLoss=1.407\n",
      "[Epoch 9][Batch 160], LR: 1.00E-04, Speed: 9.764 samples/sec, ObjLoss=4.953, BoxCenterLoss=6.445, BoxScaleLoss=1.678, ClassLoss=1.387\n",
      "[Epoch 9][Batch 180], LR: 1.00E-04, Speed: 6.551 samples/sec, ObjLoss=4.897, BoxCenterLoss=6.407, BoxScaleLoss=1.650, ClassLoss=1.336\n"
     ]
    }
   ],
   "source": [
    "gtf.Train(epochs, params_file);"
   ]
  },
  {
   "cell_type": "code",
   "execution_count": null,
   "metadata": {},
   "outputs": [],
   "source": []
  },
  {
   "cell_type": "code",
   "execution_count": null,
   "metadata": {},
   "outputs": [],
   "source": []
  },
  {
   "cell_type": "code",
   "execution_count": null,
   "metadata": {},
   "outputs": [],
   "source": []
  },
  {
   "cell_type": "code",
   "execution_count": null,
   "metadata": {},
   "outputs": [],
   "source": []
  },
  {
   "cell_type": "code",
   "execution_count": null,
   "metadata": {},
   "outputs": [],
   "source": []
  },
  {
   "cell_type": "markdown",
   "metadata": {},
   "source": [
    "# Running Inference"
   ]
  },
  {
   "cell_type": "code",
   "execution_count": 11,
   "metadata": {},
   "outputs": [],
   "source": [
    "import os\n",
    "import sys\n",
    "sys.path.append(\"Monk_Object_Detection/1_gluoncv_finetune/lib/\");"
   ]
  },
  {
   "cell_type": "code",
   "execution_count": 12,
   "metadata": {},
   "outputs": [],
   "source": [
    "from inference_prototype import Infer"
   ]
  },
  {
   "cell_type": "code",
   "execution_count": 13,
   "metadata": {},
   "outputs": [],
   "source": [
    "model_name = \"yolo3_mobilenet1.0_voc\";\n",
    "params_file = \"saved_model.params\";\n",
    "class_list = [\"type-0\", \"type-1\", \"type-2\", \"type-3\", \"type-4\"];"
   ]
  },
  {
   "cell_type": "code",
   "execution_count": 14,
   "metadata": {},
   "outputs": [],
   "source": [
    "gtf = Infer(model_name, params_file, class_list, use_gpu=True);"
   ]
  },
  {
   "cell_type": "code",
   "execution_count": null,
   "metadata": {},
   "outputs": [],
   "source": []
  },
  {
   "cell_type": "code",
   "execution_count": 17,
   "metadata": {},
   "outputs": [],
   "source": [
    "img_name = \"Monk_Object_Detection/example_notebooks/sample_dataset/ship/test/img5.jpg\"; \n",
    "visualize = True;\n",
    "thresh = 0.1;"
   ]
  },
  {
   "cell_type": "code",
   "execution_count": 18,
   "metadata": {},
   "outputs": [
    {
     "data": {
      "image/png": "[encoded data removed]",
      "text/plain": [
       "<Figure size 432x288 with 1 Axes>"
      ]
     },
     "metadata": {
      "needs_background": "light"
     },
     "output_type": "display_data"
    }
   ],
   "source": [
    "output = gtf.run(img_name, visualize=visualize, thresh=thresh);"
   ]
  },
  {
   "cell_type": "code",
   "execution_count": null,
   "metadata": {},
   "outputs": [],
   "source": []
  },
  {
   "cell_type": "code",
   "execution_count": null,
   "metadata": {},
   "outputs": [],
   "source": []
  },
  {
   "cell_type": "code",
   "execution_count": null,
   "metadata": {},
   "outputs": [],
   "source": []
  },
  {
   "cell_type": "code",
   "execution_count": null,
   "metadata": {},
   "outputs": [],
   "source": []
  },
  {
   "cell_type": "markdown",
   "metadata": {},
   "source": [
    "# Author - Tessellate Imaging - https://www.tessellateimaging.com/\n",
    "\n",
    "# Monk Library - https://github.com/Tessellate-Imaging/monk_v1\n",
    "\n",
    "    Monk is an opensource low-code tool for computer vision and deep learning\n",
    "\n",
    "\n",
    "## Monk features\n",
    "   - low-code\n",
    "   - unified wrapper over major deep learning framework - keras, pytorch, gluoncv\n",
    "   - syntax invariant wrapper\n",
    "\n",
    "## Enables\n",
    "\n",
    "    - to create, manage and version control deep learning experiments\n",
    "    - to compare experiments across training metrics\n",
    "    - to quickly find best hyper-parameters\n",
    "\n",
    "## At present it only supports transfer learning, but we are working each day to incorporate\n",
    "\n",
    "    - GUI based custom model creation\n",
    "    - various object detection and segmentation algorithms\n",
    "    - deployment pipelines to cloud and local platforms\n",
    "    - acceleration libraries such as TensorRT\n",
    "    - preprocessing and post processing libraries\n",
    "\n",
    "\n",
    "## To contribute to Monk AI or Monk Object Detection repository raise an issue in the git-repo or dm us on linkedin\n",
    "\n",
    "    - Abhishek - https://www.linkedin.com/in/abhishek-kumar-annamraju/\n",
    "    - Akash - https://www.linkedin.com/in/akashdeepsingh01/\n",
    "\n"
   ]
  },
  {
   "cell_type": "code",
   "execution_count": null,
   "metadata": {},
   "outputs": [],
   "source": []
  }
 ],
 "metadata": {
  "kernelspec": {
   "display_name": "Python 3",
   "language": "python",
   "name": "python3"
  },
  "language_info": {
   "codemirror_mode": {
    "name": "ipython",
    "version": 3
   },
   "file_extension": ".py",
   "mimetype": "text/x-python",
   "name": "python",
   "nbconvert_exporter": "python",
   "pygments_lexer": "ipython3",
   "version": "3.6.9"
  }
 },
 "nbformat": 4,
 "nbformat_minor": 2
}
