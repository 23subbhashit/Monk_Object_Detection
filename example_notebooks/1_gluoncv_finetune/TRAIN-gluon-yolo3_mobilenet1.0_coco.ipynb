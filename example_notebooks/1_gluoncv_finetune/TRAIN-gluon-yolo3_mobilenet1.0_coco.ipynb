{
 "cells": [
  {
   "cell_type": "code",
   "execution_count": null,
   "metadata": {},
   "outputs": [],
   "source": []
  },
  {
   "cell_type": "markdown",
   "metadata": {},
   "source": [
    "# Installation\n",
    "\n",
    " - Run these commands\n",
    "     \n",
    "     - git clone https://github.com/Tessellate-Imaging/Monk_Object_Detection.git\n",
    "     \n",
    "     - cd Monk_Object_Detection/1_gluoncv_finetune/installation\n",
    "     \n",
    " - Select the right requirements file and run\n",
    " \n",
    "     - cat requirements_cuda9.0.txt | xargs -n 1 -L 1 pip install"
   ]
  },
  {
   "cell_type": "code",
   "execution_count": null,
   "metadata": {},
   "outputs": [],
   "source": [
    "! git clone https://github.com/Tessellate-Imaging/Monk_Object_Detection.git"
   ]
  },
  {
   "cell_type": "code",
   "execution_count": null,
   "metadata": {},
   "outputs": [],
   "source": [
    "# For colab use the command below\n",
    "! cd Monk_Object_Detection/1_gluoncv_finetune/installation && cat requirements_colab.txt | xargs -n 1 -L 1 pip install\n",
    "\n",
    "\n",
    "# For Local systems and cloud select the right CUDA version\n",
    "# !cd Monk_Object_Detection/1_gluoncv_finetune/installation && cat requirements_cuda9.0.txt | xargs -n 1 -L 1 pip install"
   ]
  },
  {
   "cell_type": "code",
   "execution_count": null,
   "metadata": {},
   "outputs": [],
   "source": []
  },
  {
   "cell_type": "code",
   "execution_count": null,
   "metadata": {},
   "outputs": [],
   "source": []
  },
  {
   "cell_type": "markdown",
   "metadata": {},
   "source": [
    "## Dataset Directory Structure\n",
    "\n",
    "    Parent_Directory (root)\n",
    "          |\n",
    "          |-----------Images (img_dir)\n",
    "          |              |\n",
    "          |              |------------------img1.jpg\n",
    "          |              |------------------img2.jpg\n",
    "          |              |------------------.........(and so on)\n",
    "          |\n",
    "          |\n",
    "          |-----------train_labels.csv (anno_file)\n",
    "          \n",
    "          \n",
    "## Annotation file format\n",
    "\n",
    "           | Id         | Labels                                 |\n",
    "           | img1.jpg   | x1 y1 x2 y2 label1 x1 y1 x2 y2 label2  |\n",
    "           \n",
    "- Labels:  xmin ymin xmax ymax label\n",
    "- xmin, ymin - top left corner of bounding box\n",
    "- xmax, ymax - bottom right corner of bounding box"
   ]
  },
  {
   "cell_type": "code",
   "execution_count": null,
   "metadata": {},
   "outputs": [],
   "source": []
  },
  {
   "cell_type": "code",
   "execution_count": null,
   "metadata": {},
   "outputs": [],
   "source": []
  },
  {
   "cell_type": "code",
   "execution_count": null,
   "metadata": {},
   "outputs": [],
   "source": []
  },
  {
   "cell_type": "markdown",
   "metadata": {},
   "source": [
    "# About the Network\n",
    "\n",
    "1. Blog 1 on Yolo Network - https://towardsdatascience.com/yolo-you-only-look-once-real-time-object-detection-explained-492dc9230006\n",
    "\n",
    "2. Blog 2 on Yolo Network - https://hackernoon.com/understanding-yolo-f5a74bbc7967\n",
    "\n",
    "3. Blog 3 on Yolo Network - https://towardsdatascience.com/yolo-v3-object-detection-53fb7d3bfe6b\n",
    "\n",
    "4. Blog 4 on Yolo Network - https://towardsdatascience.com/review-yolov3-you-only-look-once-object-detection-eab75d7a1ba6\n",
    "\n",
    "5. Blog 5 on Yolo Network - https://medium.com/analytics-vidhya/yolo-v3-theory-explained-33100f6d193\n",
    "\n",
    "6. More on Darknet by it's author - https://pjreddie.com/darknet/\n",
    "\n",
    "7. Reference Tutorial - https://gluon.mxnet.io/chapter08_computer-vision/object-detection.html"
   ]
  },
  {
   "cell_type": "code",
   "execution_count": null,
   "metadata": {},
   "outputs": [],
   "source": []
  },
  {
   "cell_type": "code",
   "execution_count": 1,
   "metadata": {},
   "outputs": [],
   "source": [
    "import os\n",
    "import sys\n",
    "sys.path.append(\"Monk_Object_Detection/1_gluoncv_finetune/lib/\");"
   ]
  },
  {
   "cell_type": "code",
   "execution_count": 2,
   "metadata": {},
   "outputs": [],
   "source": [
    "from detector_prototype import Detector"
   ]
  },
  {
   "cell_type": "code",
   "execution_count": 3,
   "metadata": {},
   "outputs": [],
   "source": [
    "gtf = Detector();"
   ]
  },
  {
   "cell_type": "code",
   "execution_count": null,
   "metadata": {},
   "outputs": [],
   "source": []
  },
  {
   "cell_type": "code",
   "execution_count": null,
   "metadata": {},
   "outputs": [],
   "source": []
  },
  {
   "cell_type": "code",
   "execution_count": null,
   "metadata": {},
   "outputs": [],
   "source": []
  },
  {
   "cell_type": "code",
   "execution_count": null,
   "metadata": {},
   "outputs": [],
   "source": []
  },
  {
   "cell_type": "markdown",
   "metadata": {},
   "source": [
    "# Sample Dataset Credits\n",
    "\n",
    "- credits: https://www.tejashwi.io/object-detection-with-fizyr-retinanet/"
   ]
  },
  {
   "cell_type": "code",
   "execution_count": 4,
   "metadata": {},
   "outputs": [],
   "source": [
    "root = \"Monk_Object_Detection/example_notebooks/sample_dataset/ship/\";                         \n",
    "img_dir = \"Images/\";                                                     \n",
    "anno_file = \"train_labels.csv\";\n",
    "batch_size=4;"
   ]
  },
  {
   "cell_type": "code",
   "execution_count": 5,
   "metadata": {},
   "outputs": [
    {
     "data": {
      "application/vnd.jupyter.widget-view+json": {
       "model_id": "5f81018a63cd409b87ca5271c83bd1b7",
       "version_major": 2,
       "version_minor": 0
      },
      "text/plain": [
       "HBox(children=(FloatProgress(value=0.0, max=750.0), HTML(value='')))"
      ]
     },
     "metadata": {},
     "output_type": "display_data"
    },
    {
     "name": "stdout",
     "output_type": "stream",
     "text": [
      "\n"
     ]
    },
    {
     "data": {
      "application/vnd.jupyter.widget-view+json": {
       "model_id": "75f3cf5fcf434cc3aac8e73f9e59db2f",
       "version_major": 2,
       "version_minor": 0
      },
      "text/plain": [
       "HBox(children=(FloatProgress(value=0.0, max=750.0), HTML(value='')))"
      ]
     },
     "metadata": {},
     "output_type": "display_data"
    },
    {
     "name": "stdout",
     "output_type": "stream",
     "text": [
      "\n"
     ]
    }
   ],
   "source": [
    "gtf.Dataset(root, img_dir, anno_file, batch_size=batch_size);"
   ]
  },
  {
   "cell_type": "code",
   "execution_count": null,
   "metadata": {},
   "outputs": [],
   "source": []
  },
  {
   "cell_type": "code",
   "execution_count": null,
   "metadata": {},
   "outputs": [],
   "source": []
  },
  {
   "cell_type": "code",
   "execution_count": null,
   "metadata": {},
   "outputs": [],
   "source": []
  },
  {
   "cell_type": "code",
   "execution_count": null,
   "metadata": {},
   "outputs": [],
   "source": []
  },
  {
   "cell_type": "code",
   "execution_count": 6,
   "metadata": {},
   "outputs": [],
   "source": [
    "pretrained = True;         \n",
    "gpu=True;\n",
    "model_name = \"yolo3_mobilenet1.0_coco\";  "
   ]
  },
  {
   "cell_type": "code",
   "execution_count": 7,
   "metadata": {},
   "outputs": [],
   "source": [
    "gtf.Model(model_name, use_pretrained=pretrained, use_gpu=gpu);"
   ]
  },
  {
   "cell_type": "code",
   "execution_count": null,
   "metadata": {},
   "outputs": [],
   "source": []
  },
  {
   "cell_type": "code",
   "execution_count": null,
   "metadata": {},
   "outputs": [],
   "source": []
  },
  {
   "cell_type": "code",
   "execution_count": 8,
   "metadata": {},
   "outputs": [],
   "source": [
    "gtf.Set_Learning_Rate(0.0001);"
   ]
  },
  {
   "cell_type": "code",
   "execution_count": 9,
   "metadata": {},
   "outputs": [],
   "source": [
    "epochs=10;\n",
    "params_file = \"saved_model.params\";"
   ]
  },
  {
   "cell_type": "code",
   "execution_count": 10,
   "metadata": {},
   "outputs": [
    {
     "name": "stdout",
     "output_type": "stream",
     "text": [
      "[Epoch 0][Batch 0], LR: 1.00E-04, Speed: 0.456 samples/sec, ObjLoss=7702.492, BoxCenterLoss=6.796, BoxScaleLoss=4.465, ClassLoss=8.848\n",
      "[Epoch 0][Batch 20], LR: 1.00E-04, Speed: 8.367 samples/sec, ObjLoss=453.783, BoxCenterLoss=7.471, BoxScaleLoss=3.525, ClassLoss=8.580\n",
      "[Epoch 0][Batch 40], LR: 1.00E-04, Speed: 5.034 samples/sec, ObjLoss=242.105, BoxCenterLoss=7.477, BoxScaleLoss=3.137, ClassLoss=8.010\n",
      "[Epoch 0][Batch 60], LR: 1.00E-04, Speed: 5.970 samples/sec, ObjLoss=167.782, BoxCenterLoss=7.549, BoxScaleLoss=2.967, ClassLoss=7.662\n",
      "[Epoch 0][Batch 80], LR: 1.00E-04, Speed: 6.983 samples/sec, ObjLoss=128.956, BoxCenterLoss=7.321, BoxScaleLoss=2.788, ClassLoss=7.060\n",
      "[Epoch 0][Batch 100], LR: 1.00E-04, Speed: 6.233 samples/sec, ObjLoss=105.501, BoxCenterLoss=7.302, BoxScaleLoss=2.666, ClassLoss=6.707\n",
      "[Epoch 0][Batch 120], LR: 1.00E-04, Speed: 10.752 samples/sec, ObjLoss=89.744, BoxCenterLoss=7.333, BoxScaleLoss=2.583, ClassLoss=6.445\n",
      "[Epoch 0][Batch 140], LR: 1.00E-04, Speed: 5.750 samples/sec, ObjLoss=78.325, BoxCenterLoss=7.300, BoxScaleLoss=2.521, ClassLoss=6.166\n",
      "[Epoch 0][Batch 160], LR: 1.00E-04, Speed: 8.519 samples/sec, ObjLoss=69.675, BoxCenterLoss=7.279, BoxScaleLoss=2.481, ClassLoss=5.874\n",
      "[Epoch 0][Batch 180], LR: 1.00E-04, Speed: 4.843 samples/sec, ObjLoss=63.022, BoxCenterLoss=7.272, BoxScaleLoss=2.454, ClassLoss=5.659\n",
      "[Epoch 1][Batch 0], LR: 1.00E-04, Speed: 7.104 samples/sec, ObjLoss=11.193, BoxCenterLoss=8.608, BoxScaleLoss=3.237, ClassLoss=4.355\n",
      "[Epoch 1][Batch 20], LR: 1.00E-04, Speed: 10.795 samples/sec, ObjLoss=9.232, BoxCenterLoss=7.557, BoxScaleLoss=2.743, ClassLoss=3.537\n",
      "[Epoch 1][Batch 40], LR: 1.00E-04, Speed: 12.219 samples/sec, ObjLoss=8.949, BoxCenterLoss=7.250, BoxScaleLoss=2.528, ClassLoss=3.311\n",
      "[Epoch 1][Batch 60], LR: 1.00E-04, Speed: 9.489 samples/sec, ObjLoss=8.600, BoxCenterLoss=7.100, BoxScaleLoss=2.338, ClassLoss=3.072\n",
      "[Epoch 1][Batch 80], LR: 1.00E-04, Speed: 6.577 samples/sec, ObjLoss=8.584, BoxCenterLoss=7.074, BoxScaleLoss=2.343, ClassLoss=3.083\n",
      "[Epoch 1][Batch 100], LR: 1.00E-04, Speed: 4.841 samples/sec, ObjLoss=8.473, BoxCenterLoss=7.034, BoxScaleLoss=2.277, ClassLoss=3.038\n",
      "[Epoch 1][Batch 120], LR: 1.00E-04, Speed: 11.933 samples/sec, ObjLoss=8.348, BoxCenterLoss=7.033, BoxScaleLoss=2.290, ClassLoss=2.947\n",
      "[Epoch 1][Batch 140], LR: 1.00E-04, Speed: 11.956 samples/sec, ObjLoss=8.188, BoxCenterLoss=6.997, BoxScaleLoss=2.247, ClassLoss=2.878\n",
      "[Epoch 1][Batch 160], LR: 1.00E-04, Speed: 3.647 samples/sec, ObjLoss=8.089, BoxCenterLoss=6.909, BoxScaleLoss=2.215, ClassLoss=2.817\n",
      "[Epoch 1][Batch 180], LR: 1.00E-04, Speed: 6.721 samples/sec, ObjLoss=8.083, BoxCenterLoss=6.929, BoxScaleLoss=2.230, ClassLoss=2.792\n",
      "[Epoch 2][Batch 0], LR: 1.00E-04, Speed: 11.081 samples/sec, ObjLoss=3.855, BoxCenterLoss=5.485, BoxScaleLoss=1.807, ClassLoss=2.068\n",
      "[Epoch 2][Batch 20], LR: 1.00E-04, Speed: 10.803 samples/sec, ObjLoss=7.785, BoxCenterLoss=6.666, BoxScaleLoss=2.114, ClassLoss=2.279\n",
      "[Epoch 2][Batch 40], LR: 1.00E-04, Speed: 6.850 samples/sec, ObjLoss=7.427, BoxCenterLoss=6.665, BoxScaleLoss=2.086, ClassLoss=2.191\n",
      "[Epoch 2][Batch 60], LR: 1.00E-04, Speed: 6.007 samples/sec, ObjLoss=7.250, BoxCenterLoss=6.694, BoxScaleLoss=2.022, ClassLoss=2.241\n",
      "[Epoch 2][Batch 80], LR: 1.00E-04, Speed: 2.504 samples/sec, ObjLoss=7.280, BoxCenterLoss=6.798, BoxScaleLoss=2.057, ClassLoss=2.309\n",
      "[Epoch 2][Batch 100], LR: 1.00E-04, Speed: 11.573 samples/sec, ObjLoss=7.249, BoxCenterLoss=6.807, BoxScaleLoss=2.058, ClassLoss=2.297\n",
      "[Epoch 2][Batch 120], LR: 1.00E-04, Speed: 6.990 samples/sec, ObjLoss=7.202, BoxCenterLoss=6.774, BoxScaleLoss=2.050, ClassLoss=2.285\n",
      "[Epoch 2][Batch 140], LR: 1.00E-04, Speed: 7.959 samples/sec, ObjLoss=7.088, BoxCenterLoss=6.746, BoxScaleLoss=2.036, ClassLoss=2.218\n",
      "[Epoch 2][Batch 160], LR: 1.00E-04, Speed: 4.336 samples/sec, ObjLoss=7.051, BoxCenterLoss=6.790, BoxScaleLoss=2.068, ClassLoss=2.248\n",
      "[Epoch 2][Batch 180], LR: 1.00E-04, Speed: 9.945 samples/sec, ObjLoss=6.982, BoxCenterLoss=6.780, BoxScaleLoss=2.062, ClassLoss=2.250\n",
      "[Epoch 3][Batch 0], LR: 1.00E-04, Speed: 5.856 samples/sec, ObjLoss=7.419, BoxCenterLoss=5.819, BoxScaleLoss=1.722, ClassLoss=2.215\n",
      "[Epoch 3][Batch 20], LR: 1.00E-04, Speed: 8.026 samples/sec, ObjLoss=6.979, BoxCenterLoss=6.769, BoxScaleLoss=2.097, ClassLoss=2.340\n",
      "[Epoch 3][Batch 40], LR: 1.00E-04, Speed: 7.507 samples/sec, ObjLoss=7.015, BoxCenterLoss=6.978, BoxScaleLoss=2.178, ClassLoss=2.476\n",
      "[Epoch 3][Batch 60], LR: 1.00E-04, Speed: 5.256 samples/sec, ObjLoss=6.962, BoxCenterLoss=6.810, BoxScaleLoss=2.168, ClassLoss=2.351\n",
      "[Epoch 3][Batch 80], LR: 1.00E-04, Speed: 4.014 samples/sec, ObjLoss=6.878, BoxCenterLoss=6.889, BoxScaleLoss=2.104, ClassLoss=2.354\n",
      "[Epoch 3][Batch 100], LR: 1.00E-04, Speed: 8.873 samples/sec, ObjLoss=6.816, BoxCenterLoss=6.881, BoxScaleLoss=2.094, ClassLoss=2.279\n",
      "[Epoch 3][Batch 120], LR: 1.00E-04, Speed: 4.674 samples/sec, ObjLoss=6.763, BoxCenterLoss=6.816, BoxScaleLoss=2.017, ClassLoss=2.197\n",
      "[Epoch 3][Batch 140], LR: 1.00E-04, Speed: 9.161 samples/sec, ObjLoss=6.755, BoxCenterLoss=6.850, BoxScaleLoss=2.005, ClassLoss=2.222\n",
      "[Epoch 3][Batch 160], LR: 1.00E-04, Speed: 5.705 samples/sec, ObjLoss=6.736, BoxCenterLoss=6.817, BoxScaleLoss=1.987, ClassLoss=2.198\n",
      "[Epoch 3][Batch 180], LR: 1.00E-04, Speed: 8.594 samples/sec, ObjLoss=6.649, BoxCenterLoss=6.709, BoxScaleLoss=1.952, ClassLoss=2.185\n",
      "[Epoch 4][Batch 0], LR: 1.00E-04, Speed: 3.392 samples/sec, ObjLoss=6.536, BoxCenterLoss=5.312, BoxScaleLoss=2.120, ClassLoss=2.296\n",
      "[Epoch 4][Batch 20], LR: 1.00E-04, Speed: 3.069 samples/sec, ObjLoss=6.414, BoxCenterLoss=6.745, BoxScaleLoss=2.136, ClassLoss=2.214\n",
      "[Epoch 4][Batch 40], LR: 1.00E-04, Speed: 10.236 samples/sec, ObjLoss=5.935, BoxCenterLoss=6.701, BoxScaleLoss=2.006, ClassLoss=1.968\n",
      "[Epoch 4][Batch 60], LR: 1.00E-04, Speed: 6.164 samples/sec, ObjLoss=6.165, BoxCenterLoss=6.753, BoxScaleLoss=1.964, ClassLoss=2.106\n",
      "[Epoch 4][Batch 80], LR: 1.00E-04, Speed: 4.292 samples/sec, ObjLoss=6.133, BoxCenterLoss=6.769, BoxScaleLoss=1.958, ClassLoss=2.066\n",
      "[Epoch 4][Batch 100], LR: 1.00E-04, Speed: 8.453 samples/sec, ObjLoss=6.079, BoxCenterLoss=6.713, BoxScaleLoss=1.913, ClassLoss=2.059\n",
      "[Epoch 4][Batch 120], LR: 1.00E-04, Speed: 5.350 samples/sec, ObjLoss=5.965, BoxCenterLoss=6.652, BoxScaleLoss=1.878, ClassLoss=1.993\n",
      "[Epoch 4][Batch 140], LR: 1.00E-04, Speed: 3.556 samples/sec, ObjLoss=5.849, BoxCenterLoss=6.595, BoxScaleLoss=1.826, ClassLoss=1.951\n",
      "[Epoch 4][Batch 160], LR: 1.00E-04, Speed: 6.718 samples/sec, ObjLoss=5.771, BoxCenterLoss=6.610, BoxScaleLoss=1.817, ClassLoss=1.932\n",
      "[Epoch 4][Batch 180], LR: 1.00E-04, Speed: 11.727 samples/sec, ObjLoss=5.801, BoxCenterLoss=6.652, BoxScaleLoss=1.826, ClassLoss=1.966\n",
      "[Epoch 5][Batch 0], LR: 1.00E-04, Speed: 3.948 samples/sec, ObjLoss=4.856, BoxCenterLoss=9.078, BoxScaleLoss=2.303, ClassLoss=1.665\n",
      "[Epoch 5][Batch 20], LR: 1.00E-04, Speed: 2.721 samples/sec, ObjLoss=6.023, BoxCenterLoss=7.038, BoxScaleLoss=1.949, ClassLoss=1.752\n",
      "[Epoch 5][Batch 40], LR: 1.00E-04, Speed: 7.397 samples/sec, ObjLoss=6.177, BoxCenterLoss=6.708, BoxScaleLoss=1.834, ClassLoss=1.908\n",
      "[Epoch 5][Batch 60], LR: 1.00E-04, Speed: 11.121 samples/sec, ObjLoss=5.979, BoxCenterLoss=6.654, BoxScaleLoss=1.800, ClassLoss=1.930\n",
      "[Epoch 5][Batch 80], LR: 1.00E-04, Speed: 5.645 samples/sec, ObjLoss=5.906, BoxCenterLoss=6.667, BoxScaleLoss=1.765, ClassLoss=1.949\n",
      "[Epoch 5][Batch 100], LR: 1.00E-04, Speed: 6.598 samples/sec, ObjLoss=5.677, BoxCenterLoss=6.655, BoxScaleLoss=1.757, ClassLoss=1.910\n",
      "[Epoch 5][Batch 120], LR: 1.00E-04, Speed: 9.775 samples/sec, ObjLoss=5.586, BoxCenterLoss=6.576, BoxScaleLoss=1.731, ClassLoss=1.856\n",
      "[Epoch 5][Batch 140], LR: 1.00E-04, Speed: 6.051 samples/sec, ObjLoss=5.521, BoxCenterLoss=6.540, BoxScaleLoss=1.757, ClassLoss=1.855\n",
      "[Epoch 5][Batch 160], LR: 1.00E-04, Speed: 7.843 samples/sec, ObjLoss=5.539, BoxCenterLoss=6.522, BoxScaleLoss=1.764, ClassLoss=1.850\n",
      "[Epoch 5][Batch 180], LR: 1.00E-04, Speed: 7.828 samples/sec, ObjLoss=5.577, BoxCenterLoss=6.483, BoxScaleLoss=1.753, ClassLoss=1.847\n",
      "[Epoch 6][Batch 0], LR: 1.00E-04, Speed: 4.290 samples/sec, ObjLoss=2.573, BoxCenterLoss=7.076, BoxScaleLoss=2.348, ClassLoss=3.250\n",
      "[Epoch 6][Batch 20], LR: 1.00E-04, Speed: 3.653 samples/sec, ObjLoss=5.668, BoxCenterLoss=6.879, BoxScaleLoss=2.029, ClassLoss=1.786\n"
     ]
    },
    {
     "name": "stdout",
     "output_type": "stream",
     "text": [
      "[Epoch 6][Batch 40], LR: 1.00E-04, Speed: 6.258 samples/sec, ObjLoss=5.598, BoxCenterLoss=6.740, BoxScaleLoss=1.943, ClassLoss=1.939\n",
      "[Epoch 6][Batch 60], LR: 1.00E-04, Speed: 4.481 samples/sec, ObjLoss=5.396, BoxCenterLoss=6.670, BoxScaleLoss=1.885, ClassLoss=1.904\n",
      "[Epoch 6][Batch 80], LR: 1.00E-04, Speed: 4.064 samples/sec, ObjLoss=5.378, BoxCenterLoss=6.627, BoxScaleLoss=1.862, ClassLoss=1.866\n",
      "[Epoch 6][Batch 100], LR: 1.00E-04, Speed: 7.925 samples/sec, ObjLoss=5.284, BoxCenterLoss=6.518, BoxScaleLoss=1.809, ClassLoss=1.799\n",
      "[Epoch 6][Batch 120], LR: 1.00E-04, Speed: 3.577 samples/sec, ObjLoss=5.228, BoxCenterLoss=6.455, BoxScaleLoss=1.776, ClassLoss=1.772\n",
      "[Epoch 6][Batch 140], LR: 1.00E-04, Speed: 11.962 samples/sec, ObjLoss=5.294, BoxCenterLoss=6.513, BoxScaleLoss=1.801, ClassLoss=1.776\n",
      "[Epoch 6][Batch 160], LR: 1.00E-04, Speed: 4.086 samples/sec, ObjLoss=5.305, BoxCenterLoss=6.518, BoxScaleLoss=1.787, ClassLoss=1.764\n",
      "[Epoch 6][Batch 180], LR: 1.00E-04, Speed: 4.288 samples/sec, ObjLoss=5.327, BoxCenterLoss=6.524, BoxScaleLoss=1.773, ClassLoss=1.757\n",
      "[Epoch 7][Batch 0], LR: 1.00E-04, Speed: 6.765 samples/sec, ObjLoss=8.218, BoxCenterLoss=8.731, BoxScaleLoss=2.097, ClassLoss=2.094\n",
      "[Epoch 7][Batch 20], LR: 1.00E-04, Speed: 6.072 samples/sec, ObjLoss=4.943, BoxCenterLoss=6.291, BoxScaleLoss=1.720, ClassLoss=1.259\n",
      "[Epoch 7][Batch 40], LR: 1.00E-04, Speed: 13.096 samples/sec, ObjLoss=4.873, BoxCenterLoss=6.176, BoxScaleLoss=1.705, ClassLoss=1.327\n",
      "[Epoch 7][Batch 60], LR: 1.00E-04, Speed: 5.982 samples/sec, ObjLoss=5.047, BoxCenterLoss=6.092, BoxScaleLoss=1.675, ClassLoss=1.455\n",
      "[Epoch 7][Batch 80], LR: 1.00E-04, Speed: 4.770 samples/sec, ObjLoss=5.055, BoxCenterLoss=6.313, BoxScaleLoss=1.703, ClassLoss=1.499\n",
      "[Epoch 7][Batch 100], LR: 1.00E-04, Speed: 3.414 samples/sec, ObjLoss=5.095, BoxCenterLoss=6.361, BoxScaleLoss=1.688, ClassLoss=1.591\n",
      "[Epoch 7][Batch 120], LR: 1.00E-04, Speed: 3.765 samples/sec, ObjLoss=5.058, BoxCenterLoss=6.350, BoxScaleLoss=1.668, ClassLoss=1.564\n",
      "[Epoch 7][Batch 140], LR: 1.00E-04, Speed: 4.198 samples/sec, ObjLoss=5.074, BoxCenterLoss=6.414, BoxScaleLoss=1.709, ClassLoss=1.535\n",
      "[Epoch 7][Batch 160], LR: 1.00E-04, Speed: 4.774 samples/sec, ObjLoss=5.101, BoxCenterLoss=6.450, BoxScaleLoss=1.723, ClassLoss=1.591\n",
      "[Epoch 7][Batch 180], LR: 1.00E-04, Speed: 4.968 samples/sec, ObjLoss=5.057, BoxCenterLoss=6.434, BoxScaleLoss=1.706, ClassLoss=1.592\n",
      "[Epoch 8][Batch 0], LR: 1.00E-04, Speed: 4.872 samples/sec, ObjLoss=5.413, BoxCenterLoss=5.011, BoxScaleLoss=1.336, ClassLoss=2.212\n",
      "[Epoch 8][Batch 20], LR: 1.00E-04, Speed: 8.324 samples/sec, ObjLoss=5.071, BoxCenterLoss=6.163, BoxScaleLoss=1.628, ClassLoss=1.566\n",
      "[Epoch 8][Batch 40], LR: 1.00E-04, Speed: 6.054 samples/sec, ObjLoss=4.890, BoxCenterLoss=6.385, BoxScaleLoss=1.659, ClassLoss=1.522\n",
      "[Epoch 8][Batch 60], LR: 1.00E-04, Speed: 8.580 samples/sec, ObjLoss=4.863, BoxCenterLoss=6.448, BoxScaleLoss=1.683, ClassLoss=1.497\n",
      "[Epoch 8][Batch 80], LR: 1.00E-04, Speed: 3.149 samples/sec, ObjLoss=5.121, BoxCenterLoss=6.599, BoxScaleLoss=1.751, ClassLoss=1.658\n",
      "[Epoch 8][Batch 100], LR: 1.00E-04, Speed: 4.299 samples/sec, ObjLoss=4.968, BoxCenterLoss=6.481, BoxScaleLoss=1.742, ClassLoss=1.543\n",
      "[Epoch 8][Batch 120], LR: 1.00E-04, Speed: 3.183 samples/sec, ObjLoss=4.921, BoxCenterLoss=6.505, BoxScaleLoss=1.725, ClassLoss=1.523\n",
      "[Epoch 8][Batch 140], LR: 1.00E-04, Speed: 5.500 samples/sec, ObjLoss=4.843, BoxCenterLoss=6.448, BoxScaleLoss=1.706, ClassLoss=1.516\n",
      "[Epoch 8][Batch 160], LR: 1.00E-04, Speed: 3.751 samples/sec, ObjLoss=4.844, BoxCenterLoss=6.407, BoxScaleLoss=1.726, ClassLoss=1.494\n",
      "[Epoch 8][Batch 180], LR: 1.00E-04, Speed: 5.136 samples/sec, ObjLoss=4.818, BoxCenterLoss=6.390, BoxScaleLoss=1.710, ClassLoss=1.470\n",
      "[Epoch 9][Batch 0], LR: 1.00E-04, Speed: 8.863 samples/sec, ObjLoss=4.282, BoxCenterLoss=3.394, BoxScaleLoss=0.852, ClassLoss=0.378\n",
      "[Epoch 9][Batch 20], LR: 1.00E-04, Speed: 8.371 samples/sec, ObjLoss=4.685, BoxCenterLoss=6.022, BoxScaleLoss=1.634, ClassLoss=1.493\n",
      "[Epoch 9][Batch 40], LR: 1.00E-04, Speed: 8.366 samples/sec, ObjLoss=4.632, BoxCenterLoss=6.230, BoxScaleLoss=1.615, ClassLoss=1.408\n",
      "[Epoch 9][Batch 60], LR: 1.00E-04, Speed: 7.132 samples/sec, ObjLoss=4.691, BoxCenterLoss=6.168, BoxScaleLoss=1.574, ClassLoss=1.368\n",
      "[Epoch 9][Batch 80], LR: 1.00E-04, Speed: 4.031 samples/sec, ObjLoss=4.567, BoxCenterLoss=5.993, BoxScaleLoss=1.547, ClassLoss=1.342\n",
      "[Epoch 9][Batch 100], LR: 1.00E-04, Speed: 7.916 samples/sec, ObjLoss=4.586, BoxCenterLoss=6.090, BoxScaleLoss=1.572, ClassLoss=1.380\n",
      "[Epoch 9][Batch 120], LR: 1.00E-04, Speed: 8.731 samples/sec, ObjLoss=4.756, BoxCenterLoss=6.148, BoxScaleLoss=1.588, ClassLoss=1.441\n",
      "[Epoch 9][Batch 140], LR: 1.00E-04, Speed: 5.607 samples/sec, ObjLoss=4.891, BoxCenterLoss=6.252, BoxScaleLoss=1.607, ClassLoss=1.522\n",
      "[Epoch 9][Batch 160], LR: 1.00E-04, Speed: 7.797 samples/sec, ObjLoss=4.804, BoxCenterLoss=6.298, BoxScaleLoss=1.605, ClassLoss=1.456\n",
      "[Epoch 9][Batch 180], LR: 1.00E-04, Speed: 5.168 samples/sec, ObjLoss=4.779, BoxCenterLoss=6.295, BoxScaleLoss=1.614, ClassLoss=1.432\n"
     ]
    }
   ],
   "source": [
    "gtf.Train(epochs, params_file);"
   ]
  },
  {
   "cell_type": "code",
   "execution_count": null,
   "metadata": {},
   "outputs": [],
   "source": []
  },
  {
   "cell_type": "code",
   "execution_count": null,
   "metadata": {},
   "outputs": [],
   "source": []
  },
  {
   "cell_type": "code",
   "execution_count": null,
   "metadata": {},
   "outputs": [],
   "source": []
  },
  {
   "cell_type": "code",
   "execution_count": null,
   "metadata": {},
   "outputs": [],
   "source": []
  },
  {
   "cell_type": "code",
   "execution_count": null,
   "metadata": {},
   "outputs": [],
   "source": []
  },
  {
   "cell_type": "markdown",
   "metadata": {},
   "source": [
    "# Running Inference"
   ]
  },
  {
   "cell_type": "code",
   "execution_count": 11,
   "metadata": {},
   "outputs": [],
   "source": [
    "import os\n",
    "import sys\n",
    "sys.path.append(\"Monk_Object_Detection/1_gluoncv_finetune/lib/\");"
   ]
  },
  {
   "cell_type": "code",
   "execution_count": 12,
   "metadata": {},
   "outputs": [],
   "source": [
    "from inference_prototype import Infer"
   ]
  },
  {
   "cell_type": "code",
   "execution_count": 13,
   "metadata": {},
   "outputs": [],
   "source": [
    "model_name = \"yolo3_mobilenet1.0_coco\";\n",
    "params_file = \"saved_model.params\";\n",
    "class_list = [\"type-0\", \"type-1\", \"type-2\", \"type-3\", \"type-4\"];"
   ]
  },
  {
   "cell_type": "code",
   "execution_count": 14,
   "metadata": {},
   "outputs": [],
   "source": [
    "gtf = Infer(model_name, params_file, class_list, use_gpu=True);"
   ]
  },
  {
   "cell_type": "code",
   "execution_count": null,
   "metadata": {},
   "outputs": [],
   "source": []
  },
  {
   "cell_type": "code",
   "execution_count": 21,
   "metadata": {},
   "outputs": [],
   "source": [
    "img_name = \"Monk_Object_Detection/example_notebooks/sample_dataset/ship/test/img2.jpg\"; \n",
    "visualize = True;\n",
    "thresh = 0.3;"
   ]
  },
  {
   "cell_type": "code",
   "execution_count": 22,
   "metadata": {},
   "outputs": [
    {
     "data": {
      "image/png": "[encoded data removed]",
      "text/plain": [
       "<Figure size 432x288 with 1 Axes>"
      ]
     },
     "metadata": {
      "needs_background": "light"
     },
     "output_type": "display_data"
    }
   ],
   "source": [
    "output = gtf.run(img_name, visualize=visualize, thresh=thresh);"
   ]
  },
  {
   "cell_type": "code",
   "execution_count": null,
   "metadata": {},
   "outputs": [],
   "source": []
  },
  {
   "cell_type": "code",
   "execution_count": null,
   "metadata": {},
   "outputs": [],
   "source": []
  },
  {
   "cell_type": "code",
   "execution_count": null,
   "metadata": {},
   "outputs": [],
   "source": []
  },
  {
   "cell_type": "code",
   "execution_count": null,
   "metadata": {},
   "outputs": [],
   "source": []
  },
  {
   "cell_type": "markdown",
   "metadata": {},
   "source": [
    "# Author - Tessellate Imaging - https://www.tessellateimaging.com/\n",
    "\n",
    "# Monk Library - https://github.com/Tessellate-Imaging/monk_v1\n",
    "\n",
    "    Monk is an opensource low-code tool for computer vision and deep learning\n",
    "\n",
    "\n",
    "## Monk features\n",
    "   - low-code\n",
    "   - unified wrapper over major deep learning framework - keras, pytorch, gluoncv\n",
    "   - syntax invariant wrapper\n",
    "\n",
    "## Enables\n",
    "\n",
    "    - to create, manage and version control deep learning experiments\n",
    "    - to compare experiments across training metrics\n",
    "    - to quickly find best hyper-parameters\n",
    "\n",
    "## At present it only supports transfer learning, but we are working each day to incorporate\n",
    "\n",
    "    - GUI based custom model creation\n",
    "    - various object detection and segmentation algorithms\n",
    "    - deployment pipelines to cloud and local platforms\n",
    "    - acceleration libraries such as TensorRT\n",
    "    - preprocessing and post processing libraries\n",
    "\n",
    "\n",
    "## To contribute to Monk AI or Monk Object Detection repository raise an issue in the git-repo or dm us on linkedin\n",
    "\n",
    "    - Abhishek - https://www.linkedin.com/in/abhishek-kumar-annamraju/\n",
    "    - Akash - https://www.linkedin.com/in/akashdeepsingh01/\n",
    "\n"
   ]
  },
  {
   "cell_type": "code",
   "execution_count": null,
   "metadata": {},
   "outputs": [],
   "source": []
  }
 ],
 "metadata": {
  "kernelspec": {
   "display_name": "Python 3",
   "language": "python",
   "name": "python3"
  },
  "language_info": {
   "codemirror_mode": {
    "name": "ipython",
    "version": 3
   },
   "file_extension": ".py",
   "mimetype": "text/x-python",
   "name": "python",
   "nbconvert_exporter": "python",
   "pygments_lexer": "ipython3",
   "version": "3.6.9"
  }
 },
 "nbformat": 4,
 "nbformat_minor": 2
}
