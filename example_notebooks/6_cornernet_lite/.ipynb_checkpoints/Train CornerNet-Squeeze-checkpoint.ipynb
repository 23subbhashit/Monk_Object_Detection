{
 "cells": [
  {
   "cell_type": "markdown",
   "metadata": {},
   "source": [
    "<a href=\"https://colab.research.google.com/github/Tessellate-Imaging/Monk_Object_Detection/blob/master/example_notebooks/6_cornernet_lite/Train%20CornerNet-Squeeze.ipynb\" target=\"_parent\"><img src=\"https://colab.research.google.com/assets/colab-badge.svg\" alt=\"Open In Colab\"/></a>"
   ]
  },
  {
   "cell_type": "code",
   "execution_count": null,
   "metadata": {},
   "outputs": [],
   "source": []
  },
  {
   "cell_type": "code",
   "execution_count": null,
   "metadata": {},
   "outputs": [],
   "source": []
  },
  {
   "cell_type": "code",
   "execution_count": null,
   "metadata": {},
   "outputs": [],
   "source": []
  },
  {
   "cell_type": "code",
   "execution_count": null,
   "metadata": {},
   "outputs": [],
   "source": []
  },
  {
   "cell_type": "code",
   "execution_count": null,
   "metadata": {},
   "outputs": [],
   "source": []
  },
  {
   "cell_type": "markdown",
   "metadata": {},
   "source": [
    "# Installation\n",
    "\n",
    " - Run these commands\n",
    "     \n",
    "     - git clone https://github.com/Tessellate-Imaging/Monk_Object_Detection.git\n",
    "     \n",
    "     - cd Monk_Object_Detection/6_cornernet_lite/installation\n",
    "     \n",
    " - Select the right requirements file and run\n",
    " \n",
    "     - chmod +x install.sh\n",
    "     - ./install.sh"
   ]
  },
  {
   "cell_type": "code",
   "execution_count": null,
   "metadata": {},
   "outputs": [],
   "source": [
    "! git clone https://github.com/Tessellate-Imaging/Monk_Object_Detection.git"
   ]
  },
  {
   "cell_type": "code",
   "execution_count": null,
   "metadata": {},
   "outputs": [],
   "source": [
    "# For colab use the command below\n",
    "! cd Monk_Object_Detection/6_cornernet_lite/installation && chmod +x install_colab.sh && ./install_colab.sh\n",
    "# Restart colab runtime for installations to get initiated\n",
    "\n",
    "# For Local systems and cloud select the right CUDA version\n",
    "#! cd Monk_Object_Detection/6_cornernet_lite/installation && chmod +x install.sh && ./install.sh"
   ]
  },
  {
   "cell_type": "code",
   "execution_count": null,
   "metadata": {},
   "outputs": [],
   "source": []
  },
  {
   "cell_type": "code",
   "execution_count": null,
   "metadata": {},
   "outputs": [],
   "source": []
  },
  {
   "cell_type": "code",
   "execution_count": null,
   "metadata": {},
   "outputs": [],
   "source": []
  },
  {
   "cell_type": "code",
   "execution_count": null,
   "metadata": {},
   "outputs": [],
   "source": []
  },
  {
   "cell_type": "markdown",
   "metadata": {},
   "source": [
    "# About the network\n",
    "\n",
    "1. Paper on CornerNet: https://arxiv.org/abs/1808.01244\n",
    "\n",
    "2. Paper on CornerNet-Lite: https://arxiv.org/abs/1904.08900\n",
    "\n",
    "3. Blog 1 on CornerNet: https://joshua19881228.github.io/2019-01-20-CornerNet/\n",
    "\n",
    "4. Blog 2 on CornerNet: https://zhangtemplar.github.io/anchor-free-detection/\n",
    "\n",
    "5. Blog 3 on CornerNet: https://opencv.org/latest-trends-of-object-detection-from-cornernet-to-centernet-explained-part-i-cornernet/\n",
    "\n",
    "6. Blog 4 on CornerNet: https://towardsdatascience.com/centernet-keypoint-triplets-for-object-detection-review-a314a8e4d4b0\n",
    "\n",
    "7. Blog 5 on CornerNet: https://medium.com/@andersasac/the-end-of-anchors-improving-object-detection-models-and-annotations-73828c7b39f6"
   ]
  },
  {
   "cell_type": "code",
   "execution_count": null,
   "metadata": {},
   "outputs": [],
   "source": []
  },
  {
   "cell_type": "code",
   "execution_count": null,
   "metadata": {},
   "outputs": [],
   "source": []
  },
  {
   "cell_type": "code",
   "execution_count": null,
   "metadata": {},
   "outputs": [],
   "source": []
  },
  {
   "cell_type": "markdown",
   "metadata": {},
   "source": [
    "# COCO Format - 1\n",
    "\n",
    "## Dataset Directory Structure\n",
    "\n",
    "    ../sample_dataset (root_dir)\n",
    "          |\n",
    "          |------ship (coco_dir) \n",
    "          |         |\n",
    "          |         |----images (img_dir)\n",
    "          |                |\n",
    "          |                |------Train (set_dir) (Train)\n",
    "          |                         |\n",
    "          |                         |---------img1.jpg\n",
    "          |                         |---------img2.jpg\n",
    "          |                         |---------..........(and so on)\n",
    "          |\n",
    "          |\n",
    "          |         |---annotations \n",
    "          |         |----|\n",
    "          |              |--------------------instances_Train.json  (instances_<set_dir>.json)\n",
    "          |              |--------------------classes.txt\n",
    "          \n",
    "          \n",
    " - instances_Train.json -> In proper COCO format\n",
    " - classes.txt          -> A list of classes in alphabetical order\n",
    " \n",
    "\n",
    "For TrainSet\n",
    " - root_dir = \"../sample_dataset\";\n",
    " - coco_dir = \"ship\";\n",
    " - img_dir = \"images\";\n",
    " - set_dir = \"Train\";\n",
    "\n",
    " \n",
    " Note: Annotation file name too coincides against the set_dir"
   ]
  },
  {
   "cell_type": "code",
   "execution_count": null,
   "metadata": {},
   "outputs": [],
   "source": []
  },
  {
   "cell_type": "code",
   "execution_count": null,
   "metadata": {},
   "outputs": [],
   "source": []
  },
  {
   "cell_type": "markdown",
   "metadata": {},
   "source": [
    "# COCO Format - 2\n",
    "\n",
    "## Dataset Directory Structure\n",
    "\n",
    "    ../sample_dataset (root_dir)\n",
    "          |\n",
    "          |------ship (coco_dir) \n",
    "          |         |\n",
    "          |         |---ImagesTrain (set_dir)\n",
    "          |         |----|\n",
    "          |              |-------------------img1.jpg\n",
    "          |              |-------------------img2.jpg\n",
    "          |              |-------------------.........(and so on)\n",
    "          |\n",
    "          |\n",
    "          |         |---annotations \n",
    "          |         |----|\n",
    "          |              |--------------------instances_ImagesTrain.json  (instances_<set_dir>.json)\n",
    "          |              |--------------------classes.txt\n",
    "          \n",
    "          \n",
    " - instances_Train.json -> In proper COCO format\n",
    " - classes.txt          -> A list of classes in alphabetical order\n",
    " \n",
    " For TrainSet\n",
    " - root_dir = \"../sample_dataset\";\n",
    " - coco_dir = \"ship\";\n",
    " - img_dir = \"./\";\n",
    " - set_dir = \"ImagesTrain\";\n",
    "\n",
    " \n",
    " Note: Annotation file name too coincides against the set_dir\n",
    " "
   ]
  },
  {
   "cell_type": "code",
   "execution_count": null,
   "metadata": {},
   "outputs": [],
   "source": []
  },
  {
   "cell_type": "code",
   "execution_count": null,
   "metadata": {},
   "outputs": [],
   "source": []
  },
  {
   "cell_type": "markdown",
   "metadata": {},
   "source": [
    "# Sample Dataset Credits\n",
    "\n",
    "    credits: https://github.com/experiencor/kangaroo"
   ]
  },
  {
   "cell_type": "code",
   "execution_count": null,
   "metadata": {},
   "outputs": [],
   "source": []
  },
  {
   "cell_type": "code",
   "execution_count": null,
   "metadata": {},
   "outputs": [],
   "source": []
  },
  {
   "cell_type": "code",
   "execution_count": null,
   "metadata": {},
   "outputs": [],
   "source": []
  },
  {
   "cell_type": "code",
   "execution_count": null,
   "metadata": {},
   "outputs": [],
   "source": []
  },
  {
   "cell_type": "code",
   "execution_count": 1,
   "metadata": {},
   "outputs": [],
   "source": [
    "import os\n",
    "import sys"
   ]
  },
  {
   "cell_type": "code",
   "execution_count": 2,
   "metadata": {},
   "outputs": [],
   "source": [
    "sys.path.append(\"Monk_Object_Detection/6_cornernet_lite/lib/\")"
   ]
  },
  {
   "cell_type": "code",
   "execution_count": null,
   "metadata": {},
   "outputs": [],
   "source": []
  },
  {
   "cell_type": "code",
   "execution_count": null,
   "metadata": {},
   "outputs": [],
   "source": []
  },
  {
   "cell_type": "code",
   "execution_count": 3,
   "metadata": {},
   "outputs": [],
   "source": [
    "from train_detector import Detector"
   ]
  },
  {
   "cell_type": "code",
   "execution_count": 4,
   "metadata": {},
   "outputs": [],
   "source": [
    "gtf = Detector();"
   ]
  },
  {
   "cell_type": "code",
   "execution_count": null,
   "metadata": {},
   "outputs": [],
   "source": []
  },
  {
   "cell_type": "code",
   "execution_count": null,
   "metadata": {},
   "outputs": [],
   "source": []
  },
  {
   "cell_type": "code",
   "execution_count": null,
   "metadata": {},
   "outputs": [],
   "source": []
  },
  {
   "cell_type": "code",
   "execution_count": 5,
   "metadata": {},
   "outputs": [],
   "source": [
    "root_dir = \"Monk_Object_Detection/example_notebooks/sample_dataset\";\n",
    "coco_dir = \"kangaroo\"\n",
    "img_dir = \"/\"\n",
    "set_dir = \"Images\""
   ]
  },
  {
   "cell_type": "code",
   "execution_count": 6,
   "metadata": {},
   "outputs": [],
   "source": [
    "gtf.Train_Dataset(root_dir, coco_dir, img_dir, set_dir, batch_size=4, use_gpu=True, num_workers=4)"
   ]
  },
  {
   "cell_type": "code",
   "execution_count": null,
   "metadata": {},
   "outputs": [],
   "source": []
  },
  {
   "cell_type": "code",
   "execution_count": 7,
   "metadata": {},
   "outputs": [],
   "source": [
    "gtf.Model(model_name=\"CornerNet_Squeeze\")"
   ]
  },
  {
   "cell_type": "code",
   "execution_count": 8,
   "metadata": {},
   "outputs": [],
   "source": [
    "gtf.Hyper_Params(lr=0.00025, total_iterations=1000)"
   ]
  },
  {
   "cell_type": "code",
   "execution_count": null,
   "metadata": {},
   "outputs": [],
   "source": []
  },
  {
   "cell_type": "code",
   "execution_count": null,
   "metadata": {},
   "outputs": [],
   "source": []
  },
  {
   "cell_type": "code",
   "execution_count": 9,
   "metadata": {},
   "outputs": [
    {
     "name": "stdout",
     "output_type": "stream",
     "text": [
      "loading annotations into memory...\n",
      "Done (t=0.00s)\n",
      "creating index...\n",
      "index created!\n",
      "loading annotations into memory...\n",
      "Done (t=0.00s)\n",
      "creating index...\n",
      "index created!\n",
      "loading annotations into memory...\n",
      "Done (t=0.00s)\n",
      "creating index...\n",
      "index created!\n",
      "loading annotations into memory...\n",
      "Done (t=0.00s)\n",
      "creating index...\n",
      "index created!\n",
      "Loading Model - core.models.CornerNet_Squeeze\n",
      "Model Loaded\n"
     ]
    }
   ],
   "source": [
    "gtf.Setup();"
   ]
  },
  {
   "cell_type": "code",
   "execution_count": null,
   "metadata": {},
   "outputs": [],
   "source": []
  },
  {
   "cell_type": "code",
   "execution_count": 10,
   "metadata": {},
   "outputs": [
    {
     "name": "stdout",
     "output_type": "stream",
     "text": [
      "start_iter       = 0\n",
      "distributed      = False\n",
      "world_size       = 0\n",
      "initialize       = False\n",
      "batch_size       = 4\n",
      "learning_rate    = 0.00025\n",
      "max_iteration    = 1000\n",
      "stepsize         = 800\n",
      "snapshot         = 500\n",
      "val_iter         = 500\n",
      "display          = 100\n",
      "decay_rate       = 10\n",
      "Process 0: building model...\n",
      "total parameters: 31690640\n",
      "start prefetching data...\n",
      "shuffling indices...\n",
      "start prefetching data...\n",
      "start prefetching data...\n",
      "shuffling indices...\n",
      "shuffling indices...\n",
      "setting learning rate to: 0.00025\n",
      "training start...\n",
      "  0%|                                                  | 0/1000 [00:00<?, ?it/s]start prefetching data...\n",
      "shuffling indices...\n",
      "Process 0: training loss at iteration 100: 5.108389377593994                    \n",
      " 15%|█████▉                                  | 148/1000 [01:16<07:22,  1.92it/s]shuffling indices...\n",
      " 15%|██████                                  | 150/1000 [01:18<07:22,  1.92it/s]shuffling indices...\n",
      " 15%|██████                                  | 151/1000 [01:18<07:21,  1.92it/s]shuffling indices...\n",
      " 15%|██████                                  | 153/1000 [01:19<07:23,  1.91it/s]shuffling indices...\n",
      "Process 0: training loss at iteration 200: 5.436167240142822                    \n",
      "Process 0: training loss at iteration 300: 4.454023361206055                    \n",
      " 31%|████████████▍                           | 312/1000 [02:42<05:58,  1.92it/s]shuffling indices...\n",
      " 31%|████████████▌                           | 314/1000 [02:43<05:59,  1.91it/s]shuffling indices...\n",
      " 32%|████████████▌                           | 315/1000 [02:43<05:58,  1.91it/s]shuffling indices...\n",
      " 32%|████████████▋                           | 317/1000 [02:44<05:59,  1.90it/s]shuffling indices...\n",
      "Process 0: training loss at iteration 400: 4.5771660804748535                   \n",
      " 48%|███████████████████                     | 476/1000 [04:07<04:50,  1.80it/s]shuffling indices...\n",
      " 48%|███████████████████                     | 478/1000 [04:09<04:48,  1.81it/s]shuffling indices...\n",
      " 48%|███████████████████▏                    | 479/1000 [04:09<04:44,  1.83it/s]shuffling indices...\n",
      " 48%|███████████████████▏                    | 481/1000 [04:10<04:38,  1.87it/s]shuffling indices...\n",
      "Process 0: training loss at iteration 500: 3.77142333984375                     \n",
      "saving model to ./cache/nnet/CornerNet_Squeeze/CornerNet_Squeeze_intermediate.pkl\n",
      "Process 0: training loss at iteration 600: 3.9744179248809814                   \n",
      " 64%|█████████████████████████▌              | 640/1000 [05:36<03:09,  1.90it/s]shuffling indices...\n",
      " 64%|█████████████████████████▋              | 642/1000 [05:37<03:07,  1.91it/s]shuffling indices...\n",
      " 64%|█████████████████████████▋              | 643/1000 [05:38<03:06,  1.91it/s]shuffling indices...\n",
      " 64%|█████████████████████████▊              | 645/1000 [05:39<03:05,  1.92it/s]shuffling indices...\n",
      "Process 0: training loss at iteration 700: 4.035816669464111                    \n",
      "Process 0: training loss at iteration 800: 3.424349784851074                    \n",
      "setting learning rate to: 2.5e-05                                               \n",
      " 80%|████████████████████████████████▏       | 804/1000 [07:03<01:42,  1.92it/s]shuffling indices...\n",
      " 81%|████████████████████████████████▏       | 806/1000 [07:04<01:42,  1.90it/s]shuffling indices...\n",
      " 81%|████████████████████████████████▎       | 807/1000 [07:05<01:41,  1.90it/s]shuffling indices...\n",
      " 81%|████████████████████████████████▎       | 809/1000 [07:06<01:40,  1.90it/s]shuffling indices...\n",
      "Process 0: training loss at iteration 900: 3.235015869140625                    \n",
      " 97%|██████████████████████████████████████▋ | 968/1000 [08:29<00:16,  1.91it/s]shuffling indices...\n",
      " 97%|██████████████████████████████████████▊ | 970/1000 [08:30<00:15,  1.90it/s]shuffling indices...\n",
      " 97%|██████████████████████████████████████▊ | 971/1000 [08:31<00:15,  1.90it/s]shuffling indices...\n",
      " 97%|██████████████████████████████████████▉ | 973/1000 [08:32<00:14,  1.90it/s]shuffling indices...\n",
      "Process 0: training loss at iteration 1000: 3.520153760910034                   \n",
      "saving model to ./cache/nnet/CornerNet_Squeeze/CornerNet_Squeeze_intermediate.pkl\n",
      "100%|███████████████████████████████████████| 1000/1000 [08:46<00:00,  1.90it/s]\n",
      "saving model to ./cache/nnet/CornerNet_Squeeze/CornerNet_Squeeze_final.pkl\n"
     ]
    }
   ],
   "source": [
    "gtf.Train();"
   ]
  },
  {
   "cell_type": "code",
   "execution_count": null,
   "metadata": {},
   "outputs": [],
   "source": []
  },
  {
   "cell_type": "code",
   "execution_count": null,
   "metadata": {},
   "outputs": [],
   "source": []
  },
  {
   "cell_type": "code",
   "execution_count": null,
   "metadata": {},
   "outputs": [],
   "source": []
  },
  {
   "cell_type": "code",
   "execution_count": null,
   "metadata": {},
   "outputs": [],
   "source": []
  },
  {
   "cell_type": "code",
   "execution_count": null,
   "metadata": {},
   "outputs": [],
   "source": []
  },
  {
   "cell_type": "code",
   "execution_count": null,
   "metadata": {},
   "outputs": [],
   "source": []
  },
  {
   "cell_type": "code",
   "execution_count": null,
   "metadata": {},
   "outputs": [],
   "source": []
  },
  {
   "cell_type": "code",
   "execution_count": null,
   "metadata": {},
   "outputs": [],
   "source": []
  },
  {
   "cell_type": "markdown",
   "metadata": {},
   "source": [
    "# Inference"
   ]
  },
  {
   "cell_type": "code",
   "execution_count": 1,
   "metadata": {},
   "outputs": [],
   "source": [
    "import os\n",
    "import sys\n",
    "sys.path.append(\"../../6_cornernet_lite/lib/\")"
   ]
  },
  {
   "cell_type": "code",
   "execution_count": 2,
   "metadata": {},
   "outputs": [],
   "source": [
    "from infer_detector import Infer"
   ]
  },
  {
   "cell_type": "code",
   "execution_count": null,
   "metadata": {},
   "outputs": [],
   "source": []
  },
  {
   "cell_type": "code",
   "execution_count": 3,
   "metadata": {},
   "outputs": [],
   "source": [
    "gtf = Infer();"
   ]
  },
  {
   "cell_type": "code",
   "execution_count": null,
   "metadata": {},
   "outputs": [],
   "source": []
  },
  {
   "cell_type": "code",
   "execution_count": 4,
   "metadata": {},
   "outputs": [
    {
     "name": "stdout",
     "output_type": "stream",
     "text": [
      "total parameters: 31690640\n",
      "loading from ./cache/nnet/CornerNet_Squeeze/CornerNet_Squeeze_final.pkl\n"
     ]
    }
   ],
   "source": [
    "class_list = [\"kangaroo\"]\n",
    "gtf.Model(class_list, \n",
    "          base=\"CornerNet_Squeeze\", \n",
    "          model_path=\"./cache/nnet/CornerNet_Squeeze/CornerNet_Squeeze_final.pkl\")"
   ]
  },
  {
   "cell_type": "code",
   "execution_count": null,
   "metadata": {},
   "outputs": [],
   "source": []
  },
  {
   "cell_type": "code",
   "execution_count": null,
   "metadata": {},
   "outputs": [],
   "source": []
  },
  {
   "cell_type": "code",
   "execution_count": 7,
   "metadata": {},
   "outputs": [
    {
     "data": {
      "image/jpeg": "[encoded data removed]",
      "text/plain": [
       "<IPython.core.display.Image object>"
      ]
     },
     "execution_count": 7,
     "metadata": {},
     "output_type": "execute_result"
    }
   ],
   "source": [
    "boxes = gtf.Predict(\"Monk_Object_Detection/example_notebooks/sample_dataset/kangaroo/test/kg1.jpeg\", vis_thresh=0.2, output_img=\"output.jpg\")\n",
    "from IPython.display import Image\n",
    "Image(filename='output.jpg')"
   ]
  },
  {
   "cell_type": "code",
   "execution_count": null,
   "metadata": {},
   "outputs": [],
   "source": []
  },
  {
   "cell_type": "code",
   "execution_count": null,
   "metadata": {},
   "outputs": [],
   "source": []
  },
  {
   "cell_type": "code",
   "execution_count": null,
   "metadata": {},
   "outputs": [],
   "source": []
  },
  {
   "cell_type": "code",
   "execution_count": null,
   "metadata": {},
   "outputs": [],
   "source": []
  },
  {
   "cell_type": "code",
   "execution_count": 14,
   "metadata": {},
   "outputs": [
    {
     "data": {
      "image/jpeg": "[encoded data removed]",
      "text/plain": [
       "<IPython.core.display.Image object>"
      ]
     },
     "execution_count": 14,
     "metadata": {},
     "output_type": "execute_result"
    }
   ],
   "source": [
    "boxes = gtf.Predict(\"Monk_Object_Detection/example_notebooks/sample_dataset/kangaroo/test/kg3.jpeg\", vis_thresh=0.23, output_img=\"output.jpg\")\n",
    "from IPython.display import Image\n",
    "Image(filename='output.jpg')"
   ]
  },
  {
   "cell_type": "code",
   "execution_count": null,
   "metadata": {},
   "outputs": [],
   "source": []
  }
 ],
 "metadata": {
  "kernelspec": {
   "display_name": "Python 3",
   "language": "python",
   "name": "python3"
  },
  "language_info": {
   "codemirror_mode": {
    "name": "ipython",
    "version": 3
   },
   "file_extension": ".py",
   "mimetype": "text/x-python",
   "name": "python",
   "nbconvert_exporter": "python",
   "pygments_lexer": "ipython3",
   "version": "3.6.9"
  }
 },
 "nbformat": 4,
 "nbformat_minor": 4
}
