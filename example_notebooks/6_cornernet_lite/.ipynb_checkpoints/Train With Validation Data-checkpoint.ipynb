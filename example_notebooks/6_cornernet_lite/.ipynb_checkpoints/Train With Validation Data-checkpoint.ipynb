{
 "cells": [
  {
   "cell_type": "markdown",
   "metadata": {},
   "source": [
    "<a href=\"https://colab.research.google.com/github/Tessellate-Imaging/Monk_Object_Detection/blob/master/example_notebooks/6_cornernet_lite/Train%20With%20Validation%20Data.ipynb\" target=\"_parent\"><img src=\"https://colab.research.google.com/assets/colab-badge.svg\" alt=\"Open In Colab\"/></a>"
   ]
  },
  {
   "cell_type": "code",
   "execution_count": null,
   "metadata": {},
   "outputs": [],
   "source": []
  },
  {
   "cell_type": "code",
   "execution_count": null,
   "metadata": {},
   "outputs": [],
   "source": []
  },
  {
   "cell_type": "code",
   "execution_count": null,
   "metadata": {},
   "outputs": [],
   "source": []
  },
  {
   "cell_type": "markdown",
   "metadata": {},
   "source": [
    "# Installation\n",
    "\n",
    " - Run these commands\n",
    "     \n",
    "     - git clone https://github.com/Tessellate-Imaging/Monk_Object_Detection.git\n",
    "     \n",
    "     - cd Monk_Object_Detection/6_cornernet_lite/installation\n",
    "     \n",
    " - Select the right requirements file and run\n",
    " \n",
    "     - chmod +x install.sh\n",
    "     - ./install.sh"
   ]
  },
  {
   "cell_type": "code",
   "execution_count": null,
   "metadata": {},
   "outputs": [],
   "source": [
    "! git clone https://github.com/Tessellate-Imaging/Monk_Object_Detection.git"
   ]
  },
  {
   "cell_type": "code",
   "execution_count": null,
   "metadata": {},
   "outputs": [],
   "source": [
    "# For colab use the command below\n",
    "! cd Monk_Object_Detection/6_cornernet_lite/installation && chmod +x install_colab.sh && ./install_colab.sh\n",
    "# Restart colab runtime for installations to get initiated\n",
    "\n",
    "# For Local systems and cloud select the right CUDA version\n",
    "#! cd Monk_Object_Detection/6_cornernet_lite/installation && chmod +x install.sh && ./install.sh"
   ]
  },
  {
   "cell_type": "code",
   "execution_count": null,
   "metadata": {},
   "outputs": [],
   "source": []
  },
  {
   "cell_type": "code",
   "execution_count": null,
   "metadata": {},
   "outputs": [],
   "source": []
  },
  {
   "cell_type": "code",
   "execution_count": null,
   "metadata": {},
   "outputs": [],
   "source": []
  },
  {
   "cell_type": "markdown",
   "metadata": {},
   "source": [
    "# About the network\n",
    "\n",
    "1. Paper on CornerNet: https://arxiv.org/abs/1808.01244\n",
    "\n",
    "2. Paper on CornerNet-Lite: https://arxiv.org/abs/1904.08900\n",
    "\n",
    "3. Blog 1 on CornerNet: https://joshua19881228.github.io/2019-01-20-CornerNet/\n",
    "\n",
    "4. Blog 2 on CornerNet: https://zhangtemplar.github.io/anchor-free-detection/\n",
    "\n",
    "5. Blog 3 on CornerNet: https://opencv.org/latest-trends-of-object-detection-from-cornernet-to-centernet-explained-part-i-cornernet/\n",
    "\n",
    "6. Blog 4 on CornerNet: https://towardsdatascience.com/centernet-keypoint-triplets-for-object-detection-review-a314a8e4d4b0\n",
    "\n",
    "7. Blog 5 on CornerNet: https://medium.com/@andersasac/the-end-of-anchors-improving-object-detection-models-and-annotations-73828c7b39f6"
   ]
  },
  {
   "cell_type": "code",
   "execution_count": null,
   "metadata": {},
   "outputs": [],
   "source": []
  },
  {
   "cell_type": "code",
   "execution_count": null,
   "metadata": {},
   "outputs": [],
   "source": []
  },
  {
   "cell_type": "code",
   "execution_count": null,
   "metadata": {},
   "outputs": [],
   "source": []
  },
  {
   "cell_type": "markdown",
   "metadata": {},
   "source": [
    "# COCO Format - 1\n",
    "\n",
    "## Dataset Directory Structure\n",
    "\n",
    "    ../sample_dataset (root_dir)\n",
    "          |\n",
    "          |------kangaroo (coco_dir) \n",
    "          |         |\n",
    "          |         |----images (img_dir)\n",
    "          |                |\n",
    "          |                |------Train (set_dir) (Train)\n",
    "          |                         |\n",
    "          |                         |---------img1.jpg\n",
    "          |                         |---------img2.jpg\n",
    "          |                         |---------..........(and so on)\n",
    "          |                |-------Val (set_dir) (Validation)\n",
    "          |                         |\n",
    "          |                         |---------img1.jpg\n",
    "          |                         |---------img2.jpg\n",
    "          |                         |---------..........(and so on)  \n",
    "          |\n",
    "          |\n",
    "          |         |---annotations \n",
    "          |         |----|\n",
    "          |              |--------------------instances_Train.json  (instances_<set_dir>.json)\n",
    "          |              |--------------------instances_Val.json  (instances_<set_dir>.json)\n",
    "          |              |--------------------classes.txt\n",
    "          \n",
    "          \n",
    " - instances_Train.json -> In proper COCO format\n",
    " - classes.txt          -> A list of classes in alphabetical order\n",
    " \n",
    "\n",
    "For TrainSet\n",
    " - root_dir = \"../sample_dataset\";\n",
    " - coco_dir = \"kangaroo\";\n",
    " - img_dir = \"images\";\n",
    " - set_dir = \"Train\";\n",
    " \n",
    "For ValSet\n",
    " - root_dir = \"..sample_dataset\";\n",
    " - coco_dir = \"kangaroo\";\n",
    " - img_dir = \"images\";\n",
    " - set_dir = \"Val\";\n",
    " \n",
    " Note: Annotation file name too coincides against the set_dir"
   ]
  },
  {
   "cell_type": "code",
   "execution_count": null,
   "metadata": {},
   "outputs": [],
   "source": []
  },
  {
   "cell_type": "code",
   "execution_count": null,
   "metadata": {},
   "outputs": [],
   "source": []
  },
  {
   "cell_type": "markdown",
   "metadata": {},
   "source": [
    "# COCO Format - 2\n",
    "\n",
    "## Dataset Directory Structure\n",
    "\n",
    "    ../sample_dataset (root_dir)\n",
    "          |\n",
    "          |------kangaroo (coco_dir) \n",
    "          |         |\n",
    "          |         |---ImagesTrain (set_dir)\n",
    "          |         |----|\n",
    "          |              |-------------------img1.jpg\n",
    "          |              |-------------------img2.jpg\n",
    "          |              |-------------------.........(and so on)\n",
    "          |\n",
    "          |\n",
    "          |         |---ImagesVal (set_dir)\n",
    "          |         |----|\n",
    "          |              |-------------------img1.jpg\n",
    "          |              |-------------------img2.jpg\n",
    "          |              |-------------------.........(and so on)\n",
    "          |\n",
    "          |\n",
    "          |         |---annotations \n",
    "          |         |----|\n",
    "          |              |--------------------instances_ImagesTrain.json  (instances_<set_dir>.json)\n",
    "          |              |--------------------instances_ImagesVal.json  (instances_<set_dir>.json)\n",
    "          |              |--------------------classes.txt\n",
    "          \n",
    "          \n",
    " - instances_Train.json -> In proper COCO format\n",
    " - classes.txt          -> A list of classes in alphabetical order\n",
    " \n",
    " For TrainSet\n",
    " - root_dir = \"../sample_dataset\";\n",
    " - coco_dir = \"kangaroo\";\n",
    " - img_dir = \"./\";\n",
    " - set_dir = \"ImagesTrain\";\n",
    " \n",
    " \n",
    "  For ValSet\n",
    " - root_dir = \"../sample_dataset\";\n",
    " - coco_dir = \"kangaroo\";\n",
    " - img_dir = \"./\";\n",
    " - set_dir = \"ImagesVal\";\n",
    " \n",
    " Note: Annotation file name too coincides against the set_dir\n",
    " "
   ]
  },
  {
   "cell_type": "code",
   "execution_count": null,
   "metadata": {},
   "outputs": [],
   "source": []
  },
  {
   "cell_type": "code",
   "execution_count": null,
   "metadata": {},
   "outputs": [],
   "source": []
  },
  {
   "cell_type": "code",
   "execution_count": null,
   "metadata": {},
   "outputs": [],
   "source": []
  },
  {
   "cell_type": "markdown",
   "metadata": {},
   "source": [
    "# Sample Dataset Credits\n",
    "\n",
    "    credits: https://github.com/experiencor/kangaroo"
   ]
  },
  {
   "cell_type": "code",
   "execution_count": null,
   "metadata": {},
   "outputs": [],
   "source": []
  },
  {
   "cell_type": "code",
   "execution_count": null,
   "metadata": {},
   "outputs": [],
   "source": []
  },
  {
   "cell_type": "code",
   "execution_count": 1,
   "metadata": {},
   "outputs": [],
   "source": [
    "import os\n",
    "import sys"
   ]
  },
  {
   "cell_type": "code",
   "execution_count": 2,
   "metadata": {},
   "outputs": [],
   "source": [
    "sys.path.append(\"Monk_Object_Detection/6_cornernet_lite/lib/\")"
   ]
  },
  {
   "cell_type": "code",
   "execution_count": null,
   "metadata": {},
   "outputs": [],
   "source": []
  },
  {
   "cell_type": "code",
   "execution_count": null,
   "metadata": {},
   "outputs": [],
   "source": []
  },
  {
   "cell_type": "code",
   "execution_count": 3,
   "metadata": {},
   "outputs": [],
   "source": [
    "from train_detector import Detector"
   ]
  },
  {
   "cell_type": "code",
   "execution_count": 4,
   "metadata": {},
   "outputs": [],
   "source": [
    "gtf = Detector();"
   ]
  },
  {
   "cell_type": "code",
   "execution_count": null,
   "metadata": {},
   "outputs": [],
   "source": []
  },
  {
   "cell_type": "code",
   "execution_count": null,
   "metadata": {},
   "outputs": [],
   "source": []
  },
  {
   "cell_type": "code",
   "execution_count": null,
   "metadata": {},
   "outputs": [],
   "source": []
  },
  {
   "cell_type": "code",
   "execution_count": 5,
   "metadata": {},
   "outputs": [],
   "source": [
    "root_dir = \"Monk_Object_Detection/example_notebooks/sample_dataset\";\n",
    "coco_dir = \"kangaroo\"\n",
    "img_dir = \"/\"\n",
    "set_dir = \"Images\""
   ]
  },
  {
   "cell_type": "code",
   "execution_count": 6,
   "metadata": {},
   "outputs": [],
   "source": [
    "gtf.Train_Dataset(root_dir, coco_dir, img_dir, set_dir, batch_size=4, use_gpu=True, num_workers=4)"
   ]
  },
  {
   "cell_type": "code",
   "execution_count": null,
   "metadata": {},
   "outputs": [],
   "source": []
  },
  {
   "cell_type": "code",
   "execution_count": 7,
   "metadata": {},
   "outputs": [],
   "source": [
    "root_dir = \"Monk_Object_Detection/example_notebooks/sample_dataset\";\n",
    "coco_dir = \"kangaroo\"\n",
    "img_dir = \"/\"\n",
    "set_dir = \"Images\""
   ]
  },
  {
   "cell_type": "code",
   "execution_count": 8,
   "metadata": {},
   "outputs": [],
   "source": [
    "gtf.Val_Dataset(root_dir, coco_dir, img_dir, set_dir)"
   ]
  },
  {
   "cell_type": "code",
   "execution_count": null,
   "metadata": {},
   "outputs": [],
   "source": []
  },
  {
   "cell_type": "code",
   "execution_count": null,
   "metadata": {},
   "outputs": [],
   "source": []
  },
  {
   "cell_type": "code",
   "execution_count": 9,
   "metadata": {},
   "outputs": [],
   "source": [
    "gtf.Model(model_name=\"CornerNet_Saccade\")"
   ]
  },
  {
   "cell_type": "code",
   "execution_count": 10,
   "metadata": {},
   "outputs": [],
   "source": [
    "gtf.Hyper_Params(lr=0.00025, total_iterations=1000, val_interval=200)"
   ]
  },
  {
   "cell_type": "code",
   "execution_count": null,
   "metadata": {},
   "outputs": [],
   "source": []
  },
  {
   "cell_type": "code",
   "execution_count": null,
   "metadata": {},
   "outputs": [],
   "source": []
  },
  {
   "cell_type": "code",
   "execution_count": 11,
   "metadata": {},
   "outputs": [
    {
     "name": "stdout",
     "output_type": "stream",
     "text": [
      "loading annotations into memory...\n",
      "Done (t=0.00s)\n",
      "creating index...\n",
      "index created!\n",
      "loading annotations into memory...\n",
      "Done (t=0.00s)\n",
      "creating index...\n",
      "index created!\n",
      "loading annotations into memory...\n",
      "Done (t=0.00s)\n",
      "creating index...\n",
      "index created!\n",
      "loading annotations into memory...\n",
      "Done (t=0.00s)\n",
      "creating index...\n",
      "index created!\n",
      "loading annotations into memory...\n",
      "Done (t=0.00s)\n",
      "creating index...\n",
      "index created!\n"
     ]
    }
   ],
   "source": [
    "gtf.Setup();"
   ]
  },
  {
   "cell_type": "code",
   "execution_count": null,
   "metadata": {},
   "outputs": [],
   "source": []
  },
  {
   "cell_type": "code",
   "execution_count": 12,
   "metadata": {},
   "outputs": [
    {
     "name": "stdout",
     "output_type": "stream",
     "text": [
      "start_iter       = 0\n",
      "distributed      = False\n",
      "world_size       = 0\n",
      "initialize       = False\n",
      "batch_size       = 4\n",
      "learning_rate    = 0.00025\n",
      "max_iteration    = 1000\n",
      "stepsize         = 800\n",
      "snapshot         = 500\n",
      "val_iter         = 200\n",
      "display          = 100\n",
      "decay_rate       = 10\n",
      "Process 0: building model...\n",
      "total parameters: 116847521\n",
      "start prefetching data...\n",
      "start prefetching data...\n",
      "shuffling indices...\n",
      "shuffling indices...\n",
      "start prefetching data...\n",
      "start prefetching data...\n",
      "shuffling indices...\n",
      "shuffling indices...\n",
      "start prefetching data...\n",
      "setting learning rate to: 0.00025\n",
      "training start...\n",
      "  0%|                                                  | 0/1000 [00:00<?, ?it/s]shuffling indices...\n",
      "Process 0: training loss at iteration 100: 8.420434951782227                    \n",
      " 15%|█████▉                                  | 149/1000 [02:11<12:30,  1.13it/s]shuffling indices...\n",
      " 15%|██████                                  | 150/1000 [02:12<12:29,  1.13it/s]shuffling indices...\n",
      " 15%|██████                                  | 151/1000 [02:13<12:30,  1.13it/s]shuffling indices...\n",
      " 15%|██████                                  | 152/1000 [02:13<12:33,  1.12it/s]shuffling indices...\n",
      "Process 0: training loss at iteration 200: 5.495782852172852                    \n",
      "Process 0: validation loss at iteration 200: 6.780633449554443                  \n",
      "Loss Reduced from 100000.0 to 6.780633449554443                                 \n",
      "saving model to ./cache/nnet/CornerNet_Saccade/CornerNet_Saccade_best.pkl       \n",
      "Process 0: training loss at iteration 300: 5.94381046295166                     \n",
      " 31%|████████████▌                           | 313/1000 [04:38<10:09,  1.13it/s]shuffling indices...\n",
      " 31%|████████████▌                           | 314/1000 [04:39<10:07,  1.13it/s]shuffling indices...\n",
      " 32%|████████████▌                           | 315/1000 [04:40<10:06,  1.13it/s]shuffling indices...\n",
      " 32%|████████████▋                           | 316/1000 [04:41<10:05,  1.13it/s]shuffling indices...\n",
      "Process 0: training loss at iteration 400: 6.106717109680176                    \n",
      "Process 0: validation loss at iteration 400: 4.858968734741211                  \n",
      "Loss Reduced from 6.780633449554443 to 4.858968734741211                        \n",
      "saving model to ./cache/nnet/CornerNet_Saccade/CornerNet_Saccade_best.pkl       \n",
      " 48%|███████████████████                     | 477/1000 [07:06<07:42,  1.13it/s]shuffling indices...\n",
      " 48%|███████████████████                     | 478/1000 [07:07<07:41,  1.13it/s]shuffling indices...\n",
      " 48%|███████████████████▏                    | 479/1000 [07:08<07:41,  1.13it/s]shuffling indices...\n",
      " 48%|███████████████████▏                    | 480/1000 [07:09<07:41,  1.13it/s]shuffling indices...\n",
      "Process 0: training loss at iteration 500: 7.838919639587402                    \n",
      "Process 0: training loss at iteration 600: 7.276169776916504                    \n",
      "Process 0: validation loss at iteration 600: 4.942827224731445                  \n",
      "validation loss did not go below 4.858968734741211, current loss - 4.942827224731445\n",
      " 64%|█████████████████████████▋              | 641/1000 [09:32<05:19,  1.12it/s]shuffling indices...\n",
      " 64%|█████████████████████████▋              | 642/1000 [09:33<05:20,  1.12it/s]shuffling indices...\n",
      " 64%|█████████████████████████▋              | 643/1000 [09:33<05:20,  1.11it/s]shuffling indices...\n",
      " 64%|█████████████████████████▊              | 644/1000 [09:34<05:18,  1.12it/s]shuffling indices...\n",
      "Process 0: training loss at iteration 700: 7.032265663146973                    \n",
      "Process 0: training loss at iteration 800: 4.413837909698486                    \n",
      "Process 0: validation loss at iteration 800: 4.604413032531738                  \n",
      "Loss Reduced from 4.858968734741211 to 4.604413032531738                        \n",
      "saving model to ./cache/nnet/CornerNet_Saccade/CornerNet_Saccade_best.pkl       \n",
      "setting learning rate to: 2.5e-05                                               \n",
      " 80%|████████████████████████████████▏       | 805/1000 [12:00<03:16,  1.01s/it]shuffling indices...\n",
      " 81%|████████████████████████████████▏       | 806/1000 [12:01<03:08,  1.03it/s]shuffling indices...\n",
      " 81%|████████████████████████████████▎       | 807/1000 [12:02<03:02,  1.06it/s]shuffling indices...\n",
      " 81%|████████████████████████████████▎       | 808/1000 [12:02<02:58,  1.07it/s]shuffling indices...\n",
      "Process 0: training loss at iteration 900: 4.437005996704102                    \n",
      " 97%|██████████████████████████████████████▊ | 969/1000 [14:25<00:27,  1.12it/s]shuffling indices...\n",
      " 97%|██████████████████████████████████████▊ | 970/1000 [14:26<00:26,  1.12it/s]shuffling indices...\n",
      " 97%|██████████████████████████████████████▊ | 971/1000 [14:27<00:25,  1.12it/s]shuffling indices...\n",
      " 97%|██████████████████████████████████████▉ | 972/1000 [14:28<00:25,  1.12it/s]shuffling indices...\n",
      "Process 0: training loss at iteration 1000: 4.009982109069824                   \n",
      "Process 0: validation loss at iteration 1000: 4.712226867675781                 \n",
      "validation loss did not go below 4.604413032531738, current loss - 4.712226867675781\n",
      "100%|███████████████████████████████████████| 1000/1000 [14:53<00:00,  1.12it/s]\n",
      "saving model to ./cache/nnet/CornerNet_Saccade/CornerNet_Saccade_final.pkl\n"
     ]
    }
   ],
   "source": [
    "gtf.Train();"
   ]
  },
  {
   "cell_type": "code",
   "execution_count": null,
   "metadata": {},
   "outputs": [],
   "source": []
  },
  {
   "cell_type": "code",
   "execution_count": null,
   "metadata": {},
   "outputs": [],
   "source": []
  },
  {
   "cell_type": "code",
   "execution_count": null,
   "metadata": {},
   "outputs": [],
   "source": []
  },
  {
   "cell_type": "code",
   "execution_count": null,
   "metadata": {},
   "outputs": [],
   "source": []
  },
  {
   "cell_type": "code",
   "execution_count": null,
   "metadata": {},
   "outputs": [],
   "source": []
  },
  {
   "cell_type": "code",
   "execution_count": null,
   "metadata": {},
   "outputs": [],
   "source": []
  },
  {
   "cell_type": "code",
   "execution_count": null,
   "metadata": {},
   "outputs": [],
   "source": []
  },
  {
   "cell_type": "code",
   "execution_count": null,
   "metadata": {},
   "outputs": [],
   "source": []
  },
  {
   "cell_type": "markdown",
   "metadata": {},
   "source": [
    "# Inference"
   ]
  },
  {
   "cell_type": "code",
   "execution_count": 1,
   "metadata": {},
   "outputs": [],
   "source": [
    "import os\n",
    "import sys\n",
    "sys.path.append(\"../../6_cornernet_lite/lib/\")"
   ]
  },
  {
   "cell_type": "code",
   "execution_count": 2,
   "metadata": {},
   "outputs": [],
   "source": [
    "from infer_detector import Infer"
   ]
  },
  {
   "cell_type": "code",
   "execution_count": null,
   "metadata": {},
   "outputs": [],
   "source": []
  },
  {
   "cell_type": "code",
   "execution_count": 3,
   "metadata": {},
   "outputs": [],
   "source": [
    "gtf = Infer();"
   ]
  },
  {
   "cell_type": "code",
   "execution_count": null,
   "metadata": {},
   "outputs": [],
   "source": []
  },
  {
   "cell_type": "code",
   "execution_count": 4,
   "metadata": {},
   "outputs": [
    {
     "name": "stdout",
     "output_type": "stream",
     "text": [
      "total parameters: 116847521\n",
      "loading from ./cache/nnet/CornerNet_Saccade/CornerNet_Saccade_final.pkl\n"
     ]
    }
   ],
   "source": [
    "class_list = [\"kangaroo\"]\n",
    "gtf.Model(class_list, \n",
    "          base=\"CornerNet_Saccade\", \n",
    "          model_path=\"./cache/nnet/CornerNet_Saccade/CornerNet_Saccade_final.pkl\")"
   ]
  },
  {
   "cell_type": "code",
   "execution_count": null,
   "metadata": {},
   "outputs": [],
   "source": []
  },
  {
   "cell_type": "code",
   "execution_count": null,
   "metadata": {},
   "outputs": [],
   "source": []
  },
  {
   "cell_type": "code",
   "execution_count": 5,
   "metadata": {},
   "outputs": [
    {
     "name": "stderr",
     "output_type": "stream",
     "text": [
      "/home/abhi/.virtualenvs/monk_obj_6_cornernet_lite/lib/python3.7/site-packages/torch/nn/functional.py:2423: UserWarning: Default upsampling behavior when mode=bilinear is changed to align_corners=False since 0.4.0. Please specify align_corners=True if the old behavior is desired. See the documentation of nn.Upsample for details.\n",
      "  \"See the documentation of nn.Upsample for details.\".format(mode))\n"
     ]
    },
    {
     "data": {
      "image/jpeg": "[encoded data removed]",
      "text/plain": [
       "<IPython.core.display.Image object>"
      ]
     },
     "execution_count": 5,
     "metadata": {},
     "output_type": "execute_result"
    }
   ],
   "source": [
    "boxes = gtf.Predict(\"Monk_Object_Detection/example_notebooks/sample_dataset/kangaroo/test/kg1.jpeg\", vis_thresh=0.3, output_img=\"output.jpg\")\n",
    "from IPython.display import Image\n",
    "Image(filename='output.jpg')"
   ]
  },
  {
   "cell_type": "code",
   "execution_count": null,
   "metadata": {},
   "outputs": [],
   "source": []
  },
  {
   "cell_type": "code",
   "execution_count": null,
   "metadata": {},
   "outputs": [],
   "source": []
  },
  {
   "cell_type": "code",
   "execution_count": null,
   "metadata": {},
   "outputs": [],
   "source": []
  },
  {
   "cell_type": "code",
   "execution_count": 12,
   "metadata": {},
   "outputs": [
    {
     "data": {
      "image/jpeg": "[encoded data removed]",
      "text/plain": [
       "<IPython.core.display.Image object>"
      ]
     },
     "execution_count": 12,
     "metadata": {},
     "output_type": "execute_result"
    }
   ],
   "source": [
    "boxes = gtf.Predict(\"Monk_Object_Detection/example_notebooks/sample_dataset/kangaroo/test/kg4.jpeg\", vis_thresh=0.15, output_img=\"output.jpg\")\n",
    "from IPython.display import Image\n",
    "Image(filename='output.jpg')"
   ]
  },
  {
   "cell_type": "code",
   "execution_count": null,
   "metadata": {},
   "outputs": [],
   "source": []
  },
  {
   "cell_type": "code",
   "execution_count": null,
   "metadata": {},
   "outputs": [],
   "source": []
  },
  {
   "cell_type": "code",
   "execution_count": null,
   "metadata": {},
   "outputs": [],
   "source": []
  },
  {
   "cell_type": "code",
   "execution_count": null,
   "metadata": {},
   "outputs": [],
   "source": []
  },
  {
   "cell_type": "code",
   "execution_count": 7,
   "metadata": {},
   "outputs": [
    {
     "data": {
      "image/jpeg": "[encoded data removed]",
      "text/plain": [
       "<IPython.core.display.Image object>"
      ]
     },
     "execution_count": 7,
     "metadata": {},
     "output_type": "execute_result"
    }
   ],
   "source": [
    "boxes = gtf.Predict(\"Monk_Object_Detection/example_notebooks/sample_dataset/kangaroo/test/kg3.jpeg\", vis_thresh=0.3, output_img=\"output.jpg\")\n",
    "from IPython.display import Image\n",
    "Image(filename='output.jpg')"
   ]
  },
  {
   "cell_type": "code",
   "execution_count": null,
   "metadata": {},
   "outputs": [],
   "source": []
  }
 ],
 "metadata": {
  "kernelspec": {
   "display_name": "Python 3",
   "language": "python",
   "name": "python3"
  },
  "language_info": {
   "codemirror_mode": {
    "name": "ipython",
    "version": 3
   },
   "file_extension": ".py",
   "mimetype": "text/x-python",
   "name": "python",
   "nbconvert_exporter": "python",
   "pygments_lexer": "ipython3",
   "version": "3.6.9"
  }
 },
 "nbformat": 4,
 "nbformat_minor": 4
}
