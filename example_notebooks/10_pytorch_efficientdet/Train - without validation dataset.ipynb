{
 "cells": [
  {
   "cell_type": "markdown",
   "metadata": {},
   "source": [
    "<a href=\"https://colab.research.google.com/github/Tessellate-Imaging/Monk_Object_Detection/blob/master/example_notebooks/8_pytorch_rfbnet/Train%20and%20Infer%20-%20E_VGG16.ipynb\" target=\"_parent\"><img src=\"https://colab.research.google.com/assets/colab-badge.svg\" alt=\"Open In Colab\"/></a>"
   ]
  },
  {
   "cell_type": "code",
   "execution_count": null,
   "metadata": {},
   "outputs": [],
   "source": []
  },
  {
   "cell_type": "code",
   "execution_count": null,
   "metadata": {},
   "outputs": [],
   "source": []
  },
  {
   "cell_type": "code",
   "execution_count": null,
   "metadata": {},
   "outputs": [],
   "source": []
  },
  {
   "cell_type": "markdown",
   "metadata": {},
   "source": [
    "# Installation\n",
    "\n",
    " - Run these commands\n",
    "     \n",
    "     - git clone https://github.com/Tessellate-Imaging/Monk_Object_Detection.git\n",
    "     \n",
    "     - cd Monk_Object_Detection/10_pytorch_efficientdet/installation\n",
    "     \n",
    " - Select the right requirements file and run\n",
    " \n",
    "     - cat requirements_cuda9.0.txt | xargs -n 1 -L 1 pip install"
   ]
  },
  {
   "cell_type": "code",
   "execution_count": null,
   "metadata": {},
   "outputs": [],
   "source": [
    "! git clone https://github.com/Tessellate-Imaging/Monk_Object_Detection.git"
   ]
  },
  {
   "cell_type": "code",
   "execution_count": null,
   "metadata": {},
   "outputs": [],
   "source": [
    "# For colab use the command below\n",
    "! cd Monk_Object_Detection/10_pytorch_efficientdet/installation && cat requirements_colab.txt | xargs -n 1 -L 1 pip install\n",
    "# Restart colab runtime now\n",
    "\n",
    "# For Local systems and cloud select the right CUDA version\n",
    "# ! cd Monk_Object_Detection/10_pytorch_efficientdet/installation && cat requirements_cuda9.0.txt | xargs -n 1 -L 1 pip install"
   ]
  },
  {
   "cell_type": "code",
   "execution_count": null,
   "metadata": {},
   "outputs": [],
   "source": []
  },
  {
   "cell_type": "code",
   "execution_count": null,
   "metadata": {},
   "outputs": [],
   "source": []
  },
  {
   "cell_type": "code",
   "execution_count": null,
   "metadata": {},
   "outputs": [],
   "source": []
  },
  {
   "cell_type": "markdown",
   "metadata": {},
   "source": [
    "# About the network\n",
    "\n",
    "1. Paper on EfficientDet: https://arxiv.org/abs/1911.09070\n",
    "\n",
    "2. Blog 1 on EfficientDet: https://towardsdatascience.com/efficientdet-scalable-and-efficient-object-detection-review-4472ffc34fd9\n",
    "\n",
    "3. Blog 2 on EfficientDet: https://medium.com/@nainaakash012/efficientdet-scalable-and-efficient-object-detection-ea05ccd28427"
   ]
  },
  {
   "cell_type": "code",
   "execution_count": null,
   "metadata": {},
   "outputs": [],
   "source": []
  },
  {
   "cell_type": "code",
   "execution_count": null,
   "metadata": {},
   "outputs": [],
   "source": []
  },
  {
   "cell_type": "code",
   "execution_count": null,
   "metadata": {},
   "outputs": [],
   "source": []
  },
  {
   "cell_type": "markdown",
   "metadata": {},
   "source": [
    "# COCO Format - 1\n",
    "\n",
    "## Dataset Directory Structure\n",
    "\n",
    "    ../sample_dataset (root_dir)\n",
    "          |\n",
    "          |------kangaroo (coco_dir) \n",
    "          |         |\n",
    "          |         |----images (img_dir)\n",
    "          |                |\n",
    "          |                |------Train (set_dir) (Train)\n",
    "          |                         |\n",
    "          |                         |---------img1.jpg\n",
    "          |                         |---------img2.jpg\n",
    "          |                         |---------..........(and so on)\n",
    "          |                |-------Val (set_dir) (Validation)\n",
    "          |                         |\n",
    "          |                         |---------img1.jpg\n",
    "          |                         |---------img2.jpg\n",
    "          |                         |---------..........(and so on)  \n",
    "          |\n",
    "          |\n",
    "          |         |---annotations \n",
    "          |         |----|\n",
    "          |              |--------------------instances_Train.json  (instances_<set_dir>.json)\n",
    "          |              |--------------------instances_Val.json  (instances_<set_dir>.json)\n",
    "          |              |--------------------classes.txt\n",
    "          \n",
    "          \n",
    " - instances_Train.json -> In proper COCO format\n",
    " - classes.txt          -> A list of classes in alphabetical order\n",
    " \n",
    "\n",
    "For TrainSet\n",
    " - root_dir = \"../sample_dataset\";\n",
    " - coco_dir = \"kangaroo\";\n",
    " - img_dir = \"images\";\n",
    " - set_dir = \"Train\";\n",
    " \n",
    "For ValSet\n",
    " - root_dir = \"..sample_dataset\";\n",
    " - coco_dir = \"kangaroo\";\n",
    " - img_dir = \"images\";\n",
    " - set_dir = \"Val\";\n",
    " \n",
    " Note: Annotation file name too coincides against the set_dir"
   ]
  },
  {
   "cell_type": "code",
   "execution_count": null,
   "metadata": {},
   "outputs": [],
   "source": []
  },
  {
   "cell_type": "code",
   "execution_count": null,
   "metadata": {},
   "outputs": [],
   "source": []
  },
  {
   "cell_type": "markdown",
   "metadata": {},
   "source": [
    "# COCO Format - 2\n",
    "\n",
    "## Dataset Directory Structure\n",
    "\n",
    "    ../sample_dataset (root_dir)\n",
    "          |\n",
    "          |------kangaroo (coco_dir) \n",
    "          |         |\n",
    "          |         |---ImagesTrain (set_dir)\n",
    "          |         |----|\n",
    "          |              |-------------------img1.jpg\n",
    "          |              |-------------------img2.jpg\n",
    "          |              |-------------------.........(and so on)\n",
    "          |\n",
    "          |\n",
    "          |         |---ImagesVal (set_dir)\n",
    "          |         |----|\n",
    "          |              |-------------------img1.jpg\n",
    "          |              |-------------------img2.jpg\n",
    "          |              |-------------------.........(and so on)\n",
    "          |\n",
    "          |\n",
    "          |         |---annotations \n",
    "          |         |----|\n",
    "          |              |--------------------instances_ImagesTrain.json  (instances_<set_dir>.json)\n",
    "          |              |--------------------instances_ImagesVal.json  (instances_<set_dir>.json)\n",
    "          |              |--------------------classes.txt\n",
    "          \n",
    "          \n",
    " - instances_Train.json -> In proper COCO format\n",
    " - classes.txt          -> A list of classes in alphabetical order\n",
    " \n",
    " For TrainSet\n",
    " - root_dir = \"../sample_dataset\";\n",
    " - coco_dir = \"kangaroo\";\n",
    " - img_dir = \"./\";\n",
    " - set_dir = \"ImagesTrain\";\n",
    " \n",
    " \n",
    "  For ValSet\n",
    " - root_dir = \"../sample_dataset\";\n",
    " - coco_dir = \"kangaroo\";\n",
    " - img_dir = \"./\";\n",
    " - set_dir = \"ImagesVal\";\n",
    " \n",
    " Note: Annotation file name too coincides against the set_dir\n",
    " "
   ]
  },
  {
   "cell_type": "code",
   "execution_count": null,
   "metadata": {},
   "outputs": [],
   "source": []
  },
  {
   "cell_type": "code",
   "execution_count": null,
   "metadata": {},
   "outputs": [],
   "source": []
  },
  {
   "cell_type": "markdown",
   "metadata": {},
   "source": [
    "# Sample Dataset Credits\n",
    "\n",
    "    credits: https://github.com/experiencor/kangaroo"
   ]
  },
  {
   "cell_type": "code",
   "execution_count": null,
   "metadata": {},
   "outputs": [],
   "source": []
  },
  {
   "cell_type": "code",
   "execution_count": null,
   "metadata": {},
   "outputs": [],
   "source": []
  },
  {
   "cell_type": "code",
   "execution_count": null,
   "metadata": {},
   "outputs": [],
   "source": []
  },
  {
   "cell_type": "code",
   "execution_count": null,
   "metadata": {},
   "outputs": [],
   "source": [
    "import os\n",
    "import sys\n",
    "sys.path.append(\"10_pytorch_efficientdet/lib/\")"
   ]
  },
  {
   "cell_type": "code",
   "execution_count": null,
   "metadata": {},
   "outputs": [],
   "source": []
  },
  {
   "cell_type": "code",
   "execution_count": null,
   "metadata": {},
   "outputs": [],
   "source": [
    "from train_detector import Detector"
   ]
  },
  {
   "cell_type": "code",
   "execution_count": null,
   "metadata": {},
   "outputs": [],
   "source": [
    "gtf = Detector();"
   ]
  },
  {
   "cell_type": "code",
   "execution_count": null,
   "metadata": {},
   "outputs": [],
   "source": []
  },
  {
   "cell_type": "code",
   "execution_count": null,
   "metadata": {},
   "outputs": [],
   "source": [
    "root_dir = \"datasets/\";\n",
    "coco_dir = \"kangaroo/\";\n",
    "img_dir = \"\";\n",
    "set_dir = \"Images\";"
   ]
  },
  {
   "cell_type": "code",
   "execution_count": null,
   "metadata": {},
   "outputs": [],
   "source": [
    "gtf.set_train_dataset(root_dir, coco_dir, img_dir, set_dir, classes_list=[\"kangaroo\"], batch_size=2, num_workers=3)"
   ]
  },
  {
   "cell_type": "code",
   "execution_count": null,
   "metadata": {},
   "outputs": [],
   "source": []
  },
  {
   "cell_type": "code",
   "execution_count": null,
   "metadata": {},
   "outputs": [],
   "source": [
    "#Available models\n",
    "\"efficientdet-d0.pth\"\n",
    "\"efficientdet-d1.pth\"\n",
    "\"efficientdet-d2.pth\"\n",
    "\"efficientdet-d3.pth\"\n",
    "\"efficientdet-d4.pth\"\n",
    "\"efficientdet-d5.pth\"\n",
    "\"efficientdet-d6.pth\"\n",
    "\"efficientdet-d7.pth\"\n",
    "\n",
    "gtf.set_model(model_name=\"efficientdet-d4.pth\", num_gpus=1, freeze_head=False)"
   ]
  },
  {
   "cell_type": "code",
   "execution_count": null,
   "metadata": {},
   "outputs": [],
   "source": []
  },
  {
   "cell_type": "code",
   "execution_count": null,
   "metadata": {},
   "outputs": [],
   "source": [
    "#Available optimizers\n",
    "#adamw\n",
    "#sgd\n",
    "\n",
    "gtf.set_hyperparams(optimizer=\"adamw\", lr=0.001, es_min_delta=0.0, es_patience=0)"
   ]
  },
  {
   "cell_type": "code",
   "execution_count": null,
   "metadata": {},
   "outputs": [],
   "source": []
  },
  {
   "cell_type": "code",
   "execution_count": null,
   "metadata": {},
   "outputs": [],
   "source": [
    "gtf.train(num_epochs=20, val_interval=1, save_interval=1)"
   ]
  },
  {
   "cell_type": "code",
   "execution_count": null,
   "metadata": {},
   "outputs": [],
   "source": []
  },
  {
   "cell_type": "code",
   "execution_count": null,
   "metadata": {},
   "outputs": [],
   "source": []
  },
  {
   "cell_type": "code",
   "execution_count": null,
   "metadata": {},
   "outputs": [],
   "source": []
  },
  {
   "cell_type": "code",
   "execution_count": null,
   "metadata": {},
   "outputs": [],
   "source": []
  },
  {
   "cell_type": "code",
   "execution_count": null,
   "metadata": {},
   "outputs": [],
   "source": []
  },
  {
   "cell_type": "code",
   "execution_count": null,
   "metadata": {},
   "outputs": [],
   "source": []
  },
  {
   "cell_type": "code",
   "execution_count": null,
   "metadata": {},
   "outputs": [],
   "source": []
  },
  {
   "cell_type": "code",
   "execution_count": null,
   "metadata": {},
   "outputs": [],
   "source": []
  },
  {
   "cell_type": "code",
   "execution_count": null,
   "metadata": {},
   "outputs": [],
   "source": []
  },
  {
   "cell_type": "code",
   "execution_count": null,
   "metadata": {},
   "outputs": [],
   "source": []
  },
  {
   "cell_type": "code",
   "execution_count": null,
   "metadata": {},
   "outputs": [],
   "source": []
  },
  {
   "cell_type": "code",
   "execution_count": null,
   "metadata": {},
   "outputs": [],
   "source": []
  },
  {
   "cell_type": "code",
   "execution_count": null,
   "metadata": {},
   "outputs": [],
   "source": []
  }
 ],
 "metadata": {
  "kernelspec": {
   "display_name": "Python 3",
   "language": "python",
   "name": "python3"
  },
  "language_info": {
   "codemirror_mode": {
    "name": "ipython",
    "version": 3
   },
   "file_extension": ".py",
   "mimetype": "text/x-python",
   "name": "python",
   "nbconvert_exporter": "python",
   "pygments_lexer": "ipython3",
   "version": "3.6.10"
  }
 },
 "nbformat": 4,
 "nbformat_minor": 4
}
