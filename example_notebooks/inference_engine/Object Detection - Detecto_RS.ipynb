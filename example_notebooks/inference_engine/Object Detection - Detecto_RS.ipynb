{
 "cells": [
  {
   "cell_type": "markdown",
   "metadata": {},
   "source": [
    "<a href=\"https://colab.research.google.com/github/Tessellate-Imaging/Monk_Object_Detection/blob/master/example_notebooks/inference_engine/Object%20Detection%20-%20EfficientDet%20Pytorch.ipynb\" target=\"_parent\"><img src=\"https://colab.research.google.com/assets/colab-badge.svg\" alt=\"Open In Colab\"/></a>"
   ]
  },
  {
   "cell_type": "code",
   "execution_count": null,
   "metadata": {},
   "outputs": [],
   "source": []
  },
  {
   "cell_type": "code",
   "execution_count": null,
   "metadata": {},
   "outputs": [],
   "source": []
  },
  {
   "cell_type": "markdown",
   "metadata": {},
   "source": [
    "# Installation\n",
    "\n",
    " - Run these commands\n",
    "     \n",
    "     - git clone https://github.com/Tessellate-Imaging/Monk_Object_Detection.git\n",
    "     \n",
    "     - cd Monk_Object_Detection/inference_engine/installation\n",
    "     \n",
    " - Select the right requirements file and run\n",
    " \n",
    "     - cat requirements.txt | xargs -n 1 -L 1 pip install"
   ]
  },
  {
   "cell_type": "code",
   "execution_count": 1,
   "metadata": {},
   "outputs": [
    {
     "name": "stdout",
     "output_type": "stream",
     "text": [
      "Cloning into 'Monk_Object_Detection'...\n",
      "remote: Enumerating objects: 1001, done.\u001b[K\n",
      "remote: Counting objects: 100% (1001/1001), done.\u001b[K\n",
      "remote: Compressing objects: 100% (653/653), done.\u001b[K\n",
      "remote: Total 4967 (delta 450), reused 856 (delta 341), pack-reused 3966\u001b[K\n",
      "Receiving objects: 100% (4967/4967), 153.98 MiB | 3.61 MiB/s, done.\n",
      "Resolving deltas: 100% (1410/1410), done.\n",
      "Checking out files: 100% (4672/4672), done.\n"
     ]
    }
   ],
   "source": [
    "! git clone https://github.com/Tessellate-Imaging/Monk_Object_Detection.git"
   ]
  },
  {
   "cell_type": "code",
   "execution_count": null,
   "metadata": {},
   "outputs": [],
   "source": [
    "# For colab use the command below\n",
    "! cd Monk_Object_Detection/inference_engine/installation && cat requirements_colab.txt | xargs -n 1 -L 1 pip install\n",
    "\n",
    "# For Local systems and cloud select the right CUDA version\n",
    "#! cd Monk_Object_Detection/inference_engine/installation && cat requirements_cuda.txt | xargs -n 1 -L 1 pip install"
   ]
  },
  {
   "cell_type": "code",
   "execution_count": null,
   "metadata": {},
   "outputs": [],
   "source": []
  },
  {
   "cell_type": "code",
   "execution_count": null,
   "metadata": {},
   "outputs": [],
   "source": []
  },
  {
   "cell_type": "code",
   "execution_count": null,
   "metadata": {},
   "outputs": [],
   "source": []
  },
  {
   "cell_type": "markdown",
   "metadata": {},
   "source": [
    "# Imports"
   ]
  },
  {
   "cell_type": "code",
   "execution_count": 2,
   "metadata": {},
   "outputs": [],
   "source": [
    "import os\n",
    "import sys\n",
    "sys.path.append(\"Monk_Object_Detection/inference_engine/\")"
   ]
  },
  {
   "cell_type": "code",
   "execution_count": null,
   "metadata": {},
   "outputs": [],
   "source": []
  },
  {
   "cell_type": "code",
   "execution_count": 3,
   "metadata": {},
   "outputs": [],
   "source": [
    "from engine import Infer\n",
    "gtf = Infer();"
   ]
  },
  {
   "cell_type": "code",
   "execution_count": null,
   "metadata": {},
   "outputs": [],
   "source": []
  },
  {
   "cell_type": "markdown",
   "metadata": {},
   "source": [
    "# List available algorithms"
   ]
  },
  {
   "cell_type": "code",
   "execution_count": 3,
   "metadata": {},
   "outputs": [
    {
     "name": "stdout",
     "output_type": "stream",
     "text": [
      "Available Algorithm Types: \n",
      "1. object_detection\n",
      "2. image_segmentation\n",
      "3. pose_estimation\n",
      "4. face_recognition\n",
      "5. facial_keypoint_detection\n",
      "6. activity_classification\n",
      "7. gaze_estimation\n",
      "8. object_tracking\n"
     ]
    }
   ],
   "source": [
    "gtf.List_Algo_Types();"
   ]
  },
  {
   "cell_type": "code",
   "execution_count": null,
   "metadata": {},
   "outputs": [],
   "source": []
  },
  {
   "cell_type": "code",
   "execution_count": null,
   "metadata": {},
   "outputs": [],
   "source": []
  },
  {
   "cell_type": "markdown",
   "metadata": {},
   "source": [
    "# List available algorithm types in Object Detection"
   ]
  },
  {
   "cell_type": "code",
   "execution_count": 4,
   "metadata": {},
   "outputs": [
    {
     "name": "stdout",
     "output_type": "stream",
     "text": [
      "Available Object Detection Algorithms: \n",
      "1. gluoncv_finetune\n",
      "2. efficientdet_pytorch\n"
     ]
    }
   ],
   "source": [
    "gtf.List_Algos(algo_type=\"object_detection\");"
   ]
  },
  {
   "cell_type": "code",
   "execution_count": null,
   "metadata": {},
   "outputs": [],
   "source": []
  },
  {
   "cell_type": "code",
   "execution_count": null,
   "metadata": {},
   "outputs": [],
   "source": []
  },
  {
   "cell_type": "code",
   "execution_count": null,
   "metadata": {},
   "outputs": [],
   "source": []
  },
  {
   "cell_type": "markdown",
   "metadata": {},
   "source": [
    "# Install EfficientDet Pytorch Algorithm"
   ]
  },
  {
   "cell_type": "code",
   "execution_count": null,
   "metadata": {},
   "outputs": [],
   "source": [
    "gtf.Install_Engine(algo_type=\"object_detection\", algo=\"detecto_rs\", system=\"cuda-9.0\")"
   ]
  },
  {
   "cell_type": "code",
   "execution_count": null,
   "metadata": {},
   "outputs": [],
   "source": []
  },
  {
   "cell_type": "code",
   "execution_count": null,
   "metadata": {},
   "outputs": [],
   "source": []
  },
  {
   "cell_type": "markdown",
   "metadata": {},
   "source": [
    "# List all models present in EfficientDet Pytorch Algorithm"
   ]
  },
  {
   "cell_type": "code",
   "execution_count": 5,
   "metadata": {},
   "outputs": [
    {
     "name": "stdout",
     "output_type": "stream",
     "text": [
      "Available models: \n",
      "1. Data: coco, Model-Name: resnet-50, mAP: 51.3\n",
      "2. Data: coco, Model-Name: resnext-101-32x4d, mAP: 53.3\n"
     ]
    }
   ],
   "source": [
    "gtf.List_Model_Names(algo_type=\"object_detection\", algo=\"detecto_rs\");"
   ]
  },
  {
   "cell_type": "code",
   "execution_count": null,
   "metadata": {},
   "outputs": [],
   "source": []
  },
  {
   "cell_type": "code",
   "execution_count": null,
   "metadata": {},
   "outputs": [],
   "source": []
  },
  {
   "cell_type": "code",
   "execution_count": null,
   "metadata": {},
   "outputs": [],
   "source": []
  },
  {
   "cell_type": "markdown",
   "metadata": {},
   "source": [
    "# List all elements in coco dataset"
   ]
  },
  {
   "cell_type": "code",
   "execution_count": 6,
   "metadata": {},
   "outputs": [
    {
     "name": "stdout",
     "output_type": "stream",
     "text": [
      "1. Class: airplane\n",
      "2. Class: apple\n",
      "3. Class: backpack\n",
      "4. Class: banana\n",
      "5. Class: baseball bat\n",
      "6. Class: baseball glove\n",
      "7. Class: bear\n",
      "8. Class: bed\n",
      "9. Class: bench\n",
      "10. Class: bicycle\n",
      "11. Class: bird\n",
      "12. Class: boat\n",
      "13. Class: book\n",
      "14. Class: bottle\n",
      "15. Class: bowl\n",
      "16. Class: broccoli\n",
      "17. Class: bus\n",
      "18. Class: cake\n",
      "19. Class: car\n",
      "20. Class: carrot\n",
      "21. Class: cat\n",
      "22. Class: cell phone\n",
      "23. Class: chair\n",
      "24. Class: clock\n",
      "25. Class: couch\n",
      "26. Class: cow\n",
      "27. Class: cup\n",
      "28. Class: dining table\n",
      "29. Class: dog\n",
      "30. Class: donut\n",
      "31. Class: elephant\n",
      "32. Class: fire hydrant\n",
      "33. Class: fork\n",
      "34. Class: frisbee\n",
      "35. Class: giraffe\n",
      "36. Class: hair drier\n",
      "37. Class: handbag\n",
      "38. Class: horse\n",
      "39. Class: hot dog\n",
      "40. Class: keyboard\n",
      "41. Class: kite\n",
      "42. Class: knife\n",
      "43. Class: laptop\n",
      "44. Class: microwave\n",
      "45. Class: motorcycle\n",
      "46. Class: mouse\n",
      "47. Class: orange\n",
      "48. Class: oven\n",
      "49. Class: parking meter\n",
      "50. Class: person\n",
      "51. Class: pizza\n",
      "52. Class: potted plant\n",
      "53. Class: refrigerator\n",
      "54. Class: remote\n",
      "55. Class: sandwich\n",
      "56. Class: scissors\n",
      "57. Class: sheep\n",
      "58. Class: sink\n",
      "59. Class: skateboard\n",
      "60. Class: skis\n",
      "61. Class: snowboard\n",
      "62. Class: spoon\n",
      "63. Class: sports ball\n",
      "64. Class: stop sign\n",
      "65. Class: suitcase\n",
      "66. Class: surfboard\n",
      "67. Class: teddy bear\n",
      "68. Class: tennis racket\n",
      "69. Class: tie\n",
      "70. Class: toaster\n",
      "71. Class: toilet\n",
      "72. Class: toothbrush\n",
      "73. Class: traffic light\n",
      "74. Class: train\n",
      "75. Class: truck\n",
      "76. Class: tv\n",
      "77. Class: umbrella\n",
      "78. Class: vase\n",
      "79. Class: wine glass\n",
      "80. Class: zebra\n"
     ]
    }
   ],
   "source": [
    "gtf.List_Classes(data=\"coco\");"
   ]
  },
  {
   "cell_type": "code",
   "execution_count": null,
   "metadata": {},
   "outputs": [],
   "source": []
  },
  {
   "cell_type": "code",
   "execution_count": null,
   "metadata": {},
   "outputs": [],
   "source": []
  },
  {
   "cell_type": "markdown",
   "metadata": {},
   "source": [
    "# Infer on a single Image"
   ]
  },
  {
   "cell_type": "code",
   "execution_count": null,
   "metadata": {},
   "outputs": [],
   "source": [
    "classes1 = \"car, person\"; # For a set of classes\n",
    "classes2 = \"person\"; # For one single class\n",
    "classes3 = \"\"; # For all classes\n",
    "\n",
    "gtf.Infer_Image(algo_type=\"object_detection\", \n",
    "                algo=\"detecto_rs\",\n",
    "                data=\"coco\",\n",
    "                model=\"resnet-50\",\n",
    "                img_path=\"test.png\",\n",
    "                thresh=0.3,\n",
    "                classes = classes1,\n",
    "                visualize=True,\n",
    "                write_voc_format=True,\n",
    "                write_coco_format=True,\n",
    "                write_monk_format=True,\n",
    "                write_yolo_format=True,\n",
    "                verbose=1);"
   ]
  },
  {
   "cell_type": "code",
   "execution_count": null,
   "metadata": {},
   "outputs": [],
   "source": []
  },
  {
   "cell_type": "code",
   "execution_count": null,
   "metadata": {},
   "outputs": [],
   "source": []
  },
  {
   "cell_type": "code",
   "execution_count": null,
   "metadata": {},
   "outputs": [],
   "source": []
  },
  {
   "cell_type": "markdown",
   "metadata": {},
   "source": [
    "# Infer on a Folder of Images"
   ]
  },
  {
   "cell_type": "code",
   "execution_count": null,
   "metadata": {},
   "outputs": [],
   "source": []
  },
  {
   "cell_type": "code",
   "execution_count": 9,
   "metadata": {},
   "outputs": [
    {
     "name": "stdout",
     "output_type": "stream",
     "text": [
      "Running Inference\n",
      "If running for the first time, it might take a little longer ....\n",
      "Downloading model ....\n",
      "Loading Model ...\n",
      "Already Processed 1/6\n",
      "Already Processed 2/6\n",
      "Already Processed 3/6\n",
      "Already Processed 4/6\n",
      "Processing 5/6\n",
      "Saving Annotations to monk format\n",
      "Saving Annotations to coco format (individual files)\n",
      "Saving Annotations to voc format\n",
      "Saving Annotations to yolo format\n",
      "Processing 6/6\n",
      "Saving Annotations to monk format\n",
      "Saving Annotations to coco format (individual files)\n",
      "Saving Annotations to voc format\n",
      "Saving Annotations to yolo format\n",
      "Completed\n",
      "\n",
      "\n",
      "Output stored at workspace/object_detection/efficientdet_pytorch/efficientdet-d1/test_folder/\n"
     ]
    }
   ],
   "source": [
    "classes1 = \"car, person\"; # For a set of classes\n",
    "classes2 = \"person\"; # For one single class\n",
    "classes3 = \"\"; # For all classes\n",
    "\n",
    "gtf.Infer_Folder_Images(algo_type=\"object_detection\", \n",
    "                        algo=\"detecto_rs\",\n",
    "                        data=\"coco\",\n",
    "                        model=\"resnet-50\",\n",
    "                        folder_path=\"test_folder\",\n",
    "                        output_folder_name=\"test_folder\",\n",
    "                        thresh=0.5,\n",
    "                        classes = classes1,\n",
    "                        visualize=False,\n",
    "                        write_voc_format=True,\n",
    "                        write_coco_format=True,\n",
    "                        write_monk_format=True,\n",
    "                        write_yolo_format=True,\n",
    "                        verbose=1);"
   ]
  },
  {
   "cell_type": "code",
   "execution_count": null,
   "metadata": {},
   "outputs": [],
   "source": []
  },
  {
   "cell_type": "code",
   "execution_count": null,
   "metadata": {},
   "outputs": [],
   "source": []
  },
  {
   "cell_type": "code",
   "execution_count": null,
   "metadata": {},
   "outputs": [],
   "source": []
  },
  {
   "cell_type": "code",
   "execution_count": null,
   "metadata": {},
   "outputs": [],
   "source": []
  }
 ],
 "metadata": {
  "kernelspec": {
   "display_name": "Python 3",
   "language": "python",
   "name": "python3"
  },
  "language_info": {
   "codemirror_mode": {
    "name": "ipython",
    "version": 3
   },
   "file_extension": ".py",
   "mimetype": "text/x-python",
   "name": "python",
   "nbconvert_exporter": "python",
   "pygments_lexer": "ipython3",
   "version": "3.6.10"
  }
 },
 "nbformat": 4,
 "nbformat_minor": 4
}
