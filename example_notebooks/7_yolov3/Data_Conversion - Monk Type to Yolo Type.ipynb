{
 "cells": [
  {
   "cell_type": "code",
   "execution_count": null,
   "metadata": {},
   "outputs": [],
   "source": []
  },
  {
   "cell_type": "code",
   "execution_count": null,
   "metadata": {},
   "outputs": [],
   "source": []
  },
  {
   "cell_type": "markdown",
   "metadata": {},
   "source": [
    "# Installation\n",
    "\n",
    " - Run these commands\n",
    "     \n",
    "     - git clone https://github.com/Tessellate-Imaging/Monk_Object_Detection.git\n",
    "     \n",
    "     - cd Monk_Object_Detection/7_yolov3/installation\n",
    "     \n",
    " - Select the right requirements file and run\n",
    " \n",
    "     - cat requirements.txt | xargs -n 1 -L 1 pip install"
   ]
  },
  {
   "cell_type": "code",
   "execution_count": null,
   "metadata": {},
   "outputs": [],
   "source": []
  },
  {
   "cell_type": "code",
   "execution_count": null,
   "metadata": {},
   "outputs": [],
   "source": []
  },
  {
   "cell_type": "markdown",
   "metadata": {},
   "source": [
    "# About the network\n",
    "\n",
    "1. Paper on Yolov3: https://arxiv.org/abs/1804.02767\n",
    "\n",
    "2. Paper on Yolov3-SPP: https://arxiv.org/abs/1903.08589\n",
    "\n",
    "3. Darknet: https://pjreddie.com/darknet/\n",
    "\n",
    "4. Blog-1 on yolo: https://machinethink.net/blog/object-detection-with-yolo/\n",
    "\n",
    "5. Blog-2 on yolo: https://medium.com/@jonathan_hui/real-time-object-detection-with-yolo-yolov2-28b1b93e2088\n",
    "\n",
    "6. Blog-3 on yolo: https://blog.ekbana.com/training-yolov2-in-a-custom-dataset-6fcf58f65fa2\n",
    "\n",
    "7. Blog-4 on yolo: https://towardsdatascience.com/yolo-v3-object-detection-53fb7d3bfe6b\n",
    "\n",
    "8. Blog-5 on yolo: https://blog.insightdatascience.com/how-to-train-your-own-yolov3-detector-from-scratch-224d10e55de2"
   ]
  },
  {
   "cell_type": "code",
   "execution_count": null,
   "metadata": {},
   "outputs": [],
   "source": []
  },
  {
   "cell_type": "code",
   "execution_count": null,
   "metadata": {},
   "outputs": [],
   "source": []
  },
  {
   "cell_type": "code",
   "execution_count": null,
   "metadata": {},
   "outputs": [],
   "source": []
  },
  {
   "cell_type": "markdown",
   "metadata": {},
   "source": [
    "# Monk Format\n",
    "\n",
    "## Dataset Directory Structure\n",
    "\n",
    "    ../sample_dataset/kangaroo (root)\n",
    "          |\n",
    "          |-----------Images (img_dir)\n",
    "          |              |\n",
    "          |              |------------------img1.jpg\n",
    "          |              |------------------img2.jpg\n",
    "          |              |------------------.........(and so on)\n",
    "          |\n",
    "          |\n",
    "          |-----------train_labels.csv (anno_file)\n",
    "          \n",
    "          \n",
    "## Annotation file format\n",
    "\n",
    "           | Id         | Labels                                 |\n",
    "           | img1.jpg   | x1 y1 x2 y2 label1 x1 y1 x2 y2 label2  |\n",
    "           \n",
    "- Labels:  xmin ymin xmax ymax label\n",
    "- xmin, ymin - top left corner of bounding box\n",
    "- xmax, ymax - bottom right corner of bounding box"
   ]
  },
  {
   "cell_type": "code",
   "execution_count": null,
   "metadata": {},
   "outputs": [],
   "source": []
  },
  {
   "cell_type": "markdown",
   "metadata": {},
   "source": [
    "# Required Format - Yolo\n",
    "\n",
    "## Dataset Directory Structure\n",
    "\n",
    "    ../sample_dataset/kangaroo (root)\n",
    "          |\n",
    "          |-----------Images (img_dir)\n",
    "          |              |\n",
    "          |              |------------------img1.jpg\n",
    "          |              |------------------img2.jpg\n",
    "          |              |------------------.........(and so on)\n",
    "          |\n",
    "          |-----------labels (label_dir)\n",
    "          |              |\n",
    "          |              |------------------img1.txt\n",
    "          |              |------------------img2.txt\n",
    "          |              |------------------.........(and so on)\n",
    "          |\n",
    "          |------------classes.txt \n",
    "          \n",
    "\n",
    "## Classes file\n",
    " \n",
    "     List of classes in every new line.\n",
    "     The order corresponds to the IDs in annotation files\n",
    "     \n",
    "     Eg.\n",
    "          class1               (------------------------------> if will be 0)\n",
    "          class2               (------------------------------> if will be 1)\n",
    "          class3               (------------------------------> if will be 2)\n",
    "          class4               (------------------------------> if will be 3)\n",
    "          \n",
    "\n",
    "## Annotation file format\n",
    "\n",
    "    CLASS_ID BOX_X_CENTER BOX_Y_CENTER WIDTH BOX_WIDTH BOX_HEIGHT\n",
    "    \n",
    "    (All the coordinates should be normalized)\n",
    "    (X coordinates divided by width of image, Y coordinates divided by height of image)\n",
    "    \n",
    "    Ex. (One line per bounding box of object in image)\n",
    "        class_id x1 y1 w h\n",
    "        class_id x1 y1 w h\n",
    "        ..... (and so on)\n",
    "        "
   ]
  },
  {
   "cell_type": "code",
   "execution_count": null,
   "metadata": {},
   "outputs": [],
   "source": []
  },
  {
   "cell_type": "markdown",
   "metadata": {},
   "source": [
    "# Data Conversion"
   ]
  },
  {
   "cell_type": "code",
   "execution_count": 1,
   "metadata": {},
   "outputs": [],
   "source": [
    "import os\n",
    "import sys"
   ]
  },
  {
   "cell_type": "code",
   "execution_count": 2,
   "metadata": {},
   "outputs": [],
   "source": [
    "root_dir = \"../sample_dataset/ship/\";\n",
    "img_dir = \"images/Train\";\n",
    "anno_file = \"train_labels.csv\";"
   ]
  },
  {
   "cell_type": "code",
   "execution_count": 3,
   "metadata": {},
   "outputs": [],
   "source": [
    "labels_dir = \"labels\";\n",
    "classes_file = \"classes.txt\";"
   ]
  },
  {
   "cell_type": "code",
   "execution_count": 4,
   "metadata": {},
   "outputs": [],
   "source": [
    "labels_dir_relative = root_dir + \"/\" + labels_dir\n",
    "if(not os.path.isdir(labels_dir_relative)):\n",
    "    os.mkdir(labels_dir_relative);"
   ]
  },
  {
   "cell_type": "code",
   "execution_count": null,
   "metadata": {},
   "outputs": [],
   "source": []
  },
  {
   "cell_type": "code",
   "execution_count": 5,
   "metadata": {},
   "outputs": [
    {
     "data": {
      "text/plain": [
       "750"
      ]
     },
     "execution_count": 5,
     "metadata": {},
     "output_type": "execute_result"
    }
   ],
   "source": [
    "import pandas as pd\n",
    "df = pd.read_csv(root_dir + \"/\" + anno_file);\n",
    "len(df)"
   ]
  },
  {
   "cell_type": "code",
   "execution_count": 6,
   "metadata": {},
   "outputs": [
    {
     "data": {
      "text/plain": [
       "['type-0', 'type-1', 'type-2', 'type-3', 'type-4']"
      ]
     },
     "execution_count": 6,
     "metadata": {},
     "output_type": "execute_result"
    }
   ],
   "source": [
    "columns = df.columns\n",
    "classes = [];\n",
    "for i in range(len(df)):\n",
    "    img_file = df[columns[0]][i];\n",
    "    labels = df[columns[1]][i];\n",
    "    tmp = labels.split(\" \");\n",
    "    for j in range(len(tmp)//5):\n",
    "        label = tmp[j*5 + 4];\n",
    "        if(label not in classes):\n",
    "            classes.append(label);\n",
    "classes = sorted(classes)\n",
    "classes"
   ]
  },
  {
   "cell_type": "code",
   "execution_count": 7,
   "metadata": {},
   "outputs": [],
   "source": [
    "f = open(root_dir + \"/\" + classes_file, 'w');\n",
    "for i in range(len(classes)):\n",
    "    f.write(classes[i]);\n",
    "    f.write(\"\\n\");\n",
    "f.close();"
   ]
  },
  {
   "cell_type": "code",
   "execution_count": null,
   "metadata": {},
   "outputs": [],
   "source": []
  },
  {
   "cell_type": "code",
   "execution_count": 8,
   "metadata": {},
   "outputs": [],
   "source": [
    "from PIL import Image\n",
    "from tqdm.notebook import tqdm"
   ]
  },
  {
   "cell_type": "code",
   "execution_count": 9,
   "metadata": {},
   "outputs": [
    {
     "data": {
      "application/vnd.jupyter.widget-view+json": {
       "model_id": "d680f913d5ef4dcea4fb7e13bb598a96",
       "version_major": 2,
       "version_minor": 0
      },
      "text/plain": [
       "HBox(children=(FloatProgress(value=0.0, max=750.0), HTML(value='')))"
      ]
     },
     "metadata": {},
     "output_type": "display_data"
    },
    {
     "name": "stdout",
     "output_type": "stream",
     "text": [
      "\n"
     ]
    }
   ],
   "source": [
    "for i in tqdm(range(len(df))):\n",
    "    img_file = df[columns[0]][i];\n",
    "    labels = df[columns[1]][i];\n",
    "    tmp = labels.split(\" \");\n",
    "    fname = labels_dir_relative + \"/\" + img_file.split(\".\")[0] + \".txt\";\n",
    "    img = Image.open(root_dir + \"/\" + img_dir + \"/\" + img_file);\n",
    "    width, height = img.size\n",
    "    \n",
    "    f = open(fname, 'w');\n",
    "    for j in range(len(tmp)//5):\n",
    "        x1 = float(tmp[j*5 + 0]);\n",
    "        y1 = float(tmp[j*5 + 1]);\n",
    "        x2 = float(tmp[j*5 + 2]);\n",
    "        y2 = float(tmp[j*5 + 3]);\n",
    "        label = tmp[j*5 + 4];\n",
    "        \n",
    "        x_c = str(((x1 + x2)/2)/width);\n",
    "        y_c = str(((y1 + y2)/2)/height);\n",
    "        w = str((x2 - x1)/width);\n",
    "        h = str((y2 - y1)/height);\n",
    "        index = str(classes.index(label));\n",
    "        \n",
    "        f.write(index + \" \" + x_c + \" \" + y_c + \" \" + w + \" \" + h);\n",
    "        f.write(\"\\n\");\n",
    "    f.close();"
   ]
  },
  {
   "cell_type": "code",
   "execution_count": null,
   "metadata": {},
   "outputs": [],
   "source": []
  },
  {
   "cell_type": "code",
   "execution_count": null,
   "metadata": {},
   "outputs": [],
   "source": []
  },
  {
   "cell_type": "code",
   "execution_count": null,
   "metadata": {},
   "outputs": [],
   "source": []
  },
  {
   "cell_type": "code",
   "execution_count": null,
   "metadata": {},
   "outputs": [],
   "source": []
  }
 ],
 "metadata": {
  "kernelspec": {
   "display_name": "Python 3",
   "language": "python",
   "name": "python3"
  },
  "language_info": {
   "codemirror_mode": {
    "name": "ipython",
    "version": 3
   },
   "file_extension": ".py",
   "mimetype": "text/x-python",
   "name": "python",
   "nbconvert_exporter": "python",
   "pygments_lexer": "ipython3",
   "version": "3.6.10"
  }
 },
 "nbformat": 4,
 "nbformat_minor": 4
}
