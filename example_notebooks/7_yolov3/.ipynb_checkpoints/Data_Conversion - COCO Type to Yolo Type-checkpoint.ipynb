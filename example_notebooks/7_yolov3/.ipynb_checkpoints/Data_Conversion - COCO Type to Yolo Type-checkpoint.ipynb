{
 "cells": [
  {
   "cell_type": "markdown",
   "metadata": {},
   "source": [
    "<a href=\"https://colab.research.google.com/github/Tessellate-Imaging/Monk_Object_Detection/blob/master/example_notebooks/7_yolov3/Data_Conversion%20-%20COCO%20Type%20to%20Yolo%20Type.ipynb\" target=\"_parent\"><img src=\"https://colab.research.google.com/assets/colab-badge.svg\" alt=\"Open In Colab\"/></a>"
   ]
  },
  {
   "cell_type": "code",
   "execution_count": null,
   "metadata": {},
   "outputs": [],
   "source": []
  },
  {
   "cell_type": "code",
   "execution_count": null,
   "metadata": {},
   "outputs": [],
   "source": []
  },
  {
   "cell_type": "code",
   "execution_count": null,
   "metadata": {},
   "outputs": [],
   "source": []
  },
  {
   "cell_type": "markdown",
   "metadata": {},
   "source": [
    "# Installation\n",
    "\n",
    " - Run these commands\n",
    "     \n",
    "     - git clone https://github.com/Tessellate-Imaging/Monk_Object_Detection.git\n",
    "     \n",
    "     - cd Monk_Object_Detection/7_yolov3/installation\n",
    "     \n",
    " - Select the right requirements file and run\n",
    " \n",
    "     - cat requirements.txt | xargs -n 1 -L 1 pip install"
   ]
  },
  {
   "cell_type": "code",
   "execution_count": null,
   "metadata": {},
   "outputs": [],
   "source": [
    "! git clone https://github.com/Tessellate-Imaging/Monk_Object_Detection.git"
   ]
  },
  {
   "cell_type": "code",
   "execution_count": null,
   "metadata": {},
   "outputs": [],
   "source": [
    "# For colab use the command below\n",
    "! cd Monk_Object_Detection/7_yolov3/installation && cat requirements_colab.txt | xargs -n 1 -L 1 pip install\n",
    "\n",
    "# For Local systems and cloud select the right CUDA version\n",
    "# ! cd Monk_Object_Detection/7_yolov3/installation && cat requirements.txt | xargs -n 1 -L 1 pip install"
   ]
  },
  {
   "cell_type": "code",
   "execution_count": null,
   "metadata": {},
   "outputs": [],
   "source": []
  },
  {
   "cell_type": "code",
   "execution_count": null,
   "metadata": {},
   "outputs": [],
   "source": []
  },
  {
   "cell_type": "code",
   "execution_count": null,
   "metadata": {},
   "outputs": [],
   "source": []
  },
  {
   "cell_type": "code",
   "execution_count": null,
   "metadata": {},
   "outputs": [],
   "source": []
  },
  {
   "cell_type": "code",
   "execution_count": null,
   "metadata": {},
   "outputs": [],
   "source": []
  },
  {
   "cell_type": "markdown",
   "metadata": {},
   "source": [
    "# About the network\n",
    "\n",
    "1. Paper on Yolov3: https://arxiv.org/abs/1804.02767\n",
    "\n",
    "2. Paper on Yolov3-SPP: https://arxiv.org/abs/1903.08589\n",
    "\n",
    "3. Darknet: https://pjreddie.com/darknet/\n",
    "\n",
    "4. Blog-1 on yolo: https://machinethink.net/blog/object-detection-with-yolo/\n",
    "\n",
    "5. Blog-2 on yolo: https://medium.com/@jonathan_hui/real-time-object-detection-with-yolo-yolov2-28b1b93e2088\n",
    "\n",
    "6. Blog-3 on yolo: https://blog.ekbana.com/training-yolov2-in-a-custom-dataset-6fcf58f65fa2\n",
    "\n",
    "7. Blog-4 on yolo: https://towardsdatascience.com/yolo-v3-object-detection-53fb7d3bfe6b\n",
    "\n",
    "8. Blog-5 on yolo: https://blog.insightdatascience.com/how-to-train-your-own-yolov3-detector-from-scratch-224d10e55de2"
   ]
  },
  {
   "cell_type": "code",
   "execution_count": null,
   "metadata": {},
   "outputs": [],
   "source": []
  },
  {
   "cell_type": "code",
   "execution_count": null,
   "metadata": {},
   "outputs": [],
   "source": []
  },
  {
   "cell_type": "code",
   "execution_count": null,
   "metadata": {},
   "outputs": [],
   "source": []
  },
  {
   "cell_type": "code",
   "execution_count": null,
   "metadata": {},
   "outputs": [],
   "source": []
  },
  {
   "cell_type": "markdown",
   "metadata": {},
   "source": [
    "# COCO Format\n",
    "\n",
    "## Dataset Directory Structure\n",
    "\n",
    "    ../sample_dataset (root_dir)\n",
    "          |\n",
    "          |------kangaroo (coco_dir) \n",
    "          |         |\n",
    "          |         |---Images (img_dir)\n",
    "          |         |----|\n",
    "          |              |-------------------img1.jpg\n",
    "          |              |-------------------img2.jpg\n",
    "          |              |-------------------.........(and so on)\n",
    "          |\n",
    "          |\n",
    "          |         |---annotations (anno_dir)\n",
    "          |         |----|\n",
    "          |              |--------------------instances_Train.json \n",
    "          |              |--------------------classes.txt\n",
    "          \n",
    "          \n",
    " - instances_Train.json -> In proper COCO format\n",
    " - classes.txt          -> A list of classes in alphabetical order"
   ]
  },
  {
   "cell_type": "code",
   "execution_count": null,
   "metadata": {},
   "outputs": [],
   "source": []
  },
  {
   "cell_type": "code",
   "execution_count": null,
   "metadata": {},
   "outputs": [],
   "source": []
  },
  {
   "cell_type": "code",
   "execution_count": null,
   "metadata": {},
   "outputs": [],
   "source": []
  },
  {
   "cell_type": "code",
   "execution_count": null,
   "metadata": {},
   "outputs": [],
   "source": []
  },
  {
   "cell_type": "markdown",
   "metadata": {},
   "source": [
    "# Monk Format\n",
    "\n",
    "## Dataset Directory Structure\n",
    "\n",
    "    ../sample_dataset/kangaroo (root)\n",
    "          |\n",
    "          |-----------Images (img_dir)\n",
    "          |              |\n",
    "          |              |------------------img1.jpg\n",
    "          |              |------------------img2.jpg\n",
    "          |              |------------------.........(and so on)\n",
    "          |\n",
    "          |\n",
    "          |-----------train_labels.csv (anno_file)\n",
    "          \n",
    "          \n",
    "## Annotation file format\n",
    "\n",
    "           | Id         | Labels                                 |\n",
    "           | img1.jpg   | x1 y1 x2 y2 label1 x1 y1 x2 y2 label2  |\n",
    "           \n",
    "- Labels:  xmin ymin xmax ymax label\n",
    "- xmin, ymin - top left corner of bounding box\n",
    "- xmax, ymax - bottom right corner of bounding box"
   ]
  },
  {
   "cell_type": "code",
   "execution_count": null,
   "metadata": {},
   "outputs": [],
   "source": []
  },
  {
   "cell_type": "markdown",
   "metadata": {},
   "source": [
    "# Required Format - Yolo\n",
    "\n",
    "## Dataset Directory Structure\n",
    "\n",
    "    ../sample_dataset/kangaroo (root)\n",
    "          |\n",
    "          |-----------Images (img_dir)\n",
    "          |              |\n",
    "          |              |------------------img1.jpg\n",
    "          |              |------------------img2.jpg\n",
    "          |              |------------------.........(and so on)\n",
    "          |\n",
    "          |-----------labels (label_dir)\n",
    "          |              |\n",
    "          |              |------------------img1.txt\n",
    "          |              |------------------img2.txt\n",
    "          |              |------------------.........(and so on)\n",
    "          |\n",
    "          |------------classes.txt \n",
    "          \n",
    "\n",
    "## Classes file\n",
    " \n",
    "     List of classes in every new line.\n",
    "     The order corresponds to the IDs in annotation files\n",
    "     \n",
    "     Eg.\n",
    "          class1               (------------------------------> if will be 0)\n",
    "          class2               (------------------------------> if will be 1)\n",
    "          class3               (------------------------------> if will be 2)\n",
    "          class4               (------------------------------> if will be 3)\n",
    "          \n",
    "\n",
    "## Annotation file format\n",
    "\n",
    "    CLASS_ID BOX_X_CENTER BOX_Y_CENTER WIDTH BOX_WIDTH BOX_HEIGHT\n",
    "    \n",
    "    (All the coordinates should be normalized)\n",
    "    (X coordinates divided by width of image, Y coordinates divided by height of image)\n",
    "    \n",
    "    Ex. (One line per bounding box of object in image)\n",
    "        class_id x1 y1 w h\n",
    "        class_id x1 y1 w h\n",
    "        ..... (and so on)\n",
    "        "
   ]
  },
  {
   "cell_type": "code",
   "execution_count": null,
   "metadata": {},
   "outputs": [],
   "source": []
  },
  {
   "cell_type": "code",
   "execution_count": null,
   "metadata": {},
   "outputs": [],
   "source": []
  },
  {
   "cell_type": "markdown",
   "metadata": {},
   "source": [
    "# Dataset\n",
    "\n",
    "  - Credits - http://tacodataset.org/\n",
    "  \n",
    "  - Collected using - https://github.com/pedropro/TACO\n",
    "         \n",
    "  - Reduced dataset image size and split into test and train for sample demo purposes\n",
    "    - This resized dataset can be downloaded as shown below"
   ]
  },
  {
   "cell_type": "code",
   "execution_count": null,
   "metadata": {},
   "outputs": [],
   "source": []
  },
  {
   "cell_type": "markdown",
   "metadata": {},
   "source": [
    "# Step - 1: COCO to Monk type"
   ]
  },
  {
   "cell_type": "code",
   "execution_count": 1,
   "metadata": {},
   "outputs": [],
   "source": [
    "import os\n",
    "import sys\n",
    "import numpy as np\n",
    "import pandas as pd\n",
    "import json\n",
    "from tqdm.notebook import tqdm\n",
    "\n",
    "from pycocotools.coco import COCO"
   ]
  },
  {
   "cell_type": "code",
   "execution_count": 2,
   "metadata": {},
   "outputs": [],
   "source": [
    "root_dir = \"Monk_Object_Detection/example_notebooks/sample_dataset/kangaroo/\";\n",
    "img_dir = \"Images/\";\n",
    "anno_dir = \"annotations/\";"
   ]
  },
  {
   "cell_type": "code",
   "execution_count": 3,
   "metadata": {},
   "outputs": [],
   "source": [
    "json_path = root_dir+anno_dir+'instances_Train.json'"
   ]
  },
  {
   "cell_type": "code",
   "execution_count": 4,
   "metadata": {},
   "outputs": [
    {
     "data": {
      "application/vnd.jupyter.widget-view+json": {
       "model_id": "b502d227ade14d79b37137cb593e21da",
       "version_major": 2,
       "version_minor": 0
      },
      "text/plain": [
       "HBox(children=(FloatProgress(value=0.0, max=11.0), HTML(value='')))"
      ]
     },
     "metadata": {},
     "output_type": "display_data"
    },
    {
     "name": "stdout",
     "output_type": "stream",
     "text": [
      "\n"
     ]
    }
   ],
   "source": [
    "json_data = json.load(open('/content/TACO/data/annotations/instances_images.json'))\n",
    "images_info = json_data[\"images\"]\n",
    "cls_info = json_data[\"categories\"]\n",
    "combined = []\n",
    "for image in images_info:\n",
    "  label_str=\"\"\n",
    "  for anno in json_data[\"annotations\"]:\n",
    "    image_id = anno[\"image_id\"]\n",
    "    cls_id = anno[\"category_id\"]\n",
    "    filename = None\n",
    "    cls = None\n",
    "    for info in images_info:\n",
    "            if info[\"id\"] == image_id:\n",
    "                filename = info[\"file_name\"]\n",
    "    x1 = int(anno[\"bbox\"][0])\n",
    "    y1 = int(anno[\"bbox\"][1])\n",
    "    x2 = int(anno[\"bbox\"][2] + anno[\"bbox\"][0])\n",
    "    y2 = int(anno[\"bbox\"][3] + anno[\"bbox\"][1])\n",
    "    for category in cls_info:\n",
    "      if category[\"id\"] == cls_id:\n",
    "        cls = category[\"name\"]\n",
    "    \n",
    "    if image[\"file_name\"] == filename:\n",
    "      label_str += str(x1) + \" \" + str(y1) + \" \" + str(x2) + \" \" + str(y2) + \" \" + cls + \" \"\n",
    "  label_str = label_str.strip()\n",
    "  combined.append([image[\"file_name\"], label_str])"
   ]
  },
  {
   "cell_type": "code",
   "execution_count": 5,
   "metadata": {},
   "outputs": [],
   "source": [
    "df = pd.DataFrame(combined, columns = ['ID', 'Label']);\n",
    "df.to_csv(root_dir + \"/train_labels_1.csv\", index=False);"
   ]
  },
  {
   "cell_type": "code",
   "execution_count": null,
   "metadata": {},
   "outputs": [],
   "source": []
  },
  {
   "cell_type": "code",
   "execution_count": null,
   "metadata": {},
   "outputs": [],
   "source": []
  },
  {
   "cell_type": "code",
   "execution_count": null,
   "metadata": {},
   "outputs": [],
   "source": []
  },
  {
   "cell_type": "markdown",
   "metadata": {},
   "source": [
    "# Step - 2: Monk type to YOLO type"
   ]
  },
  {
   "cell_type": "code",
   "execution_count": 6,
   "metadata": {},
   "outputs": [],
   "source": [
    "import os\n",
    "import sys"
   ]
  },
  {
   "cell_type": "code",
   "execution_count": 7,
   "metadata": {},
   "outputs": [],
   "source": [
    "root_dir = \"Monk_Object_Detection/example_notebooks/sample_dataset/kangaroo/\";\n",
    "img_dir = \"Images\";\n",
    "anno_file = \"train_labels_1.csv\";"
   ]
  },
  {
   "cell_type": "code",
   "execution_count": 8,
   "metadata": {},
   "outputs": [],
   "source": [
    "labels_dir = \"labels\";\n",
    "classes_file = \"classes.txt\";"
   ]
  },
  {
   "cell_type": "code",
   "execution_count": 9,
   "metadata": {},
   "outputs": [],
   "source": [
    "labels_dir_relative = root_dir + \"/\" + labels_dir\n",
    "if(not os.path.isdir(labels_dir_relative)):\n",
    "    os.mkdir(labels_dir_relative);"
   ]
  },
  {
   "cell_type": "code",
   "execution_count": null,
   "metadata": {},
   "outputs": [],
   "source": []
  },
  {
   "cell_type": "code",
   "execution_count": 10,
   "metadata": {},
   "outputs": [
    {
     "data": {
      "text/plain": [
       "11"
      ]
     },
     "execution_count": 10,
     "metadata": {},
     "output_type": "execute_result"
    }
   ],
   "source": [
    "import pandas as pd\n",
    "df = pd.read_csv(root_dir + \"/\" + anno_file);\n",
    "len(df)"
   ]
  },
  {
   "cell_type": "code",
   "execution_count": 11,
   "metadata": {},
   "outputs": [
    {
     "data": {
      "text/plain": [
       "['none', 'red', 'white', 'yellow']"
      ]
     },
     "execution_count": 11,
     "metadata": {},
     "output_type": "execute_result"
    }
   ],
   "source": [
    "columns = df.columns\n",
    "classes = [];\n",
    "for i in range(len(df)):\n",
    "    img_file = df[columns[0]][i];\n",
    "    labels = df[columns[1]][i];\n",
    "    tmp = labels.split(\" \");\n",
    "    for j in range(len(tmp)//5):\n",
    "        label = tmp[j*5 + 4];\n",
    "        if(label not in classes):\n",
    "            classes.append(label);\n",
    "classes = sorted(classes)\n",
    "classes"
   ]
  },
  {
   "cell_type": "code",
   "execution_count": 12,
   "metadata": {},
   "outputs": [],
   "source": [
    "f = open(root_dir + \"/\" + classes_file, 'w');\n",
    "for i in range(len(classes)):\n",
    "    f.write(classes[i]);\n",
    "    f.write(\"\\n\");\n",
    "f.close();"
   ]
  },
  {
   "cell_type": "code",
   "execution_count": null,
   "metadata": {},
   "outputs": [],
   "source": []
  },
  {
   "cell_type": "code",
   "execution_count": 13,
   "metadata": {},
   "outputs": [],
   "source": [
    "from PIL import Image\n",
    "from tqdm.notebook import tqdm"
   ]
  },
  {
   "cell_type": "code",
   "execution_count": 15,
   "metadata": {},
   "outputs": [
    {
     "data": {
      "application/vnd.jupyter.widget-view+json": {
       "model_id": "258a285c6dce4a44926da3c4215ba38c",
       "version_major": 2,
       "version_minor": 0
      },
      "text/plain": [
       "HBox(children=(FloatProgress(value=0.0, max=11.0), HTML(value='')))"
      ]
     },
     "metadata": {},
     "output_type": "display_data"
    },
    {
     "name": "stdout",
     "output_type": "stream",
     "text": [
      "\n"
     ]
    }
   ],
   "source": [
    "for i in tqdm(range(len(df))):\n",
    "    img_file = df[columns[0]][i];\n",
    "    labels = df[columns[1]][i];\n",
    "    tmp = labels.split(\" \");\n",
    "    fname = labels_dir_relative + \"/\" + img_file.split(\".\")[0] + \".txt\";\n",
    "    img = Image.open(root_dir + \"/\" + img_dir + \"/\" + img_file);\n",
    "    width, height = img.size\n",
    "    \n",
    "    f = open(fname, 'w');\n",
    "    for j in range(len(tmp)//5):\n",
    "        x1 = float(tmp[j*5 + 0]);\n",
    "        y1 = float(tmp[j*5 + 1]);\n",
    "        x2 = float(tmp[j*5 + 2]);\n",
    "        y2 = float(tmp[j*5 + 3]);\n",
    "        label = tmp[j*5 + 4];\n",
    "        \n",
    "        x_c = str(((x1 + x2)/2)/width);\n",
    "        y_c = str(((y1 + y2)/2)/height);\n",
    "        w = str((x2 - x1)/width);\n",
    "        h = str((y2 - y1)/height);\n",
    "        index = str(classes.index(label));\n",
    "        \n",
    "        f.write(index + \" \" + x_c + \" \" + y_c + \" \" + w + \" \" + h);\n",
    "        f.write(\"\\n\");\n",
    "    f.close();"
   ]
  },
  {
   "cell_type": "code",
   "execution_count": null,
   "metadata": {},
   "outputs": [],
   "source": []
  },
  {
   "cell_type": "code",
   "execution_count": null,
   "metadata": {},
   "outputs": [],
   "source": []
  },
  {
   "cell_type": "code",
   "execution_count": null,
   "metadata": {},
   "outputs": [],
   "source": []
  },
  {
   "cell_type": "code",
   "execution_count": null,
   "metadata": {},
   "outputs": [],
   "source": []
  }
 ],
 "metadata": {
  "kernelspec": {
   "display_name": "Python 3",
   "language": "python",
   "name": "python3"
  },
  "language_info": {
   "codemirror_mode": {
    "name": "ipython",
    "version": 3
   },
   "file_extension": ".py",
   "mimetype": "text/x-python",
   "name": "python",
   "nbconvert_exporter": "python",
   "pygments_lexer": "ipython3",
   "version": "3.6.9"
  }
 },
 "nbformat": 4,
 "nbformat_minor": 4
}
